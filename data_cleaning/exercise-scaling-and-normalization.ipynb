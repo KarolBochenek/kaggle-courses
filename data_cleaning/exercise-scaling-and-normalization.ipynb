{
 "cells": [
  {
   "cell_type": "markdown",
   "id": "88eff4c8",
   "metadata": {
    "papermill": {
     "duration": 0.007235,
     "end_time": "2023-04-28T12:14:32.221414",
     "exception": false,
     "start_time": "2023-04-28T12:14:32.214179",
     "status": "completed"
    },
    "tags": []
   },
   "source": [
    "**This notebook is an exercise in the [Data Cleaning](https://www.kaggle.com/learn/data-cleaning) course.  You can reference the tutorial at [this link](https://www.kaggle.com/alexisbcook/scaling-and-normalization).**\n",
    "\n",
    "---\n"
   ]
  },
  {
   "cell_type": "markdown",
   "id": "ebaec37e",
   "metadata": {
    "papermill": {
     "duration": 0.005046,
     "end_time": "2023-04-28T12:14:32.231993",
     "exception": false,
     "start_time": "2023-04-28T12:14:32.226947",
     "status": "completed"
    },
    "tags": []
   },
   "source": [
    "In this exercise, you'll apply what you learned in the **Scaling and normalization** tutorial.\n",
    "\n",
    "# Setup\n",
    "\n",
    "The questions below will give you feedback on your work. Run the following cell to set up the feedback system."
   ]
  },
  {
   "cell_type": "code",
   "execution_count": 1,
   "id": "51766886",
   "metadata": {
    "execution": {
     "iopub.execute_input": "2023-04-28T12:14:32.245517Z",
     "iopub.status.busy": "2023-04-28T12:14:32.244263Z",
     "iopub.status.idle": "2023-04-28T12:14:35.780427Z",
     "shell.execute_reply": "2023-04-28T12:14:35.778932Z"
    },
    "papermill": {
     "duration": 3.54591,
     "end_time": "2023-04-28T12:14:35.783301",
     "exception": false,
     "start_time": "2023-04-28T12:14:32.237391",
     "status": "completed"
    },
    "tags": []
   },
   "outputs": [
    {
     "name": "stdout",
     "output_type": "stream",
     "text": [
      "Setup Complete\n"
     ]
    }
   ],
   "source": [
    "from learntools.core import binder\n",
    "binder.bind(globals())\n",
    "from learntools.data_cleaning.ex2 import *\n",
    "print(\"Setup Complete\")"
   ]
  },
  {
   "cell_type": "markdown",
   "id": "6ecf8ba3",
   "metadata": {
    "papermill": {
     "duration": 0.005188,
     "end_time": "2023-04-28T12:14:35.794019",
     "exception": false,
     "start_time": "2023-04-28T12:14:35.788831",
     "status": "completed"
    },
    "tags": []
   },
   "source": [
    "# Get our environment set up\n",
    "\n",
    "To practice scaling and normalization, we're going to use a [dataset of Kickstarter campaigns](https://www.kaggle.com/kemical/kickstarter-projects). (Kickstarter is a website where people can ask people to invest in various projects and concept products.)\n",
    "\n",
    "The next code cell loads in the libraries and dataset we'll be using. "
   ]
  },
  {
   "cell_type": "code",
   "execution_count": 2,
   "id": "4ebec84a",
   "metadata": {
    "execution": {
     "iopub.execute_input": "2023-04-28T12:14:35.806445Z",
     "iopub.status.busy": "2023-04-28T12:14:35.806005Z",
     "iopub.status.idle": "2023-04-28T12:14:37.198478Z",
     "shell.execute_reply": "2023-04-28T12:14:37.197153Z"
    },
    "papermill": {
     "duration": 1.401966,
     "end_time": "2023-04-28T12:14:37.201279",
     "exception": false,
     "start_time": "2023-04-28T12:14:35.799313",
     "status": "completed"
    },
    "tags": []
   },
   "outputs": [],
   "source": [
    "# modules we'll use\n",
    "import pandas as pd\n",
    "import numpy as np\n",
    "\n",
    "# for Box-Cox Transformation\n",
    "from scipy import stats\n",
    "\n",
    "# for min_max scaling\n",
    "from mlxtend.preprocessing import minmax_scaling\n",
    "\n",
    "# plotting modules\n",
    "import seaborn as sns\n",
    "import matplotlib.pyplot as plt\n",
    "\n",
    "# read in all our data\n",
    "kickstarters_2017 = pd.read_csv(\"../input/kickstarter-projects/ks-projects-201801.csv\")\n",
    "\n",
    "# set seed for reproducibility\n",
    "np.random.seed(0)"
   ]
  },
  {
   "cell_type": "markdown",
   "id": "1d90dc90",
   "metadata": {
    "papermill": {
     "duration": 0.005258,
     "end_time": "2023-04-28T12:14:37.212260",
     "exception": false,
     "start_time": "2023-04-28T12:14:37.207002",
     "status": "completed"
    },
    "tags": []
   },
   "source": [
    "Let's start by scaling the goals of each campaign, which is how much money they were asking for.  After scaling, all values lie between 0 and 1."
   ]
  },
  {
   "cell_type": "code",
   "execution_count": 3,
   "id": "5c2debec",
   "metadata": {
    "execution": {
     "iopub.execute_input": "2023-04-28T12:14:37.225734Z",
     "iopub.status.busy": "2023-04-28T12:14:37.225327Z",
     "iopub.status.idle": "2023-04-28T12:14:37.267876Z",
     "shell.execute_reply": "2023-04-28T12:14:37.265832Z"
    },
    "papermill": {
     "duration": 0.052928,
     "end_time": "2023-04-28T12:14:37.270739",
     "exception": false,
     "start_time": "2023-04-28T12:14:37.217811",
     "status": "completed"
    },
    "tags": []
   },
   "outputs": [
    {
     "name": "stdout",
     "output_type": "stream",
     "text": [
      "Original data\n",
      "Preview:\n",
      "    usd_goal_real\n",
      "0        1533.95\n",
      "1       30000.00\n",
      "2       45000.00\n",
      "3        5000.00\n",
      "4       19500.00\n",
      "Minimum value: 0.01 \n",
      "Maximum value: 166361390.71\n",
      "______________________________\n",
      "\n",
      "Scaled data\n",
      "Preview:\n",
      "    usd_goal_real\n",
      "0       0.000009\n",
      "1       0.000180\n",
      "2       0.000270\n",
      "3       0.000030\n",
      "4       0.000117\n",
      "Minimum value: 0.0 \n",
      "Maximum value: 1.0\n"
     ]
    }
   ],
   "source": [
    "# select the usd_goal_real column\n",
    "original_data = pd.DataFrame(kickstarters_2017.usd_goal_real)\n",
    "\n",
    "# scale the goals from 0 to 1\n",
    "scaled_data = minmax_scaling(original_data, columns=['usd_goal_real'])\n",
    "\n",
    "print('Original data\\nPreview:\\n', original_data.head())\n",
    "print('Minimum value:', float(original_data.min()),\n",
    "      '\\nMaximum value:', float(original_data.max()))\n",
    "print('_'*30)\n",
    "\n",
    "print('\\nScaled data\\nPreview:\\n', scaled_data.head())\n",
    "print('Minimum value:', float(scaled_data.min()),\n",
    "      '\\nMaximum value:', float(scaled_data.max()))"
   ]
  },
  {
   "cell_type": "markdown",
   "id": "bf4024cc",
   "metadata": {
    "papermill": {
     "duration": 0.006074,
     "end_time": "2023-04-28T12:14:37.282684",
     "exception": false,
     "start_time": "2023-04-28T12:14:37.276610",
     "status": "completed"
    },
    "tags": []
   },
   "source": [
    "# 1) Practice scaling\n",
    "\n",
    "We just scaled the \"usd_goal_real\" column. What about the \"goal\" column?\n",
    "\n",
    "Begin by running the code cell below to create a DataFrame `original_goal_data` containing the \"goal\" column."
   ]
  },
  {
   "cell_type": "code",
   "execution_count": 4,
   "id": "ad243cfc",
   "metadata": {
    "execution": {
     "iopub.execute_input": "2023-04-28T12:14:37.296977Z",
     "iopub.status.busy": "2023-04-28T12:14:37.296580Z",
     "iopub.status.idle": "2023-04-28T12:14:37.317415Z",
     "shell.execute_reply": "2023-04-28T12:14:37.316190Z"
    },
    "papermill": {
     "duration": 0.031654,
     "end_time": "2023-04-28T12:14:37.320231",
     "exception": false,
     "start_time": "2023-04-28T12:14:37.288577",
     "status": "completed"
    },
    "tags": []
   },
   "outputs": [
    {
     "data": {
      "text/html": [
       "<div>\n",
       "<style scoped>\n",
       "    .dataframe tbody tr th:only-of-type {\n",
       "        vertical-align: middle;\n",
       "    }\n",
       "\n",
       "    .dataframe tbody tr th {\n",
       "        vertical-align: top;\n",
       "    }\n",
       "\n",
       "    .dataframe thead th {\n",
       "        text-align: right;\n",
       "    }\n",
       "</style>\n",
       "<table border=\"1\" class=\"dataframe\">\n",
       "  <thead>\n",
       "    <tr style=\"text-align: right;\">\n",
       "      <th></th>\n",
       "      <th>goal</th>\n",
       "    </tr>\n",
       "  </thead>\n",
       "  <tbody>\n",
       "    <tr>\n",
       "      <th>0</th>\n",
       "      <td>1000.0</td>\n",
       "    </tr>\n",
       "    <tr>\n",
       "      <th>1</th>\n",
       "      <td>30000.0</td>\n",
       "    </tr>\n",
       "    <tr>\n",
       "      <th>2</th>\n",
       "      <td>45000.0</td>\n",
       "    </tr>\n",
       "    <tr>\n",
       "      <th>3</th>\n",
       "      <td>5000.0</td>\n",
       "    </tr>\n",
       "    <tr>\n",
       "      <th>4</th>\n",
       "      <td>19500.0</td>\n",
       "    </tr>\n",
       "  </tbody>\n",
       "</table>\n",
       "</div>"
      ],
      "text/plain": [
       "      goal\n",
       "0   1000.0\n",
       "1  30000.0\n",
       "2  45000.0\n",
       "3   5000.0\n",
       "4  19500.0"
      ]
     },
     "execution_count": 4,
     "metadata": {},
     "output_type": "execute_result"
    }
   ],
   "source": [
    "# select the usd_goal_real column\n",
    "original_goal_data = pd.DataFrame(kickstarters_2017.goal)\n",
    "original_goal_data.head()"
   ]
  },
  {
   "cell_type": "markdown",
   "id": "48c95c98",
   "metadata": {
    "papermill": {
     "duration": 0.005585,
     "end_time": "2023-04-28T12:14:37.331772",
     "exception": false,
     "start_time": "2023-04-28T12:14:37.326187",
     "status": "completed"
    },
    "tags": []
   },
   "source": [
    "Use `original_goal_data` to create a new DataFrame `scaled_goal_data` with values scaled between 0 and 1. You must use the `minmax_scaling()` function."
   ]
  },
  {
   "cell_type": "code",
   "execution_count": 5,
   "id": "9c3555da",
   "metadata": {
    "execution": {
     "iopub.execute_input": "2023-04-28T12:14:37.345891Z",
     "iopub.status.busy": "2023-04-28T12:14:37.344837Z",
     "iopub.status.idle": "2023-04-28T12:14:37.372556Z",
     "shell.execute_reply": "2023-04-28T12:14:37.371558Z"
    },
    "papermill": {
     "duration": 0.03702,
     "end_time": "2023-04-28T12:14:37.374684",
     "exception": false,
     "start_time": "2023-04-28T12:14:37.337664",
     "status": "completed"
    },
    "tags": []
   },
   "outputs": [
    {
     "data": {
      "application/javascript": [
       "parent.postMessage({\"jupyterEvent\": \"custom.exercise_interaction\", \"data\": {\"outcomeType\": 1, \"valueTowardsCompletion\": 0.3333333333333333, \"interactionType\": 1, \"questionType\": 1, \"questionId\": \"1_TryScaling\", \"learnToolsVersion\": \"0.3.4\", \"failureMessage\": \"\", \"exceptionClass\": \"\", \"trace\": \"\"}}, \"*\")"
      ],
      "text/plain": [
       "<IPython.core.display.Javascript object>"
      ]
     },
     "metadata": {},
     "output_type": "display_data"
    },
    {
     "data": {
      "text/markdown": [
       "<span style=\"color:#33cc33\">Correct</span>"
      ],
      "text/plain": [
       "Correct"
      ]
     },
     "metadata": {},
     "output_type": "display_data"
    }
   ],
   "source": [
    "# TODO: Your code here\n",
    "scaled_goal_data = minmax_scaling(original_goal_data, columns=['goal'])\n",
    "\n",
    "# Check your answer\n",
    "q1.check()"
   ]
  },
  {
   "cell_type": "code",
   "execution_count": 6,
   "id": "9f3f18d8",
   "metadata": {
    "execution": {
     "iopub.execute_input": "2023-04-28T12:14:37.390663Z",
     "iopub.status.busy": "2023-04-28T12:14:37.389764Z",
     "iopub.status.idle": "2023-04-28T12:14:37.393851Z",
     "shell.execute_reply": "2023-04-28T12:14:37.393007Z"
    },
    "papermill": {
     "duration": 0.013707,
     "end_time": "2023-04-28T12:14:37.395996",
     "exception": false,
     "start_time": "2023-04-28T12:14:37.382289",
     "status": "completed"
    },
    "tags": []
   },
   "outputs": [],
   "source": [
    "# Lines below will give you a hint or solution code\n",
    "#q1.hint()\n",
    "#q1.solution()"
   ]
  },
  {
   "cell_type": "markdown",
   "id": "3978c770",
   "metadata": {
    "papermill": {
     "duration": 0.005742,
     "end_time": "2023-04-28T12:14:37.407906",
     "exception": false,
     "start_time": "2023-04-28T12:14:37.402164",
     "status": "completed"
    },
    "tags": []
   },
   "source": [
    "# 2) Practice normalization\n",
    "\n",
    "Now you'll practice normalization. We begin by normalizing the amount of money pledged to each campaign."
   ]
  },
  {
   "cell_type": "code",
   "execution_count": 7,
   "id": "85a5da66",
   "metadata": {
    "execution": {
     "iopub.execute_input": "2023-04-28T12:14:37.422458Z",
     "iopub.status.busy": "2023-04-28T12:14:37.421702Z",
     "iopub.status.idle": "2023-04-28T12:14:37.653545Z",
     "shell.execute_reply": "2023-04-28T12:14:37.652233Z"
    },
    "papermill": {
     "duration": 0.241967,
     "end_time": "2023-04-28T12:14:37.655921",
     "exception": false,
     "start_time": "2023-04-28T12:14:37.413954",
     "status": "completed"
    },
    "tags": []
   },
   "outputs": [
    {
     "name": "stdout",
     "output_type": "stream",
     "text": [
      "Original data\n",
      "Preview:\n",
      " 1     2421.0\n",
      "2      220.0\n",
      "3        1.0\n",
      "4     1283.0\n",
      "5    52375.0\n",
      "Name: usd_pledged_real, dtype: float64\n",
      "Minimum value: 0.45 \n",
      "Maximum value: 20338986.27\n",
      "______________________________\n",
      "\n",
      "Normalized data\n",
      "Preview:\n",
      " 1    10.165142\n",
      "2     6.468598\n",
      "3     0.000000\n",
      "4     9.129277\n",
      "5    15.836853\n",
      "Name: usd_pledged_real, dtype: float64\n",
      "Minimum value: -0.7779954122762203 \n",
      "Maximum value: 30.69054020451361\n"
     ]
    }
   ],
   "source": [
    "# get the index of all positive pledges (Box-Cox only takes positive values)\n",
    "index_of_positive_pledges = kickstarters_2017.usd_pledged_real > 0\n",
    "\n",
    "# get only positive pledges (using their indexes)\n",
    "positive_pledges = kickstarters_2017.usd_pledged_real.loc[index_of_positive_pledges]\n",
    "\n",
    "# normalize the pledges (w/ Box-Cox)\n",
    "normalized_pledges = pd.Series(stats.boxcox(positive_pledges)[0], \n",
    "                               name='usd_pledged_real', index=positive_pledges.index)\n",
    "\n",
    "print('Original data\\nPreview:\\n', positive_pledges.head())\n",
    "print('Minimum value:', float(positive_pledges.min()),\n",
    "      '\\nMaximum value:', float(positive_pledges.max()))\n",
    "print('_'*30)\n",
    "\n",
    "print('\\nNormalized data\\nPreview:\\n', normalized_pledges.head())\n",
    "print('Minimum value:', float(normalized_pledges.min()),\n",
    "      '\\nMaximum value:', float(normalized_pledges.max()))"
   ]
  },
  {
   "cell_type": "markdown",
   "id": "ebe51c6d",
   "metadata": {
    "papermill": {
     "duration": 0.005913,
     "end_time": "2023-04-28T12:14:37.668303",
     "exception": false,
     "start_time": "2023-04-28T12:14:37.662390",
     "status": "completed"
    },
    "tags": []
   },
   "source": [
    "The values have changed significantly with normalization!\n",
    "\n",
    "In the next code cell, you'll take a look at the distribution of the normalized data, where it should now resemble a normal distribution."
   ]
  },
  {
   "cell_type": "code",
   "execution_count": 8,
   "id": "03f7d620",
   "metadata": {
    "execution": {
     "iopub.execute_input": "2023-04-28T12:14:37.683362Z",
     "iopub.status.busy": "2023-04-28T12:14:37.682533Z",
     "iopub.status.idle": "2023-04-28T12:14:39.826769Z",
     "shell.execute_reply": "2023-04-28T12:14:39.825613Z"
    },
    "papermill": {
     "duration": 2.154804,
     "end_time": "2023-04-28T12:14:39.829409",
     "exception": false,
     "start_time": "2023-04-28T12:14:37.674605",
     "status": "completed"
    },
    "tags": []
   },
   "outputs": [
    {
     "data": {
      "image/png": "[encoded data removed]",
      "text/plain": [
       "<Figure size 640x480 with 1 Axes>"
      ]
     },
     "metadata": {},
     "output_type": "display_data"
    }
   ],
   "source": [
    "# plot normalized data\n",
    "ax = sns.histplot(normalized_pledges, kde=True)\n",
    "ax.set_title(\"Normalized data\")\n",
    "plt.show()"
   ]
  },
  {
   "cell_type": "markdown",
   "id": "ed3b23e2",
   "metadata": {
    "papermill": {
     "duration": 0.006469,
     "end_time": "2023-04-28T12:14:39.842852",
     "exception": false,
     "start_time": "2023-04-28T12:14:39.836383",
     "status": "completed"
    },
    "tags": []
   },
   "source": [
    "We used the \"usd_pledged_real\" column. Follow the same process to normalize the \"pledged\" column. "
   ]
  },
  {
   "cell_type": "code",
   "execution_count": 9,
   "id": "bc03c780",
   "metadata": {
    "execution": {
     "iopub.execute_input": "2023-04-28T12:14:39.857805Z",
     "iopub.status.busy": "2023-04-28T12:14:39.857394Z",
     "iopub.status.idle": "2023-04-28T12:14:40.191474Z",
     "shell.execute_reply": "2023-04-28T12:14:40.190158Z"
    },
    "papermill": {
     "duration": 0.344493,
     "end_time": "2023-04-28T12:14:40.193967",
     "exception": false,
     "start_time": "2023-04-28T12:14:39.849474",
     "status": "completed"
    },
    "tags": []
   },
   "outputs": [
    {
     "name": "stdout",
     "output_type": "stream",
     "text": [
      "Original data\n",
      "Preview:\n",
      " 1     2421.0\n",
      "2      220.0\n",
      "3        1.0\n",
      "4     1283.0\n",
      "5    52375.0\n",
      "Name: pledged, dtype: float64\n",
      "Minimum value: 1.0 \n",
      "Maximum value: 20338986.27\n",
      "______________________________\n",
      "\n",
      "Normalized data\n",
      "Preview:\n",
      " 1    10.013887\n",
      "2     6.403367\n",
      "3     0.000000\n",
      "4     9.005193\n",
      "5    15.499596\n",
      "Name: pledged, dtype: float64\n",
      "Minimum value: 0.0 \n",
      "Maximum value: 29.63030787418848\n"
     ]
    }
   ],
   "source": [
    "# TODO: Your code here!\n",
    "#print(kickstarters_2017.head())\n",
    "index_positive_pledges = kickstarters_2017.pledged > 0\n",
    "positive_pledges_all = kickstarters_2017.pledged.loc[index_positive_pledges]\n",
    "\n",
    "normalized_pledges_all = pd.Series(stats.boxcox(positive_pledges_all)[0], \n",
    "                               name='pledged', index=positive_pledges_all.index)\n",
    "\n",
    "print('Original data\\nPreview:\\n', positive_pledges_all.head())\n",
    "print('Minimum value:', float(positive_pledges_all.min()),\n",
    "      '\\nMaximum value:', float(positive_pledges_all.max()))\n",
    "print('_'*30)\n",
    "\n",
    "print('\\nNormalized data\\nPreview:\\n', normalized_pledges_all.head())\n",
    "print('Minimum value:', float(normalized_pledges_all.min()),\n",
    "      '\\nMaximum value:', float(normalized_pledges_all.max()))\n"
   ]
  },
  {
   "cell_type": "code",
   "execution_count": 10,
   "id": "dbea155e",
   "metadata": {
    "execution": {
     "iopub.execute_input": "2023-04-28T12:14:40.210296Z",
     "iopub.status.busy": "2023-04-28T12:14:40.209268Z",
     "iopub.status.idle": "2023-04-28T12:14:42.281897Z",
     "shell.execute_reply": "2023-04-28T12:14:42.280863Z"
    },
    "papermill": {
     "duration": 2.08345,
     "end_time": "2023-04-28T12:14:42.284153",
     "exception": false,
     "start_time": "2023-04-28T12:14:40.200703",
     "status": "completed"
    },
    "tags": []
   },
   "outputs": [
    {
     "data": {
      "image/png": "[encoded data removed]",
      "text/plain": [
       "<Figure size 640x480 with 1 Axes>"
      ]
     },
     "metadata": {},
     "output_type": "display_data"
    }
   ],
   "source": [
    "ax2 = sns.histplot(normalized_pledges_all, kde=True)\n",
    "ax2.set_title(\"Normalized data for pledges\")\n",
    "plt.show()"
   ]
  },
  {
   "cell_type": "markdown",
   "id": "a3ccb0ea",
   "metadata": {
    "papermill": {
     "duration": 0.006911,
     "end_time": "2023-04-28T12:14:42.298422",
     "exception": false,
     "start_time": "2023-04-28T12:14:42.291511",
     "status": "completed"
    },
    "tags": []
   },
   "source": [
    "How does the normalized \"usd_pledged_real\" column look different from when we normalized the \"pledged\" column?  Or, do they look mostly the same?\n",
    "\n",
    "Once you have an answer, run the code cell below."
   ]
  },
  {
   "cell_type": "code",
   "execution_count": 11,
   "id": "d783cc74",
   "metadata": {
    "execution": {
     "iopub.execute_input": "2023-04-28T12:14:42.314918Z",
     "iopub.status.busy": "2023-04-28T12:14:42.314271Z",
     "iopub.status.idle": "2023-04-28T12:14:42.323010Z",
     "shell.execute_reply": "2023-04-28T12:14:42.321538Z"
    },
    "papermill": {
     "duration": 0.020081,
     "end_time": "2023-04-28T12:14:42.325685",
     "exception": false,
     "start_time": "2023-04-28T12:14:42.305604",
     "status": "completed"
    },
    "tags": []
   },
   "outputs": [
    {
     "data": {
      "application/javascript": [
       "parent.postMessage({\"jupyterEvent\": \"custom.exercise_interaction\", \"data\": {\"outcomeType\": 1, \"valueTowardsCompletion\": 0.3333333333333333, \"interactionType\": 1, \"questionType\": 4, \"questionId\": \"2_TryNormalization\", \"learnToolsVersion\": \"0.3.4\", \"failureMessage\": \"\", \"exceptionClass\": \"\", \"trace\": \"\"}}, \"*\")"
      ],
      "text/plain": [
       "<IPython.core.display.Javascript object>"
      ]
     },
     "metadata": {},
     "output_type": "display_data"
    },
    {
     "data": {
      "text/markdown": [
       "<span style=\"color:#33cc33\">Correct:</span> \n",
       "\n",
       "The distributions in the normalized data look mostly the same."
      ],
      "text/plain": [
       "Correct: \n",
       "\n",
       "The distributions in the normalized data look mostly the same."
      ]
     },
     "metadata": {},
     "output_type": "display_data"
    }
   ],
   "source": [
    "# Check your answer (Run this code cell to receive credit!)\n",
    "q2.check()"
   ]
  },
  {
   "cell_type": "code",
   "execution_count": 12,
   "id": "9eae4fae",
   "metadata": {
    "execution": {
     "iopub.execute_input": "2023-04-28T12:14:42.343529Z",
     "iopub.status.busy": "2023-04-28T12:14:42.342660Z",
     "iopub.status.idle": "2023-04-28T12:14:42.347768Z",
     "shell.execute_reply": "2023-04-28T12:14:42.346842Z"
    },
    "papermill": {
     "duration": 0.016701,
     "end_time": "2023-04-28T12:14:42.350196",
     "exception": false,
     "start_time": "2023-04-28T12:14:42.333495",
     "status": "completed"
    },
    "tags": []
   },
   "outputs": [],
   "source": [
    "# Line below will give you a hint\n",
    "#q2.hint()"
   ]
  },
  {
   "cell_type": "markdown",
   "id": "46a72861",
   "metadata": {
    "papermill": {
     "duration": 0.007147,
     "end_time": "2023-04-28T12:14:42.364886",
     "exception": false,
     "start_time": "2023-04-28T12:14:42.357739",
     "status": "completed"
    },
    "tags": []
   },
   "source": [
    "# (Optional) More practice\n",
    "\n",
    "Try finding a new dataset and pretend you're preparing to perform a [regression analysis](https://www.kaggle.com/rtatman/the-5-day-regression-challenge). \n",
    "\n",
    "[These datasets are a good start!](https://www.kaggle.com/rtatman/datasets-for-regression-analysis)\n",
    "\n",
    "Pick three or four variables and decide if you need to normalize or scale any of them and, if you think you should, practice applying the correct technique.\n",
    "\n",
    "# Keep going\n",
    "\n",
    "In the next lesson, learn how to [**parse dates**](https://www.kaggle.com/alexisbcook/parsing-dates) in a dataset."
   ]
  },
  {
   "cell_type": "markdown",
   "id": "8dbb1c1c",
   "metadata": {
    "papermill": {
     "duration": 0.007199,
     "end_time": "2023-04-28T12:14:42.379420",
     "exception": false,
     "start_time": "2023-04-28T12:14:42.372221",
     "status": "completed"
    },
    "tags": []
   },
   "source": [
    "---\n",
    "\n",
    "\n",
    "\n",
    "\n",
    "*Have questions or comments? Visit the [course discussion forum](https://www.kaggle.com/learn/data-cleaning/discussion) to chat with other learners.*"
   ]
  }
 ],
 "metadata": {
  "kernelspec": {
   "display_name": "Python 3",
   "language": "python",
   "name": "python3"
  },
  "language_info": {
   "codemirror_mode": {
    "name": "ipython",
    "version": 3
   },
   "file_extension": ".py",
   "mimetype": "text/x-python",
   "name": "python",
   "nbconvert_exporter": "python",
   "pygments_lexer": "ipython3",
   "version": "3.7.12"
  },
  "papermill": {
   "default_parameters": {},
   "duration": 21.086146,
   "end_time": "2023-04-28T12:14:43.208597",
   "environment_variables": {},
   "exception": null,
   "input_path": "__notebook__.ipynb",
   "output_path": "__notebook__.ipynb",
   "parameters": {},
   "start_time": "2023-04-28T12:14:22.122451",
   "version": "2.4.0"
  }
 },
 "nbformat": 4,
 "nbformat_minor": 5
}
