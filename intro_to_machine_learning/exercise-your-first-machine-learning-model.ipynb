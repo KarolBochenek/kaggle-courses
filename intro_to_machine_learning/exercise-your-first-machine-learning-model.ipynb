{
 "cells": [
  {
   "cell_type": "markdown",
   "id": "494f7974",
   "metadata": {
    "papermill": {
     "duration": 0.005599,
     "end_time": "2023-04-30T13:34:02.291784",
     "exception": false,
     "start_time": "2023-04-30T13:34:02.286185",
     "status": "completed"
    },
    "tags": []
   },
   "source": [
    "**This notebook is an exercise in the [Introduction to Machine Learning](https://www.kaggle.com/learn/intro-to-machine-learning) course.  You can reference the tutorial at [this link](https://www.kaggle.com/dansbecker/your-first-machine-learning-model).**\n",
    "\n",
    "---\n"
   ]
  },
  {
   "cell_type": "markdown",
   "id": "ff027144",
   "metadata": {
    "papermill": {
     "duration": 0.004303,
     "end_time": "2023-04-30T13:34:02.300727",
     "exception": false,
     "start_time": "2023-04-30T13:34:02.296424",
     "status": "completed"
    },
    "tags": []
   },
   "source": [
    "## Recap\n",
    "So far, you have loaded your data and reviewed it with the following code. Run this cell to set up your coding environment where the previous step left off."
   ]
  },
  {
   "cell_type": "code",
   "execution_count": 1,
   "id": "4fbe6fd1",
   "metadata": {
    "execution": {
     "iopub.execute_input": "2023-04-30T13:34:02.311730Z",
     "iopub.status.busy": "2023-04-30T13:34:02.311351Z",
     "iopub.status.idle": "2023-04-30T13:34:03.746188Z",
     "shell.execute_reply": "2023-04-30T13:34:03.745140Z"
    },
    "papermill": {
     "duration": 1.443027,
     "end_time": "2023-04-30T13:34:03.748289",
     "exception": false,
     "start_time": "2023-04-30T13:34:02.305262",
     "status": "completed"
    },
    "tags": []
   },
   "outputs": [
    {
     "name": "stdout",
     "output_type": "stream",
     "text": [
      "Setup Complete\n"
     ]
    }
   ],
   "source": [
    "# Code you have previously used to load data\n",
    "import pandas as pd\n",
    "\n",
    "# Path of the file to read\n",
    "iowa_file_path = '../input/home-data-for-ml-course/train.csv'\n",
    "\n",
    "home_data = pd.read_csv(iowa_file_path)\n",
    "\n",
    "# Set up code checking\n",
    "from learntools.core import binder\n",
    "binder.bind(globals())\n",
    "from learntools.machine_learning.ex3 import *\n",
    "\n",
    "print(\"Setup Complete\")"
   ]
  },
  {
   "cell_type": "markdown",
   "id": "726f2ae0",
   "metadata": {
    "papermill": {
     "duration": 0.004558,
     "end_time": "2023-04-30T13:34:03.759187",
     "exception": false,
     "start_time": "2023-04-30T13:34:03.754629",
     "status": "completed"
    },
    "tags": []
   },
   "source": [
    "# Exercises\n",
    "\n",
    "## Step 1: Specify Prediction Target\n",
    "Select the target variable, which corresponds to the sales price. Save this to a new variable called `y`. You'll need to print a list of the columns to find the name of the column you need.\n"
   ]
  },
  {
   "cell_type": "code",
   "execution_count": 2,
   "id": "e5397dba",
   "metadata": {
    "execution": {
     "iopub.execute_input": "2023-04-30T13:34:03.770448Z",
     "iopub.status.busy": "2023-04-30T13:34:03.770050Z",
     "iopub.status.idle": "2023-04-30T13:34:03.777662Z",
     "shell.execute_reply": "2023-04-30T13:34:03.776410Z"
    },
    "papermill": {
     "duration": 0.016087,
     "end_time": "2023-04-30T13:34:03.779946",
     "exception": false,
     "start_time": "2023-04-30T13:34:03.763859",
     "status": "completed"
    },
    "tags": []
   },
   "outputs": [
    {
     "data": {
      "text/plain": [
       "Index(['Id', 'MSSubClass', 'MSZoning', 'LotFrontage', 'LotArea', 'Street',\n",
       "       'Alley', 'LotShape', 'LandContour', 'Utilities', 'LotConfig',\n",
       "       'LandSlope', 'Neighborhood', 'Condition1', 'Condition2', 'BldgType',\n",
       "       'HouseStyle', 'OverallQual', 'OverallCond', 'YearBuilt', 'YearRemodAdd',\n",
       "       'RoofStyle', 'RoofMatl', 'Exterior1st', 'Exterior2nd', 'MasVnrType',\n",
       "       'MasVnrArea', 'ExterQual', 'ExterCond', 'Foundation', 'BsmtQual',\n",
       "       'BsmtCond', 'BsmtExposure', 'BsmtFinType1', 'BsmtFinSF1',\n",
       "       'BsmtFinType2', 'BsmtFinSF2', 'BsmtUnfSF', 'TotalBsmtSF', 'Heating',\n",
       "       'HeatingQC', 'CentralAir', 'Electrical', '1stFlrSF', '2ndFlrSF',\n",
       "       'LowQualFinSF', 'GrLivArea', 'BsmtFullBath', 'BsmtHalfBath', 'FullBath',\n",
       "       'HalfBath', 'BedroomAbvGr', 'KitchenAbvGr', 'KitchenQual',\n",
       "       'TotRmsAbvGrd', 'Functional', 'Fireplaces', 'FireplaceQu', 'GarageType',\n",
       "       'GarageYrBlt', 'GarageFinish', 'GarageCars', 'GarageArea', 'GarageQual',\n",
       "       'GarageCond', 'PavedDrive', 'WoodDeckSF', 'OpenPorchSF',\n",
       "       'EnclosedPorch', '3SsnPorch', 'ScreenPorch', 'PoolArea', 'PoolQC',\n",
       "       'Fence', 'MiscFeature', 'MiscVal', 'MoSold', 'YrSold', 'SaleType',\n",
       "       'SaleCondition', 'SalePrice'],\n",
       "      dtype='object')"
      ]
     },
     "execution_count": 2,
     "metadata": {},
     "output_type": "execute_result"
    }
   ],
   "source": [
    "# print the list of columns in the dataset to find the name of the prediction target\n",
    "home_data.columns"
   ]
  },
  {
   "cell_type": "code",
   "execution_count": 3,
   "id": "6e1b357f",
   "metadata": {
    "execution": {
     "iopub.execute_input": "2023-04-30T13:34:03.792042Z",
     "iopub.status.busy": "2023-04-30T13:34:03.791339Z",
     "iopub.status.idle": "2023-04-30T13:34:03.806099Z",
     "shell.execute_reply": "2023-04-30T13:34:03.804630Z"
    },
    "papermill": {
     "duration": 0.023763,
     "end_time": "2023-04-30T13:34:03.808787",
     "exception": false,
     "start_time": "2023-04-30T13:34:03.785024",
     "status": "completed"
    },
    "tags": []
   },
   "outputs": [
    {
     "data": {
      "application/javascript": [
       "parent.postMessage({\"jupyterEvent\": \"custom.exercise_interaction\", \"data\": {\"outcomeType\": 1, \"valueTowardsCompletion\": 0.25, \"interactionType\": 1, \"questionType\": 2, \"questionId\": \"1_SetTarget\", \"learnToolsVersion\": \"0.3.4\", \"failureMessage\": \"\", \"exceptionClass\": \"\", \"trace\": \"\"}}, \"*\")"
      ],
      "text/plain": [
       "<IPython.core.display.Javascript object>"
      ]
     },
     "metadata": {},
     "output_type": "display_data"
    },
    {
     "data": {
      "text/markdown": [
       "<span style=\"color:#33cc33\">Correct</span>"
      ],
      "text/plain": [
       "Correct"
      ]
     },
     "metadata": {},
     "output_type": "display_data"
    }
   ],
   "source": [
    "y = home_data.SalePrice\n",
    "\n",
    "# Check your answer\n",
    "step_1.check()\n"
   ]
  },
  {
   "cell_type": "code",
   "execution_count": 4,
   "id": "7b5c489b",
   "metadata": {
    "collapsed": true,
    "execution": {
     "iopub.execute_input": "2023-04-30T13:34:03.820879Z",
     "iopub.status.busy": "2023-04-30T13:34:03.820481Z",
     "iopub.status.idle": "2023-04-30T13:34:03.825328Z",
     "shell.execute_reply": "2023-04-30T13:34:03.823866Z"
    },
    "jupyter": {
     "outputs_hidden": true
    },
    "papermill": {
     "duration": 0.013286,
     "end_time": "2023-04-30T13:34:03.827462",
     "exception": false,
     "start_time": "2023-04-30T13:34:03.814176",
     "status": "completed"
    },
    "tags": []
   },
   "outputs": [],
   "source": [
    "# The lines below will show you a hint or the solution.\n",
    "# step_1.hint() \n",
    "# step_1.solution()"
   ]
  },
  {
   "cell_type": "markdown",
   "id": "53abd0a9",
   "metadata": {
    "papermill": {
     "duration": 0.004794,
     "end_time": "2023-04-30T13:34:03.837544",
     "exception": false,
     "start_time": "2023-04-30T13:34:03.832750",
     "status": "completed"
    },
    "tags": []
   },
   "source": [
    "## Step 2: Create X\n",
    "Now you will create a DataFrame called `X` holding the predictive features.\n",
    "\n",
    "Since you want only some columns from the original data, you'll first create a list with the names of the columns you want in `X`.\n",
    "\n",
    "You'll use just the following columns in the list (you can copy and paste the whole list to save some typing, though you'll still need to add quotes):\n",
    "  * LotArea\n",
    "  * YearBuilt\n",
    "  * 1stFlrSF\n",
    "  * 2ndFlrSF\n",
    "  * FullBath\n",
    "  * BedroomAbvGr\n",
    "  * TotRmsAbvGrd\n",
    "\n",
    "After you've created that list of features, use it to create the DataFrame that you'll use to fit the model."
   ]
  },
  {
   "cell_type": "code",
   "execution_count": 5,
   "id": "c7f28f79",
   "metadata": {
    "execution": {
     "iopub.execute_input": "2023-04-30T13:34:03.849385Z",
     "iopub.status.busy": "2023-04-30T13:34:03.848992Z",
     "iopub.status.idle": "2023-04-30T13:34:03.861645Z",
     "shell.execute_reply": "2023-04-30T13:34:03.860700Z"
    },
    "papermill": {
     "duration": 0.021394,
     "end_time": "2023-04-30T13:34:03.864134",
     "exception": false,
     "start_time": "2023-04-30T13:34:03.842740",
     "status": "completed"
    },
    "tags": []
   },
   "outputs": [
    {
     "data": {
      "application/javascript": [
       "parent.postMessage({\"jupyterEvent\": \"custom.exercise_interaction\", \"data\": {\"outcomeType\": 1, \"valueTowardsCompletion\": 0.25, \"interactionType\": 1, \"questionType\": 2, \"questionId\": \"2_SelectPredictionData\", \"learnToolsVersion\": \"0.3.4\", \"failureMessage\": \"\", \"exceptionClass\": \"\", \"trace\": \"\"}}, \"*\")"
      ],
      "text/plain": [
       "<IPython.core.display.Javascript object>"
      ]
     },
     "metadata": {},
     "output_type": "display_data"
    },
    {
     "data": {
      "text/markdown": [
       "<span style=\"color:#33cc33\">Correct</span>"
      ],
      "text/plain": [
       "Correct"
      ]
     },
     "metadata": {},
     "output_type": "display_data"
    }
   ],
   "source": [
    "# Create the list of features below\n",
    "feature_names = [\n",
    "    \"LotArea\",\n",
    "    \"YearBuilt\",\n",
    "    \"1stFlrSF\",\n",
    "    \"2ndFlrSF\",\n",
    "    \"FullBath\",\n",
    "    \"BedroomAbvGr\",\n",
    "    \"TotRmsAbvGrd\"\n",
    "]\n",
    "\n",
    "# Select data corresponding to features in feature_names\n",
    "X = home_data[feature_names]\n",
    "\n",
    "# Check your answer\n",
    "step_2.check()"
   ]
  },
  {
   "cell_type": "code",
   "execution_count": 6,
   "id": "04012b23",
   "metadata": {
    "collapsed": true,
    "execution": {
     "iopub.execute_input": "2023-04-30T13:34:03.876652Z",
     "iopub.status.busy": "2023-04-30T13:34:03.876307Z",
     "iopub.status.idle": "2023-04-30T13:34:03.880006Z",
     "shell.execute_reply": "2023-04-30T13:34:03.879041Z"
    },
    "jupyter": {
     "outputs_hidden": true
    },
    "papermill": {
     "duration": 0.012115,
     "end_time": "2023-04-30T13:34:03.881864",
     "exception": false,
     "start_time": "2023-04-30T13:34:03.869749",
     "status": "completed"
    },
    "tags": []
   },
   "outputs": [],
   "source": [
    "# step_2.hint()\n",
    "# step_2.solution()"
   ]
  },
  {
   "cell_type": "markdown",
   "id": "4703649f",
   "metadata": {
    "papermill": {
     "duration": 0.005148,
     "end_time": "2023-04-30T13:34:03.892554",
     "exception": false,
     "start_time": "2023-04-30T13:34:03.887406",
     "status": "completed"
    },
    "tags": []
   },
   "source": [
    "## Review Data\n",
    "Before building a model, take a quick look at **X** to verify it looks sensible"
   ]
  },
  {
   "cell_type": "code",
   "execution_count": 7,
   "id": "4b9837ab",
   "metadata": {
    "execution": {
     "iopub.execute_input": "2023-04-30T13:34:03.906105Z",
     "iopub.status.busy": "2023-04-30T13:34:03.905720Z",
     "iopub.status.idle": "2023-04-30T13:34:03.948441Z",
     "shell.execute_reply": "2023-04-30T13:34:03.947605Z"
    },
    "papermill": {
     "duration": 0.052486,
     "end_time": "2023-04-30T13:34:03.950432",
     "exception": false,
     "start_time": "2023-04-30T13:34:03.897946",
     "status": "completed"
    },
    "tags": []
   },
   "outputs": [
    {
     "data": {
      "text/html": [
       "<div>\n",
       "<style scoped>\n",
       "    .dataframe tbody tr th:only-of-type {\n",
       "        vertical-align: middle;\n",
       "    }\n",
       "\n",
       "    .dataframe tbody tr th {\n",
       "        vertical-align: top;\n",
       "    }\n",
       "\n",
       "    .dataframe thead th {\n",
       "        text-align: right;\n",
       "    }\n",
       "</style>\n",
       "<table border=\"1\" class=\"dataframe\">\n",
       "  <thead>\n",
       "    <tr style=\"text-align: right;\">\n",
       "      <th></th>\n",
       "      <th>LotArea</th>\n",
       "      <th>YearBuilt</th>\n",
       "      <th>1stFlrSF</th>\n",
       "      <th>2ndFlrSF</th>\n",
       "      <th>FullBath</th>\n",
       "      <th>BedroomAbvGr</th>\n",
       "      <th>TotRmsAbvGrd</th>\n",
       "    </tr>\n",
       "  </thead>\n",
       "  <tbody>\n",
       "    <tr>\n",
       "      <th>count</th>\n",
       "      <td>1460.000000</td>\n",
       "      <td>1460.000000</td>\n",
       "      <td>1460.000000</td>\n",
       "      <td>1460.000000</td>\n",
       "      <td>1460.000000</td>\n",
       "      <td>1460.000000</td>\n",
       "      <td>1460.000000</td>\n",
       "    </tr>\n",
       "    <tr>\n",
       "      <th>mean</th>\n",
       "      <td>10516.828082</td>\n",
       "      <td>1971.267808</td>\n",
       "      <td>1162.626712</td>\n",
       "      <td>346.992466</td>\n",
       "      <td>1.565068</td>\n",
       "      <td>2.866438</td>\n",
       "      <td>6.517808</td>\n",
       "    </tr>\n",
       "    <tr>\n",
       "      <th>std</th>\n",
       "      <td>9981.264932</td>\n",
       "      <td>30.202904</td>\n",
       "      <td>386.587738</td>\n",
       "      <td>436.528436</td>\n",
       "      <td>0.550916</td>\n",
       "      <td>0.815778</td>\n",
       "      <td>1.625393</td>\n",
       "    </tr>\n",
       "    <tr>\n",
       "      <th>min</th>\n",
       "      <td>1300.000000</td>\n",
       "      <td>1872.000000</td>\n",
       "      <td>334.000000</td>\n",
       "      <td>0.000000</td>\n",
       "      <td>0.000000</td>\n",
       "      <td>0.000000</td>\n",
       "      <td>2.000000</td>\n",
       "    </tr>\n",
       "    <tr>\n",
       "      <th>25%</th>\n",
       "      <td>7553.500000</td>\n",
       "      <td>1954.000000</td>\n",
       "      <td>882.000000</td>\n",
       "      <td>0.000000</td>\n",
       "      <td>1.000000</td>\n",
       "      <td>2.000000</td>\n",
       "      <td>5.000000</td>\n",
       "    </tr>\n",
       "    <tr>\n",
       "      <th>50%</th>\n",
       "      <td>9478.500000</td>\n",
       "      <td>1973.000000</td>\n",
       "      <td>1087.000000</td>\n",
       "      <td>0.000000</td>\n",
       "      <td>2.000000</td>\n",
       "      <td>3.000000</td>\n",
       "      <td>6.000000</td>\n",
       "    </tr>\n",
       "    <tr>\n",
       "      <th>75%</th>\n",
       "      <td>11601.500000</td>\n",
       "      <td>2000.000000</td>\n",
       "      <td>1391.250000</td>\n",
       "      <td>728.000000</td>\n",
       "      <td>2.000000</td>\n",
       "      <td>3.000000</td>\n",
       "      <td>7.000000</td>\n",
       "    </tr>\n",
       "    <tr>\n",
       "      <th>max</th>\n",
       "      <td>215245.000000</td>\n",
       "      <td>2010.000000</td>\n",
       "      <td>4692.000000</td>\n",
       "      <td>2065.000000</td>\n",
       "      <td>3.000000</td>\n",
       "      <td>8.000000</td>\n",
       "      <td>14.000000</td>\n",
       "    </tr>\n",
       "  </tbody>\n",
       "</table>\n",
       "</div>"
      ],
      "text/plain": [
       "             LotArea    YearBuilt     1stFlrSF     2ndFlrSF     FullBath  \\\n",
       "count    1460.000000  1460.000000  1460.000000  1460.000000  1460.000000   \n",
       "mean    10516.828082  1971.267808  1162.626712   346.992466     1.565068   \n",
       "std      9981.264932    30.202904   386.587738   436.528436     0.550916   \n",
       "min      1300.000000  1872.000000   334.000000     0.000000     0.000000   \n",
       "25%      7553.500000  1954.000000   882.000000     0.000000     1.000000   \n",
       "50%      9478.500000  1973.000000  1087.000000     0.000000     2.000000   \n",
       "75%     11601.500000  2000.000000  1391.250000   728.000000     2.000000   \n",
       "max    215245.000000  2010.000000  4692.000000  2065.000000     3.000000   \n",
       "\n",
       "       BedroomAbvGr  TotRmsAbvGrd  \n",
       "count   1460.000000   1460.000000  \n",
       "mean       2.866438      6.517808  \n",
       "std        0.815778      1.625393  \n",
       "min        0.000000      2.000000  \n",
       "25%        2.000000      5.000000  \n",
       "50%        3.000000      6.000000  \n",
       "75%        3.000000      7.000000  \n",
       "max        8.000000     14.000000  "
      ]
     },
     "execution_count": 7,
     "metadata": {},
     "output_type": "execute_result"
    }
   ],
   "source": [
    "# Review data\n",
    "# print description or statistics from X\n",
    "#print(_)\n",
    "X.describe()\n",
    "\n",
    "# print the top few lines\n",
    "#print(_)\n",
    "#X.head()"
   ]
  },
  {
   "cell_type": "markdown",
   "id": "8de47632",
   "metadata": {
    "papermill": {
     "duration": 0.007656,
     "end_time": "2023-04-30T13:34:03.965905",
     "exception": false,
     "start_time": "2023-04-30T13:34:03.958249",
     "status": "completed"
    },
    "tags": []
   },
   "source": [
    "## Step 3: Specify and Fit Model\n",
    "Create a `DecisionTreeRegressor` and save it iowa_model. Ensure you've done the relevant import from sklearn to run this command.\n",
    "\n",
    "Then fit the model you just created using the data in `X` and `y` that you saved above."
   ]
  },
  {
   "cell_type": "code",
   "execution_count": 8,
   "id": "42710035",
   "metadata": {
    "execution": {
     "iopub.execute_input": "2023-04-30T13:34:03.981417Z",
     "iopub.status.busy": "2023-04-30T13:34:03.980804Z",
     "iopub.status.idle": "2023-04-30T13:34:04.003451Z",
     "shell.execute_reply": "2023-04-30T13:34:04.002628Z"
    },
    "papermill": {
     "duration": 0.032074,
     "end_time": "2023-04-30T13:34:04.005456",
     "exception": false,
     "start_time": "2023-04-30T13:34:03.973382",
     "status": "completed"
    },
    "tags": []
   },
   "outputs": [
    {
     "data": {
      "application/javascript": [
       "parent.postMessage({\"jupyterEvent\": \"custom.exercise_interaction\", \"data\": {\"outcomeType\": 1, \"valueTowardsCompletion\": 0.25, \"interactionType\": 1, \"questionType\": 2, \"questionId\": \"3_CreateModel\", \"learnToolsVersion\": \"0.3.4\", \"failureMessage\": \"\", \"exceptionClass\": \"\", \"trace\": \"\"}}, \"*\")"
      ],
      "text/plain": [
       "<IPython.core.display.Javascript object>"
      ]
     },
     "metadata": {},
     "output_type": "display_data"
    },
    {
     "data": {
      "text/markdown": [
       "<span style=\"color:#33cc33\">Correct</span>"
      ],
      "text/plain": [
       "Correct"
      ]
     },
     "metadata": {},
     "output_type": "display_data"
    }
   ],
   "source": [
    "# from _ import _\n",
    "from sklearn.tree import DecisionTreeRegressor\n",
    "#specify the model. \n",
    "#For model reproducibility, set a numeric value for random_state when specifying the model\n",
    "iowa_model = DecisionTreeRegressor(random_state=1)\n",
    "\n",
    "# Fit the model\n",
    "iowa_model.fit(X,y)\n",
    "\n",
    "# Check your answer\n",
    "step_3.check()"
   ]
  },
  {
   "cell_type": "code",
   "execution_count": 9,
   "id": "65884c62",
   "metadata": {
    "collapsed": true,
    "execution": {
     "iopub.execute_input": "2023-04-30T13:34:04.023704Z",
     "iopub.status.busy": "2023-04-30T13:34:04.022274Z",
     "iopub.status.idle": "2023-04-30T13:34:04.028126Z",
     "shell.execute_reply": "2023-04-30T13:34:04.026591Z"
    },
    "jupyter": {
     "outputs_hidden": true
    },
    "papermill": {
     "duration": 0.017897,
     "end_time": "2023-04-30T13:34:04.030602",
     "exception": false,
     "start_time": "2023-04-30T13:34:04.012705",
     "status": "completed"
    },
    "tags": []
   },
   "outputs": [],
   "source": [
    "# step_3.hint()\n",
    "# step_3.solution()"
   ]
  },
  {
   "cell_type": "markdown",
   "id": "1d1c4114",
   "metadata": {
    "papermill": {
     "duration": 0.005599,
     "end_time": "2023-04-30T13:34:04.042440",
     "exception": false,
     "start_time": "2023-04-30T13:34:04.036841",
     "status": "completed"
    },
    "tags": []
   },
   "source": [
    "## Step 4: Make Predictions\n",
    "Make predictions with the model's `predict` command using `X` as the data. Save the results to a variable called `predictions`."
   ]
  },
  {
   "cell_type": "code",
   "execution_count": 10,
   "id": "45066e2c",
   "metadata": {
    "execution": {
     "iopub.execute_input": "2023-04-30T13:34:04.057038Z",
     "iopub.status.busy": "2023-04-30T13:34:04.055904Z",
     "iopub.status.idle": "2023-04-30T13:34:04.069407Z",
     "shell.execute_reply": "2023-04-30T13:34:04.068175Z"
    },
    "papermill": {
     "duration": 0.023636,
     "end_time": "2023-04-30T13:34:04.071959",
     "exception": false,
     "start_time": "2023-04-30T13:34:04.048323",
     "status": "completed"
    },
    "tags": []
   },
   "outputs": [
    {
     "name": "stdout",
     "output_type": "stream",
     "text": [
      "[208500. 181500. 223500. ... 266500. 142125. 147500.]\n"
     ]
    },
    {
     "data": {
      "application/javascript": [
       "parent.postMessage({\"jupyterEvent\": \"custom.exercise_interaction\", \"data\": {\"outcomeType\": 1, \"valueTowardsCompletion\": 0.25, \"interactionType\": 1, \"questionType\": 2, \"questionId\": \"4_MakePredictions\", \"learnToolsVersion\": \"0.3.4\", \"failureMessage\": \"\", \"exceptionClass\": \"\", \"trace\": \"\"}}, \"*\")"
      ],
      "text/plain": [
       "<IPython.core.display.Javascript object>"
      ]
     },
     "metadata": {},
     "output_type": "display_data"
    },
    {
     "data": {
      "text/markdown": [
       "<span style=\"color:#33cc33\">Correct</span>"
      ],
      "text/plain": [
       "Correct"
      ]
     },
     "metadata": {},
     "output_type": "display_data"
    }
   ],
   "source": [
    "predictions = iowa_model.predict(X)\n",
    "print(predictions)\n",
    "\n",
    "# Check your answer\n",
    "step_4.check()"
   ]
  },
  {
   "cell_type": "code",
   "execution_count": 11,
   "id": "35756f9f",
   "metadata": {
    "collapsed": true,
    "execution": {
     "iopub.execute_input": "2023-04-30T13:34:04.086183Z",
     "iopub.status.busy": "2023-04-30T13:34:04.085783Z",
     "iopub.status.idle": "2023-04-30T13:34:04.091599Z",
     "shell.execute_reply": "2023-04-30T13:34:04.090489Z"
    },
    "jupyter": {
     "outputs_hidden": true
    },
    "papermill": {
     "duration": 0.015844,
     "end_time": "2023-04-30T13:34:04.094157",
     "exception": false,
     "start_time": "2023-04-30T13:34:04.078313",
     "status": "completed"
    },
    "tags": []
   },
   "outputs": [],
   "source": [
    "# step_4.hint()\n",
    "# step_4.solution()"
   ]
  },
  {
   "cell_type": "markdown",
   "id": "87de8c83",
   "metadata": {
    "papermill": {
     "duration": 0.006013,
     "end_time": "2023-04-30T13:34:04.106923",
     "exception": false,
     "start_time": "2023-04-30T13:34:04.100910",
     "status": "completed"
    },
    "tags": []
   },
   "source": [
    "## Think About Your Results\n",
    "\n",
    "Use the `head` method to compare the top few predictions to the actual home values (in `y`) for those same homes. Anything surprising?\n"
   ]
  },
  {
   "cell_type": "code",
   "execution_count": 12,
   "id": "6b60c714",
   "metadata": {
    "execution": {
     "iopub.execute_input": "2023-04-30T13:34:04.122177Z",
     "iopub.status.busy": "2023-04-30T13:34:04.120953Z",
     "iopub.status.idle": "2023-04-30T13:34:04.133410Z",
     "shell.execute_reply": "2023-04-30T13:34:04.131619Z"
    },
    "papermill": {
     "duration": 0.022769,
     "end_time": "2023-04-30T13:34:04.136010",
     "exception": false,
     "start_time": "2023-04-30T13:34:04.113241",
     "status": "completed"
    },
    "tags": []
   },
   "outputs": [
    {
     "name": "stdout",
     "output_type": "stream",
     "text": [
      "Making predictions for the following 5 houses:\n",
      "   LotArea  YearBuilt  1stFlrSF  2ndFlrSF  FullBath  BedroomAbvGr  \\\n",
      "0     8450       2003       856       854         2             3   \n",
      "1     9600       1976      1262         0         2             3   \n",
      "2    11250       2001       920       866         2             3   \n",
      "3     9550       1915       961       756         1             3   \n",
      "4    14260       2000      1145      1053         2             4   \n",
      "\n",
      "   TotRmsAbvGrd  \n",
      "0             8  \n",
      "1             6  \n",
      "2             6  \n",
      "3             7  \n",
      "4             9  \n",
      "The predictions are\n",
      "[208500. 181500. 223500. 140000. 250000.]\n"
     ]
    }
   ],
   "source": [
    "# You can write code in this cell\n",
    "\n",
    "\n",
    "print(\"Making predictions for the following 5 houses:\")\n",
    "print(X.head())\n",
    "print(\"The predictions are\")\n",
    "print(iowa_model.predict(X.head()))\n",
    "\n"
   ]
  },
  {
   "cell_type": "markdown",
   "id": "c3f3c9b9",
   "metadata": {
    "papermill": {
     "duration": 0.00607,
     "end_time": "2023-04-30T13:34:04.148596",
     "exception": false,
     "start_time": "2023-04-30T13:34:04.142526",
     "status": "completed"
    },
    "tags": []
   },
   "source": [
    "It's natural to ask how accurate the model's predictions will be and how you can improve that. That will be you're next step.\n",
    "\n",
    "# Keep Going\n",
    "\n",
    "You are ready for **[Model Validation](https://www.kaggle.com/dansbecker/model-validation).**\n"
   ]
  },
  {
   "cell_type": "code",
   "execution_count": null,
   "id": "1d0298e8",
   "metadata": {
    "papermill": {
     "duration": 0.005837,
     "end_time": "2023-04-30T13:34:04.160649",
     "exception": false,
     "start_time": "2023-04-30T13:34:04.154812",
     "status": "completed"
    },
    "tags": []
   },
   "outputs": [],
   "source": []
  },
  {
   "cell_type": "markdown",
   "id": "7297c066",
   "metadata": {
    "papermill": {
     "duration": 0.005903,
     "end_time": "2023-04-30T13:34:04.172702",
     "exception": false,
     "start_time": "2023-04-30T13:34:04.166799",
     "status": "completed"
    },
    "tags": []
   },
   "source": []
  },
  {
   "cell_type": "markdown",
   "id": "ae22c422",
   "metadata": {
    "papermill": {
     "duration": 0.005903,
     "end_time": "2023-04-30T13:34:04.184835",
     "exception": false,
     "start_time": "2023-04-30T13:34:04.178932",
     "status": "completed"
    },
    "tags": []
   },
   "source": [
    "---\n",
    "\n",
    "\n",
    "\n",
    "\n",
    "*Have questions or comments? Visit the [course discussion forum](https://www.kaggle.com/learn/intro-to-machine-learning/discussion) to chat with other learners.*"
   ]
  }
 ],
 "metadata": {
  "kernelspec": {
   "display_name": "Python 3",
   "language": "python",
   "name": "python3"
  },
  "language_info": {
   "codemirror_mode": {
    "name": "ipython",
    "version": 3
   },
   "file_extension": ".py",
   "mimetype": "text/x-python",
   "name": "python",
   "nbconvert_exporter": "python",
   "pygments_lexer": "ipython3",
   "version": "3.7.12"
  },
  "papermill": {
   "default_parameters": {},
   "duration": 11.799687,
   "end_time": "2023-04-30T13:34:04.914060",
   "environment_variables": {},
   "exception": null,
   "input_path": "__notebook__.ipynb",
   "output_path": "__notebook__.ipynb",
   "parameters": {},
   "start_time": "2023-04-30T13:33:53.114373",
   "version": "2.4.0"
  }
 },
 "nbformat": 4,
 "nbformat_minor": 5
}
