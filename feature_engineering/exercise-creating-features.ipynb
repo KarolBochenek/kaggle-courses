{
 "cells": [
  {
   "cell_type": "markdown",
   "id": "8deaebbd",
   "metadata": {
    "papermill": {
     "duration": 0.006035,
     "end_time": "2023-05-05T08:59:25.057728",
     "exception": false,
     "start_time": "2023-05-05T08:59:25.051693",
     "status": "completed"
    },
    "tags": []
   },
   "source": [
    "**This notebook is an exercise in the [Feature Engineering](https://www.kaggle.com/learn/feature-engineering) course.  You can reference the tutorial at [this link](https://www.kaggle.com/ryanholbrook/creating-features).**\n",
    "\n",
    "---\n"
   ]
  },
  {
   "cell_type": "markdown",
   "id": "e5d95784",
   "metadata": {
    "papermill": {
     "duration": 0.005139,
     "end_time": "2023-05-05T08:59:25.068303",
     "exception": false,
     "start_time": "2023-05-05T08:59:25.063164",
     "status": "completed"
    },
    "tags": []
   },
   "source": [
    "# Introduction #\n",
    "\n",
    "In this exercise you'll start developing the features you identified in Exercise 2 as having the most potential. As you work through this exercise, you might take a moment to look at the data documentation again and consider whether the features we're creating make sense from a real-world perspective, and whether there are any useful combinations that stand out to you.\n",
    "\n",
    "Run this cell to set everything up!"
   ]
  },
  {
   "cell_type": "code",
   "execution_count": 1,
   "id": "30818c69",
   "metadata": {
    "execution": {
     "iopub.execute_input": "2023-05-05T08:59:25.081950Z",
     "iopub.status.busy": "2023-05-05T08:59:25.080920Z",
     "iopub.status.idle": "2023-05-05T08:59:26.564920Z",
     "shell.execute_reply": "2023-05-05T08:59:26.563918Z"
    },
    "papermill": {
     "duration": 1.493772,
     "end_time": "2023-05-05T08:59:26.567390",
     "exception": false,
     "start_time": "2023-05-05T08:59:25.073618",
     "status": "completed"
    },
    "tags": []
   },
   "outputs": [
    {
     "name": "stderr",
     "output_type": "stream",
     "text": [
      "/opt/conda/lib/python3.10/site-packages/scipy/__init__.py:146: UserWarning: A NumPy version >=1.16.5 and <1.23.0 is required for this version of SciPy (detected version 1.23.5\n",
      "  warnings.warn(f\"A NumPy version >={np_minversion} and <{np_maxversion}\"\n"
     ]
    }
   ],
   "source": [
    "# Setup feedback system\n",
    "from learntools.core import binder\n",
    "binder.bind(globals())\n",
    "from learntools.feature_engineering_new.ex3 import *\n",
    "\n",
    "import numpy as np\n",
    "import pandas as pd\n",
    "from sklearn.model_selection import cross_val_score\n",
    "from xgboost import XGBRegressor\n",
    "\n",
    "\n",
    "def score_dataset(X, y, model=XGBRegressor()):\n",
    "    # Label encoding for categoricals\n",
    "    for colname in X.select_dtypes([\"category\", \"object\"]):\n",
    "        X[colname], _ = X[colname].factorize()\n",
    "    # Metric for Housing competition is RMSLE (Root Mean Squared Log Error)\n",
    "    score = cross_val_score(\n",
    "        model, X, y, cv=5, scoring=\"neg_mean_squared_log_error\",\n",
    "    )\n",
    "    score = -1 * score.mean()\n",
    "    score = np.sqrt(score)\n",
    "    return score\n",
    "\n",
    "\n",
    "# Prepare data\n",
    "df = pd.read_csv(\"../input/fe-course-data/ames.csv\")\n",
    "X = df.copy()\n",
    "y = X.pop(\"SalePrice\")"
   ]
  },
  {
   "cell_type": "markdown",
   "id": "ba437d37",
   "metadata": {
    "papermill": {
     "duration": 0.005095,
     "end_time": "2023-05-05T08:59:26.577862",
     "exception": false,
     "start_time": "2023-05-05T08:59:26.572767",
     "status": "completed"
    },
    "tags": []
   },
   "source": [
    "-------------------------------------------------------------------------------\n",
    "\n",
    "Let's start with a few mathematical combinations. We'll focus on features describing areas -- having the same units (square-feet) makes it easy to combine them in sensible ways. Since we're using XGBoost (a tree-based model), we'll focus on ratios and sums.\n",
    "\n",
    "# 1) Create Mathematical Transforms\n",
    "\n",
    "Create the following features:\n",
    "\n",
    "- `LivLotRatio`: the ratio of `GrLivArea` to `LotArea`\n",
    "- `Spaciousness`: the sum of `FirstFlrSF` and `SecondFlrSF` divided by `TotRmsAbvGrd`\n",
    "- `TotalOutsideSF`: the sum of `WoodDeckSF`, `OpenPorchSF`, `EnclosedPorch`, `Threeseasonporch`, and `ScreenPorch`"
   ]
  },
  {
   "cell_type": "code",
   "execution_count": 2,
   "id": "15a4ac4d",
   "metadata": {
    "execution": {
     "iopub.execute_input": "2023-05-05T08:59:26.590604Z",
     "iopub.status.busy": "2023-05-05T08:59:26.590170Z",
     "iopub.status.idle": "2023-05-05T08:59:26.615215Z",
     "shell.execute_reply": "2023-05-05T08:59:26.614113Z"
    },
    "lines_to_next_cell": 0,
    "papermill": {
     "duration": 0.03402,
     "end_time": "2023-05-05T08:59:26.617533",
     "exception": false,
     "start_time": "2023-05-05T08:59:26.583513",
     "status": "completed"
    },
    "tags": []
   },
   "outputs": [
    {
     "data": {
      "application/javascript": [
       "parent.postMessage({\"jupyterEvent\": \"custom.exercise_interaction\", \"data\": {\"outcomeType\": 1, \"valueTowardsCompletion\": 0.2, \"interactionType\": 1, \"questionType\": 2, \"questionId\": \"1_Q1\", \"learnToolsVersion\": \"0.3.4\", \"failureMessage\": \"\", \"exceptionClass\": \"\", \"trace\": \"\"}}, \"*\")"
      ],
      "text/plain": [
       "<IPython.core.display.Javascript object>"
      ]
     },
     "metadata": {},
     "output_type": "display_data"
    },
    {
     "data": {
      "text/markdown": [
       "<span style=\"color:#33cc33\">Correct</span>"
      ],
      "text/plain": [
       "Correct"
      ]
     },
     "metadata": {},
     "output_type": "display_data"
    }
   ],
   "source": [
    "# YOUR CODE HERE\n",
    "X_1 = pd.DataFrame()  # dataframe to hold new features\n",
    "\n",
    "X_1[\"LivLotRatio\"] = X.GrLivArea / X.LotArea\n",
    "X_1[\"Spaciousness\"] = (X.FirstFlrSF + X.SecondFlrSF) / X.TotRmsAbvGrd\n",
    "X_1[\"TotalOutsideSF\"] = X.WoodDeckSF + X.OpenPorchSF + X.EnclosedPorch + X.Threeseasonporch + X.ScreenPorch\n",
    "\n",
    "\n",
    "# Check your answer\n",
    "q_1.check()"
   ]
  },
  {
   "cell_type": "code",
   "execution_count": 3,
   "id": "c279aa4b",
   "metadata": {
    "execution": {
     "iopub.execute_input": "2023-05-05T08:59:26.630491Z",
     "iopub.status.busy": "2023-05-05T08:59:26.630087Z",
     "iopub.status.idle": "2023-05-05T08:59:26.634344Z",
     "shell.execute_reply": "2023-05-05T08:59:26.633161Z"
    },
    "lines_to_next_cell": 0,
    "papermill": {
     "duration": 0.013499,
     "end_time": "2023-05-05T08:59:26.636573",
     "exception": false,
     "start_time": "2023-05-05T08:59:26.623074",
     "status": "completed"
    },
    "tags": []
   },
   "outputs": [],
   "source": [
    "# Lines below will give you a hint or solution code\n",
    "#q_1.hint()\n",
    "#q_1.solution()\n"
   ]
  },
  {
   "cell_type": "markdown",
   "id": "36e9d2cf",
   "metadata": {
    "papermill": {
     "duration": 0.005254,
     "end_time": "2023-05-05T08:59:26.647350",
     "exception": false,
     "start_time": "2023-05-05T08:59:26.642096",
     "status": "completed"
    },
    "tags": []
   },
   "source": [
    "-------------------------------------------------------------------------------\n",
    "\n",
    "If you've discovered an interaction effect between a numeric feature and a categorical feature, you might want to model it explicitly using a one-hot encoding, like so:\n",
    "\n",
    "```\n",
    "# One-hot encode Categorical feature, adding a column prefix \"Cat\"\n",
    "X_new = pd.get_dummies(df.Categorical, prefix=\"Cat\")\n",
    "\n",
    "# Multiply row-by-row\n",
    "X_new = X_new.mul(df.Continuous, axis=0)\n",
    "\n",
    "# Join the new features to the feature set\n",
    "X = X.join(X_new)\n",
    "```\n",
    "\n",
    "# 2) Interaction with a Categorical\n",
    "\n",
    "We discovered an interaction between `BldgType` and `GrLivArea` in Exercise 2. Now create their interaction features."
   ]
  },
  {
   "cell_type": "code",
   "execution_count": 4,
   "id": "e3a5f08b",
   "metadata": {
    "execution": {
     "iopub.execute_input": "2023-05-05T08:59:26.660465Z",
     "iopub.status.busy": "2023-05-05T08:59:26.659995Z",
     "iopub.status.idle": "2023-05-05T08:59:26.700367Z",
     "shell.execute_reply": "2023-05-05T08:59:26.699145Z"
    },
    "lines_to_next_cell": 0,
    "papermill": {
     "duration": 0.049878,
     "end_time": "2023-05-05T08:59:26.702624",
     "exception": false,
     "start_time": "2023-05-05T08:59:26.652746",
     "status": "completed"
    },
    "tags": []
   },
   "outputs": [
    {
     "name": "stdout",
     "output_type": "stream",
     "text": [
      "0       OneFam\n",
      "1       OneFam\n",
      "2       OneFam\n",
      "3       OneFam\n",
      "4       OneFam\n",
      "         ...  \n",
      "2925    OneFam\n",
      "2926    OneFam\n",
      "2927    OneFam\n",
      "2928    OneFam\n",
      "2929    OneFam\n",
      "Name: BldgType, Length: 2930, dtype: object\n"
     ]
    },
    {
     "data": {
      "application/javascript": [
       "parent.postMessage({\"jupyterEvent\": \"custom.exercise_interaction\", \"data\": {\"outcomeType\": 1, \"valueTowardsCompletion\": 0.2, \"interactionType\": 1, \"questionType\": 2, \"questionId\": \"2_Q2\", \"learnToolsVersion\": \"0.3.4\", \"failureMessage\": \"\", \"exceptionClass\": \"\", \"trace\": \"\"}}, \"*\")"
      ],
      "text/plain": [
       "<IPython.core.display.Javascript object>"
      ]
     },
     "metadata": {},
     "output_type": "display_data"
    },
    {
     "data": {
      "text/markdown": [
       "<span style=\"color:#33cc33\">Correct</span>"
      ],
      "text/plain": [
       "Correct"
      ]
     },
     "metadata": {},
     "output_type": "display_data"
    },
    {
     "data": {
      "text/html": [
       "<div>\n",
       "<style scoped>\n",
       "    .dataframe tbody tr th:only-of-type {\n",
       "        vertical-align: middle;\n",
       "    }\n",
       "\n",
       "    .dataframe tbody tr th {\n",
       "        vertical-align: top;\n",
       "    }\n",
       "\n",
       "    .dataframe thead th {\n",
       "        text-align: right;\n",
       "    }\n",
       "</style>\n",
       "<table border=\"1\" class=\"dataframe\">\n",
       "  <thead>\n",
       "    <tr style=\"text-align: right;\">\n",
       "      <th></th>\n",
       "      <th>Bldg_Duplex</th>\n",
       "      <th>Bldg_OneFam</th>\n",
       "      <th>Bldg_Twnhs</th>\n",
       "      <th>Bldg_TwnhsE</th>\n",
       "      <th>Bldg_TwoFmCon</th>\n",
       "    </tr>\n",
       "  </thead>\n",
       "  <tbody>\n",
       "    <tr>\n",
       "      <th>0</th>\n",
       "      <td>0.0</td>\n",
       "      <td>1656.0</td>\n",
       "      <td>0.0</td>\n",
       "      <td>0.0</td>\n",
       "      <td>0.0</td>\n",
       "    </tr>\n",
       "    <tr>\n",
       "      <th>1</th>\n",
       "      <td>0.0</td>\n",
       "      <td>896.0</td>\n",
       "      <td>0.0</td>\n",
       "      <td>0.0</td>\n",
       "      <td>0.0</td>\n",
       "    </tr>\n",
       "    <tr>\n",
       "      <th>2</th>\n",
       "      <td>0.0</td>\n",
       "      <td>1329.0</td>\n",
       "      <td>0.0</td>\n",
       "      <td>0.0</td>\n",
       "      <td>0.0</td>\n",
       "    </tr>\n",
       "    <tr>\n",
       "      <th>3</th>\n",
       "      <td>0.0</td>\n",
       "      <td>2110.0</td>\n",
       "      <td>0.0</td>\n",
       "      <td>0.0</td>\n",
       "      <td>0.0</td>\n",
       "    </tr>\n",
       "    <tr>\n",
       "      <th>4</th>\n",
       "      <td>0.0</td>\n",
       "      <td>1629.0</td>\n",
       "      <td>0.0</td>\n",
       "      <td>0.0</td>\n",
       "      <td>0.0</td>\n",
       "    </tr>\n",
       "  </tbody>\n",
       "</table>\n",
       "</div>"
      ],
      "text/plain": [
       "   Bldg_Duplex  Bldg_OneFam  Bldg_Twnhs  Bldg_TwnhsE  Bldg_TwoFmCon\n",
       "0          0.0       1656.0         0.0          0.0            0.0\n",
       "1          0.0        896.0         0.0          0.0            0.0\n",
       "2          0.0       1329.0         0.0          0.0            0.0\n",
       "3          0.0       2110.0         0.0          0.0            0.0\n",
       "4          0.0       1629.0         0.0          0.0            0.0"
      ]
     },
     "execution_count": 4,
     "metadata": {},
     "output_type": "execute_result"
    }
   ],
   "source": [
    "# YOUR CODE HERE\n",
    "# One-hot encode BldgType. Use `prefix=\"Bldg\"` in `get_dummies`\n",
    "print(df.BldgType)\n",
    "X_2 = pd.get_dummies(df.BldgType, prefix=\"Bldg\")\n",
    "# Multiply\n",
    "X_2 = X_2.mul(df.GrLivArea, axis=0)\n",
    "\n",
    "\n",
    "# Check your answer\n",
    "q_2.check()\n",
    "X_2.head()"
   ]
  },
  {
   "cell_type": "code",
   "execution_count": 5,
   "id": "b6af8c96",
   "metadata": {
    "execution": {
     "iopub.execute_input": "2023-05-05T08:59:26.716466Z",
     "iopub.status.busy": "2023-05-05T08:59:26.716070Z",
     "iopub.status.idle": "2023-05-05T08:59:26.720780Z",
     "shell.execute_reply": "2023-05-05T08:59:26.719737Z"
    },
    "lines_to_next_cell": 0,
    "papermill": {
     "duration": 0.014173,
     "end_time": "2023-05-05T08:59:26.722979",
     "exception": false,
     "start_time": "2023-05-05T08:59:26.708806",
     "status": "completed"
    },
    "tags": []
   },
   "outputs": [],
   "source": [
    "# Lines below will give you a hint or solution code\n",
    "#q_2.hint()\n",
    "#q_2.solution()"
   ]
  },
  {
   "cell_type": "markdown",
   "id": "2a20a75e",
   "metadata": {
    "lines_to_next_cell": 0,
    "papermill": {
     "duration": 0.006023,
     "end_time": "2023-05-05T08:59:26.735186",
     "exception": false,
     "start_time": "2023-05-05T08:59:26.729163",
     "status": "completed"
    },
    "tags": []
   },
   "source": [
    "# 3) Count Feature\n",
    "\n",
    "Let's try creating a feature that describes how many kinds of outdoor areas a dwelling has. Create a feature `PorchTypes` that counts how many of the following are greater than 0.0:\n",
    "\n",
    "```\n",
    "WoodDeckSF\n",
    "OpenPorchSF\n",
    "EnclosedPorch\n",
    "Threeseasonporch\n",
    "ScreenPorch\n",
    "```"
   ]
  },
  {
   "cell_type": "code",
   "execution_count": 6,
   "id": "29836911",
   "metadata": {
    "execution": {
     "iopub.execute_input": "2023-05-05T08:59:26.749018Z",
     "iopub.status.busy": "2023-05-05T08:59:26.748629Z",
     "iopub.status.idle": "2023-05-05T08:59:26.767599Z",
     "shell.execute_reply": "2023-05-05T08:59:26.765973Z"
    },
    "lines_to_next_cell": 0,
    "papermill": {
     "duration": 0.028693,
     "end_time": "2023-05-05T08:59:26.769933",
     "exception": false,
     "start_time": "2023-05-05T08:59:26.741240",
     "status": "completed"
    },
    "tags": []
   },
   "outputs": [
    {
     "data": {
      "application/javascript": [
       "parent.postMessage({\"jupyterEvent\": \"custom.exercise_interaction\", \"data\": {\"outcomeType\": 1, \"valueTowardsCompletion\": 0.2, \"interactionType\": 1, \"questionType\": 2, \"questionId\": \"3_Q3\", \"learnToolsVersion\": \"0.3.4\", \"failureMessage\": \"\", \"exceptionClass\": \"\", \"trace\": \"\"}}, \"*\")"
      ],
      "text/plain": [
       "<IPython.core.display.Javascript object>"
      ]
     },
     "metadata": {},
     "output_type": "display_data"
    },
    {
     "data": {
      "text/markdown": [
       "<span style=\"color:#33cc33\">Correct</span>"
      ],
      "text/plain": [
       "Correct"
      ]
     },
     "metadata": {},
     "output_type": "display_data"
    },
    {
     "name": "stdout",
     "output_type": "stream",
     "text": [
      "0       2\n",
      "1       2\n",
      "2       2\n",
      "3       0\n",
      "4       2\n",
      "       ..\n",
      "2925    1\n",
      "2926    1\n",
      "2927    2\n",
      "2928    2\n",
      "2929    2\n",
      "Name: PorchTypes, Length: 2930, dtype: int64\n"
     ]
    }
   ],
   "source": [
    "X_3 = pd.DataFrame()\n",
    "\n",
    "# YOUR CODE HERE\n",
    "X_3[\"PorchTypes\"] = df[[\n",
    "'WoodDeckSF',\n",
    "'OpenPorchSF',\n",
    "'EnclosedPorch',\n",
    "'Threeseasonporch',\n",
    "'ScreenPorch'\n",
    "]].gt(0.0).sum(axis=1)\n",
    "\n",
    "\n",
    "# Check your answer\n",
    "q_3.check()\n",
    "print(X_3['PorchTypes'])"
   ]
  },
  {
   "cell_type": "code",
   "execution_count": 7,
   "id": "b171e930",
   "metadata": {
    "execution": {
     "iopub.execute_input": "2023-05-05T08:59:26.784886Z",
     "iopub.status.busy": "2023-05-05T08:59:26.784127Z",
     "iopub.status.idle": "2023-05-05T08:59:26.788577Z",
     "shell.execute_reply": "2023-05-05T08:59:26.787546Z"
    },
    "lines_to_next_cell": 0,
    "papermill": {
     "duration": 0.014336,
     "end_time": "2023-05-05T08:59:26.790845",
     "exception": false,
     "start_time": "2023-05-05T08:59:26.776509",
     "status": "completed"
    },
    "tags": []
   },
   "outputs": [],
   "source": [
    "# Lines below will give you a hint or solution code\n",
    "#q_3.hint()\n",
    "#q_3.solution()"
   ]
  },
  {
   "cell_type": "markdown",
   "id": "3714094f",
   "metadata": {
    "papermill": {
     "duration": 0.006351,
     "end_time": "2023-05-05T08:59:26.803537",
     "exception": false,
     "start_time": "2023-05-05T08:59:26.797186",
     "status": "completed"
    },
    "tags": []
   },
   "source": [
    "# 4) Break Down a Categorical Feature\n",
    "\n",
    "`MSSubClass` describes the type of a dwelling:"
   ]
  },
  {
   "cell_type": "code",
   "execution_count": 8,
   "id": "9e8ff848",
   "metadata": {
    "execution": {
     "iopub.execute_input": "2023-05-05T08:59:26.817729Z",
     "iopub.status.busy": "2023-05-05T08:59:26.817342Z",
     "iopub.status.idle": "2023-05-05T08:59:26.825034Z",
     "shell.execute_reply": "2023-05-05T08:59:26.823869Z"
    },
    "papermill": {
     "duration": 0.017244,
     "end_time": "2023-05-05T08:59:26.827029",
     "exception": false,
     "start_time": "2023-05-05T08:59:26.809785",
     "status": "completed"
    },
    "tags": []
   },
   "outputs": [
    {
     "data": {
      "text/plain": [
       "array(['One_Story_1946_and_Newer_All_Styles', 'Two_Story_1946_and_Newer',\n",
       "       'One_Story_PUD_1946_and_Newer',\n",
       "       'One_and_Half_Story_Finished_All_Ages', 'Split_Foyer',\n",
       "       'Two_Story_PUD_1946_and_Newer', 'Split_or_Multilevel',\n",
       "       'One_Story_1945_and_Older', 'Duplex_All_Styles_and_Ages',\n",
       "       'Two_Family_conversion_All_Styles_and_Ages',\n",
       "       'One_and_Half_Story_Unfinished_All_Ages',\n",
       "       'Two_Story_1945_and_Older', 'Two_and_Half_Story_All_Ages',\n",
       "       'One_Story_with_Finished_Attic_All_Ages',\n",
       "       'PUD_Multilevel_Split_Level_Foyer',\n",
       "       'One_and_Half_Story_PUD_All_Ages'], dtype=object)"
      ]
     },
     "execution_count": 8,
     "metadata": {},
     "output_type": "execute_result"
    }
   ],
   "source": [
    "df.MSSubClass.unique()"
   ]
  },
  {
   "cell_type": "markdown",
   "id": "06dfb063",
   "metadata": {
    "papermill": {
     "duration": 0.006059,
     "end_time": "2023-05-05T08:59:26.839549",
     "exception": false,
     "start_time": "2023-05-05T08:59:26.833490",
     "status": "completed"
    },
    "tags": []
   },
   "source": [
    "You can see that there is a more general categorization described (roughly) by the first word of each category. Create a feature containing only these first words by splitting `MSSubClass` at the first underscore `_`. (Hint: In the `split` method use an argument `n=1`.)"
   ]
  },
  {
   "cell_type": "code",
   "execution_count": 9,
   "id": "ed259864",
   "metadata": {
    "execution": {
     "iopub.execute_input": "2023-05-05T08:59:26.853921Z",
     "iopub.status.busy": "2023-05-05T08:59:26.853534Z",
     "iopub.status.idle": "2023-05-05T08:59:26.880784Z",
     "shell.execute_reply": "2023-05-05T08:59:26.879766Z"
    },
    "lines_to_next_cell": 0,
    "papermill": {
     "duration": 0.036973,
     "end_time": "2023-05-05T08:59:26.882796",
     "exception": false,
     "start_time": "2023-05-05T08:59:26.845823",
     "status": "completed"
    },
    "tags": []
   },
   "outputs": [
    {
     "data": {
      "application/javascript": [
       "parent.postMessage({\"jupyterEvent\": \"custom.exercise_interaction\", \"data\": {\"outcomeType\": 1, \"valueTowardsCompletion\": 0.2, \"interactionType\": 1, \"questionType\": 2, \"questionId\": \"4_Q4\", \"learnToolsVersion\": \"0.3.4\", \"failureMessage\": \"\", \"exceptionClass\": \"\", \"trace\": \"\"}}, \"*\")"
      ],
      "text/plain": [
       "<IPython.core.display.Javascript object>"
      ]
     },
     "metadata": {},
     "output_type": "display_data"
    },
    {
     "data": {
      "text/markdown": [
       "<span style=\"color:#33cc33\">Correct</span>"
      ],
      "text/plain": [
       "Correct"
      ]
     },
     "metadata": {},
     "output_type": "display_data"
    },
    {
     "data": {
      "text/plain": [
       "0         One\n",
       "1         One\n",
       "2         One\n",
       "3         One\n",
       "4         Two\n",
       "        ...  \n",
       "2925    Split\n",
       "2926      One\n",
       "2927    Split\n",
       "2928      One\n",
       "2929      Two\n",
       "Name: MSClass, Length: 2930, dtype: object"
      ]
     },
     "execution_count": 9,
     "metadata": {},
     "output_type": "execute_result"
    }
   ],
   "source": [
    "X_4 = pd.DataFrame()\n",
    "\n",
    "# YOUR CODE HERE\n",
    "X_4['MSClass'] = df.MSSubClass.str.split(\"_\",n=1,expand=True)[0]\n",
    "\n",
    "# Check your answer\n",
    "q_4.check()\n",
    "X_4['MSClass']"
   ]
  },
  {
   "cell_type": "code",
   "execution_count": 10,
   "id": "2b1cb316",
   "metadata": {
    "execution": {
     "iopub.execute_input": "2023-05-05T08:59:26.898851Z",
     "iopub.status.busy": "2023-05-05T08:59:26.897814Z",
     "iopub.status.idle": "2023-05-05T08:59:26.902779Z",
     "shell.execute_reply": "2023-05-05T08:59:26.901801Z"
    },
    "lines_to_next_cell": 0,
    "papermill": {
     "duration": 0.015324,
     "end_time": "2023-05-05T08:59:26.904903",
     "exception": false,
     "start_time": "2023-05-05T08:59:26.889579",
     "status": "completed"
    },
    "tags": []
   },
   "outputs": [],
   "source": [
    "# Lines below will give you a hint or solution code\n",
    "#q_4.hint()\n",
    "#q_4.solution()"
   ]
  },
  {
   "cell_type": "markdown",
   "id": "d37907a1",
   "metadata": {
    "papermill": {
     "duration": 0.006529,
     "end_time": "2023-05-05T08:59:26.918280",
     "exception": false,
     "start_time": "2023-05-05T08:59:26.911751",
     "status": "completed"
    },
    "tags": []
   },
   "source": [
    "# 5) Use a Grouped Transform\n",
    "\n",
    "The value of a home often depends on how it compares to typical homes in its neighborhood. Create a feature `MedNhbdArea` that describes the *median* of `GrLivArea` grouped on `Neighborhood`."
   ]
  },
  {
   "cell_type": "code",
   "execution_count": 11,
   "id": "5c0403e5",
   "metadata": {
    "execution": {
     "iopub.execute_input": "2023-05-05T08:59:26.934132Z",
     "iopub.status.busy": "2023-05-05T08:59:26.933103Z",
     "iopub.status.idle": "2023-05-05T08:59:26.950275Z",
     "shell.execute_reply": "2023-05-05T08:59:26.949168Z"
    },
    "lines_to_next_cell": 0,
    "papermill": {
     "duration": 0.027617,
     "end_time": "2023-05-05T08:59:26.952530",
     "exception": false,
     "start_time": "2023-05-05T08:59:26.924913",
     "status": "completed"
    },
    "tags": []
   },
   "outputs": [
    {
     "data": {
      "application/javascript": [
       "parent.postMessage({\"jupyterEvent\": \"custom.exercise_interaction\", \"data\": {\"outcomeType\": 1, \"valueTowardsCompletion\": 0.2, \"interactionType\": 1, \"questionType\": 2, \"questionId\": \"5_Q5\", \"learnToolsVersion\": \"0.3.4\", \"failureMessage\": \"\", \"exceptionClass\": \"\", \"trace\": \"\"}}, \"*\")"
      ],
      "text/plain": [
       "<IPython.core.display.Javascript object>"
      ]
     },
     "metadata": {},
     "output_type": "display_data"
    },
    {
     "data": {
      "text/markdown": [
       "<span style=\"color:#33cc33\">Correct</span>"
      ],
      "text/plain": [
       "Correct"
      ]
     },
     "metadata": {},
     "output_type": "display_data"
    }
   ],
   "source": [
    "X_5 = pd.DataFrame()\n",
    "\n",
    "# YOUR CODE HERE\n",
    "X_5[\"MedNhbdArea\"] = (\n",
    "    df.groupby(\"Neighborhood\")\n",
    "    [\"GrLivArea\"]\n",
    "    .transform(\"median\")\n",
    ")\n",
    "\n",
    "# Check your answer\n",
    "q_5.check()\n",
    "#X_5[\"MedNhbdArea\"]"
   ]
  },
  {
   "cell_type": "code",
   "execution_count": 12,
   "id": "6806ffca",
   "metadata": {
    "execution": {
     "iopub.execute_input": "2023-05-05T08:59:26.969025Z",
     "iopub.status.busy": "2023-05-05T08:59:26.968601Z",
     "iopub.status.idle": "2023-05-05T08:59:26.973222Z",
     "shell.execute_reply": "2023-05-05T08:59:26.972072Z"
    },
    "lines_to_next_cell": 0,
    "papermill": {
     "duration": 0.016097,
     "end_time": "2023-05-05T08:59:26.975684",
     "exception": false,
     "start_time": "2023-05-05T08:59:26.959587",
     "status": "completed"
    },
    "tags": []
   },
   "outputs": [],
   "source": [
    "# Lines below will give you a hint or solution code\n",
    "#q_5.hint()\n",
    "#q_5.solution()"
   ]
  },
  {
   "cell_type": "markdown",
   "id": "9864efa0",
   "metadata": {
    "papermill": {
     "duration": 0.006785,
     "end_time": "2023-05-05T08:59:26.989759",
     "exception": false,
     "start_time": "2023-05-05T08:59:26.982974",
     "status": "completed"
    },
    "tags": []
   },
   "source": [
    "Now you've made your first new feature set! If you like, you can run the cell below to score the model with all of your new features added:"
   ]
  },
  {
   "cell_type": "code",
   "execution_count": 13,
   "id": "d470efda",
   "metadata": {
    "execution": {
     "iopub.execute_input": "2023-05-05T08:59:27.006859Z",
     "iopub.status.busy": "2023-05-05T08:59:27.006451Z",
     "iopub.status.idle": "2023-05-05T08:59:31.046892Z",
     "shell.execute_reply": "2023-05-05T08:59:31.045955Z"
    },
    "papermill": {
     "duration": 4.052074,
     "end_time": "2023-05-05T08:59:31.049104",
     "exception": false,
     "start_time": "2023-05-05T08:59:26.997030",
     "status": "completed"
    },
    "tags": []
   },
   "outputs": [
    {
     "data": {
      "text/plain": [
       "0.13865658070461215"
      ]
     },
     "execution_count": 13,
     "metadata": {},
     "output_type": "execute_result"
    }
   ],
   "source": [
    "X_new = X.join([X_1, X_2, X_3, X_4, X_5])\n",
    "score_dataset(X_new, y)"
   ]
  },
  {
   "cell_type": "markdown",
   "id": "c26847ba",
   "metadata": {
    "papermill": {
     "duration": 0.006905,
     "end_time": "2023-05-05T08:59:31.063447",
     "exception": false,
     "start_time": "2023-05-05T08:59:31.056542",
     "status": "completed"
    },
    "tags": []
   },
   "source": [
    "# Keep Going #\n",
    "\n",
    "[**Untangle spatial relationships**](https://www.kaggle.com/ryanholbrook/clustering-with-k-means) by adding cluster labels to your dataset."
   ]
  },
  {
   "cell_type": "markdown",
   "id": "5fc364c6",
   "metadata": {
    "papermill": {
     "duration": 0.007007,
     "end_time": "2023-05-05T08:59:31.077645",
     "exception": false,
     "start_time": "2023-05-05T08:59:31.070638",
     "status": "completed"
    },
    "tags": []
   },
   "source": [
    "---\n",
    "\n",
    "\n",
    "\n",
    "\n",
    "*Have questions or comments? Visit the [course discussion forum](https://www.kaggle.com/learn/feature-engineering/discussion) to chat with other learners.*"
   ]
  }
 ],
 "metadata": {
  "kernelspec": {
   "display_name": "Python 3",
   "language": "python",
   "name": "python3"
  },
  "language_info": {
   "codemirror_mode": {
    "name": "ipython",
    "version": 3
   },
   "file_extension": ".py",
   "mimetype": "text/x-python",
   "name": "python",
   "nbconvert_exporter": "python",
   "pygments_lexer": "ipython3",
   "version": "3.10.10"
  },
  "papermill": {
   "default_parameters": {},
   "duration": 19.109194,
   "end_time": "2023-05-05T08:59:32.006981",
   "environment_variables": {},
   "exception": null,
   "input_path": "__notebook__.ipynb",
   "output_path": "__notebook__.ipynb",
   "parameters": {},
   "start_time": "2023-05-05T08:59:12.897787",
   "version": "2.4.0"
  }
 },
 "nbformat": 4,
 "nbformat_minor": 5
}
