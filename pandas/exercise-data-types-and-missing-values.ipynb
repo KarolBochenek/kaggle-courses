{
 "cells": [
  {
   "cell_type": "markdown",
   "id": "035cb052",
   "metadata": {
    "papermill": {
     "duration": 0.005911,
     "end_time": "2023-04-28T17:46:44.864640",
     "exception": false,
     "start_time": "2023-04-28T17:46:44.858729",
     "status": "completed"
    },
    "tags": []
   },
   "source": [
    "**This notebook is an exercise in the [Pandas](https://www.kaggle.com/learn/pandas) course.  You can reference the tutorial at [this link](https://www.kaggle.com/residentmario/data-types-and-missing-values).**\n",
    "\n",
    "---\n"
   ]
  },
  {
   "cell_type": "markdown",
   "id": "824f4c46",
   "metadata": {
    "papermill": {
     "duration": 0.004017,
     "end_time": "2023-04-28T17:46:44.873116",
     "exception": false,
     "start_time": "2023-04-28T17:46:44.869099",
     "status": "completed"
    },
    "tags": []
   },
   "source": [
    "# Introduction\n",
    "\n",
    "Run the following cell to load your data and some utility functions."
   ]
  },
  {
   "cell_type": "code",
   "execution_count": 1,
   "id": "3d320549",
   "metadata": {
    "execution": {
     "iopub.execute_input": "2023-04-28T17:46:44.883971Z",
     "iopub.status.busy": "2023-04-28T17:46:44.883121Z",
     "iopub.status.idle": "2023-04-28T17:46:47.889235Z",
     "shell.execute_reply": "2023-04-28T17:46:47.887791Z"
    },
    "papermill": {
     "duration": 3.014773,
     "end_time": "2023-04-28T17:46:47.892161",
     "exception": false,
     "start_time": "2023-04-28T17:46:44.877388",
     "status": "completed"
    },
    "tags": []
   },
   "outputs": [
    {
     "name": "stdout",
     "output_type": "stream",
     "text": [
      "Setup complete.\n"
     ]
    }
   ],
   "source": [
    "import pandas as pd\n",
    "\n",
    "reviews = pd.read_csv(\"../input/wine-reviews/winemag-data-130k-v2.csv\", index_col=0)\n",
    "\n",
    "from learntools.core import binder; binder.bind(globals())\n",
    "from learntools.pandas.data_types_and_missing_data import *\n",
    "print(\"Setup complete.\")"
   ]
  },
  {
   "cell_type": "markdown",
   "id": "abb39e66",
   "metadata": {
    "papermill": {
     "duration": 0.004451,
     "end_time": "2023-04-28T17:46:47.901482",
     "exception": false,
     "start_time": "2023-04-28T17:46:47.897031",
     "status": "completed"
    },
    "tags": []
   },
   "source": [
    "# Exercises"
   ]
  },
  {
   "cell_type": "markdown",
   "id": "8b5836c6",
   "metadata": {
    "papermill": {
     "duration": 0.004127,
     "end_time": "2023-04-28T17:46:47.910121",
     "exception": false,
     "start_time": "2023-04-28T17:46:47.905994",
     "status": "completed"
    },
    "tags": []
   },
   "source": [
    "## 1. \n",
    "What is the data type of the `points` column in the dataset?"
   ]
  },
  {
   "cell_type": "code",
   "execution_count": 2,
   "id": "af288044",
   "metadata": {
    "execution": {
     "iopub.execute_input": "2023-04-28T17:46:47.920910Z",
     "iopub.status.busy": "2023-04-28T17:46:47.920445Z",
     "iopub.status.idle": "2023-04-28T17:46:47.933680Z",
     "shell.execute_reply": "2023-04-28T17:46:47.932194Z"
    },
    "papermill": {
     "duration": 0.021969,
     "end_time": "2023-04-28T17:46:47.936477",
     "exception": false,
     "start_time": "2023-04-28T17:46:47.914508",
     "status": "completed"
    },
    "tags": []
   },
   "outputs": [
    {
     "data": {
      "application/javascript": [
       "parent.postMessage({\"jupyterEvent\": \"custom.exercise_interaction\", \"data\": {\"outcomeType\": 1, \"valueTowardsCompletion\": 0.25, \"interactionType\": 1, \"questionType\": 1, \"questionId\": \"1_PointsDtype\", \"learnToolsVersion\": \"0.3.4\", \"failureMessage\": \"\", \"exceptionClass\": \"\", \"trace\": \"\"}}, \"*\")"
      ],
      "text/plain": [
       "<IPython.core.display.Javascript object>"
      ]
     },
     "metadata": {},
     "output_type": "display_data"
    },
    {
     "data": {
      "text/markdown": [
       "<span style=\"color:#33cc33\">Correct</span>"
      ],
      "text/plain": [
       "Correct"
      ]
     },
     "metadata": {},
     "output_type": "display_data"
    },
    {
     "data": {
      "text/plain": [
       "dtype('int64')"
      ]
     },
     "execution_count": 2,
     "metadata": {},
     "output_type": "execute_result"
    }
   ],
   "source": [
    "# Your code here\n",
    "dtype = reviews.points.dtype\n",
    "\n",
    "# Check your answer\n",
    "q1.check()\n",
    "dtype"
   ]
  },
  {
   "cell_type": "code",
   "execution_count": 3,
   "id": "43155dc4",
   "metadata": {
    "execution": {
     "iopub.execute_input": "2023-04-28T17:46:47.949950Z",
     "iopub.status.busy": "2023-04-28T17:46:47.949506Z",
     "iopub.status.idle": "2023-04-28T17:46:47.954348Z",
     "shell.execute_reply": "2023-04-28T17:46:47.952907Z"
    },
    "papermill": {
     "duration": 0.015124,
     "end_time": "2023-04-28T17:46:47.957136",
     "exception": false,
     "start_time": "2023-04-28T17:46:47.942012",
     "status": "completed"
    },
    "tags": []
   },
   "outputs": [],
   "source": [
    "#q1.hint()\n",
    "#q1.solution()"
   ]
  },
  {
   "cell_type": "markdown",
   "id": "1602e7c1",
   "metadata": {
    "papermill": {
     "duration": 0.004703,
     "end_time": "2023-04-28T17:46:47.966924",
     "exception": false,
     "start_time": "2023-04-28T17:46:47.962221",
     "status": "completed"
    },
    "tags": []
   },
   "source": [
    "## 2. \n",
    "Create a Series from entries in the `points` column, but convert the entries to strings. Hint: strings are `str` in native Python."
   ]
  },
  {
   "cell_type": "code",
   "execution_count": 4,
   "id": "a850f12c",
   "metadata": {
    "execution": {
     "iopub.execute_input": "2023-04-28T17:46:47.979633Z",
     "iopub.status.busy": "2023-04-28T17:46:47.978296Z",
     "iopub.status.idle": "2023-04-28T17:46:48.069779Z",
     "shell.execute_reply": "2023-04-28T17:46:48.068333Z"
    },
    "papermill": {
     "duration": 0.100712,
     "end_time": "2023-04-28T17:46:48.072621",
     "exception": false,
     "start_time": "2023-04-28T17:46:47.971909",
     "status": "completed"
    },
    "tags": []
   },
   "outputs": [
    {
     "data": {
      "application/javascript": [
       "parent.postMessage({\"jupyterEvent\": \"custom.exercise_interaction\", \"data\": {\"outcomeType\": 1, \"valueTowardsCompletion\": 0.25, \"interactionType\": 1, \"questionType\": 1, \"questionId\": \"2_StrPoints\", \"learnToolsVersion\": \"0.3.4\", \"failureMessage\": \"\", \"exceptionClass\": \"\", \"trace\": \"\"}}, \"*\")"
      ],
      "text/plain": [
       "<IPython.core.display.Javascript object>"
      ]
     },
     "metadata": {},
     "output_type": "display_data"
    },
    {
     "data": {
      "text/markdown": [
       "<span style=\"color:#33cc33\">Correct</span>"
      ],
      "text/plain": [
       "Correct"
      ]
     },
     "metadata": {},
     "output_type": "display_data"
    }
   ],
   "source": [
    "point_strings = reviews.points.astype('str')\n",
    "\n",
    "# Check your answer\n",
    "q2.check()"
   ]
  },
  {
   "cell_type": "code",
   "execution_count": 5,
   "id": "c3e5d1ae",
   "metadata": {
    "execution": {
     "iopub.execute_input": "2023-04-28T17:46:48.084596Z",
     "iopub.status.busy": "2023-04-28T17:46:48.084165Z",
     "iopub.status.idle": "2023-04-28T17:46:48.089129Z",
     "shell.execute_reply": "2023-04-28T17:46:48.087780Z"
    },
    "papermill": {
     "duration": 0.014325,
     "end_time": "2023-04-28T17:46:48.092097",
     "exception": false,
     "start_time": "2023-04-28T17:46:48.077772",
     "status": "completed"
    },
    "tags": []
   },
   "outputs": [],
   "source": [
    "#q2.hint()\n",
    "#q2.solution()"
   ]
  },
  {
   "cell_type": "markdown",
   "id": "7f45c9ac",
   "metadata": {
    "papermill": {
     "duration": 0.004746,
     "end_time": "2023-04-28T17:46:48.102240",
     "exception": false,
     "start_time": "2023-04-28T17:46:48.097494",
     "status": "completed"
    },
    "tags": []
   },
   "source": [
    "## 3.\n",
    "Sometimes the price column is null. How many reviews in the dataset are missing a price?"
   ]
  },
  {
   "cell_type": "code",
   "execution_count": 6,
   "id": "c46233c5",
   "metadata": {
    "execution": {
     "iopub.execute_input": "2023-04-28T17:46:48.114272Z",
     "iopub.status.busy": "2023-04-28T17:46:48.113855Z",
     "iopub.status.idle": "2023-04-28T17:46:48.124688Z",
     "shell.execute_reply": "2023-04-28T17:46:48.123492Z"
    },
    "papermill": {
     "duration": 0.019642,
     "end_time": "2023-04-28T17:46:48.126945",
     "exception": false,
     "start_time": "2023-04-28T17:46:48.107303",
     "status": "completed"
    },
    "tags": []
   },
   "outputs": [
    {
     "data": {
      "application/javascript": [
       "parent.postMessage({\"jupyterEvent\": \"custom.exercise_interaction\", \"data\": {\"outcomeType\": 1, \"valueTowardsCompletion\": 0.25, \"interactionType\": 1, \"questionType\": 1, \"questionId\": \"3_CountMissingPrices\", \"learnToolsVersion\": \"0.3.4\", \"failureMessage\": \"\", \"exceptionClass\": \"\", \"trace\": \"\"}}, \"*\")"
      ],
      "text/plain": [
       "<IPython.core.display.Javascript object>"
      ]
     },
     "metadata": {},
     "output_type": "display_data"
    },
    {
     "data": {
      "text/markdown": [
       "<span style=\"color:#33cc33\">Correct</span>"
      ],
      "text/plain": [
       "Correct"
      ]
     },
     "metadata": {},
     "output_type": "display_data"
    }
   ],
   "source": [
    "n_missing_prices = reviews.price.isnull().sum()\n",
    "\n",
    "# Check your answer\n",
    "q3.check()"
   ]
  },
  {
   "cell_type": "code",
   "execution_count": 7,
   "id": "66dcbfd5",
   "metadata": {
    "execution": {
     "iopub.execute_input": "2023-04-28T17:46:48.140676Z",
     "iopub.status.busy": "2023-04-28T17:46:48.139258Z",
     "iopub.status.idle": "2023-04-28T17:46:48.149135Z",
     "shell.execute_reply": "2023-04-28T17:46:48.147897Z"
    },
    "papermill": {
     "duration": 0.01932,
     "end_time": "2023-04-28T17:46:48.151841",
     "exception": false,
     "start_time": "2023-04-28T17:46:48.132521",
     "status": "completed"
    },
    "tags": []
   },
   "outputs": [
    {
     "data": {
      "application/javascript": [
       "parent.postMessage({\"jupyterEvent\": \"custom.exercise_interaction\", \"data\": {\"interactionType\": 2, \"questionType\": 1, \"questionId\": \"3_CountMissingPrices\", \"learnToolsVersion\": \"0.3.4\", \"valueTowardsCompletion\": 0.0, \"failureMessage\": \"\", \"exceptionClass\": \"\", \"trace\": \"\", \"outcomeType\": 4}}, \"*\")"
      ],
      "text/plain": [
       "<IPython.core.display.Javascript object>"
      ]
     },
     "metadata": {},
     "output_type": "display_data"
    },
    {
     "data": {
      "text/markdown": [
       "<span style=\"color:#3366cc\">Hint:</span> Use `pd.isnull()`."
      ],
      "text/plain": [
       "Hint: Use `pd.isnull()`."
      ]
     },
     "metadata": {},
     "output_type": "display_data"
    }
   ],
   "source": [
    "q3.hint()\n",
    "#q3.solution()"
   ]
  },
  {
   "cell_type": "markdown",
   "id": "47d0bb0a",
   "metadata": {
    "papermill": {
     "duration": 0.005213,
     "end_time": "2023-04-28T17:46:48.162752",
     "exception": false,
     "start_time": "2023-04-28T17:46:48.157539",
     "status": "completed"
    },
    "tags": []
   },
   "source": [
    "## 4.\n",
    "What are the most common wine-producing regions? Create a Series counting the number of times each value occurs in the `region_1` field. This field is often missing data, so replace missing values with `Unknown`. Sort in descending order.  Your output should look something like this:\n",
    "\n",
    "```\n",
    "Unknown                    21247\n",
    "Napa Valley                 4480\n",
    "                           ...  \n",
    "Bardolino Superiore            1\n",
    "Primitivo del Tarantino        1\n",
    "Name: region_1, Length: 1230, dtype: int64\n",
    "```"
   ]
  },
  {
   "cell_type": "code",
   "execution_count": 8,
   "id": "e4daf285",
   "metadata": {
    "execution": {
     "iopub.execute_input": "2023-04-28T17:46:48.176577Z",
     "iopub.status.busy": "2023-04-28T17:46:48.175682Z",
     "iopub.status.idle": "2023-04-28T17:46:48.224190Z",
     "shell.execute_reply": "2023-04-28T17:46:48.222922Z"
    },
    "papermill": {
     "duration": 0.058526,
     "end_time": "2023-04-28T17:46:48.226911",
     "exception": false,
     "start_time": "2023-04-28T17:46:48.168385",
     "status": "completed"
    },
    "tags": []
   },
   "outputs": [
    {
     "data": {
      "application/javascript": [
       "parent.postMessage({\"jupyterEvent\": \"custom.exercise_interaction\", \"data\": {\"outcomeType\": 1, \"valueTowardsCompletion\": 0.25, \"interactionType\": 1, \"questionType\": 2, \"questionId\": \"4_ReviewsPerRegion\", \"learnToolsVersion\": \"0.3.4\", \"failureMessage\": \"\", \"exceptionClass\": \"\", \"trace\": \"\"}}, \"*\")"
      ],
      "text/plain": [
       "<IPython.core.display.Javascript object>"
      ]
     },
     "metadata": {},
     "output_type": "display_data"
    },
    {
     "data": {
      "text/markdown": [
       "<span style=\"color:#33cc33\">Correct</span>"
      ],
      "text/plain": [
       "Correct"
      ]
     },
     "metadata": {},
     "output_type": "display_data"
    }
   ],
   "source": [
    "\n",
    "reviews_per_region = reviews.region_1.fillna(\"Unknown\").value_counts().sort_values(ascending = False)\n",
    "\n",
    "# Check your answer\n",
    "q4.check()"
   ]
  },
  {
   "cell_type": "code",
   "execution_count": 9,
   "id": "ff8753fa",
   "metadata": {
    "execution": {
     "iopub.execute_input": "2023-04-28T17:46:48.240385Z",
     "iopub.status.busy": "2023-04-28T17:46:48.239975Z",
     "iopub.status.idle": "2023-04-28T17:46:48.246009Z",
     "shell.execute_reply": "2023-04-28T17:46:48.244663Z"
    },
    "papermill": {
     "duration": 0.015733,
     "end_time": "2023-04-28T17:46:48.248494",
     "exception": false,
     "start_time": "2023-04-28T17:46:48.232761",
     "status": "completed"
    },
    "tags": []
   },
   "outputs": [],
   "source": [
    "#q4.hint()\n",
    "#q4.solution()"
   ]
  },
  {
   "cell_type": "markdown",
   "id": "21bc23e5",
   "metadata": {
    "papermill": {
     "duration": 0.005442,
     "end_time": "2023-04-28T17:46:48.259777",
     "exception": false,
     "start_time": "2023-04-28T17:46:48.254335",
     "status": "completed"
    },
    "tags": []
   },
   "source": [
    "# Keep going\n",
    "\n",
    "Move on to **[renaming and combining](https://www.kaggle.com/residentmario/renaming-and-combining)**."
   ]
  },
  {
   "cell_type": "markdown",
   "id": "0585c923",
   "metadata": {
    "papermill": {
     "duration": 0.005654,
     "end_time": "2023-04-28T17:46:48.271290",
     "exception": false,
     "start_time": "2023-04-28T17:46:48.265636",
     "status": "completed"
    },
    "tags": []
   },
   "source": [
    "---\n",
    "\n",
    "\n",
    "\n",
    "\n",
    "*Have questions or comments? Visit the [course discussion forum](https://www.kaggle.com/learn/pandas/discussion) to chat with other learners.*"
   ]
  }
 ],
 "metadata": {
  "kernelspec": {
   "display_name": "Python 3",
   "language": "python",
   "name": "python3"
  },
  "language_info": {
   "codemirror_mode": {
    "name": "ipython",
    "version": 3
   },
   "file_extension": ".py",
   "mimetype": "text/x-python",
   "name": "python",
   "nbconvert_exporter": "python",
   "pygments_lexer": "ipython3",
   "version": "3.7.12"
  },
  "papermill": {
   "default_parameters": {},
   "duration": 15.691847,
   "end_time": "2023-04-28T17:46:49.000288",
   "environment_variables": {},
   "exception": null,
   "input_path": "__notebook__.ipynb",
   "output_path": "__notebook__.ipynb",
   "parameters": {},
   "start_time": "2023-04-28T17:46:33.308441",
   "version": "2.4.0"
  }
 },
 "nbformat": 4,
 "nbformat_minor": 5
}
