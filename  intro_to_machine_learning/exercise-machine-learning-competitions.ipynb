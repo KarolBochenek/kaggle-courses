{
 "cells": [
  {
   "cell_type": "markdown",
   "id": "48ef6cb1",
   "metadata": {
    "papermill": {
     "duration": 0.007019,
     "end_time": "2023-04-30T13:40:51.659914",
     "exception": false,
     "start_time": "2023-04-30T13:40:51.652895",
     "status": "completed"
    },
    "tags": []
   },
   "source": [
    "# House Price Prediction"
   ]
  },
  {
   "cell_type": "code",
   "execution_count": 1,
   "id": "2cedfeb6",
   "metadata": {
    "execution": {
     "iopub.execute_input": "2023-04-30T13:40:51.674417Z",
     "iopub.status.busy": "2023-04-30T13:40:51.673305Z",
     "iopub.status.idle": "2023-04-30T13:40:51.726331Z",
     "shell.execute_reply": "2023-04-30T13:40:51.724977Z"
    },
    "papermill": {
     "duration": 0.063042,
     "end_time": "2023-04-30T13:40:51.729095",
     "exception": false,
     "start_time": "2023-04-30T13:40:51.666053",
     "status": "completed"
    },
    "tags": []
   },
   "outputs": [],
   "source": [
    "# Set up code checking\n",
    "from learntools.core import binder\n",
    "binder.bind(globals())\n",
    "from learntools.machine_learning.ex7 import *\n",
    "\n",
    "# Set up filepaths\n",
    "import os\n",
    "if not os.path.exists(\"../input/train.csv\"):\n",
    "    os.symlink(\"../input/home-data-for-ml-course/train.csv\", \"../input/train.csv\")  \n",
    "    os.symlink(\"../input/home-data-for-ml-course/test.csv\", \"../input/test.csv\") "
   ]
  },
  {
   "cell_type": "code",
   "execution_count": 2,
   "id": "96db3122",
   "metadata": {
    "execution": {
     "iopub.execute_input": "2023-04-30T13:40:51.743563Z",
     "iopub.status.busy": "2023-04-30T13:40:51.742458Z",
     "iopub.status.idle": "2023-04-30T13:40:53.644366Z",
     "shell.execute_reply": "2023-04-30T13:40:53.642920Z"
    },
    "papermill": {
     "duration": 1.912121,
     "end_time": "2023-04-30T13:40:53.647270",
     "exception": false,
     "start_time": "2023-04-30T13:40:51.735149",
     "status": "completed"
    },
    "tags": []
   },
   "outputs": [],
   "source": [
    "# Import helpful libraries\n",
    "import pandas as pd\n",
    "from sklearn.ensemble import RandomForestRegressor\n",
    "from sklearn.metrics import mean_absolute_error\n",
    "from sklearn.model_selection import train_test_split\n",
    "import seaborn as sns\n",
    "sns.set()\n",
    "\n",
    "# Load the data, and separate the target\n",
    "iowa_file_path = '../input/train.csv'\n",
    "# path to file you will use for predictions\n",
    "test_data_path = '../input/test.csv'\n",
    "# read test data file using pandas\n",
    "test_data = pd.read_csv(test_data_path)\n",
    "home_data = pd.read_csv(iowa_file_path)\n",
    "y = home_data.SalePrice"
   ]
  },
  {
   "cell_type": "markdown",
   "id": "45b58fab",
   "metadata": {
    "papermill": {
     "duration": 0.005723,
     "end_time": "2023-04-30T13:40:53.658959",
     "exception": false,
     "start_time": "2023-04-30T13:40:53.653236",
     "status": "completed"
    },
    "tags": []
   },
   "source": [
    "## Trying to make it more efficient"
   ]
  },
  {
   "cell_type": "code",
   "execution_count": 3,
   "id": "522473e1",
   "metadata": {
    "execution": {
     "iopub.execute_input": "2023-04-30T13:40:53.672740Z",
     "iopub.status.busy": "2023-04-30T13:40:53.672255Z",
     "iopub.status.idle": "2023-04-30T13:40:53.687379Z",
     "shell.execute_reply": "2023-04-30T13:40:53.686140Z"
    },
    "papermill": {
     "duration": 0.025618,
     "end_time": "2023-04-30T13:40:53.690421",
     "exception": false,
     "start_time": "2023-04-30T13:40:53.664803",
     "status": "completed"
    },
    "tags": []
   },
   "outputs": [
    {
     "data": {
      "text/plain": [
       "Index(['MSSubClass', 'LotArea', 'OverallQual', 'OverallCond', 'YearBuilt',\n",
       "       'YearRemodAdd', '1stFlrSF', '2ndFlrSF', 'LowQualFinSF', 'GrLivArea',\n",
       "       'FullBath', 'HalfBath', 'BedroomAbvGr', 'KitchenAbvGr', 'TotRmsAbvGrd',\n",
       "       'Fireplaces', 'WoodDeckSF', 'OpenPorchSF', 'EnclosedPorch', '3SsnPorch',\n",
       "       'ScreenPorch', 'PoolArea', 'MiscVal', 'MoSold', 'YrSold'],\n",
       "      dtype='object')"
      ]
     },
     "execution_count": 3,
     "metadata": {},
     "output_type": "execute_result"
    }
   ],
   "source": [
    "# select new features\n",
    "new_features = [\n",
    "    'MSSubClass',\n",
    "    'LotArea',\n",
    "    'OverallQual',\n",
    "    'OverallCond',\n",
    "    'YearBuilt',\n",
    "    'YearRemodAdd',\n",
    "    '1stFlrSF',\n",
    "    '2ndFlrSF',\n",
    "    'LowQualFinSF',\n",
    "    'GrLivArea',\n",
    "    'FullBath',\n",
    "    'HalfBath',\n",
    "    'BedroomAbvGr',\n",
    "    'KitchenAbvGr',\n",
    "    'TotRmsAbvGrd',\n",
    "    'Fireplaces',\n",
    "    'WoodDeckSF',\n",
    "    'OpenPorchSF',\n",
    "    'EnclosedPorch',\n",
    "    '3SsnPorch',\n",
    "    'ScreenPorch',\n",
    "    'PoolArea',\n",
    "    'MiscVal',\n",
    "    'MoSold',\n",
    "    'YrSold'\n",
    "\n",
    "]\n",
    "Xn = home_data[new_features]\n",
    "Xn.columns"
   ]
  },
  {
   "cell_type": "code",
   "execution_count": 4,
   "id": "6eb54e2f",
   "metadata": {
    "execution": {
     "iopub.execute_input": "2023-04-30T13:40:53.704613Z",
     "iopub.status.busy": "2023-04-30T13:40:53.704205Z",
     "iopub.status.idle": "2023-04-30T13:40:53.711990Z",
     "shell.execute_reply": "2023-04-30T13:40:53.710724Z"
    },
    "papermill": {
     "duration": 0.017491,
     "end_time": "2023-04-30T13:40:53.714257",
     "exception": false,
     "start_time": "2023-04-30T13:40:53.696766",
     "status": "completed"
    },
    "tags": []
   },
   "outputs": [
    {
     "data": {
      "text/plain": [
       "(1460, 25)"
      ]
     },
     "execution_count": 4,
     "metadata": {},
     "output_type": "execute_result"
    }
   ],
   "source": [
    "Xn.shape"
   ]
  },
  {
   "cell_type": "code",
   "execution_count": 5,
   "id": "aef50595",
   "metadata": {
    "execution": {
     "iopub.execute_input": "2023-04-30T13:40:53.729071Z",
     "iopub.status.busy": "2023-04-30T13:40:53.728641Z",
     "iopub.status.idle": "2023-04-30T13:40:53.737926Z",
     "shell.execute_reply": "2023-04-30T13:40:53.736253Z"
    },
    "papermill": {
     "duration": 0.019905,
     "end_time": "2023-04-30T13:40:53.740619",
     "exception": false,
     "start_time": "2023-04-30T13:40:53.720714",
     "status": "completed"
    },
    "tags": []
   },
   "outputs": [
    {
     "name": "stdout",
     "output_type": "stream",
     "text": [
      "MSSubClass          0\n",
      "LotArea             0\n",
      "OverallQual         0\n",
      "OverallCond         0\n",
      "YearBuilt           0\n",
      "YearRemodAdd        0\n",
      "1stFlrSF            0\n",
      "2ndFlrSF          829\n",
      "LowQualFinSF     1434\n",
      "GrLivArea           0\n",
      "FullBath            9\n",
      "HalfBath          913\n",
      "BedroomAbvGr        6\n",
      "KitchenAbvGr        1\n",
      "TotRmsAbvGrd        0\n",
      "Fireplaces        690\n",
      "WoodDeckSF        761\n",
      "OpenPorchSF       656\n",
      "EnclosedPorch    1252\n",
      "3SsnPorch        1436\n",
      "ScreenPorch      1344\n",
      "PoolArea         1453\n",
      "MiscVal          1408\n",
      "MoSold              0\n",
      "YrSold              0\n",
      "dtype: int64\n"
     ]
    }
   ],
   "source": [
    "# Let's check the data for the missing values\n",
    "zeros = (Xn == 0).astype(int).sum()\n",
    "print(zeros)"
   ]
  },
  {
   "cell_type": "code",
   "execution_count": 6,
   "id": "363a814d",
   "metadata": {
    "execution": {
     "iopub.execute_input": "2023-04-30T13:40:53.755648Z",
     "iopub.status.busy": "2023-04-30T13:40:53.755154Z",
     "iopub.status.idle": "2023-04-30T13:40:53.767555Z",
     "shell.execute_reply": "2023-04-30T13:40:53.766325Z"
    },
    "papermill": {
     "duration": 0.023098,
     "end_time": "2023-04-30T13:40:53.770044",
     "exception": false,
     "start_time": "2023-04-30T13:40:53.746946",
     "status": "completed"
    },
    "tags": []
   },
   "outputs": [
    {
     "data": {
      "text/plain": [
       "MSSubClass        0.000000\n",
       "LotArea           0.000000\n",
       "OverallQual       0.000000\n",
       "OverallCond       0.000000\n",
       "YearBuilt         0.000000\n",
       "YearRemodAdd      0.000000\n",
       "1stFlrSF          0.000000\n",
       "2ndFlrSF         56.780822\n",
       "LowQualFinSF     98.219178\n",
       "GrLivArea         0.000000\n",
       "FullBath          0.616438\n",
       "HalfBath         62.534247\n",
       "BedroomAbvGr      0.410959\n",
       "KitchenAbvGr      0.068493\n",
       "TotRmsAbvGrd      0.000000\n",
       "Fireplaces       47.260274\n",
       "WoodDeckSF       52.123288\n",
       "OpenPorchSF      44.931507\n",
       "EnclosedPorch    85.753425\n",
       "3SsnPorch        98.356164\n",
       "ScreenPorch      92.054795\n",
       "PoolArea         99.520548\n",
       "MiscVal          96.438356\n",
       "MoSold            0.000000\n",
       "YrSold            0.000000\n",
       "dtype: float64"
      ]
     },
     "execution_count": 6,
     "metadata": {},
     "output_type": "execute_result"
    }
   ],
   "source": [
    "# Let's convert this Series to be in term of percentage of the total DataFrame\n",
    "100* (Xn == 0).astype(int).sum()/len(Xn)"
   ]
  },
  {
   "cell_type": "code",
   "execution_count": 7,
   "id": "206861ef",
   "metadata": {
    "execution": {
     "iopub.execute_input": "2023-04-30T13:40:53.784785Z",
     "iopub.status.busy": "2023-04-30T13:40:53.784405Z",
     "iopub.status.idle": "2023-04-30T13:40:53.801637Z",
     "shell.execute_reply": "2023-04-30T13:40:53.800199Z"
    },
    "papermill": {
     "duration": 0.027914,
     "end_time": "2023-04-30T13:40:53.804400",
     "exception": false,
     "start_time": "2023-04-30T13:40:53.776486",
     "status": "completed"
    },
    "tags": []
   },
   "outputs": [
    {
     "data": {
      "text/plain": [
       "Id                0.000000\n",
       "MSSubClass        0.000000\n",
       "MSZoning          0.000000\n",
       "LotFrontage       0.000000\n",
       "LotArea           0.000000\n",
       "                   ...    \n",
       "MiscVal          96.438356\n",
       "MoSold            0.000000\n",
       "YrSold            0.000000\n",
       "SaleType          0.000000\n",
       "SaleCondition     0.000000\n",
       "Length: 80, dtype: float64"
      ]
     },
     "execution_count": 7,
     "metadata": {},
     "output_type": "execute_result"
    }
   ],
   "source": [
    "100* (test_data == 0).astype(int).sum()/len(Xn)"
   ]
  },
  {
   "cell_type": "code",
   "execution_count": 8,
   "id": "72854d5e",
   "metadata": {
    "execution": {
     "iopub.execute_input": "2023-04-30T13:40:53.819472Z",
     "iopub.status.busy": "2023-04-30T13:40:53.819062Z",
     "iopub.status.idle": "2023-04-30T13:40:53.824588Z",
     "shell.execute_reply": "2023-04-30T13:40:53.823128Z"
    },
    "papermill": {
     "duration": 0.016327,
     "end_time": "2023-04-30T13:40:53.827333",
     "exception": false,
     "start_time": "2023-04-30T13:40:53.811006",
     "status": "completed"
    },
    "tags": []
   },
   "outputs": [],
   "source": [
    "#drop list\n",
    "drop_list = ['LowQualFinSF','EnclosedPorch','3SsnPorch','ScreenPorch','PoolArea','MiscVal']"
   ]
  },
  {
   "cell_type": "code",
   "execution_count": 9,
   "id": "4d884ddb",
   "metadata": {
    "execution": {
     "iopub.execute_input": "2023-04-30T13:40:53.842377Z",
     "iopub.status.busy": "2023-04-30T13:40:53.841973Z",
     "iopub.status.idle": "2023-04-30T13:40:53.849136Z",
     "shell.execute_reply": "2023-04-30T13:40:53.847784Z"
    },
    "papermill": {
     "duration": 0.017691,
     "end_time": "2023-04-30T13:40:53.851660",
     "exception": false,
     "start_time": "2023-04-30T13:40:53.833969",
     "status": "completed"
    },
    "tags": []
   },
   "outputs": [],
   "source": [
    "Xn = Xn.drop(drop_list, axis=1)"
   ]
  },
  {
   "cell_type": "code",
   "execution_count": 10,
   "id": "cb1f0818",
   "metadata": {
    "execution": {
     "iopub.execute_input": "2023-04-30T13:40:53.866742Z",
     "iopub.status.busy": "2023-04-30T13:40:53.866330Z",
     "iopub.status.idle": "2023-04-30T13:40:53.952205Z",
     "shell.execute_reply": "2023-04-30T13:40:53.950739Z"
    },
    "papermill": {
     "duration": 0.096671,
     "end_time": "2023-04-30T13:40:53.954926",
     "exception": false,
     "start_time": "2023-04-30T13:40:53.858255",
     "status": "completed"
    },
    "tags": []
   },
   "outputs": [
    {
     "data": {
      "text/html": [
       "<div>\n",
       "<style scoped>\n",
       "    .dataframe tbody tr th:only-of-type {\n",
       "        vertical-align: middle;\n",
       "    }\n",
       "\n",
       "    .dataframe tbody tr th {\n",
       "        vertical-align: top;\n",
       "    }\n",
       "\n",
       "    .dataframe thead th {\n",
       "        text-align: right;\n",
       "    }\n",
       "</style>\n",
       "<table border=\"1\" class=\"dataframe\">\n",
       "  <thead>\n",
       "    <tr style=\"text-align: right;\">\n",
       "      <th></th>\n",
       "      <th>MSSubClass</th>\n",
       "      <th>LotArea</th>\n",
       "      <th>OverallQual</th>\n",
       "      <th>OverallCond</th>\n",
       "      <th>YearBuilt</th>\n",
       "      <th>YearRemodAdd</th>\n",
       "      <th>1stFlrSF</th>\n",
       "      <th>2ndFlrSF</th>\n",
       "      <th>GrLivArea</th>\n",
       "      <th>FullBath</th>\n",
       "      <th>HalfBath</th>\n",
       "      <th>BedroomAbvGr</th>\n",
       "      <th>KitchenAbvGr</th>\n",
       "      <th>TotRmsAbvGrd</th>\n",
       "      <th>Fireplaces</th>\n",
       "      <th>WoodDeckSF</th>\n",
       "      <th>OpenPorchSF</th>\n",
       "      <th>MoSold</th>\n",
       "      <th>YrSold</th>\n",
       "    </tr>\n",
       "  </thead>\n",
       "  <tbody>\n",
       "    <tr>\n",
       "      <th>count</th>\n",
       "      <td>1460.000000</td>\n",
       "      <td>1460.000000</td>\n",
       "      <td>1460.000000</td>\n",
       "      <td>1460.000000</td>\n",
       "      <td>1460.000000</td>\n",
       "      <td>1460.000000</td>\n",
       "      <td>1460.000000</td>\n",
       "      <td>1460.000000</td>\n",
       "      <td>1460.000000</td>\n",
       "      <td>1460.000000</td>\n",
       "      <td>1460.000000</td>\n",
       "      <td>1460.000000</td>\n",
       "      <td>1460.000000</td>\n",
       "      <td>1460.000000</td>\n",
       "      <td>1460.000000</td>\n",
       "      <td>1460.000000</td>\n",
       "      <td>1460.000000</td>\n",
       "      <td>1460.000000</td>\n",
       "      <td>1460.000000</td>\n",
       "    </tr>\n",
       "    <tr>\n",
       "      <th>mean</th>\n",
       "      <td>56.897260</td>\n",
       "      <td>10516.828082</td>\n",
       "      <td>6.099315</td>\n",
       "      <td>5.575342</td>\n",
       "      <td>1971.267808</td>\n",
       "      <td>1984.865753</td>\n",
       "      <td>1162.626712</td>\n",
       "      <td>346.992466</td>\n",
       "      <td>1515.463699</td>\n",
       "      <td>1.565068</td>\n",
       "      <td>0.382877</td>\n",
       "      <td>2.866438</td>\n",
       "      <td>1.046575</td>\n",
       "      <td>6.517808</td>\n",
       "      <td>0.613014</td>\n",
       "      <td>94.244521</td>\n",
       "      <td>46.660274</td>\n",
       "      <td>6.321918</td>\n",
       "      <td>2007.815753</td>\n",
       "    </tr>\n",
       "    <tr>\n",
       "      <th>std</th>\n",
       "      <td>42.300571</td>\n",
       "      <td>9981.264932</td>\n",
       "      <td>1.382997</td>\n",
       "      <td>1.112799</td>\n",
       "      <td>30.202904</td>\n",
       "      <td>20.645407</td>\n",
       "      <td>386.587738</td>\n",
       "      <td>436.528436</td>\n",
       "      <td>525.480383</td>\n",
       "      <td>0.550916</td>\n",
       "      <td>0.502885</td>\n",
       "      <td>0.815778</td>\n",
       "      <td>0.220338</td>\n",
       "      <td>1.625393</td>\n",
       "      <td>0.644666</td>\n",
       "      <td>125.338794</td>\n",
       "      <td>66.256028</td>\n",
       "      <td>2.703626</td>\n",
       "      <td>1.328095</td>\n",
       "    </tr>\n",
       "    <tr>\n",
       "      <th>min</th>\n",
       "      <td>20.000000</td>\n",
       "      <td>1300.000000</td>\n",
       "      <td>1.000000</td>\n",
       "      <td>1.000000</td>\n",
       "      <td>1872.000000</td>\n",
       "      <td>1950.000000</td>\n",
       "      <td>334.000000</td>\n",
       "      <td>0.000000</td>\n",
       "      <td>334.000000</td>\n",
       "      <td>0.000000</td>\n",
       "      <td>0.000000</td>\n",
       "      <td>0.000000</td>\n",
       "      <td>0.000000</td>\n",
       "      <td>2.000000</td>\n",
       "      <td>0.000000</td>\n",
       "      <td>0.000000</td>\n",
       "      <td>0.000000</td>\n",
       "      <td>1.000000</td>\n",
       "      <td>2006.000000</td>\n",
       "    </tr>\n",
       "    <tr>\n",
       "      <th>25%</th>\n",
       "      <td>20.000000</td>\n",
       "      <td>7553.500000</td>\n",
       "      <td>5.000000</td>\n",
       "      <td>5.000000</td>\n",
       "      <td>1954.000000</td>\n",
       "      <td>1967.000000</td>\n",
       "      <td>882.000000</td>\n",
       "      <td>0.000000</td>\n",
       "      <td>1129.500000</td>\n",
       "      <td>1.000000</td>\n",
       "      <td>0.000000</td>\n",
       "      <td>2.000000</td>\n",
       "      <td>1.000000</td>\n",
       "      <td>5.000000</td>\n",
       "      <td>0.000000</td>\n",
       "      <td>0.000000</td>\n",
       "      <td>0.000000</td>\n",
       "      <td>5.000000</td>\n",
       "      <td>2007.000000</td>\n",
       "    </tr>\n",
       "    <tr>\n",
       "      <th>50%</th>\n",
       "      <td>50.000000</td>\n",
       "      <td>9478.500000</td>\n",
       "      <td>6.000000</td>\n",
       "      <td>5.000000</td>\n",
       "      <td>1973.000000</td>\n",
       "      <td>1994.000000</td>\n",
       "      <td>1087.000000</td>\n",
       "      <td>0.000000</td>\n",
       "      <td>1464.000000</td>\n",
       "      <td>2.000000</td>\n",
       "      <td>0.000000</td>\n",
       "      <td>3.000000</td>\n",
       "      <td>1.000000</td>\n",
       "      <td>6.000000</td>\n",
       "      <td>1.000000</td>\n",
       "      <td>0.000000</td>\n",
       "      <td>25.000000</td>\n",
       "      <td>6.000000</td>\n",
       "      <td>2008.000000</td>\n",
       "    </tr>\n",
       "    <tr>\n",
       "      <th>75%</th>\n",
       "      <td>70.000000</td>\n",
       "      <td>11601.500000</td>\n",
       "      <td>7.000000</td>\n",
       "      <td>6.000000</td>\n",
       "      <td>2000.000000</td>\n",
       "      <td>2004.000000</td>\n",
       "      <td>1391.250000</td>\n",
       "      <td>728.000000</td>\n",
       "      <td>1776.750000</td>\n",
       "      <td>2.000000</td>\n",
       "      <td>1.000000</td>\n",
       "      <td>3.000000</td>\n",
       "      <td>1.000000</td>\n",
       "      <td>7.000000</td>\n",
       "      <td>1.000000</td>\n",
       "      <td>168.000000</td>\n",
       "      <td>68.000000</td>\n",
       "      <td>8.000000</td>\n",
       "      <td>2009.000000</td>\n",
       "    </tr>\n",
       "    <tr>\n",
       "      <th>max</th>\n",
       "      <td>190.000000</td>\n",
       "      <td>215245.000000</td>\n",
       "      <td>10.000000</td>\n",
       "      <td>9.000000</td>\n",
       "      <td>2010.000000</td>\n",
       "      <td>2010.000000</td>\n",
       "      <td>4692.000000</td>\n",
       "      <td>2065.000000</td>\n",
       "      <td>5642.000000</td>\n",
       "      <td>3.000000</td>\n",
       "      <td>2.000000</td>\n",
       "      <td>8.000000</td>\n",
       "      <td>3.000000</td>\n",
       "      <td>14.000000</td>\n",
       "      <td>3.000000</td>\n",
       "      <td>857.000000</td>\n",
       "      <td>547.000000</td>\n",
       "      <td>12.000000</td>\n",
       "      <td>2010.000000</td>\n",
       "    </tr>\n",
       "  </tbody>\n",
       "</table>\n",
       "</div>"
      ],
      "text/plain": [
       "        MSSubClass        LotArea  OverallQual  OverallCond    YearBuilt  \\\n",
       "count  1460.000000    1460.000000  1460.000000  1460.000000  1460.000000   \n",
       "mean     56.897260   10516.828082     6.099315     5.575342  1971.267808   \n",
       "std      42.300571    9981.264932     1.382997     1.112799    30.202904   \n",
       "min      20.000000    1300.000000     1.000000     1.000000  1872.000000   \n",
       "25%      20.000000    7553.500000     5.000000     5.000000  1954.000000   \n",
       "50%      50.000000    9478.500000     6.000000     5.000000  1973.000000   \n",
       "75%      70.000000   11601.500000     7.000000     6.000000  2000.000000   \n",
       "max     190.000000  215245.000000    10.000000     9.000000  2010.000000   \n",
       "\n",
       "       YearRemodAdd     1stFlrSF     2ndFlrSF    GrLivArea     FullBath  \\\n",
       "count   1460.000000  1460.000000  1460.000000  1460.000000  1460.000000   \n",
       "mean    1984.865753  1162.626712   346.992466  1515.463699     1.565068   \n",
       "std       20.645407   386.587738   436.528436   525.480383     0.550916   \n",
       "min     1950.000000   334.000000     0.000000   334.000000     0.000000   \n",
       "25%     1967.000000   882.000000     0.000000  1129.500000     1.000000   \n",
       "50%     1994.000000  1087.000000     0.000000  1464.000000     2.000000   \n",
       "75%     2004.000000  1391.250000   728.000000  1776.750000     2.000000   \n",
       "max     2010.000000  4692.000000  2065.000000  5642.000000     3.000000   \n",
       "\n",
       "          HalfBath  BedroomAbvGr  KitchenAbvGr  TotRmsAbvGrd   Fireplaces  \\\n",
       "count  1460.000000   1460.000000   1460.000000   1460.000000  1460.000000   \n",
       "mean      0.382877      2.866438      1.046575      6.517808     0.613014   \n",
       "std       0.502885      0.815778      0.220338      1.625393     0.644666   \n",
       "min       0.000000      0.000000      0.000000      2.000000     0.000000   \n",
       "25%       0.000000      2.000000      1.000000      5.000000     0.000000   \n",
       "50%       0.000000      3.000000      1.000000      6.000000     1.000000   \n",
       "75%       1.000000      3.000000      1.000000      7.000000     1.000000   \n",
       "max       2.000000      8.000000      3.000000     14.000000     3.000000   \n",
       "\n",
       "        WoodDeckSF  OpenPorchSF       MoSold       YrSold  \n",
       "count  1460.000000  1460.000000  1460.000000  1460.000000  \n",
       "mean     94.244521    46.660274     6.321918  2007.815753  \n",
       "std     125.338794    66.256028     2.703626     1.328095  \n",
       "min       0.000000     0.000000     1.000000  2006.000000  \n",
       "25%       0.000000     0.000000     5.000000  2007.000000  \n",
       "50%       0.000000    25.000000     6.000000  2008.000000  \n",
       "75%     168.000000    68.000000     8.000000  2009.000000  \n",
       "max     857.000000   547.000000    12.000000  2010.000000  "
      ]
     },
     "execution_count": 10,
     "metadata": {},
     "output_type": "execute_result"
    }
   ],
   "source": [
    "Xn.describe()"
   ]
  },
  {
   "cell_type": "code",
   "execution_count": 11,
   "id": "2043d450",
   "metadata": {
    "execution": {
     "iopub.execute_input": "2023-04-30T13:40:53.971291Z",
     "iopub.status.busy": "2023-04-30T13:40:53.970888Z",
     "iopub.status.idle": "2023-04-30T13:40:53.978623Z",
     "shell.execute_reply": "2023-04-30T13:40:53.977402Z"
    },
    "papermill": {
     "duration": 0.018279,
     "end_time": "2023-04-30T13:40:53.981013",
     "exception": false,
     "start_time": "2023-04-30T13:40:53.962734",
     "status": "completed"
    },
    "tags": []
   },
   "outputs": [
    {
     "data": {
      "text/plain": [
       "(1460, 19)"
      ]
     },
     "execution_count": 11,
     "metadata": {},
     "output_type": "execute_result"
    }
   ],
   "source": [
    "Xn.shape"
   ]
  },
  {
   "cell_type": "code",
   "execution_count": 12,
   "id": "725f6fb7",
   "metadata": {
    "execution": {
     "iopub.execute_input": "2023-04-30T13:40:53.996893Z",
     "iopub.status.busy": "2023-04-30T13:40:53.996461Z",
     "iopub.status.idle": "2023-04-30T13:40:54.006036Z",
     "shell.execute_reply": "2023-04-30T13:40:54.004719Z"
    },
    "papermill": {
     "duration": 0.020379,
     "end_time": "2023-04-30T13:40:54.008391",
     "exception": false,
     "start_time": "2023-04-30T13:40:53.988012",
     "status": "completed"
    },
    "tags": []
   },
   "outputs": [],
   "source": [
    "# Split into validation and training data\n",
    "train_X, val_X, train_y, val_y = train_test_split(Xn, y, random_state=42)"
   ]
  },
  {
   "cell_type": "code",
   "execution_count": 13,
   "id": "f371f534",
   "metadata": {
    "execution": {
     "iopub.execute_input": "2023-04-30T13:40:54.025149Z",
     "iopub.status.busy": "2023-04-30T13:40:54.024682Z",
     "iopub.status.idle": "2023-04-30T13:40:54.136094Z",
     "shell.execute_reply": "2023-04-30T13:40:54.134883Z"
    },
    "papermill": {
     "duration": 0.12293,
     "end_time": "2023-04-30T13:40:54.138849",
     "exception": false,
     "start_time": "2023-04-30T13:40:54.015919",
     "status": "completed"
    },
    "tags": []
   },
   "outputs": [],
   "source": [
    "from xgboost import XGBRegressor\n",
    "\n",
    "xgb=XGBRegressor(n_estimato=1000,learning_rate=0.05)\n"
   ]
  },
  {
   "cell_type": "code",
   "execution_count": 14,
   "id": "68715e76",
   "metadata": {
    "execution": {
     "iopub.execute_input": "2023-04-30T13:40:54.156261Z",
     "iopub.status.busy": "2023-04-30T13:40:54.154591Z",
     "iopub.status.idle": "2023-04-30T13:40:54.587370Z",
     "shell.execute_reply": "2023-04-30T13:40:54.586223Z"
    },
    "papermill": {
     "duration": 0.444198,
     "end_time": "2023-04-30T13:40:54.590266",
     "exception": false,
     "start_time": "2023-04-30T13:40:54.146068",
     "status": "completed"
    },
    "tags": []
   },
   "outputs": [
    {
     "name": "stdout",
     "output_type": "stream",
     "text": [
      "[13:40:54] WARNING: ../src/learner.cc:627: \n",
      "Parameters: { \"n_estimato\" } might not be used.\n",
      "\n",
      "  This could be a false alarm, with some parameters getting used by language bindings but\n",
      "  then being mistakenly passed down to XGBoost core, or some parameter actually being used\n",
      "  but getting flagged wrongly here. Please open an issue if you find any such cases.\n",
      "\n",
      "\n"
     ]
    },
    {
     "data": {
      "text/plain": [
       "XGBRegressor(base_score=0.5, booster='gbtree', callbacks=None,\n",
       "             colsample_bylevel=1, colsample_bynode=1, colsample_bytree=1,\n",
       "             early_stopping_rounds=None, enable_categorical=False,\n",
       "             eval_metric=None, gamma=0, gpu_id=-1, grow_policy='depthwise',\n",
       "             importance_type=None, interaction_constraints='',\n",
       "             learning_rate=0.05, max_bin=256, max_cat_to_onehot=4,\n",
       "             max_delta_step=0, max_depth=6, max_leaves=0, min_child_weight=1,\n",
       "             missing=nan, monotone_constraints='()', n_estimato=1000,\n",
       "             n_estimators=100, n_jobs=0, num_parallel_tree=1, predictor='auto',\n",
       "             random_state=0, reg_alpha=0, ...)"
      ]
     },
     "execution_count": 14,
     "metadata": {},
     "output_type": "execute_result"
    }
   ],
   "source": [
    "#fit the model\n",
    "xgb.fit(train_X,train_y)"
   ]
  },
  {
   "cell_type": "code",
   "execution_count": 15,
   "id": "bc360152",
   "metadata": {
    "execution": {
     "iopub.execute_input": "2023-04-30T13:40:54.608054Z",
     "iopub.status.busy": "2023-04-30T13:40:54.607145Z",
     "iopub.status.idle": "2023-04-30T13:40:54.619893Z",
     "shell.execute_reply": "2023-04-30T13:40:54.618779Z"
    },
    "papermill": {
     "duration": 0.025704,
     "end_time": "2023-04-30T13:40:54.623567",
     "exception": false,
     "start_time": "2023-04-30T13:40:54.597863",
     "status": "completed"
    },
    "tags": []
   },
   "outputs": [],
   "source": [
    "#get predictions\n",
    "y_predi=xgb.predict(val_X)"
   ]
  },
  {
   "cell_type": "code",
   "execution_count": 16,
   "id": "5636447b",
   "metadata": {
    "execution": {
     "iopub.execute_input": "2023-04-30T13:40:54.642721Z",
     "iopub.status.busy": "2023-04-30T13:40:54.642134Z",
     "iopub.status.idle": "2023-04-30T13:40:54.649741Z",
     "shell.execute_reply": "2023-04-30T13:40:54.648443Z"
    },
    "papermill": {
     "duration": 0.019342,
     "end_time": "2023-04-30T13:40:54.652743",
     "exception": false,
     "start_time": "2023-04-30T13:40:54.633401",
     "status": "completed"
    },
    "tags": []
   },
   "outputs": [
    {
     "name": "stdout",
     "output_type": "stream",
     "text": [
      "MAE :  19207.65571489726\n"
     ]
    }
   ],
   "source": [
    "#to calculate mean absolute error MAE\n",
    "\n",
    "from sklearn.metrics import mean_absolute_error\n",
    "\n",
    "mae=mean_absolute_error(y_predi,val_y)\n",
    "print('MAE : ',mae)"
   ]
  },
  {
   "cell_type": "code",
   "execution_count": 17,
   "id": "6b92982d",
   "metadata": {
    "execution": {
     "iopub.execute_input": "2023-04-30T13:40:54.670468Z",
     "iopub.status.busy": "2023-04-30T13:40:54.669033Z",
     "iopub.status.idle": "2023-04-30T13:40:54.677630Z",
     "shell.execute_reply": "2023-04-30T13:40:54.676289Z"
    },
    "papermill": {
     "duration": 0.02044,
     "end_time": "2023-04-30T13:40:54.680469",
     "exception": false,
     "start_time": "2023-04-30T13:40:54.660029",
     "status": "completed"
    },
    "tags": []
   },
   "outputs": [],
   "source": [
    "# create test_X which comes from test_data but includes only the columns you used for prediction.\n",
    "# The list of columns is stored in a variable called features\n",
    "test_X = test_data[new_features]\n",
    "test_X = test_X.drop(drop_list, axis=1)"
   ]
  },
  {
   "cell_type": "code",
   "execution_count": 18,
   "id": "74f95687",
   "metadata": {
    "execution": {
     "iopub.execute_input": "2023-04-30T13:40:54.697194Z",
     "iopub.status.busy": "2023-04-30T13:40:54.696465Z",
     "iopub.status.idle": "2023-04-30T13:40:54.708284Z",
     "shell.execute_reply": "2023-04-30T13:40:54.707286Z"
    },
    "papermill": {
     "duration": 0.023471,
     "end_time": "2023-04-30T13:40:54.711259",
     "exception": false,
     "start_time": "2023-04-30T13:40:54.687788",
     "status": "completed"
    },
    "tags": []
   },
   "outputs": [],
   "source": [
    "#prediction\n",
    "prediction=xgb.predict(test_X)"
   ]
  },
  {
   "cell_type": "markdown",
   "id": "4a95cbda",
   "metadata": {
    "papermill": {
     "duration": 0.007748,
     "end_time": "2023-04-30T13:40:54.727699",
     "exception": false,
     "start_time": "2023-04-30T13:40:54.719951",
     "status": "completed"
    },
    "tags": []
   },
   "source": [
    "Before submitting, run a check to make sure your `test_preds` have the right format."
   ]
  },
  {
   "cell_type": "markdown",
   "id": "dbc03fc3",
   "metadata": {
    "papermill": {
     "duration": 0.006943,
     "end_time": "2023-04-30T13:40:54.741876",
     "exception": false,
     "start_time": "2023-04-30T13:40:54.734933",
     "status": "completed"
    },
    "tags": []
   },
   "source": [
    "# Generate a submission\n",
    "\n",
    "Run the code cell below to generate a CSV file with your predictions that you can use to submit to the competition."
   ]
  },
  {
   "cell_type": "code",
   "execution_count": 19,
   "id": "88a50d0e",
   "metadata": {
    "execution": {
     "iopub.execute_input": "2023-04-30T13:40:54.758357Z",
     "iopub.status.busy": "2023-04-30T13:40:54.757936Z",
     "iopub.status.idle": "2023-04-30T13:40:54.779279Z",
     "shell.execute_reply": "2023-04-30T13:40:54.777885Z"
    },
    "papermill": {
     "duration": 0.032788,
     "end_time": "2023-04-30T13:40:54.781936",
     "exception": false,
     "start_time": "2023-04-30T13:40:54.749148",
     "status": "completed"
    },
    "tags": []
   },
   "outputs": [
    {
     "data": {
      "text/html": [
       "<div>\n",
       "<style scoped>\n",
       "    .dataframe tbody tr th:only-of-type {\n",
       "        vertical-align: middle;\n",
       "    }\n",
       "\n",
       "    .dataframe tbody tr th {\n",
       "        vertical-align: top;\n",
       "    }\n",
       "\n",
       "    .dataframe thead th {\n",
       "        text-align: right;\n",
       "    }\n",
       "</style>\n",
       "<table border=\"1\" class=\"dataframe\">\n",
       "  <thead>\n",
       "    <tr style=\"text-align: right;\">\n",
       "      <th></th>\n",
       "      <th>Id</th>\n",
       "      <th>SalePrice</th>\n",
       "    </tr>\n",
       "  </thead>\n",
       "  <tbody>\n",
       "    <tr>\n",
       "      <th>0</th>\n",
       "      <td>1461</td>\n",
       "      <td>127155.343750</td>\n",
       "    </tr>\n",
       "    <tr>\n",
       "      <th>1</th>\n",
       "      <td>1462</td>\n",
       "      <td>156434.140625</td>\n",
       "    </tr>\n",
       "    <tr>\n",
       "      <th>2</th>\n",
       "      <td>1463</td>\n",
       "      <td>177259.953125</td>\n",
       "    </tr>\n",
       "    <tr>\n",
       "      <th>3</th>\n",
       "      <td>1464</td>\n",
       "      <td>185335.890625</td>\n",
       "    </tr>\n",
       "    <tr>\n",
       "      <th>4</th>\n",
       "      <td>1465</td>\n",
       "      <td>208750.078125</td>\n",
       "    </tr>\n",
       "  </tbody>\n",
       "</table>\n",
       "</div>"
      ],
      "text/plain": [
       "     Id      SalePrice\n",
       "0  1461  127155.343750\n",
       "1  1462  156434.140625\n",
       "2  1463  177259.953125\n",
       "3  1464  185335.890625\n",
       "4  1465  208750.078125"
      ]
     },
     "execution_count": 19,
     "metadata": {},
     "output_type": "execute_result"
    }
   ],
   "source": [
    "\n",
    "# Run the code to save predictions in the format used for competition scoring\n",
    "\n",
    "output = pd.DataFrame({'Id': test_data.Id,\n",
    "                       'SalePrice': prediction})\n",
    "output.to_csv('submission.csv', index=False)\n",
    "output.head()"
   ]
  },
  {
   "cell_type": "code",
   "execution_count": null,
   "id": "1ccaed80",
   "metadata": {
    "papermill": {
     "duration": 0.007222,
     "end_time": "2023-04-30T13:40:54.796921",
     "exception": false,
     "start_time": "2023-04-30T13:40:54.789699",
     "status": "completed"
    },
    "tags": []
   },
   "outputs": [],
   "source": []
  }
 ],
 "metadata": {
  "kernelspec": {
   "display_name": "Python 3",
   "language": "python",
   "name": "python3"
  },
  "language_info": {
   "codemirror_mode": {
    "name": "ipython",
    "version": 3
   },
   "file_extension": ".py",
   "mimetype": "text/x-python",
   "name": "python",
   "nbconvert_exporter": "python",
   "pygments_lexer": "ipython3",
   "version": "3.7.12"
  },
  "papermill": {
   "default_parameters": {},
   "duration": 14.473926,
   "end_time": "2023-04-30T13:40:55.627718",
   "environment_variables": {},
   "exception": null,
   "input_path": "__notebook__.ipynb",
   "output_path": "__notebook__.ipynb",
   "parameters": {},
   "start_time": "2023-04-30T13:40:41.153792",
   "version": "2.4.0"
  }
 },
 "nbformat": 4,
 "nbformat_minor": 5
}
