{
 "cells": [
  {
   "cell_type": "markdown",
   "id": "8a95dbbe",
   "metadata": {
    "papermill": {
     "duration": 0.00643,
     "end_time": "2023-04-28T17:26:02.062734",
     "exception": false,
     "start_time": "2023-04-28T17:26:02.056304",
     "status": "completed"
    },
    "tags": []
   },
   "source": [
    "**This notebook is an exercise in the [Python](https://www.kaggle.com/learn/python) course.  You can reference the tutorial at [this link](https://www.kaggle.com/colinmorris/functions-and-getting-help).**\n",
    "\n",
    "---\n"
   ]
  },
  {
   "cell_type": "markdown",
   "id": "70f5e347",
   "metadata": {
    "papermill": {
     "duration": 0.004832,
     "end_time": "2023-04-28T17:26:02.073068",
     "exception": false,
     "start_time": "2023-04-28T17:26:02.068236",
     "status": "completed"
    },
    "tags": []
   },
   "source": [
    "Functions are powerful. Try writing some yourself.\n",
    "\n",
    "As before, don't forget to run the setup code below before jumping into question 1."
   ]
  },
  {
   "cell_type": "code",
   "execution_count": 1,
   "id": "d4ada1fc",
   "metadata": {
    "_kg_hide-input": true,
    "_kg_hide-output": true,
    "execution": {
     "iopub.execute_input": "2023-04-28T17:26:02.086101Z",
     "iopub.status.busy": "2023-04-28T17:26:02.085557Z",
     "iopub.status.idle": "2023-04-28T17:26:02.149136Z",
     "shell.execute_reply": "2023-04-28T17:26:02.147619Z"
    },
    "papermill": {
     "duration": 0.074545,
     "end_time": "2023-04-28T17:26:02.152935",
     "exception": false,
     "start_time": "2023-04-28T17:26:02.078390",
     "status": "completed"
    },
    "tags": []
   },
   "outputs": [
    {
     "name": "stdout",
     "output_type": "stream",
     "text": [
      "Setup complete.\n"
     ]
    }
   ],
   "source": [
    "# SETUP. You don't need to worry for now about what this code does or how it works.\n",
    "from learntools.core import binder; binder.bind(globals())\n",
    "from learntools.python.ex2 import *\n",
    "print('Setup complete.')"
   ]
  },
  {
   "cell_type": "markdown",
   "id": "4f7bb2e6",
   "metadata": {
    "papermill": {
     "duration": 0.005503,
     "end_time": "2023-04-28T17:26:02.164358",
     "exception": false,
     "start_time": "2023-04-28T17:26:02.158855",
     "status": "completed"
    },
    "tags": []
   },
   "source": [
    "# 1.\n",
    "\n",
    "Complete the body of the following function according to its docstring.\n",
    "\n",
    "HINT: Python has a built-in function `round`."
   ]
  },
  {
   "cell_type": "code",
   "execution_count": 2,
   "id": "026d98f4",
   "metadata": {
    "execution": {
     "iopub.execute_input": "2023-04-28T17:26:02.179829Z",
     "iopub.status.busy": "2023-04-28T17:26:02.178999Z",
     "iopub.status.idle": "2023-04-28T17:26:02.195175Z",
     "shell.execute_reply": "2023-04-28T17:26:02.193642Z"
    },
    "papermill": {
     "duration": 0.027665,
     "end_time": "2023-04-28T17:26:02.198381",
     "exception": false,
     "start_time": "2023-04-28T17:26:02.170716",
     "status": "completed"
    },
    "tags": []
   },
   "outputs": [
    {
     "name": "stdout",
     "output_type": "stream",
     "text": [
      "3.14\n"
     ]
    },
    {
     "data": {
      "application/javascript": [
       "parent.postMessage({\"jupyterEvent\": \"custom.exercise_interaction\", \"data\": {\"outcomeType\": 1, \"valueTowardsCompletion\": 0.16666666666666666, \"interactionType\": 1, \"questionType\": 2, \"questionId\": \"1_RoundFunctionProblem\", \"learnToolsVersion\": \"0.3.4\", \"failureMessage\": \"\", \"exceptionClass\": \"\", \"trace\": \"\"}}, \"*\")"
      ],
      "text/plain": [
       "<IPython.core.display.Javascript object>"
      ]
     },
     "metadata": {},
     "output_type": "display_data"
    },
    {
     "data": {
      "text/markdown": [
       "<span style=\"color:#33cc33\">Correct</span>"
      ],
      "text/plain": [
       "Correct"
      ]
     },
     "metadata": {},
     "output_type": "display_data"
    }
   ],
   "source": [
    "def round_to_two_places(num):\n",
    "    \"\"\"Return the given number rounded to two decimal places. \n",
    "    \n",
    "    >>> round_to_two_places(3.14159)\n",
    "    3.14\n",
    "    \"\"\"\n",
    "    return round(num,2)\n",
    "    # Replace this body with your own code.\n",
    "    # (\"pass\" is a keyword that does literally nothing. We used it as a placeholder\n",
    "    # because after we begin a code block, Python requires at least one line of code)\n",
    "    pass\n",
    "\n",
    "print(round_to_two_places(3.14141414))\n",
    "\n",
    "# Check your answer\n",
    "q1.check()"
   ]
  },
  {
   "cell_type": "code",
   "execution_count": 3,
   "id": "56589a20",
   "metadata": {
    "execution": {
     "iopub.execute_input": "2023-04-28T17:26:02.212057Z",
     "iopub.status.busy": "2023-04-28T17:26:02.211561Z",
     "iopub.status.idle": "2023-04-28T17:26:02.217274Z",
     "shell.execute_reply": "2023-04-28T17:26:02.215698Z"
    },
    "papermill": {
     "duration": 0.016097,
     "end_time": "2023-04-28T17:26:02.220205",
     "exception": false,
     "start_time": "2023-04-28T17:26:02.204108",
     "status": "completed"
    },
    "tags": []
   },
   "outputs": [],
   "source": [
    "# Uncomment the following for a hint\n",
    "#q1.hint()\n",
    "# Or uncomment the following to peek at the solution\n",
    "#q1.solution()"
   ]
  },
  {
   "cell_type": "markdown",
   "id": "4bf7b41b",
   "metadata": {
    "papermill": {
     "duration": 0.005418,
     "end_time": "2023-04-28T17:26:02.231522",
     "exception": false,
     "start_time": "2023-04-28T17:26:02.226104",
     "status": "completed"
    },
    "tags": []
   },
   "source": [
    "# 2.\n",
    "The help for `round` says that `ndigits` (the second argument) may be negative.\n",
    "What do you think will happen when it is? Try some examples in the following cell."
   ]
  },
  {
   "cell_type": "code",
   "execution_count": 4,
   "id": "5d5e253c",
   "metadata": {
    "execution": {
     "iopub.execute_input": "2023-04-28T17:26:02.246610Z",
     "iopub.status.busy": "2023-04-28T17:26:02.245138Z",
     "iopub.status.idle": "2023-04-28T17:26:02.253700Z",
     "shell.execute_reply": "2023-04-28T17:26:02.251597Z"
    },
    "papermill": {
     "duration": 0.019302,
     "end_time": "2023-04-28T17:26:02.256669",
     "exception": false,
     "start_time": "2023-04-28T17:26:02.237367",
     "status": "completed"
    },
    "tags": []
   },
   "outputs": [
    {
     "name": "stdout",
     "output_type": "stream",
     "text": [
      "338424\n",
      "50\n"
     ]
    }
   ],
   "source": [
    "# Put your test code here\n",
    "\n",
    "print(round(338424, 3))\n",
    "print(round(50,2))\n"
   ]
  },
  {
   "cell_type": "markdown",
   "id": "ac11fe2f",
   "metadata": {
    "papermill": {
     "duration": 0.005559,
     "end_time": "2023-04-28T17:26:02.268254",
     "exception": false,
     "start_time": "2023-04-28T17:26:02.262695",
     "status": "completed"
    },
    "tags": []
   },
   "source": [
    "Can you think of a case where this would be useful?  Once you're ready, run the code cell below to see the answer and to receive credit for completing the problem."
   ]
  },
  {
   "cell_type": "code",
   "execution_count": 5,
   "id": "3a0c9f4d",
   "metadata": {
    "execution": {
     "iopub.execute_input": "2023-04-28T17:26:02.284357Z",
     "iopub.status.busy": "2023-04-28T17:26:02.283217Z",
     "iopub.status.idle": "2023-04-28T17:26:02.297020Z",
     "shell.execute_reply": "2023-04-28T17:26:02.295372Z"
    },
    "papermill": {
     "duration": 0.025309,
     "end_time": "2023-04-28T17:26:02.300319",
     "exception": false,
     "start_time": "2023-04-28T17:26:02.275010",
     "status": "completed"
    },
    "tags": []
   },
   "outputs": [
    {
     "data": {
      "application/javascript": [
       "parent.postMessage({\"jupyterEvent\": \"custom.exercise_interaction\", \"data\": {\"interactionType\": 3, \"questionType\": 4, \"questionId\": \"2_RoundNdigitsProblem\", \"learnToolsVersion\": \"0.3.4\", \"valueTowardsCompletion\": 0.0, \"failureMessage\": \"\", \"exceptionClass\": \"\", \"trace\": \"\", \"outcomeType\": 4}}, \"*\")"
      ],
      "text/plain": [
       "<IPython.core.display.Javascript object>"
      ]
     },
     "metadata": {},
     "output_type": "display_data"
    },
    {
     "data": {
      "text/markdown": [
       "<span style=\"color:#33cc99\">Solution:</span> As you've seen, `ndigits=-1` rounds to the nearest 10, `ndigits=-2` rounds to the nearest 100 and so on. Where might this be useful? Suppose we're dealing with large numbers:\n",
       "\n",
       "> The area of Finland is 338,424 km²  \n",
       "> The area of Greenland is 2,166,086 km²\n",
       "\n",
       "We probably don't care whether it's really 338,424, or 338,425, or 338,177. All those digits of accuracy are just distracting. We can chop them off by calling `round()` with `ndigits=-3`:\n",
       "\n",
       "> The area of Finland is 338,000 km²  \n",
       "> The area of Greenland is 2,166,000 km²\n",
       "\n",
       "(We'll talk about how we would get the commas later when we talk about string formatting :))\n"
      ],
      "text/plain": [
       "Solution: As you've seen, `ndigits=-1` rounds to the nearest 10, `ndigits=-2` rounds to the nearest 100 and so on. Where might this be useful? Suppose we're dealing with large numbers:\n",
       "\n",
       "> The area of Finland is 338,424 km²  \n",
       "> The area of Greenland is 2,166,086 km²\n",
       "\n",
       "We probably don't care whether it's really 338,424, or 338,425, or 338,177. All those digits of accuracy are just distracting. We can chop them off by calling `round()` with `ndigits=-3`:\n",
       "\n",
       "> The area of Finland is 338,000 km²  \n",
       "> The area of Greenland is 2,166,000 km²\n",
       "\n",
       "(We'll talk about how we would get the commas later when we talk about string formatting :))"
      ]
     },
     "metadata": {},
     "output_type": "display_data"
    }
   ],
   "source": [
    "# Check your answer (Run this code cell to receive credit!)\n",
    "q2.solution()"
   ]
  },
  {
   "cell_type": "markdown",
   "id": "2214afc6",
   "metadata": {
    "papermill": {
     "duration": 0.00609,
     "end_time": "2023-04-28T17:26:02.312665",
     "exception": false,
     "start_time": "2023-04-28T17:26:02.306575",
     "status": "completed"
    },
    "tags": []
   },
   "source": [
    "# 3.\n",
    "\n",
    "In the previous exercise, the candy-sharing friends Alice, Bob and Carol tried to split candies evenly. For the sake of their friendship, any candies left over would be smashed. For example, if they collectively bring home 91 candies, they'll take 30 each and smash 1.\n",
    "\n",
    "Below is a simple function that will calculate the number of candies to smash for *any* number of total candies.\n",
    "\n",
    "Modify it so that it optionally takes a second argument representing the number of friends the candies are being split between. If no second argument is provided, it should assume 3 friends, as before.\n",
    "\n",
    "Update the docstring to reflect this new behaviour."
   ]
  },
  {
   "cell_type": "code",
   "execution_count": 6,
   "id": "09d331c2",
   "metadata": {
    "execution": {
     "iopub.execute_input": "2023-04-28T17:26:02.327727Z",
     "iopub.status.busy": "2023-04-28T17:26:02.326729Z",
     "iopub.status.idle": "2023-04-28T17:26:02.338679Z",
     "shell.execute_reply": "2023-04-28T17:26:02.337625Z"
    },
    "papermill": {
     "duration": 0.022314,
     "end_time": "2023-04-28T17:26:02.341220",
     "exception": false,
     "start_time": "2023-04-28T17:26:02.318906",
     "status": "completed"
    },
    "tags": []
   },
   "outputs": [
    {
     "data": {
      "application/javascript": [
       "parent.postMessage({\"jupyterEvent\": \"custom.exercise_interaction\", \"data\": {\"outcomeType\": 1, \"valueTowardsCompletion\": 0.16666666666666666, \"interactionType\": 1, \"questionType\": 2, \"questionId\": \"3_CandySmashingFunctionProblem\", \"learnToolsVersion\": \"0.3.4\", \"failureMessage\": \"\", \"exceptionClass\": \"\", \"trace\": \"\"}}, \"*\")"
      ],
      "text/plain": [
       "<IPython.core.display.Javascript object>"
      ]
     },
     "metadata": {},
     "output_type": "display_data"
    },
    {
     "data": {
      "text/markdown": [
       "<span style=\"color:#33cc33\">Correct</span>"
      ],
      "text/plain": [
       "Correct"
      ]
     },
     "metadata": {},
     "output_type": "display_data"
    }
   ],
   "source": [
    "def to_smash(total_candies, num_friends = 3):\n",
    "    \"\"\"Return the number of leftover candies that must be smashed after distributing\n",
    "    the given number of candies evenly between 3 friends.\n",
    "    3 friends is basic argument, you can provide optional second argument for the given number of friends\n",
    "    \n",
    "    >>> to_smash(91)\n",
    "    1\n",
    "    \n",
    "    or\n",
    "    >>> to_smash(94,5)\n",
    "    4\n",
    "    \"\"\"\n",
    "    return total_candies % num_friends\n",
    "\n",
    "# Check your answer\n",
    "q3.check()"
   ]
  },
  {
   "cell_type": "code",
   "execution_count": 7,
   "id": "ba3cb40b",
   "metadata": {
    "execution": {
     "iopub.execute_input": "2023-04-28T17:26:02.357835Z",
     "iopub.status.busy": "2023-04-28T17:26:02.356890Z",
     "iopub.status.idle": "2023-04-28T17:26:02.362845Z",
     "shell.execute_reply": "2023-04-28T17:26:02.361103Z"
    },
    "papermill": {
     "duration": 0.017382,
     "end_time": "2023-04-28T17:26:02.365921",
     "exception": false,
     "start_time": "2023-04-28T17:26:02.348539",
     "status": "completed"
    },
    "tags": []
   },
   "outputs": [],
   "source": [
    "#q3.hint()"
   ]
  },
  {
   "cell_type": "code",
   "execution_count": 8,
   "id": "04c8c9bc",
   "metadata": {
    "execution": {
     "iopub.execute_input": "2023-04-28T17:26:02.383296Z",
     "iopub.status.busy": "2023-04-28T17:26:02.381812Z",
     "iopub.status.idle": "2023-04-28T17:26:02.392352Z",
     "shell.execute_reply": "2023-04-28T17:26:02.390893Z"
    },
    "papermill": {
     "duration": 0.021457,
     "end_time": "2023-04-28T17:26:02.395200",
     "exception": false,
     "start_time": "2023-04-28T17:26:02.373743",
     "status": "completed"
    },
    "tags": []
   },
   "outputs": [
    {
     "data": {
      "application/javascript": [
       "parent.postMessage({\"jupyterEvent\": \"custom.exercise_interaction\", \"data\": {\"interactionType\": 3, \"questionType\": 2, \"questionId\": \"3_CandySmashingFunctionProblem\", \"learnToolsVersion\": \"0.3.4\", \"valueTowardsCompletion\": 0.0, \"failureMessage\": \"\", \"exceptionClass\": \"\", \"trace\": \"\", \"outcomeType\": 4}}, \"*\")"
      ],
      "text/plain": [
       "<IPython.core.display.Javascript object>"
      ]
     },
     "metadata": {},
     "output_type": "display_data"
    },
    {
     "data": {
      "text/markdown": [
       "<span style=\"color:#33cc99\">Solution:</span> \n",
       "```python\n",
       "def to_smash(total_candies, n_friends=3):\n",
       "    return total_candies % n_friends\n",
       "```"
      ],
      "text/plain": [
       "Solution: \n",
       "```python\n",
       "def to_smash(total_candies, n_friends=3):\n",
       "    return total_candies % n_friends\n",
       "```"
      ]
     },
     "metadata": {},
     "output_type": "display_data"
    }
   ],
   "source": [
    "q3.solution()"
   ]
  },
  {
   "cell_type": "markdown",
   "id": "305dc4a6",
   "metadata": {
    "papermill": {
     "duration": 0.006207,
     "end_time": "2023-04-28T17:26:02.408713",
     "exception": false,
     "start_time": "2023-04-28T17:26:02.402506",
     "status": "completed"
    },
    "tags": []
   },
   "source": [
    "# 4. (Optional)\n",
    "\n",
    "It may not be fun, but reading and understanding error messages will be an important part of your Python career.\n",
    "\n",
    "Each code cell below contains some commented buggy code. For each cell...\n",
    "\n",
    "1. Read the code and predict what you think will happen when it's run.\n",
    "2. Then uncomment the code and run it to see what happens. (**Tip**: In the kernel editor, you can highlight several lines and press `ctrl`+`/` to toggle commenting.)\n",
    "3. Fix the code (so that it accomplishes its intended purpose without throwing an exception)\n",
    "\n",
    "<!-- TODO: should this be autochecked? Delta is probably pretty small. -->"
   ]
  },
  {
   "cell_type": "code",
   "execution_count": 9,
   "id": "89b7e80b",
   "metadata": {
    "execution": {
     "iopub.execute_input": "2023-04-28T17:26:02.426486Z",
     "iopub.status.busy": "2023-04-28T17:26:02.425523Z",
     "iopub.status.idle": "2023-04-28T17:26:02.433531Z",
     "shell.execute_reply": "2023-04-28T17:26:02.432036Z"
    },
    "papermill": {
     "duration": 0.021682,
     "end_time": "2023-04-28T17:26:02.437067",
     "exception": false,
     "start_time": "2023-04-28T17:26:02.415385",
     "status": "completed"
    },
    "tags": []
   },
   "outputs": [
    {
     "data": {
      "text/plain": [
       "10.0"
      ]
     },
     "execution_count": 9,
     "metadata": {},
     "output_type": "execute_result"
    }
   ],
   "source": [
    "round_to_two_places(9.9999)"
   ]
  },
  {
   "cell_type": "code",
   "execution_count": 10,
   "id": "89dbdf6b",
   "metadata": {
    "execution": {
     "iopub.execute_input": "2023-04-28T17:26:02.453552Z",
     "iopub.status.busy": "2023-04-28T17:26:02.452293Z",
     "iopub.status.idle": "2023-04-28T17:26:02.461856Z",
     "shell.execute_reply": "2023-04-28T17:26:02.460159Z"
    },
    "papermill": {
     "duration": 0.021296,
     "end_time": "2023-04-28T17:26:02.465191",
     "exception": false,
     "start_time": "2023-04-28T17:26:02.443895",
     "status": "completed"
    },
    "tags": []
   },
   "outputs": [
    {
     "name": "stdout",
     "output_type": "stream",
     "text": [
      "5\n"
     ]
    }
   ],
   "source": [
    "x = -10\n",
    "y = 5\n",
    "# Which of the two variables above has the smallest absolute value?\n",
    "smallest_abs = min(abs(y), abs(x))\n",
    "print(smallest_abs)\n"
   ]
  },
  {
   "cell_type": "code",
   "execution_count": 11,
   "id": "1cc115c7",
   "metadata": {
    "execution": {
     "iopub.execute_input": "2023-04-28T17:26:02.481656Z",
     "iopub.status.busy": "2023-04-28T17:26:02.481094Z",
     "iopub.status.idle": "2023-04-28T17:26:02.486657Z",
     "shell.execute_reply": "2023-04-28T17:26:02.485105Z"
    },
    "papermill": {
     "duration": 0.017388,
     "end_time": "2023-04-28T17:26:02.489523",
     "exception": false,
     "start_time": "2023-04-28T17:26:02.472135",
     "status": "completed"
    },
    "tags": []
   },
   "outputs": [],
   "source": [
    "# def f(x):\n",
    "#     y = abs(x)\n",
    "# return y\n",
    "\n",
    "# print(f(5))"
   ]
  },
  {
   "cell_type": "markdown",
   "id": "31696efa",
   "metadata": {
    "papermill": {
     "duration": 0.007045,
     "end_time": "2023-04-28T17:26:02.503778",
     "exception": false,
     "start_time": "2023-04-28T17:26:02.496733",
     "status": "completed"
    },
    "tags": []
   },
   "source": [
    "# Keep Going\n",
    "\n",
    "Nice job with the code. Next up, you'll learn about *conditionals*, which you'll need to **[write interesting programs](https://www.kaggle.com/colinmorris/booleans-and-conditionals)**. "
   ]
  },
  {
   "cell_type": "markdown",
   "id": "76dbf71d",
   "metadata": {
    "papermill": {
     "duration": 0.006288,
     "end_time": "2023-04-28T17:26:02.516852",
     "exception": false,
     "start_time": "2023-04-28T17:26:02.510564",
     "status": "completed"
    },
    "tags": []
   },
   "source": [
    "---\n",
    "\n",
    "\n",
    "\n",
    "\n",
    "*Have questions or comments? Visit the [course discussion forum](https://www.kaggle.com/learn/python/discussion) to chat with other learners.*"
   ]
  }
 ],
 "metadata": {
  "kernelspec": {
   "display_name": "Python 3",
   "language": "python",
   "name": "python3"
  },
  "language_info": {
   "codemirror_mode": {
    "name": "ipython",
    "version": 3
   },
   "file_extension": ".py",
   "mimetype": "text/x-python",
   "name": "python",
   "nbconvert_exporter": "python",
   "pygments_lexer": "ipython3",
   "version": "3.7.12"
  },
  "papermill": {
   "default_parameters": {},
   "duration": 13.725382,
   "end_time": "2023-04-28T17:26:03.550490",
   "environment_variables": {},
   "exception": null,
   "input_path": "__notebook__.ipynb",
   "output_path": "__notebook__.ipynb",
   "parameters": {},
   "start_time": "2023-04-28T17:25:49.825108",
   "version": "2.4.0"
  }
 },
 "nbformat": 4,
 "nbformat_minor": 5
}
