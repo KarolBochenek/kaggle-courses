{
 "cells": [
  {
   "cell_type": "markdown",
   "id": "5b405db0",
   "metadata": {
    "papermill": {
     "duration": 0.008674,
     "end_time": "2023-04-28T17:23:19.815698",
     "exception": false,
     "start_time": "2023-04-28T17:23:19.807024",
     "status": "completed"
    },
    "tags": []
   },
   "source": [
    "**This notebook is an exercise in the [Python](https://www.kaggle.com/learn/python) course.  You can reference the tutorial at [this link](https://www.kaggle.com/colinmorris/hello-python).**\n",
    "\n",
    "---\n"
   ]
  },
  {
   "cell_type": "markdown",
   "id": "05ea2611",
   "metadata": {
    "papermill": {
     "duration": 0.007311,
     "end_time": "2023-04-28T17:23:19.830270",
     "exception": false,
     "start_time": "2023-04-28T17:23:19.822959",
     "status": "completed"
    },
    "tags": []
   },
   "source": [
    "Welcome to your first set of Python coding problems.  If this is your first time using Kaggle Notebooks, welcome! \n",
    "\n",
    "Notebooks are composed of blocks (called \"cells\") of text and code. Each of these is editable, though you'll mainly be editing the code cells to answer some questions.\n",
    "\n",
    "To get started, try running the code cell below (by pressing the ► button, or clicking on the cell and pressing ctrl+enter on your keyboard)."
   ]
  },
  {
   "cell_type": "code",
   "execution_count": null,
   "id": "7ca19e16",
   "metadata": {
    "papermill": {
     "duration": 0.006913,
     "end_time": "2023-04-28T17:23:19.844354",
     "exception": false,
     "start_time": "2023-04-28T17:23:19.837441",
     "status": "completed"
    },
    "tags": []
   },
   "outputs": [],
   "source": []
  },
  {
   "cell_type": "code",
   "execution_count": 1,
   "id": "e0d5df12",
   "metadata": {
    "execution": {
     "iopub.execute_input": "2023-04-28T17:23:19.861125Z",
     "iopub.status.busy": "2023-04-28T17:23:19.860332Z",
     "iopub.status.idle": "2023-04-28T17:23:19.872038Z",
     "shell.execute_reply": "2023-04-28T17:23:19.870676Z"
    },
    "papermill": {
     "duration": 0.023401,
     "end_time": "2023-04-28T17:23:19.874995",
     "exception": false,
     "start_time": "2023-04-28T17:23:19.851594",
     "status": "completed"
    },
    "tags": []
   },
   "outputs": [
    {
     "name": "stdout",
     "output_type": "stream",
     "text": [
      "You've successfully run some Python code\n",
      "Congratulations!\n"
     ]
    }
   ],
   "source": [
    "print(\"You've successfully run some Python code\")\n",
    "print(\"Congratulations!\")"
   ]
  },
  {
   "cell_type": "code",
   "execution_count": null,
   "id": "8b3849ab",
   "metadata": {
    "papermill": {
     "duration": 0.00677,
     "end_time": "2023-04-28T17:23:19.889449",
     "exception": false,
     "start_time": "2023-04-28T17:23:19.882679",
     "status": "completed"
    },
    "tags": []
   },
   "outputs": [],
   "source": []
  },
  {
   "cell_type": "markdown",
   "id": "94dff879",
   "metadata": {
    "papermill": {
     "duration": 0.006938,
     "end_time": "2023-04-28T17:23:19.903473",
     "exception": false,
     "start_time": "2023-04-28T17:23:19.896535",
     "status": "completed"
    },
    "tags": []
   },
   "source": [
    "Try adding another line of code in the cell above and re-running it. \n",
    "\n",
    "Now let's get a little fancier:  Add a new code cell by clicking on an existing code cell, hitting the escape key, and then hitting the `a` or `b` key.  The `a` key will add a cell above the current cell, and `b` adds a cell below.\n",
    "\n",
    "Great! Now you know how to use Notebooks.\n",
    "\n",
    "Each hands-on exercise starts by setting up our feedback and code checking mechanism. Run the code cell below to do that. Then you'll be ready to move on to question 0."
   ]
  },
  {
   "cell_type": "code",
   "execution_count": 2,
   "id": "1d7f6585",
   "metadata": {
    "_kg_hide-input": true,
    "_kg_hide-output": true,
    "execution": {
     "iopub.execute_input": "2023-04-28T17:23:19.920126Z",
     "iopub.status.busy": "2023-04-28T17:23:19.919339Z",
     "iopub.status.idle": "2023-04-28T17:23:19.967333Z",
     "shell.execute_reply": "2023-04-28T17:23:19.966295Z"
    },
    "papermill": {
     "duration": 0.059271,
     "end_time": "2023-04-28T17:23:19.969865",
     "exception": false,
     "start_time": "2023-04-28T17:23:19.910594",
     "status": "completed"
    },
    "tags": []
   },
   "outputs": [
    {
     "name": "stdout",
     "output_type": "stream",
     "text": [
      "Setup complete! You're ready to start question 0.\n"
     ]
    }
   ],
   "source": [
    "from learntools.core import binder; binder.bind(globals())\n",
    "from learntools.python.ex1 import *\n",
    "print(\"Setup complete! You're ready to start question 0.\")"
   ]
  },
  {
   "cell_type": "markdown",
   "id": "3abcf3e3",
   "metadata": {
    "papermill": {
     "duration": 0.007207,
     "end_time": "2023-04-28T17:23:19.984307",
     "exception": false,
     "start_time": "2023-04-28T17:23:19.977100",
     "status": "completed"
    },
    "tags": []
   },
   "source": [
    "# 0.\n",
    "\n",
    "*This is a silly question intended as an introduction to the format we use for hands-on exercises throughout all Kaggle courses.*\n",
    "\n",
    "**What is your favorite color? **\n",
    "\n",
    "To complete this question, create a variable called `color` in the cell below with an appropriate value. The function call `q0.check()` (which we've already provided in the cell below) will check your answer."
   ]
  },
  {
   "cell_type": "code",
   "execution_count": 3,
   "id": "b1654551",
   "metadata": {
    "execution": {
     "iopub.execute_input": "2023-04-28T17:23:20.001628Z",
     "iopub.status.busy": "2023-04-28T17:23:20.000388Z",
     "iopub.status.idle": "2023-04-28T17:23:20.013641Z",
     "shell.execute_reply": "2023-04-28T17:23:20.011756Z"
    },
    "papermill": {
     "duration": 0.024785,
     "end_time": "2023-04-28T17:23:20.016372",
     "exception": false,
     "start_time": "2023-04-28T17:23:19.991587",
     "status": "completed"
    },
    "tags": []
   },
   "outputs": [
    {
     "data": {
      "application/javascript": [
       "parent.postMessage({\"jupyterEvent\": \"custom.exercise_interaction\", \"data\": {\"outcomeType\": 1, \"valueTowardsCompletion\": 0.25, \"interactionType\": 1, \"questionType\": 2, \"questionId\": \"0_ExerciseFormatTutorial\", \"learnToolsVersion\": \"0.3.4\", \"failureMessage\": \"\", \"exceptionClass\": \"\", \"trace\": \"\"}}, \"*\")"
      ],
      "text/plain": [
       "<IPython.core.display.Javascript object>"
      ]
     },
     "metadata": {},
     "output_type": "display_data"
    },
    {
     "data": {
      "text/markdown": [
       "<span style=\"color:#33cc33\">Correct:</span> What?! You got it right without needing a hint or anything? Drats. Well hey, you should still continue to the next step to get some practice asking for a hint and checking solutions. (Even though you obviously don't need any help here.)"
      ],
      "text/plain": [
       "Correct: What?! You got it right without needing a hint or anything? Drats. Well hey, you should still continue to the next step to get some practice asking for a hint and checking solutions. (Even though you obviously don't need any help here.)"
      ]
     },
     "metadata": {},
     "output_type": "display_data"
    }
   ],
   "source": [
    "# create a variable called color with an appropriate value on the line below\n",
    "# (Remember, strings in Python must be enclosed in 'single' or \"double\" quotes)\n",
    "color = \"blue\"\n",
    "\n",
    "# Check your answer\n",
    "q0.check()"
   ]
  },
  {
   "cell_type": "markdown",
   "id": "e91a940c",
   "metadata": {
    "papermill": {
     "duration": 0.008228,
     "end_time": "2023-04-28T17:23:20.032206",
     "exception": false,
     "start_time": "2023-04-28T17:23:20.023978",
     "status": "completed"
    },
    "tags": []
   },
   "source": [
    "Didn't get the right answer? How do you not even know your own favorite color?!\n",
    "\n",
    "Delete the `#` in the line below to make one of the lines run. You can choose between getting a hint or the full answer by choosing which line to remove the `#` from. \n",
    "\n",
    "Removing the `#` is called uncommenting, because it changes that line from a \"comment\" which Python doesn't run to code, which Python does run."
   ]
  },
  {
   "cell_type": "code",
   "execution_count": 4,
   "id": "97ae0743",
   "metadata": {
    "execution": {
     "iopub.execute_input": "2023-04-28T17:23:20.049495Z",
     "iopub.status.busy": "2023-04-28T17:23:20.049049Z",
     "iopub.status.idle": "2023-04-28T17:23:20.059192Z",
     "shell.execute_reply": "2023-04-28T17:23:20.057795Z"
    },
    "papermill": {
     "duration": 0.022127,
     "end_time": "2023-04-28T17:23:20.061645",
     "exception": false,
     "start_time": "2023-04-28T17:23:20.039518",
     "status": "completed"
    },
    "tags": []
   },
   "outputs": [
    {
     "data": {
      "application/javascript": [
       "parent.postMessage({\"jupyterEvent\": \"custom.exercise_interaction\", \"data\": {\"interactionType\": 2, \"questionType\": 2, \"questionId\": \"0_ExerciseFormatTutorial\", \"learnToolsVersion\": \"0.3.4\", \"valueTowardsCompletion\": 0.0, \"failureMessage\": \"\", \"exceptionClass\": \"\", \"trace\": \"\", \"outcomeType\": 4}}, \"*\")"
      ],
      "text/plain": [
       "<IPython.core.display.Javascript object>"
      ]
     },
     "metadata": {},
     "output_type": "display_data"
    },
    {
     "data": {
      "text/markdown": [
       "<span style=\"color:#3366cc\">Hint:</span> Your favorite color rhymes with *glue*."
      ],
      "text/plain": [
       "Hint: Your favorite color rhymes with *glue*."
      ]
     },
     "metadata": {},
     "output_type": "display_data"
    }
   ],
   "source": [
    "q0.hint()\n",
    "#q0.solution()"
   ]
  },
  {
   "cell_type": "markdown",
   "id": "f2771d04",
   "metadata": {
    "papermill": {
     "duration": 0.007491,
     "end_time": "2023-04-28T17:23:20.076934",
     "exception": false,
     "start_time": "2023-04-28T17:23:20.069443",
     "status": "completed"
    },
    "tags": []
   },
   "source": [
    "The upcoming questions work the same way. The only thing that will change are the question numbers. For the next question, you'll call `q1.check()`, `q1.hint()`, `q1.solution()`, for question 2, you'll call `q2.check()`, and so on."
   ]
  },
  {
   "cell_type": "markdown",
   "id": "3541a884",
   "metadata": {
    "papermill": {
     "duration": 0.007586,
     "end_time": "2023-04-28T17:23:20.092680",
     "exception": false,
     "start_time": "2023-04-28T17:23:20.085094",
     "status": "completed"
    },
    "tags": []
   },
   "source": [
    "<hr/>\n",
    "\n",
    "# 1.\n",
    "\n",
    "Complete the code below. In case it's helpful, here is the table of available arithmetic operations:\n",
    "\n",
    "\n",
    "\n",
    "| Operator     | Name           | Description                                            |\n",
    "|--------------|----------------|--------------------------------------------------------|\n",
    "| ``a + b``    | Addition       | Sum of ``a`` and ``b``                                 |\n",
    "| ``a - b``    | Subtraction    | Difference of ``a`` and ``b``                          |\n",
    "| ``a * b``    | Multiplication | Product of ``a`` and ``b``                             |\n",
    "| ``a / b``    | True division  | Quotient of ``a`` and ``b``                            |\n",
    "| ``a // b``   | Floor division | Quotient of ``a`` and ``b``, removing fractional parts |\n",
    "| ``a % b``    | Modulus        | Integer remainder after division of ``a`` by ``b``     |\n",
    "| ``a ** b``   | Exponentiation | ``a`` raised to the power of ``b``                     |\n",
    "| ``-a``       | Negation       | The negative of ``a``                                  |\n",
    "\n",
    "<span style=\"display:none\"></span>\n"
   ]
  },
  {
   "cell_type": "code",
   "execution_count": 5,
   "id": "96f52fc5",
   "metadata": {
    "execution": {
     "iopub.execute_input": "2023-04-28T17:23:20.111696Z",
     "iopub.status.busy": "2023-04-28T17:23:20.111272Z",
     "iopub.status.idle": "2023-04-28T17:23:20.122426Z",
     "shell.execute_reply": "2023-04-28T17:23:20.120844Z"
    },
    "papermill": {
     "duration": 0.023943,
     "end_time": "2023-04-28T17:23:20.125231",
     "exception": false,
     "start_time": "2023-04-28T17:23:20.101288",
     "status": "completed"
    },
    "tags": []
   },
   "outputs": [
    {
     "data": {
      "application/javascript": [
       "parent.postMessage({\"jupyterEvent\": \"custom.exercise_interaction\", \"data\": {\"outcomeType\": 1, \"valueTowardsCompletion\": 0.25, \"interactionType\": 1, \"questionType\": 1, \"questionId\": \"1_CircleArea\", \"learnToolsVersion\": \"0.3.4\", \"failureMessage\": \"\", \"exceptionClass\": \"\", \"trace\": \"\"}}, \"*\")"
      ],
      "text/plain": [
       "<IPython.core.display.Javascript object>"
      ]
     },
     "metadata": {},
     "output_type": "display_data"
    },
    {
     "data": {
      "text/markdown": [
       "<span style=\"color:#33cc33\">Correct</span>"
      ],
      "text/plain": [
       "Correct"
      ]
     },
     "metadata": {},
     "output_type": "display_data"
    }
   ],
   "source": [
    "pi = 3.14159 # approximate\n",
    "diameter = 3\n",
    "\n",
    "# Create a variable called 'radius' equal to half the diameter\n",
    "radius = diameter/2\n",
    "\n",
    "# Create a variable called 'area', using the formula for the area of a circle: pi times the radius squared\n",
    "area = pi * radius**2\n",
    "\n",
    "# Check your answer\n",
    "q1.check()"
   ]
  },
  {
   "cell_type": "code",
   "execution_count": 6,
   "id": "43081995",
   "metadata": {
    "execution": {
     "iopub.execute_input": "2023-04-28T17:23:20.143618Z",
     "iopub.status.busy": "2023-04-28T17:23:20.143196Z",
     "iopub.status.idle": "2023-04-28T17:23:20.148186Z",
     "shell.execute_reply": "2023-04-28T17:23:20.146898Z"
    },
    "papermill": {
     "duration": 0.017421,
     "end_time": "2023-04-28T17:23:20.150566",
     "exception": false,
     "start_time": "2023-04-28T17:23:20.133145",
     "status": "completed"
    },
    "tags": []
   },
   "outputs": [],
   "source": [
    "# Uncomment and run the lines below if you need help.\n",
    "#q1.hint()\n",
    "#q1.solution()"
   ]
  },
  {
   "cell_type": "markdown",
   "id": "2a059deb",
   "metadata": {
    "papermill": {
     "duration": 0.007769,
     "end_time": "2023-04-28T17:23:20.166287",
     "exception": false,
     "start_time": "2023-04-28T17:23:20.158518",
     "status": "completed"
    },
    "tags": []
   },
   "source": [
    "<hr/>\n",
    "\n",
    "# 2.\n",
    "\n",
    "Add code to the following cell to swap variables `a` and `b` (so that `a` refers to the object previously referred to by `b` and vice versa)."
   ]
  },
  {
   "cell_type": "code",
   "execution_count": 7,
   "id": "f8955a2d",
   "metadata": {
    "execution": {
     "iopub.execute_input": "2023-04-28T17:23:20.184949Z",
     "iopub.status.busy": "2023-04-28T17:23:20.184151Z",
     "iopub.status.idle": "2023-04-28T17:23:20.196608Z",
     "shell.execute_reply": "2023-04-28T17:23:20.195262Z"
    },
    "papermill": {
     "duration": 0.024729,
     "end_time": "2023-04-28T17:23:20.199446",
     "exception": false,
     "start_time": "2023-04-28T17:23:20.174717",
     "status": "completed"
    },
    "tags": []
   },
   "outputs": [
    {
     "name": "stdout",
     "output_type": "stream",
     "text": [
      "[3, 2, 1] [1, 2, 3]\n"
     ]
    },
    {
     "data": {
      "application/javascript": [
       "parent.postMessage({\"jupyterEvent\": \"custom.exercise_interaction\", \"data\": {\"outcomeType\": 1, \"valueTowardsCompletion\": 0.25, \"interactionType\": 1, \"questionType\": 2, \"questionId\": \"2_VariableSwap\", \"learnToolsVersion\": \"0.3.4\", \"failureMessage\": \"\", \"exceptionClass\": \"\", \"trace\": \"\"}}, \"*\")"
      ],
      "text/plain": [
       "<IPython.core.display.Javascript object>"
      ]
     },
     "metadata": {},
     "output_type": "display_data"
    },
    {
     "data": {
      "text/markdown": [
       "<span style=\"color:#33cc33\">Correct:</span> \n",
       "\n",
       "The most straightforward solution is to use a third variable to temporarily store one of the old values. e.g.:\n",
       "\n",
       "    tmp = a\n",
       "    a = b\n",
       "    b = tmp\n",
       "\n",
       "If you've read lots of Python code, you might have seen the following trick to swap two variables in one line:\n",
       "\n",
       "    a, b = b, a\n",
       "\n",
       "We'll demystify this bit of Python magic later when we talk about *tuples*."
      ],
      "text/plain": [
       "Correct: \n",
       "\n",
       "The most straightforward solution is to use a third variable to temporarily store one of the old values. e.g.:\n",
       "\n",
       "    tmp = a\n",
       "    a = b\n",
       "    b = tmp\n",
       "\n",
       "If you've read lots of Python code, you might have seen the following trick to swap two variables in one line:\n",
       "\n",
       "    a, b = b, a\n",
       "\n",
       "We'll demystify this bit of Python magic later when we talk about *tuples*."
      ]
     },
     "metadata": {},
     "output_type": "display_data"
    }
   ],
   "source": [
    "########### Setup code - don't touch this part ######################\n",
    "# If you're curious, these are examples of lists. We'll talk about \n",
    "# them in depth a few lessons from now. For now, just know that they're\n",
    "# yet another type of Python object, like int or float.\n",
    "a = [1, 2, 3]\n",
    "b = [3, 2, 1]\n",
    "q2.store_original_ids()\n",
    "######################################################################\n",
    "\n",
    "# Your code goes here. Swap the values to which a and b refer.\n",
    "# If you get stuck, you can always uncomment one or both of the lines in\n",
    "# the next cell for a hint, or to peek at the solution.\n",
    "temp = [\"\"]\n",
    "temp = a\n",
    "a = b\n",
    "b = temp\n",
    "\n",
    "print (a,b)\n",
    "######################################################################\n",
    "\n",
    "# Check your answer\n",
    "q2.check()"
   ]
  },
  {
   "cell_type": "code",
   "execution_count": 8,
   "id": "a3993391",
   "metadata": {
    "execution": {
     "iopub.execute_input": "2023-04-28T17:23:20.218246Z",
     "iopub.status.busy": "2023-04-28T17:23:20.217816Z",
     "iopub.status.idle": "2023-04-28T17:23:20.226799Z",
     "shell.execute_reply": "2023-04-28T17:23:20.225579Z"
    },
    "papermill": {
     "duration": 0.021538,
     "end_time": "2023-04-28T17:23:20.229389",
     "exception": false,
     "start_time": "2023-04-28T17:23:20.207851",
     "status": "completed"
    },
    "tags": []
   },
   "outputs": [
    {
     "data": {
      "application/javascript": [
       "parent.postMessage({\"jupyterEvent\": \"custom.exercise_interaction\", \"data\": {\"interactionType\": 2, \"questionType\": 2, \"questionId\": \"2_VariableSwap\", \"learnToolsVersion\": \"0.3.4\", \"valueTowardsCompletion\": 0.0, \"failureMessage\": \"\", \"exceptionClass\": \"\", \"trace\": \"\", \"outcomeType\": 4}}, \"*\")"
      ],
      "text/plain": [
       "<IPython.core.display.Javascript object>"
      ]
     },
     "metadata": {},
     "output_type": "display_data"
    },
    {
     "data": {
      "text/markdown": [
       "<span style=\"color:#3366cc\">Hint:</span> Try using a third variable."
      ],
      "text/plain": [
       "Hint: Try using a third variable."
      ]
     },
     "metadata": {},
     "output_type": "display_data"
    }
   ],
   "source": [
    "q2.hint()"
   ]
  },
  {
   "cell_type": "code",
   "execution_count": 9,
   "id": "57affd6f",
   "metadata": {
    "execution": {
     "iopub.execute_input": "2023-04-28T17:23:20.249418Z",
     "iopub.status.busy": "2023-04-28T17:23:20.249001Z",
     "iopub.status.idle": "2023-04-28T17:23:20.254697Z",
     "shell.execute_reply": "2023-04-28T17:23:20.253264Z"
    },
    "papermill": {
     "duration": 0.019241,
     "end_time": "2023-04-28T17:23:20.257571",
     "exception": false,
     "start_time": "2023-04-28T17:23:20.238330",
     "status": "completed"
    },
    "tags": []
   },
   "outputs": [],
   "source": [
    "#q2.solution()"
   ]
  },
  {
   "cell_type": "markdown",
   "id": "dda30a6f",
   "metadata": {
    "papermill": {
     "duration": 0.008419,
     "end_time": "2023-04-28T17:23:20.274899",
     "exception": false,
     "start_time": "2023-04-28T17:23:20.266480",
     "status": "completed"
    },
    "tags": []
   },
   "source": [
    "<hr/>\n",
    "\n",
    "# 3a.\n",
    "\n",
    "Add parentheses to the following expression so that it evaluates to 1."
   ]
  },
  {
   "cell_type": "code",
   "execution_count": 10,
   "id": "a13d4bc0",
   "metadata": {
    "execution": {
     "iopub.execute_input": "2023-04-28T17:23:20.295087Z",
     "iopub.status.busy": "2023-04-28T17:23:20.294645Z",
     "iopub.status.idle": "2023-04-28T17:23:20.302192Z",
     "shell.execute_reply": "2023-04-28T17:23:20.300808Z"
    },
    "papermill": {
     "duration": 0.020653,
     "end_time": "2023-04-28T17:23:20.304785",
     "exception": false,
     "start_time": "2023-04-28T17:23:20.284132",
     "status": "completed"
    },
    "tags": []
   },
   "outputs": [
    {
     "data": {
      "text/plain": [
       "1"
      ]
     },
     "execution_count": 10,
     "metadata": {},
     "output_type": "execute_result"
    }
   ],
   "source": [
    "(5 - 3) // 2"
   ]
  },
  {
   "cell_type": "code",
   "execution_count": 11,
   "id": "8765d736",
   "metadata": {
    "execution": {
     "iopub.execute_input": "2023-04-28T17:23:20.324855Z",
     "iopub.status.busy": "2023-04-28T17:23:20.324388Z",
     "iopub.status.idle": "2023-04-28T17:23:20.329388Z",
     "shell.execute_reply": "2023-04-28T17:23:20.328030Z"
    },
    "papermill": {
     "duration": 0.018266,
     "end_time": "2023-04-28T17:23:20.331981",
     "exception": false,
     "start_time": "2023-04-28T17:23:20.313715",
     "status": "completed"
    },
    "tags": []
   },
   "outputs": [],
   "source": [
    "#q3.a.hint()"
   ]
  },
  {
   "cell_type": "code",
   "execution_count": 12,
   "id": "3ded82de",
   "metadata": {
    "execution": {
     "iopub.execute_input": "2023-04-28T17:23:20.352481Z",
     "iopub.status.busy": "2023-04-28T17:23:20.352092Z",
     "iopub.status.idle": "2023-04-28T17:23:20.362536Z",
     "shell.execute_reply": "2023-04-28T17:23:20.361053Z"
    },
    "papermill": {
     "duration": 0.024107,
     "end_time": "2023-04-28T17:23:20.365246",
     "exception": false,
     "start_time": "2023-04-28T17:23:20.341139",
     "status": "completed"
    },
    "tags": []
   },
   "outputs": [
    {
     "data": {
      "application/javascript": [
       "parent.postMessage({\"jupyterEvent\": \"custom.exercise_interaction\", \"data\": {\"interactionType\": 3, \"questionType\": 4, \"questionId\": \"3.1_ArithmeticParensEasy\", \"learnToolsVersion\": \"0.3.4\", \"valueTowardsCompletion\": 0.0, \"failureMessage\": \"\", \"exceptionClass\": \"\", \"trace\": \"\", \"outcomeType\": 4}}, \"*\")"
      ],
      "text/plain": [
       "<IPython.core.display.Javascript object>"
      ]
     },
     "metadata": {},
     "output_type": "display_data"
    },
    {
     "data": {
      "text/markdown": [
       "<span style=\"color:#33cc99\">Solution:</span> \n",
       "```python\n",
       "(5 - 3) // 2\n",
       "```"
      ],
      "text/plain": [
       "Solution: \n",
       "```python\n",
       "(5 - 3) // 2\n",
       "```"
      ]
     },
     "metadata": {},
     "output_type": "display_data"
    }
   ],
   "source": [
    "# Check your answer (Run this code cell to receive credit!)\n",
    "q3.a.solution()"
   ]
  },
  {
   "cell_type": "markdown",
   "id": "24b72ef9",
   "metadata": {
    "papermill": {
     "duration": 0.009106,
     "end_time": "2023-04-28T17:23:20.383693",
     "exception": false,
     "start_time": "2023-04-28T17:23:20.374587",
     "status": "completed"
    },
    "tags": []
   },
   "source": [
    "# 3b.  <span title=\"A bit spicy\" style=\"color: darkgreen \">🌶️</span>\n",
    "\n",
    "<small>Questions, like this one, marked a spicy pepper are a bit harder.</small>\n",
    "\n",
    "Add parentheses to the following expression so that it evaluates to 0."
   ]
  },
  {
   "cell_type": "code",
   "execution_count": 13,
   "id": "4725dfc3",
   "metadata": {
    "execution": {
     "iopub.execute_input": "2023-04-28T17:23:20.404170Z",
     "iopub.status.busy": "2023-04-28T17:23:20.403441Z",
     "iopub.status.idle": "2023-04-28T17:23:20.410392Z",
     "shell.execute_reply": "2023-04-28T17:23:20.409420Z"
    },
    "papermill": {
     "duration": 0.020096,
     "end_time": "2023-04-28T17:23:20.412974",
     "exception": false,
     "start_time": "2023-04-28T17:23:20.392878",
     "status": "completed"
    },
    "tags": []
   },
   "outputs": [
    {
     "data": {
      "text/plain": [
       "0"
      ]
     },
     "execution_count": 13,
     "metadata": {},
     "output_type": "execute_result"
    }
   ],
   "source": [
    "(8 - 3) * (2 - (1 + 1))"
   ]
  },
  {
   "cell_type": "code",
   "execution_count": 14,
   "id": "a43ecdbb",
   "metadata": {
    "execution": {
     "iopub.execute_input": "2023-04-28T17:23:20.433792Z",
     "iopub.status.busy": "2023-04-28T17:23:20.432975Z",
     "iopub.status.idle": "2023-04-28T17:23:20.443364Z",
     "shell.execute_reply": "2023-04-28T17:23:20.441931Z"
    },
    "papermill": {
     "duration": 0.02382,
     "end_time": "2023-04-28T17:23:20.446249",
     "exception": false,
     "start_time": "2023-04-28T17:23:20.422429",
     "status": "completed"
    },
    "tags": []
   },
   "outputs": [
    {
     "data": {
      "application/javascript": [
       "parent.postMessage({\"jupyterEvent\": \"custom.exercise_interaction\", \"data\": {\"interactionType\": 2, \"questionType\": 4, \"questionId\": \"3.2_ArithmeticParensHard\", \"learnToolsVersion\": \"0.3.4\", \"valueTowardsCompletion\": 0.0, \"failureMessage\": \"\", \"exceptionClass\": \"\", \"trace\": \"\", \"outcomeType\": 4}}, \"*\")"
      ],
      "text/plain": [
       "<IPython.core.display.Javascript object>"
      ]
     },
     "metadata": {},
     "output_type": "display_data"
    },
    {
     "data": {
      "text/markdown": [
       "<span style=\"color:#3366cc\">Hint:</span> You may need to use several pairs of parentheses."
      ],
      "text/plain": [
       "Hint: You may need to use several pairs of parentheses."
      ]
     },
     "metadata": {},
     "output_type": "display_data"
    }
   ],
   "source": [
    "q3.b.hint()"
   ]
  },
  {
   "cell_type": "code",
   "execution_count": 15,
   "id": "bafb448e",
   "metadata": {
    "execution": {
     "iopub.execute_input": "2023-04-28T17:23:20.468257Z",
     "iopub.status.busy": "2023-04-28T17:23:20.467801Z",
     "iopub.status.idle": "2023-04-28T17:23:20.477683Z",
     "shell.execute_reply": "2023-04-28T17:23:20.476774Z"
    },
    "papermill": {
     "duration": 0.023675,
     "end_time": "2023-04-28T17:23:20.479956",
     "exception": false,
     "start_time": "2023-04-28T17:23:20.456281",
     "status": "completed"
    },
    "tags": []
   },
   "outputs": [
    {
     "data": {
      "application/javascript": [
       "parent.postMessage({\"jupyterEvent\": \"custom.exercise_interaction\", \"data\": {\"interactionType\": 3, \"questionType\": 4, \"questionId\": \"3.2_ArithmeticParensHard\", \"learnToolsVersion\": \"0.3.4\", \"valueTowardsCompletion\": 0.0, \"failureMessage\": \"\", \"exceptionClass\": \"\", \"trace\": \"\", \"outcomeType\": 4}}, \"*\")"
      ],
      "text/plain": [
       "<IPython.core.display.Javascript object>"
      ]
     },
     "metadata": {},
     "output_type": "display_data"
    },
    {
     "data": {
      "text/markdown": [
       "<span style=\"color:#33cc99\">Solution:</span> `(8 - 3) * (2 - (1 + 1))` is one solution. There may be others."
      ],
      "text/plain": [
       "Solution: `(8 - 3) * (2 - (1 + 1))` is one solution. There may be others."
      ]
     },
     "metadata": {},
     "output_type": "display_data"
    }
   ],
   "source": [
    "# Check your answer (Run this code cell to receive credit!)\n",
    "q3.b.solution()"
   ]
  },
  {
   "cell_type": "markdown",
   "id": "3329e7e5",
   "metadata": {
    "papermill": {
     "duration": 0.009525,
     "end_time": "2023-04-28T17:23:20.499135",
     "exception": false,
     "start_time": "2023-04-28T17:23:20.489610",
     "status": "completed"
    },
    "tags": []
   },
   "source": [
    "<hr/>\n",
    "\n",
    "# 4. \n",
    "Alice, Bob and Carol have agreed to pool their Halloween candy and split it evenly among themselves.\n",
    "For the sake of their friendship, any candies left over will be smashed. For example, if they collectively\n",
    "bring home 91 candies, they'll take 30 each and smash 1.\n",
    "\n",
    "Write an arithmetic expression below to calculate how many candies they must smash for a given haul."
   ]
  },
  {
   "cell_type": "code",
   "execution_count": 16,
   "id": "73dc9769",
   "metadata": {
    "execution": {
     "iopub.execute_input": "2023-04-28T17:23:20.520289Z",
     "iopub.status.busy": "2023-04-28T17:23:20.519843Z",
     "iopub.status.idle": "2023-04-28T17:23:20.530908Z",
     "shell.execute_reply": "2023-04-28T17:23:20.529751Z"
    },
    "papermill": {
     "duration": 0.024604,
     "end_time": "2023-04-28T17:23:20.533456",
     "exception": false,
     "start_time": "2023-04-28T17:23:20.508852",
     "status": "completed"
    },
    "tags": []
   },
   "outputs": [
    {
     "data": {
      "application/javascript": [
       "parent.postMessage({\"jupyterEvent\": \"custom.exercise_interaction\", \"data\": {\"outcomeType\": 1, \"valueTowardsCompletion\": 0.25, \"interactionType\": 1, \"questionType\": 1, \"questionId\": \"4_CandySplitting\", \"learnToolsVersion\": \"0.3.4\", \"failureMessage\": \"\", \"exceptionClass\": \"\", \"trace\": \"\"}}, \"*\")"
      ],
      "text/plain": [
       "<IPython.core.display.Javascript object>"
      ]
     },
     "metadata": {},
     "output_type": "display_data"
    },
    {
     "data": {
      "text/markdown": [
       "<span style=\"color:#33cc33\">Correct</span>"
      ],
      "text/plain": [
       "Correct"
      ]
     },
     "metadata": {},
     "output_type": "display_data"
    }
   ],
   "source": [
    "# Variables representing the number of candies collected by alice, bob, and carol\n",
    "alice_candies = 121\n",
    "bob_candies = 77\n",
    "carol_candies = 109\n",
    "\n",
    "# Your code goes here! Replace the right-hand side of this assignment with an expression\n",
    "# involving alice_candies, bob_candies, and carol_candies\n",
    "to_smash = (alice_candies + bob_candies + carol_candies) % 3\n",
    "\n",
    "# Check your answer\n",
    "q4.check()"
   ]
  },
  {
   "cell_type": "code",
   "execution_count": 17,
   "id": "336caad0",
   "metadata": {
    "execution": {
     "iopub.execute_input": "2023-04-28T17:23:20.556039Z",
     "iopub.status.busy": "2023-04-28T17:23:20.555570Z",
     "iopub.status.idle": "2023-04-28T17:23:20.560890Z",
     "shell.execute_reply": "2023-04-28T17:23:20.559559Z"
    },
    "papermill": {
     "duration": 0.019956,
     "end_time": "2023-04-28T17:23:20.563303",
     "exception": false,
     "start_time": "2023-04-28T17:23:20.543347",
     "status": "completed"
    },
    "tags": []
   },
   "outputs": [],
   "source": [
    "#q4.hint()\n",
    "#q4.solution()"
   ]
  },
  {
   "cell_type": "markdown",
   "id": "e038cefc",
   "metadata": {
    "papermill": {
     "duration": 0.010162,
     "end_time": "2023-04-28T17:23:20.583476",
     "exception": false,
     "start_time": "2023-04-28T17:23:20.573314",
     "status": "completed"
    },
    "tags": []
   },
   "source": [
    "# Keep Going\n",
    "\n",
    "Next up, you'll **[learn to write new functions and understand functions others write](https://www.kaggle.com/colinmorris/functions-and-getting-help)**. This will make you at least 10 times more productive as a Python programmer. "
   ]
  },
  {
   "cell_type": "markdown",
   "id": "fe32280a",
   "metadata": {
    "papermill": {
     "duration": 0.010011,
     "end_time": "2023-04-28T17:23:20.603498",
     "exception": false,
     "start_time": "2023-04-28T17:23:20.593487",
     "status": "completed"
    },
    "tags": []
   },
   "source": [
    "---\n",
    "\n",
    "\n",
    "\n",
    "\n",
    "*Have questions or comments? Visit the [course discussion forum](https://www.kaggle.com/learn/python/discussion) to chat with other learners.*"
   ]
  }
 ],
 "metadata": {
  "kernelspec": {
   "display_name": "Python 3",
   "language": "python",
   "name": "python3"
  },
  "language_info": {
   "codemirror_mode": {
    "name": "ipython",
    "version": 3
   },
   "file_extension": ".py",
   "mimetype": "text/x-python",
   "name": "python",
   "nbconvert_exporter": "python",
   "pygments_lexer": "ipython3",
   "version": "3.7.12"
  },
  "papermill": {
   "default_parameters": {},
   "duration": 12.417406,
   "end_time": "2023-04-28T17:23:21.336441",
   "environment_variables": {},
   "exception": null,
   "input_path": "__notebook__.ipynb",
   "output_path": "__notebook__.ipynb",
   "parameters": {},
   "start_time": "2023-04-28T17:23:08.919035",
   "version": "2.4.0"
  }
 },
 "nbformat": 4,
 "nbformat_minor": 5
}
