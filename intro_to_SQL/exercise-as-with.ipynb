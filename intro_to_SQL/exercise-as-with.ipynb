{
 "cells": [
  {
   "cell_type": "markdown",
   "id": "cbc4473d",
   "metadata": {
    "papermill": {
     "duration": 0.006409,
     "end_time": "2023-05-02T07:00:30.233042",
     "exception": false,
     "start_time": "2023-05-02T07:00:30.226633",
     "status": "completed"
    },
    "tags": []
   },
   "source": [
    "**This notebook is an exercise in the [SQL](https://www.kaggle.com/learn/intro-to-sql) course.  You can reference the tutorial at [this link](https://www.kaggle.com/dansbecker/as-with).**\n",
    "\n",
    "---\n"
   ]
  },
  {
   "cell_type": "markdown",
   "id": "3580614b",
   "metadata": {
    "papermill": {
     "duration": 0.005546,
     "end_time": "2023-05-02T07:00:30.244530",
     "exception": false,
     "start_time": "2023-05-02T07:00:30.238984",
     "status": "completed"
    },
    "tags": []
   },
   "source": [
    "# Introduction\n",
    "\n",
    "You are getting to the point where you can own an analysis from beginning to end. So you'll do more data exploration in this exercise than you've done before.  Before you get started, run the following set-up code as usual. "
   ]
  },
  {
   "cell_type": "code",
   "execution_count": 1,
   "id": "c5a308fb",
   "metadata": {
    "execution": {
     "iopub.execute_input": "2023-05-02T07:00:30.258130Z",
     "iopub.status.busy": "2023-05-02T07:00:30.257597Z",
     "iopub.status.idle": "2023-05-02T07:00:55.141229Z",
     "shell.execute_reply": "2023-05-02T07:00:55.140244Z"
    },
    "papermill": {
     "duration": 24.893585,
     "end_time": "2023-05-02T07:00:55.143835",
     "exception": false,
     "start_time": "2023-05-02T07:00:30.250250",
     "status": "completed"
    },
    "tags": []
   },
   "outputs": [
    {
     "name": "stdout",
     "output_type": "stream",
     "text": [
      "Collecting git+https://github.com/Kaggle/learntools.git\r\n",
      "  Cloning https://github.com/Kaggle/learntools.git to /tmp/pip-req-build-xc4hchhc\r\n",
      "  Running command git clone --filter=blob:none --quiet https://github.com/Kaggle/learntools.git /tmp/pip-req-build-xc4hchhc\r\n",
      "  Resolved https://github.com/Kaggle/learntools.git to commit ab3f19a77b8a92c7337c9fd15d84602e7320a077\r\n",
      "  Preparing metadata (setup.py) ... \u001b[?25l-\b \b\\\b \bdone\r\n",
      "\u001b[?25hBuilding wheels for collected packages: learntools\r\n",
      "  Building wheel for learntools (setup.py) ... \u001b[?25l-\b \b\\\b \b|\b \bdone\r\n",
      "\u001b[?25h  Created wheel for learntools: filename=learntools-0.3.4-py3-none-any.whl size=268981 sha256=ec08cbd4597c11166050e02b7f78c2d024f71e986beb685a999ec6a56b5d557b\r\n",
      "  Stored in directory: /tmp/pip-ephem-wheel-cache-0axqhgs9/wheels/2f/6c/3c/aa9f50cfb5a862157cb4c7a5b34881828cf45404698255dced\r\n",
      "Successfully built learntools\r\n",
      "Installing collected packages: learntools\r\n",
      "Successfully installed learntools-0.3.4\r\n",
      "\u001b[33mWARNING: Running pip as the 'root' user can result in broken permissions and conflicting behaviour with the system package manager. It is recommended to use a virtual environment instead: https://pip.pypa.io/warnings/venv\u001b[0m\u001b[33m\r\n",
      "\u001b[0mUsing Kaggle's public dataset BigQuery integration.\n",
      "Setup Complete\n"
     ]
    }
   ],
   "source": [
    "# Get most recent checking code\n",
    "!pip install -U -t /kaggle/working/ git+https://github.com/Kaggle/learntools.git\n",
    "# Set up feedback system\n",
    "from learntools.core import binder\n",
    "binder.bind(globals())\n",
    "from learntools.sql.ex5 import *\n",
    "print(\"Setup Complete\")"
   ]
  },
  {
   "cell_type": "markdown",
   "id": "e1d60eb2",
   "metadata": {
    "papermill": {
     "duration": 0.006625,
     "end_time": "2023-05-02T07:00:55.157326",
     "exception": false,
     "start_time": "2023-05-02T07:00:55.150701",
     "status": "completed"
    },
    "tags": []
   },
   "source": [
    "You'll work with a dataset about taxi trips in the city of Chicago. Run the cell below to fetch the `chicago_taxi_trips` dataset."
   ]
  },
  {
   "cell_type": "code",
   "execution_count": 2,
   "id": "f2f76faf",
   "metadata": {
    "execution": {
     "iopub.execute_input": "2023-05-02T07:00:55.172887Z",
     "iopub.status.busy": "2023-05-02T07:00:55.172424Z",
     "iopub.status.idle": "2023-05-02T07:00:55.468870Z",
     "shell.execute_reply": "2023-05-02T07:00:55.468048Z"
    },
    "papermill": {
     "duration": 0.307209,
     "end_time": "2023-05-02T07:00:55.471354",
     "exception": false,
     "start_time": "2023-05-02T07:00:55.164145",
     "status": "completed"
    },
    "tags": []
   },
   "outputs": [
    {
     "name": "stdout",
     "output_type": "stream",
     "text": [
      "Using Kaggle's public dataset BigQuery integration.\n"
     ]
    }
   ],
   "source": [
    "from google.cloud import bigquery\n",
    "\n",
    "# Create a \"Client\" object\n",
    "client = bigquery.Client()\n",
    "\n",
    "# Construct a reference to the \"chicago_taxi_trips\" dataset\n",
    "dataset_ref = client.dataset(\"chicago_taxi_trips\", project=\"bigquery-public-data\")\n",
    "\n",
    "# API request - fetch the dataset\n",
    "dataset = client.get_dataset(dataset_ref)"
   ]
  },
  {
   "cell_type": "markdown",
   "id": "4078d176",
   "metadata": {
    "papermill": {
     "duration": 0.006514,
     "end_time": "2023-05-02T07:00:55.484737",
     "exception": false,
     "start_time": "2023-05-02T07:00:55.478223",
     "status": "completed"
    },
    "tags": []
   },
   "source": [
    "# Exercises\n",
    "\n",
    "You are curious how much slower traffic moves when traffic volume is high. This involves a few steps.\n",
    "\n",
    "### 1) Find the data\n",
    "Before you can access the data, you need to find the table name with the data.\n",
    "\n",
    "*Hint*: Tab completion is helpful whenever you can't remember a command. Type `client.` and then hit the tab key. Don't forget the period before hitting tab."
   ]
  },
  {
   "cell_type": "code",
   "execution_count": 3,
   "id": "776d6199",
   "metadata": {
    "execution": {
     "iopub.execute_input": "2023-05-02T07:00:55.500105Z",
     "iopub.status.busy": "2023-05-02T07:00:55.499713Z",
     "iopub.status.idle": "2023-05-02T07:00:55.792316Z",
     "shell.execute_reply": "2023-05-02T07:00:55.791230Z"
    },
    "papermill": {
     "duration": 0.303357,
     "end_time": "2023-05-02T07:00:55.794807",
     "exception": false,
     "start_time": "2023-05-02T07:00:55.491450",
     "status": "completed"
    },
    "tags": []
   },
   "outputs": [
    {
     "name": "stdout",
     "output_type": "stream",
     "text": [
      "taxi_trips\n"
     ]
    }
   ],
   "source": [
    "# Your code here to find the table name\n",
    "tables = list(client.list_tables(dataset))\n",
    "for i in tables:\n",
    "    print(i.table_id)"
   ]
  },
  {
   "cell_type": "code",
   "execution_count": 4,
   "id": "7df49fc8",
   "metadata": {
    "execution": {
     "iopub.execute_input": "2023-05-02T07:00:55.810738Z",
     "iopub.status.busy": "2023-05-02T07:00:55.810385Z",
     "iopub.status.idle": "2023-05-02T07:00:55.819781Z",
     "shell.execute_reply": "2023-05-02T07:00:55.818759Z"
    },
    "papermill": {
     "duration": 0.020599,
     "end_time": "2023-05-02T07:00:55.822272",
     "exception": false,
     "start_time": "2023-05-02T07:00:55.801673",
     "status": "completed"
    },
    "tags": []
   },
   "outputs": [
    {
     "data": {
      "application/javascript": [
       "parent.postMessage({\"jupyterEvent\": \"custom.exercise_interaction\", \"data\": {\"outcomeType\": 1, \"valueTowardsCompletion\": 0.16666666666666666, \"interactionType\": 1, \"questionType\": 1, \"questionId\": \"1_GetTableName\", \"learnToolsVersion\": \"0.3.4\", \"failureMessage\": \"\", \"exceptionClass\": \"\", \"trace\": \"\"}}, \"*\")"
      ],
      "text/plain": [
       "<IPython.core.display.Javascript object>"
      ]
     },
     "metadata": {},
     "output_type": "display_data"
    },
    {
     "data": {
      "text/markdown": [
       "<span style=\"color:#33cc33\">Correct</span>"
      ],
      "text/plain": [
       "Correct"
      ]
     },
     "metadata": {},
     "output_type": "display_data"
    }
   ],
   "source": [
    "# Write the table name as a string below\n",
    "table_name = \"taxi_trips\"\n",
    "\n",
    "# Check your answer\n",
    "q_1.check()"
   ]
  },
  {
   "cell_type": "markdown",
   "id": "77b87af4",
   "metadata": {
    "papermill": {
     "duration": 0.00692,
     "end_time": "2023-05-02T07:00:55.836171",
     "exception": false,
     "start_time": "2023-05-02T07:00:55.829251",
     "status": "completed"
    },
    "tags": []
   },
   "source": [
    "For the solution, uncomment the line below."
   ]
  },
  {
   "cell_type": "code",
   "execution_count": 5,
   "id": "f8bcaa40",
   "metadata": {
    "execution": {
     "iopub.execute_input": "2023-05-02T07:00:55.851654Z",
     "iopub.status.busy": "2023-05-02T07:00:55.851286Z",
     "iopub.status.idle": "2023-05-02T07:00:55.855161Z",
     "shell.execute_reply": "2023-05-02T07:00:55.854353Z"
    },
    "papermill": {
     "duration": 0.014264,
     "end_time": "2023-05-02T07:00:55.857353",
     "exception": false,
     "start_time": "2023-05-02T07:00:55.843089",
     "status": "completed"
    },
    "tags": []
   },
   "outputs": [],
   "source": [
    "#q_1.solution()"
   ]
  },
  {
   "cell_type": "markdown",
   "id": "3211b6d7",
   "metadata": {
    "papermill": {
     "duration": 0.006881,
     "end_time": "2023-05-02T07:00:55.871627",
     "exception": false,
     "start_time": "2023-05-02T07:00:55.864746",
     "status": "completed"
    },
    "tags": []
   },
   "source": [
    "### 2) Peek at the data\n",
    "\n",
    "Use the next code cell to peek at the top few rows of the data. Inspect the data and see if any issues with data quality are immediately obvious. "
   ]
  },
  {
   "cell_type": "code",
   "execution_count": 6,
   "id": "29641ce1",
   "metadata": {
    "execution": {
     "iopub.execute_input": "2023-05-02T07:00:55.887468Z",
     "iopub.status.busy": "2023-05-02T07:00:55.887110Z",
     "iopub.status.idle": "2023-05-02T07:00:56.617106Z",
     "shell.execute_reply": "2023-05-02T07:00:56.616053Z"
    },
    "papermill": {
     "duration": 0.74084,
     "end_time": "2023-05-02T07:00:56.619557",
     "exception": false,
     "start_time": "2023-05-02T07:00:55.878717",
     "status": "completed"
    },
    "tags": []
   },
   "outputs": [
    {
     "data": {
      "text/html": [
       "<div>\n",
       "<style scoped>\n",
       "    .dataframe tbody tr th:only-of-type {\n",
       "        vertical-align: middle;\n",
       "    }\n",
       "\n",
       "    .dataframe tbody tr th {\n",
       "        vertical-align: top;\n",
       "    }\n",
       "\n",
       "    .dataframe thead th {\n",
       "        text-align: right;\n",
       "    }\n",
       "</style>\n",
       "<table border=\"1\" class=\"dataframe\">\n",
       "  <thead>\n",
       "    <tr style=\"text-align: right;\">\n",
       "      <th></th>\n",
       "      <th>unique_key</th>\n",
       "      <th>taxi_id</th>\n",
       "      <th>trip_start_timestamp</th>\n",
       "      <th>trip_end_timestamp</th>\n",
       "      <th>trip_seconds</th>\n",
       "      <th>trip_miles</th>\n",
       "      <th>pickup_census_tract</th>\n",
       "      <th>dropoff_census_tract</th>\n",
       "      <th>pickup_community_area</th>\n",
       "      <th>dropoff_community_area</th>\n",
       "      <th>...</th>\n",
       "      <th>extras</th>\n",
       "      <th>trip_total</th>\n",
       "      <th>payment_type</th>\n",
       "      <th>company</th>\n",
       "      <th>pickup_latitude</th>\n",
       "      <th>pickup_longitude</th>\n",
       "      <th>pickup_location</th>\n",
       "      <th>dropoff_latitude</th>\n",
       "      <th>dropoff_longitude</th>\n",
       "      <th>dropoff_location</th>\n",
       "    </tr>\n",
       "  </thead>\n",
       "  <tbody>\n",
       "    <tr>\n",
       "      <th>0</th>\n",
       "      <td>b896bf05cee349e0e299b4e310eeeefd82b6d3ba</td>\n",
       "      <td>851a46407c712a156d2b18a2e82702e7378942c3451ec2...</td>\n",
       "      <td>2013-06-18 21:30:00+00:00</td>\n",
       "      <td>2013-06-18 21:30:00+00:00</td>\n",
       "      <td>360</td>\n",
       "      <td>1.4</td>\n",
       "      <td>NaN</td>\n",
       "      <td>NaN</td>\n",
       "      <td>NaN</td>\n",
       "      <td>NaN</td>\n",
       "      <td>...</td>\n",
       "      <td>1.0</td>\n",
       "      <td>9.25</td>\n",
       "      <td>Credit Card</td>\n",
       "      <td>None</td>\n",
       "      <td>NaN</td>\n",
       "      <td>NaN</td>\n",
       "      <td>None</td>\n",
       "      <td>NaN</td>\n",
       "      <td>NaN</td>\n",
       "      <td>None</td>\n",
       "    </tr>\n",
       "    <tr>\n",
       "      <th>1</th>\n",
       "      <td>f802b5ceae4464b9ee92252273c3c00efacd6086</td>\n",
       "      <td>851a46407c712a156d2b18a2e82702e7378942c3451ec2...</td>\n",
       "      <td>2013-06-18 21:45:00+00:00</td>\n",
       "      <td>2013-06-18 21:45:00+00:00</td>\n",
       "      <td>360</td>\n",
       "      <td>1.4</td>\n",
       "      <td>NaN</td>\n",
       "      <td>NaN</td>\n",
       "      <td>NaN</td>\n",
       "      <td>NaN</td>\n",
       "      <td>...</td>\n",
       "      <td>0.0</td>\n",
       "      <td>8.25</td>\n",
       "      <td>Credit Card</td>\n",
       "      <td>None</td>\n",
       "      <td>NaN</td>\n",
       "      <td>NaN</td>\n",
       "      <td>None</td>\n",
       "      <td>NaN</td>\n",
       "      <td>NaN</td>\n",
       "      <td>None</td>\n",
       "    </tr>\n",
       "    <tr>\n",
       "      <th>2</th>\n",
       "      <td>9733d09b77e339ac7a45f401fffa59a3a83db82b</td>\n",
       "      <td>851a46407c712a156d2b18a2e82702e7378942c3451ec2...</td>\n",
       "      <td>2013-06-18 21:45:00+00:00</td>\n",
       "      <td>2013-06-18 22:00:00+00:00</td>\n",
       "      <td>720</td>\n",
       "      <td>2.1</td>\n",
       "      <td>NaN</td>\n",
       "      <td>NaN</td>\n",
       "      <td>NaN</td>\n",
       "      <td>NaN</td>\n",
       "      <td>...</td>\n",
       "      <td>1.0</td>\n",
       "      <td>9.25</td>\n",
       "      <td>Cash</td>\n",
       "      <td>None</td>\n",
       "      <td>NaN</td>\n",
       "      <td>NaN</td>\n",
       "      <td>None</td>\n",
       "      <td>NaN</td>\n",
       "      <td>NaN</td>\n",
       "      <td>None</td>\n",
       "    </tr>\n",
       "    <tr>\n",
       "      <th>3</th>\n",
       "      <td>2cccdb9273583440be44c68eb5863dadcae22128</td>\n",
       "      <td>851a46407c712a156d2b18a2e82702e7378942c3451ec2...</td>\n",
       "      <td>2013-06-18 22:15:00+00:00</td>\n",
       "      <td>2013-06-18 22:45:00+00:00</td>\n",
       "      <td>1980</td>\n",
       "      <td>17.6</td>\n",
       "      <td>NaN</td>\n",
       "      <td>NaN</td>\n",
       "      <td>NaN</td>\n",
       "      <td>NaN</td>\n",
       "      <td>...</td>\n",
       "      <td>1.0</td>\n",
       "      <td>40.04</td>\n",
       "      <td>Credit Card</td>\n",
       "      <td>None</td>\n",
       "      <td>NaN</td>\n",
       "      <td>NaN</td>\n",
       "      <td>None</td>\n",
       "      <td>NaN</td>\n",
       "      <td>NaN</td>\n",
       "      <td>None</td>\n",
       "    </tr>\n",
       "    <tr>\n",
       "      <th>4</th>\n",
       "      <td>fe1ddd679a84ce4d8e2f49645143cca96ca2b68d</td>\n",
       "      <td>851a46407c712a156d2b18a2e82702e7378942c3451ec2...</td>\n",
       "      <td>2013-06-18 18:45:00+00:00</td>\n",
       "      <td>2013-06-18 18:45:00+00:00</td>\n",
       "      <td>0</td>\n",
       "      <td>0.2</td>\n",
       "      <td>NaN</td>\n",
       "      <td>NaN</td>\n",
       "      <td>NaN</td>\n",
       "      <td>NaN</td>\n",
       "      <td>...</td>\n",
       "      <td>0.0</td>\n",
       "      <td>3.65</td>\n",
       "      <td>Cash</td>\n",
       "      <td>None</td>\n",
       "      <td>NaN</td>\n",
       "      <td>NaN</td>\n",
       "      <td>None</td>\n",
       "      <td>NaN</td>\n",
       "      <td>NaN</td>\n",
       "      <td>None</td>\n",
       "    </tr>\n",
       "  </tbody>\n",
       "</table>\n",
       "<p>5 rows × 23 columns</p>\n",
       "</div>"
      ],
      "text/plain": [
       "                                 unique_key  \\\n",
       "0  b896bf05cee349e0e299b4e310eeeefd82b6d3ba   \n",
       "1  f802b5ceae4464b9ee92252273c3c00efacd6086   \n",
       "2  9733d09b77e339ac7a45f401fffa59a3a83db82b   \n",
       "3  2cccdb9273583440be44c68eb5863dadcae22128   \n",
       "4  fe1ddd679a84ce4d8e2f49645143cca96ca2b68d   \n",
       "\n",
       "                                             taxi_id  \\\n",
       "0  851a46407c712a156d2b18a2e82702e7378942c3451ec2...   \n",
       "1  851a46407c712a156d2b18a2e82702e7378942c3451ec2...   \n",
       "2  851a46407c712a156d2b18a2e82702e7378942c3451ec2...   \n",
       "3  851a46407c712a156d2b18a2e82702e7378942c3451ec2...   \n",
       "4  851a46407c712a156d2b18a2e82702e7378942c3451ec2...   \n",
       "\n",
       "       trip_start_timestamp        trip_end_timestamp  trip_seconds  \\\n",
       "0 2013-06-18 21:30:00+00:00 2013-06-18 21:30:00+00:00           360   \n",
       "1 2013-06-18 21:45:00+00:00 2013-06-18 21:45:00+00:00           360   \n",
       "2 2013-06-18 21:45:00+00:00 2013-06-18 22:00:00+00:00           720   \n",
       "3 2013-06-18 22:15:00+00:00 2013-06-18 22:45:00+00:00          1980   \n",
       "4 2013-06-18 18:45:00+00:00 2013-06-18 18:45:00+00:00             0   \n",
       "\n",
       "   trip_miles  pickup_census_tract  dropoff_census_tract  \\\n",
       "0         1.4                  NaN                   NaN   \n",
       "1         1.4                  NaN                   NaN   \n",
       "2         2.1                  NaN                   NaN   \n",
       "3        17.6                  NaN                   NaN   \n",
       "4         0.2                  NaN                   NaN   \n",
       "\n",
       "   pickup_community_area  dropoff_community_area  ...  extras  trip_total  \\\n",
       "0                    NaN                     NaN  ...     1.0        9.25   \n",
       "1                    NaN                     NaN  ...     0.0        8.25   \n",
       "2                    NaN                     NaN  ...     1.0        9.25   \n",
       "3                    NaN                     NaN  ...     1.0       40.04   \n",
       "4                    NaN                     NaN  ...     0.0        3.65   \n",
       "\n",
       "   payment_type  company  pickup_latitude pickup_longitude pickup_location  \\\n",
       "0   Credit Card     None              NaN              NaN            None   \n",
       "1   Credit Card     None              NaN              NaN            None   \n",
       "2          Cash     None              NaN              NaN            None   \n",
       "3   Credit Card     None              NaN              NaN            None   \n",
       "4          Cash     None              NaN              NaN            None   \n",
       "\n",
       "   dropoff_latitude  dropoff_longitude dropoff_location  \n",
       "0               NaN                NaN             None  \n",
       "1               NaN                NaN             None  \n",
       "2               NaN                NaN             None  \n",
       "3               NaN                NaN             None  \n",
       "4               NaN                NaN             None  \n",
       "\n",
       "[5 rows x 23 columns]"
      ]
     },
     "execution_count": 6,
     "metadata": {},
     "output_type": "execute_result"
    }
   ],
   "source": [
    "# Your code here\n",
    "table_ref = dataset_ref.table(\"taxi_trips\")\n",
    "# API request - fetch the table\n",
    "table = client.get_table(table_ref)\n",
    "client.list_rows(table, max_results=5).to_dataframe()"
   ]
  },
  {
   "cell_type": "markdown",
   "id": "e79c2722",
   "metadata": {
    "papermill": {
     "duration": 0.00725,
     "end_time": "2023-05-02T07:00:56.634583",
     "exception": false,
     "start_time": "2023-05-02T07:00:56.627333",
     "status": "completed"
    },
    "tags": []
   },
   "source": [
    "After deciding whether you see any important issues, run the code cell below."
   ]
  },
  {
   "cell_type": "code",
   "execution_count": 7,
   "id": "dc6cf9f4",
   "metadata": {
    "execution": {
     "iopub.execute_input": "2023-05-02T07:00:56.651916Z",
     "iopub.status.busy": "2023-05-02T07:00:56.650859Z",
     "iopub.status.idle": "2023-05-02T07:00:56.658100Z",
     "shell.execute_reply": "2023-05-02T07:00:56.657388Z"
    },
    "papermill": {
     "duration": 0.017988,
     "end_time": "2023-05-02T07:00:56.660085",
     "exception": false,
     "start_time": "2023-05-02T07:00:56.642097",
     "status": "completed"
    },
    "tags": []
   },
   "outputs": [
    {
     "data": {
      "application/javascript": [
       "parent.postMessage({\"jupyterEvent\": \"custom.exercise_interaction\", \"data\": {\"interactionType\": 3, \"questionType\": 4, \"questionId\": \"2_WhatsWrongWithData\", \"learnToolsVersion\": \"0.3.4\", \"valueTowardsCompletion\": 0.0, \"failureMessage\": \"\", \"exceptionClass\": \"\", \"trace\": \"\", \"outcomeType\": 4}}, \"*\")"
      ],
      "text/plain": [
       "<IPython.core.display.Javascript object>"
      ]
     },
     "metadata": {},
     "output_type": "display_data"
    },
    {
     "data": {
      "text/markdown": [
       "<span style=\"color:#33cc99\">Solution:</span> \n",
       "You can see the data by calling: \n",
       "```python\n",
       "# Construct a reference to the \"taxi_trips\" table\n",
       "table_ref = dataset_ref.table(\"taxi_trips\")\n",
       "\n",
       "# API request - fetch the table\n",
       "table = client.get_table(table_ref)\n",
       "\n",
       "# Preview the first five lines of the \"taxi_trips\" table\n",
       "client.list_rows(table, max_results=5).to_dataframe()\n",
       "```\n",
       "\n",
       "Some location fields have values of `None` or `NaN`. That is a problem if we want to use those fields.\n"
      ],
      "text/plain": [
       "Solution: \n",
       "You can see the data by calling: \n",
       "```python\n",
       "# Construct a reference to the \"taxi_trips\" table\n",
       "table_ref = dataset_ref.table(\"taxi_trips\")\n",
       "\n",
       "# API request - fetch the table\n",
       "table = client.get_table(table_ref)\n",
       "\n",
       "# Preview the first five lines of the \"taxi_trips\" table\n",
       "client.list_rows(table, max_results=5).to_dataframe()\n",
       "```\n",
       "\n",
       "Some location fields have values of `None` or `NaN`. That is a problem if we want to use those fields."
      ]
     },
     "metadata": {},
     "output_type": "display_data"
    }
   ],
   "source": [
    "# Check your answer (Run this code cell to receive credit!)\n",
    "q_2.solution()"
   ]
  },
  {
   "cell_type": "markdown",
   "id": "13176646",
   "metadata": {
    "papermill": {
     "duration": 0.007399,
     "end_time": "2023-05-02T07:00:56.675511",
     "exception": false,
     "start_time": "2023-05-02T07:00:56.668112",
     "status": "completed"
    },
    "tags": []
   },
   "source": [
    "### 3) Determine when this data is from\n",
    "\n",
    "If the data is sufficiently old, we might be careful before assuming the data is still relevant to traffic patterns today. Write a query that counts the number of trips in each year.  \n",
    "\n",
    "Your results should have two columns:\n",
    "- `year` - the year of the trips\n",
    "- `num_trips` - the number of trips in that year\n",
    "\n",
    "Hints:\n",
    "- When using **GROUP BY** and **ORDER BY**, you should refer to the columns by the alias `year` that you set at the top of the **SELECT** query.\n",
    "- The SQL code to **SELECT** the year from `trip_start_timestamp` is <code>SELECT EXTRACT(YEAR FROM trip_start_timestamp)</code>\n",
    "- The **FROM** field can be a little tricky until you are used to it.  The format is:\n",
    "    1. A backick (the symbol \\`).\n",
    "    2. The project name. In this case it is `bigquery-public-data`.\n",
    "    3. A period.\n",
    "    4. The dataset name. In this case, it is `chicago_taxi_trips`.\n",
    "    5. A period.\n",
    "    6. The table name. You used this as your answer in **1) Find the data**.\n",
    "    7. A backtick (the symbol \\`)."
   ]
  },
  {
   "cell_type": "code",
   "execution_count": 8,
   "id": "c9503dfd",
   "metadata": {
    "execution": {
     "iopub.execute_input": "2023-05-02T07:00:56.692740Z",
     "iopub.status.busy": "2023-05-02T07:00:56.692292Z",
     "iopub.status.idle": "2023-05-02T07:00:57.750243Z",
     "shell.execute_reply": "2023-05-02T07:00:57.749166Z"
    },
    "papermill": {
     "duration": 1.069124,
     "end_time": "2023-05-02T07:00:57.752399",
     "exception": false,
     "start_time": "2023-05-02T07:00:56.683275",
     "status": "completed"
    },
    "tags": []
   },
   "outputs": [
    {
     "name": "stdout",
     "output_type": "stream",
     "text": [
      "    year  num_trips\n",
      "0   2023    1446387\n",
      "1   2022    6382071\n",
      "2   2021    3947677\n",
      "3   2020    3888831\n",
      "4   2019   16476440\n",
      "5   2018   20731105\n",
      "6   2017   24979611\n",
      "7   2016   31756403\n",
      "8   2015   32385527\n",
      "9   2014   37395079\n",
      "10  2013   27217300\n"
     ]
    },
    {
     "data": {
      "application/javascript": [
       "parent.postMessage({\"jupyterEvent\": \"custom.exercise_interaction\", \"data\": {\"outcomeType\": 1, \"valueTowardsCompletion\": 0.16666666666666666, \"interactionType\": 1, \"questionType\": 2, \"questionId\": \"3_YearDistrib\", \"learnToolsVersion\": \"0.3.4\", \"failureMessage\": \"\", \"exceptionClass\": \"\", \"trace\": \"\"}}, \"*\")"
      ],
      "text/plain": [
       "<IPython.core.display.Javascript object>"
      ]
     },
     "metadata": {},
     "output_type": "display_data"
    },
    {
     "data": {
      "text/markdown": [
       "<span style=\"color:#33cc33\">Correct</span>"
      ],
      "text/plain": [
       "Correct"
      ]
     },
     "metadata": {},
     "output_type": "display_data"
    }
   ],
   "source": [
    "# Your code goes here\n",
    "rides_per_year_query = \"\"\"\n",
    "SELECT EXTRACT(YEAR FROM trip_start_timestamp) AS year, COUNT(1) AS num_trips\n",
    "FROM `bigquery-public-data.chicago_taxi_trips.taxi_trips`\n",
    "GROUP BY year\n",
    "ORDER BY year DESC\n",
    "\"\"\"\n",
    "\n",
    "# Set up the query (cancel the query if it would use too much of \n",
    "# your quota)\n",
    "safe_config = bigquery.QueryJobConfig(maximum_bytes_billed=10**10)\n",
    "rides_per_year_query_job = client.query(rides_per_year_query, job_config=safe_config) # Your code goes here\n",
    "\n",
    "# API request - run the query, and return a pandas DataFrame\n",
    "rides_per_year_result = rides_per_year_query_job.to_dataframe() # Your code goes here\n",
    "\n",
    "# View results\n",
    "print(rides_per_year_result)\n",
    "\n",
    "# Check your answer\n",
    "q_3.check()"
   ]
  },
  {
   "cell_type": "markdown",
   "id": "3e210ba8",
   "metadata": {
    "papermill": {
     "duration": 0.00781,
     "end_time": "2023-05-02T07:00:57.768274",
     "exception": false,
     "start_time": "2023-05-02T07:00:57.760464",
     "status": "completed"
    },
    "tags": []
   },
   "source": [
    "For a hint or the solution, uncomment the appropriate line below."
   ]
  },
  {
   "cell_type": "code",
   "execution_count": 9,
   "id": "4f05205f",
   "metadata": {
    "execution": {
     "iopub.execute_input": "2023-05-02T07:00:57.786900Z",
     "iopub.status.busy": "2023-05-02T07:00:57.786536Z",
     "iopub.status.idle": "2023-05-02T07:00:57.790598Z",
     "shell.execute_reply": "2023-05-02T07:00:57.789553Z"
    },
    "papermill": {
     "duration": 0.015743,
     "end_time": "2023-05-02T07:00:57.792690",
     "exception": false,
     "start_time": "2023-05-02T07:00:57.776947",
     "status": "completed"
    },
    "tags": []
   },
   "outputs": [],
   "source": [
    "#q_3.hint()\n",
    "#q_3.solution()"
   ]
  },
  {
   "cell_type": "markdown",
   "id": "ca07df76",
   "metadata": {
    "papermill": {
     "duration": 0.007848,
     "end_time": "2023-05-02T07:00:57.808699",
     "exception": false,
     "start_time": "2023-05-02T07:00:57.800851",
     "status": "completed"
    },
    "tags": []
   },
   "source": [
    "### 4) Dive slightly deeper\n",
    "\n",
    "You'd like to take a closer look at rides from 2016.  Copy the query you used above in `rides_per_year_query` into the cell below for `rides_per_month_query`.  Then modify it in two ways:\n",
    "1. Use a **WHERE** clause to limit the query to data from 2016.\n",
    "2. Modify the query to extract the month rather than the year."
   ]
  },
  {
   "cell_type": "code",
   "execution_count": 10,
   "id": "63c1c71b",
   "metadata": {
    "execution": {
     "iopub.execute_input": "2023-05-02T07:00:57.826818Z",
     "iopub.status.busy": "2023-05-02T07:00:57.825928Z",
     "iopub.status.idle": "2023-05-02T07:00:58.895200Z",
     "shell.execute_reply": "2023-05-02T07:00:58.894143Z"
    },
    "papermill": {
     "duration": 1.080623,
     "end_time": "2023-05-02T07:00:58.897336",
     "exception": false,
     "start_time": "2023-05-02T07:00:57.816713",
     "status": "completed"
    },
    "tags": []
   },
   "outputs": [
    {
     "name": "stdout",
     "output_type": "stream",
     "text": [
      "    month  num_trips\n",
      "0      12    2312992\n",
      "1      11    2387790\n",
      "2      10    2725340\n",
      "3       9    2532650\n",
      "4       8    2629482\n",
      "5       7    2682912\n",
      "6       6    2841872\n",
      "7       5    2859147\n",
      "8       4    2854290\n",
      "9       3    2851106\n",
      "10      2    2568433\n",
      "11      1    2510389\n"
     ]
    },
    {
     "data": {
      "application/javascript": [
       "parent.postMessage({\"jupyterEvent\": \"custom.exercise_interaction\", \"data\": {\"outcomeType\": 1, \"valueTowardsCompletion\": 0.16666666666666666, \"interactionType\": 1, \"questionType\": 2, \"questionId\": \"4_MonthDistrib\", \"learnToolsVersion\": \"0.3.4\", \"failureMessage\": \"\", \"exceptionClass\": \"\", \"trace\": \"\"}}, \"*\")"
      ],
      "text/plain": [
       "<IPython.core.display.Javascript object>"
      ]
     },
     "metadata": {},
     "output_type": "display_data"
    },
    {
     "data": {
      "text/markdown": [
       "<span style=\"color:#33cc33\">Correct</span>"
      ],
      "text/plain": [
       "Correct"
      ]
     },
     "metadata": {},
     "output_type": "display_data"
    }
   ],
   "source": [
    "# Your code goes here\n",
    "rides_per_month_query = \"\"\"\n",
    "SELECT EXTRACT(MONTH FROM trip_start_timestamp) AS month, COUNT(1) AS num_trips\n",
    "FROM `bigquery-public-data.chicago_taxi_trips.taxi_trips`\n",
    "WHERE EXTRACT(YEAR FROM trip_start_timestamp) = 2016\n",
    "GROUP BY month\n",
    "ORDER BY month DESC\n",
    "\"\"\" \n",
    "\n",
    "# Set up the query\n",
    "safe_config = bigquery.QueryJobConfig(maximum_bytes_billed=10**10)\n",
    "rides_per_month_query_job = client.query(rides_per_month_query, job_config=safe_config) # Your code goes here\n",
    "\n",
    "# API request - run the query, and return a pandas DataFrame\n",
    "rides_per_month_result = rides_per_month_query_job.to_dataframe() # Your code goes here\n",
    "\n",
    "# View results\n",
    "print(rides_per_month_result)\n",
    "\n",
    "# Check your answer\n",
    "q_4.check()"
   ]
  },
  {
   "cell_type": "markdown",
   "id": "554bca8c",
   "metadata": {
    "papermill": {
     "duration": 0.008016,
     "end_time": "2023-05-02T07:00:58.913865",
     "exception": false,
     "start_time": "2023-05-02T07:00:58.905849",
     "status": "completed"
    },
    "tags": []
   },
   "source": [
    "For a hint or the solution, uncomment the appropriate line below."
   ]
  },
  {
   "cell_type": "code",
   "execution_count": 11,
   "id": "940c2585",
   "metadata": {
    "execution": {
     "iopub.execute_input": "2023-05-02T07:00:58.932738Z",
     "iopub.status.busy": "2023-05-02T07:00:58.931841Z",
     "iopub.status.idle": "2023-05-02T07:00:58.936250Z",
     "shell.execute_reply": "2023-05-02T07:00:58.935221Z"
    },
    "papermill": {
     "duration": 0.016279,
     "end_time": "2023-05-02T07:00:58.938472",
     "exception": false,
     "start_time": "2023-05-02T07:00:58.922193",
     "status": "completed"
    },
    "tags": []
   },
   "outputs": [],
   "source": [
    "#q_4.hint()\n",
    "#q_4.solution()"
   ]
  },
  {
   "cell_type": "markdown",
   "id": "fe27f5cb",
   "metadata": {
    "papermill": {
     "duration": 0.008094,
     "end_time": "2023-05-02T07:00:58.955103",
     "exception": false,
     "start_time": "2023-05-02T07:00:58.947009",
     "status": "completed"
    },
    "tags": []
   },
   "source": [
    "### 5) Write the query\n",
    "\n",
    "It's time to step up the sophistication of your queries.  Write a query that shows, for each hour of the day in the dataset, the corresponding number of trips and average speed.\n",
    "\n",
    "Your results should have three columns:\n",
    "- `hour_of_day` - sort by this column, which holds the result of extracting the hour from `trip_start_timestamp`.\n",
    "- `num_trips` - the count of the total number of trips in each hour of the day (e.g. how many trips were started between 6AM and 7AM, independent of which day it occurred on).\n",
    "- `avg_mph` - the average speed, measured in miles per hour, for trips that started in that hour of the day.  Average speed in miles per hour is calculated as `3600 * SUM(trip_miles) / SUM(trip_seconds)`. (The value 3600 is used to convert from seconds to hours.)\n",
    "\n",
    "Restrict your query to data meeting the following criteria:\n",
    "- a `trip_start_timestamp` > **2016-01-01** and < **2016-04-01**\n",
    "- `trip_seconds` > 0 and `trip_miles` > 0\n",
    "\n",
    "You will use a common table expression (CTE) to select just the relevant rides.  Because this dataset is very big, this CTE should select only the columns you'll need to create the final output (though you won't actually create those in the CTE -- instead you'll create those in the later **SELECT** statement below the CTE).\n",
    "\n",
    "This is a much harder query than anything you've written so far.  Good luck!"
   ]
  },
  {
   "cell_type": "code",
   "execution_count": 12,
   "id": "6eacf216",
   "metadata": {
    "execution": {
     "iopub.execute_input": "2023-05-02T07:00:58.973400Z",
     "iopub.status.busy": "2023-05-02T07:00:58.973017Z",
     "iopub.status.idle": "2023-05-02T07:01:00.092240Z",
     "shell.execute_reply": "2023-05-02T07:01:00.091045Z"
    },
    "papermill": {
     "duration": 1.130884,
     "end_time": "2023-05-02T07:01:00.094370",
     "exception": false,
     "start_time": "2023-05-02T07:00:58.963486",
     "status": "completed"
    },
    "tags": []
   },
   "outputs": [
    {
     "name": "stdout",
     "output_type": "stream",
     "text": [
      "    hour_of_day  num_trips    avg_mph\n",
      "0             0     203092  20.191744\n",
      "1             1     178046  18.628598\n",
      "2             2     143447  18.444370\n",
      "3             3     108899  19.273107\n",
      "4             4      80067  27.599669\n",
      "5             5      75786  33.065604\n",
      "6             6     102254  28.533112\n",
      "7             7     187585  19.884592\n",
      "8             8     284223  16.787900\n",
      "9             9     306854  18.434124\n",
      "10           10     279762  20.091309\n",
      "11           11     294006  20.926340\n",
      "12           12     311522  20.063901\n",
      "13           13     317225  19.766321\n",
      "14           14     312629  19.309655\n",
      "15           15     319953  18.515564\n",
      "16           16     349455  17.168814\n",
      "17           17     394324  14.641375\n",
      "18           18     431991  15.381995\n",
      "19           19     416743  17.795008\n",
      "20           20     356279  20.347398\n",
      "21           21     318363  22.584731\n",
      "22           22     289886  21.129847\n",
      "23           23     241690  20.259757\n"
     ]
    },
    {
     "data": {
      "application/javascript": [
       "parent.postMessage({\"jupyterEvent\": \"custom.exercise_interaction\", \"data\": {\"outcomeType\": 1, \"valueTowardsCompletion\": 0.16666666666666666, \"interactionType\": 1, \"questionType\": 2, \"questionId\": \"5_TheLongQuery\", \"learnToolsVersion\": \"0.3.4\", \"failureMessage\": \"\", \"exceptionClass\": \"\", \"trace\": \"\"}}, \"*\")"
      ],
      "text/plain": [
       "<IPython.core.display.Javascript object>"
      ]
     },
     "metadata": {},
     "output_type": "display_data"
    },
    {
     "data": {
      "text/markdown": [
       "<span style=\"color:#33cc33\">Correct</span>"
      ],
      "text/plain": [
       "Correct"
      ]
     },
     "metadata": {},
     "output_type": "display_data"
    }
   ],
   "source": [
    "# Your code goes here\n",
    "speeds_query = \"\"\"\n",
    "               WITH RelevantRides AS\n",
    "               (\n",
    "                   SELECT EXTRACT(HOUR from trip_start_timestamp) as hour_of_day, \n",
    "                   trip_seconds, \n",
    "                   trip_miles\n",
    "                   FROM `bigquery-public-data.chicago_taxi_trips.taxi_trips`\n",
    "                   WHERE trip_start_timestamp > '2016-01-01'\n",
    "                   AND trip_start_timestamp < '2016-04-01'\n",
    "                   AND trip_seconds > 0 \n",
    "                   AND trip_miles > 0\n",
    "               )\n",
    "               SELECT hour_of_day, \n",
    "               COUNT(1) as num_trips, \n",
    "               3600 * SUM(trip_miles) / SUM(trip_seconds) as avg_mph\n",
    "               FROM RelevantRides\n",
    "               GROUP BY hour_of_day\n",
    "               ORDER BY hour_of_day\n",
    "               \"\"\"\n",
    "\n",
    "# Set up the query\n",
    "safe_config = bigquery.QueryJobConfig(maximum_bytes_billed=10**10)\n",
    "speeds_query_job = client.query(speeds_query, job_config=safe_config) # Your code here\n",
    "\n",
    "# API request - run the query, and return a pandas DataFrame\n",
    "speeds_result = speeds_query_job.to_dataframe() # Your code here\n",
    "\n",
    "# View results\n",
    "print(speeds_result)\n",
    "\n",
    "# Check your answer\n",
    "q_5.check()"
   ]
  },
  {
   "cell_type": "markdown",
   "id": "236d1eac",
   "metadata": {
    "papermill": {
     "duration": 0.008424,
     "end_time": "2023-05-02T07:01:00.111652",
     "exception": false,
     "start_time": "2023-05-02T07:01:00.103228",
     "status": "completed"
    },
    "tags": []
   },
   "source": [
    "For the solution, uncomment the appropriate line below."
   ]
  },
  {
   "cell_type": "code",
   "execution_count": 13,
   "id": "10efd636",
   "metadata": {
    "execution": {
     "iopub.execute_input": "2023-05-02T07:01:00.130551Z",
     "iopub.status.busy": "2023-05-02T07:01:00.130186Z",
     "iopub.status.idle": "2023-05-02T07:01:00.134185Z",
     "shell.execute_reply": "2023-05-02T07:01:00.133135Z"
    },
    "papermill": {
     "duration": 0.01608,
     "end_time": "2023-05-02T07:01:00.136280",
     "exception": false,
     "start_time": "2023-05-02T07:01:00.120200",
     "status": "completed"
    },
    "tags": []
   },
   "outputs": [],
   "source": [
    "#q_5.solution()"
   ]
  },
  {
   "cell_type": "markdown",
   "id": "dad91057",
   "metadata": {
    "papermill": {
     "duration": 0.008313,
     "end_time": "2023-05-02T07:01:00.153481",
     "exception": false,
     "start_time": "2023-05-02T07:01:00.145168",
     "status": "completed"
    },
    "tags": []
   },
   "source": [
    "That's a hard query. If you made good progress towards the solution, congratulations!"
   ]
  },
  {
   "cell_type": "markdown",
   "id": "2001044d",
   "metadata": {
    "papermill": {
     "duration": 0.008334,
     "end_time": "2023-05-02T07:01:00.170395",
     "exception": false,
     "start_time": "2023-05-02T07:01:00.162061",
     "status": "completed"
    },
    "tags": []
   },
   "source": [
    "# Keep going\n",
    "\n",
    "You can write very complex queries now with a single data source. But nothing expands the horizons of SQL as much as the ability to combine or **JOIN** tables.\n",
    "\n",
    "**[Click here](https://www.kaggle.com/dansbecker/joining-data)** to start the last lesson in the Intro to SQL course."
   ]
  },
  {
   "cell_type": "markdown",
   "id": "bd9a9e9d",
   "metadata": {
    "papermill": {
     "duration": 0.008313,
     "end_time": "2023-05-02T07:01:00.187284",
     "exception": false,
     "start_time": "2023-05-02T07:01:00.178971",
     "status": "completed"
    },
    "tags": []
   },
   "source": [
    "---\n",
    "\n",
    "\n",
    "\n",
    "\n",
    "*Have questions or comments? Visit the [course discussion forum](https://www.kaggle.com/learn/intro-to-sql/discussion) to chat with other learners.*"
   ]
  }
 ],
 "metadata": {
  "kernelspec": {
   "display_name": "Python 3",
   "language": "python",
   "name": "python3"
  },
  "language_info": {
   "codemirror_mode": {
    "name": "ipython",
    "version": 3
   },
   "file_extension": ".py",
   "mimetype": "text/x-python",
   "name": "python",
   "nbconvert_exporter": "python",
   "pygments_lexer": "ipython3",
   "version": "3.10.10"
  },
  "papermill": {
   "default_parameters": {},
   "duration": 41.300875,
   "end_time": "2023-05-02T07:01:01.118192",
   "environment_variables": {},
   "exception": null,
   "input_path": "__notebook__.ipynb",
   "output_path": "__notebook__.ipynb",
   "parameters": {},
   "start_time": "2023-05-02T07:00:19.817317",
   "version": "2.4.0"
  }
 },
 "nbformat": 4,
 "nbformat_minor": 5
}
