{
 "cells": [
  {
   "cell_type": "markdown",
   "id": "74cdea05",
   "metadata": {
    "papermill": {
     "duration": 0.006423,
     "end_time": "2023-04-19T14:15:44.976795",
     "exception": false,
     "start_time": "2023-04-19T14:15:44.970372",
     "status": "completed"
    },
    "tags": []
   },
   "source": [
    "**This notebook is an exercise in the [SQL](https://www.kaggle.com/learn/intro-to-sql) course.  You can reference the tutorial at [this link](https://www.kaggle.com/dansbecker/getting-started-with-sql-and-bigquery).**\n",
    "\n",
    "---\n"
   ]
  },
  {
   "cell_type": "markdown",
   "id": "c324fac8",
   "metadata": {
    "papermill": {
     "duration": 0.004869,
     "end_time": "2023-04-19T14:15:44.986957",
     "exception": false,
     "start_time": "2023-04-19T14:15:44.982088",
     "status": "completed"
    },
    "tags": []
   },
   "source": [
    "# Introduction\n",
    "\n",
    "The first test of your new data exploration skills uses data describing crime in the city of Chicago.\n",
    "\n",
    "Before you get started, run the following cell. It sets up the automated feedback system to review your answers."
   ]
  },
  {
   "cell_type": "code",
   "execution_count": 1,
   "id": "0203ab68",
   "metadata": {
    "execution": {
     "iopub.execute_input": "2023-04-19T14:15:44.999649Z",
     "iopub.status.busy": "2023-04-19T14:15:44.999254Z",
     "iopub.status.idle": "2023-04-19T14:15:46.278454Z",
     "shell.execute_reply": "2023-04-19T14:15:46.276895Z"
    },
    "papermill": {
     "duration": 1.289071,
     "end_time": "2023-04-19T14:15:46.281257",
     "exception": false,
     "start_time": "2023-04-19T14:15:44.992186",
     "status": "completed"
    },
    "tags": []
   },
   "outputs": [
    {
     "name": "stdout",
     "output_type": "stream",
     "text": [
      "Using Kaggle's public dataset BigQuery integration.\n",
      "Setup Complete\n"
     ]
    }
   ],
   "source": [
    "# Set up feedack system\n",
    "from learntools.core import binder\n",
    "binder.bind(globals())\n",
    "from learntools.sql.ex1 import *\n",
    "print(\"Setup Complete\")"
   ]
  },
  {
   "cell_type": "markdown",
   "id": "95dd480c",
   "metadata": {
    "papermill": {
     "duration": 0.005575,
     "end_time": "2023-04-19T14:15:46.292516",
     "exception": false,
     "start_time": "2023-04-19T14:15:46.286941",
     "status": "completed"
    },
    "tags": []
   },
   "source": [
    "Use the next code cell to fetch the dataset."
   ]
  },
  {
   "cell_type": "code",
   "execution_count": 2,
   "id": "727e0158",
   "metadata": {
    "execution": {
     "iopub.execute_input": "2023-04-19T14:15:46.306126Z",
     "iopub.status.busy": "2023-04-19T14:15:46.305310Z",
     "iopub.status.idle": "2023-04-19T14:15:46.734418Z",
     "shell.execute_reply": "2023-04-19T14:15:46.733037Z"
    },
    "papermill": {
     "duration": 0.439463,
     "end_time": "2023-04-19T14:15:46.737558",
     "exception": false,
     "start_time": "2023-04-19T14:15:46.298095",
     "status": "completed"
    },
    "tags": []
   },
   "outputs": [
    {
     "name": "stdout",
     "output_type": "stream",
     "text": [
      "Using Kaggle's public dataset BigQuery integration.\n"
     ]
    }
   ],
   "source": [
    "from google.cloud import bigquery\n",
    "\n",
    "# Create a \"Client\" object\n",
    "client = bigquery.Client()\n",
    "\n",
    "# Construct a reference to the \"chicago_crime\" dataset\n",
    "dataset_ref = client.dataset(\"chicago_crime\", project=\"bigquery-public-data\")\n",
    "\n",
    "# API request - fetch the dataset\n",
    "dataset = client.get_dataset(dataset_ref)"
   ]
  },
  {
   "cell_type": "markdown",
   "id": "4af30b3d",
   "metadata": {
    "papermill": {
     "duration": 0.005211,
     "end_time": "2023-04-19T14:15:46.748461",
     "exception": false,
     "start_time": "2023-04-19T14:15:46.743250",
     "status": "completed"
    },
    "tags": []
   },
   "source": [
    "# Exercises\n",
    "\n",
    "### 1) Count tables in the dataset\n",
    "\n",
    "How many tables are in the Chicago Crime dataset?"
   ]
  },
  {
   "cell_type": "code",
   "execution_count": 3,
   "id": "ee8a3150",
   "metadata": {
    "execution": {
     "iopub.execute_input": "2023-04-19T14:15:46.761569Z",
     "iopub.status.busy": "2023-04-19T14:15:46.760857Z",
     "iopub.status.idle": "2023-04-19T14:15:46.766191Z",
     "shell.execute_reply": "2023-04-19T14:15:46.765142Z"
    },
    "papermill": {
     "duration": 0.01465,
     "end_time": "2023-04-19T14:15:46.768563",
     "exception": false,
     "start_time": "2023-04-19T14:15:46.753913",
     "status": "completed"
    },
    "tags": []
   },
   "outputs": [],
   "source": [
    "# Write the code you need here to figure out the answer"
   ]
  },
  {
   "cell_type": "code",
   "execution_count": 4,
   "id": "b808f785",
   "metadata": {
    "execution": {
     "iopub.execute_input": "2023-04-19T14:15:46.783072Z",
     "iopub.status.busy": "2023-04-19T14:15:46.781438Z",
     "iopub.status.idle": "2023-04-19T14:15:47.650406Z",
     "shell.execute_reply": "2023-04-19T14:15:47.649070Z"
    },
    "papermill": {
     "duration": 0.878747,
     "end_time": "2023-04-19T14:15:47.652965",
     "exception": false,
     "start_time": "2023-04-19T14:15:46.774218",
     "status": "completed"
    },
    "tags": []
   },
   "outputs": [
    {
     "data": {
      "application/javascript": [
       "parent.postMessage({\"jupyterEvent\": \"custom.exercise_interaction\", \"data\": {\"outcomeType\": 1, \"valueTowardsCompletion\": 0.3333333333333333, \"interactionType\": 1, \"questionType\": 1, \"questionId\": \"1_CountTables\", \"learnToolsVersion\": \"0.3.4\", \"failureMessage\": \"\", \"exceptionClass\": \"\", \"trace\": \"\"}}, \"*\")"
      ],
      "text/plain": [
       "<IPython.core.display.Javascript object>"
      ]
     },
     "metadata": {},
     "output_type": "display_data"
    },
    {
     "data": {
      "text/markdown": [
       "<span style=\"color:#33cc33\">Correct</span>"
      ],
      "text/plain": [
       "Correct"
      ]
     },
     "metadata": {},
     "output_type": "display_data"
    },
    {
     "data": {
      "text/plain": [
       "1"
      ]
     },
     "execution_count": 4,
     "metadata": {},
     "output_type": "execute_result"
    }
   ],
   "source": [
    "num_tables = len(list(client.list_tables(dataset)))  # Store the answer as num_tables and then run this cell\n",
    "\n",
    "# Check your answer\n",
    "q_1.check()\n",
    "num_tables"
   ]
  },
  {
   "cell_type": "markdown",
   "id": "35953d39",
   "metadata": {
    "papermill": {
     "duration": 0.006128,
     "end_time": "2023-04-19T14:15:47.665182",
     "exception": false,
     "start_time": "2023-04-19T14:15:47.659054",
     "status": "completed"
    },
    "tags": []
   },
   "source": [
    "For a hint or the solution, uncomment the appropriate line below."
   ]
  },
  {
   "cell_type": "code",
   "execution_count": 5,
   "id": "2cd2f5c3",
   "metadata": {
    "execution": {
     "iopub.execute_input": "2023-04-19T14:15:47.680456Z",
     "iopub.status.busy": "2023-04-19T14:15:47.680057Z",
     "iopub.status.idle": "2023-04-19T14:15:47.684877Z",
     "shell.execute_reply": "2023-04-19T14:15:47.683485Z"
    },
    "papermill": {
     "duration": 0.015592,
     "end_time": "2023-04-19T14:15:47.687519",
     "exception": false,
     "start_time": "2023-04-19T14:15:47.671927",
     "status": "completed"
    },
    "tags": []
   },
   "outputs": [],
   "source": [
    "#q_1.hint()\n",
    "#q_1.solution()"
   ]
  },
  {
   "cell_type": "markdown",
   "id": "bcc107ad",
   "metadata": {
    "papermill": {
     "duration": 0.005902,
     "end_time": "2023-04-19T14:15:47.700419",
     "exception": false,
     "start_time": "2023-04-19T14:15:47.694517",
     "status": "completed"
    },
    "tags": []
   },
   "source": [
    "### 2) Explore the table schema\n",
    "\n",
    "How many columns in the `crime` table have `TIMESTAMP` data?"
   ]
  },
  {
   "cell_type": "code",
   "execution_count": 6,
   "id": "125fbefe",
   "metadata": {
    "execution": {
     "iopub.execute_input": "2023-04-19T14:15:47.715965Z",
     "iopub.status.busy": "2023-04-19T14:15:47.715229Z",
     "iopub.status.idle": "2023-04-19T14:15:47.719440Z",
     "shell.execute_reply": "2023-04-19T14:15:47.718516Z"
    },
    "papermill": {
     "duration": 0.014287,
     "end_time": "2023-04-19T14:15:47.721913",
     "exception": false,
     "start_time": "2023-04-19T14:15:47.707626",
     "status": "completed"
    },
    "tags": []
   },
   "outputs": [],
   "source": [
    "# Write the code to figure out the answer"
   ]
  },
  {
   "cell_type": "code",
   "execution_count": 7,
   "id": "98ea99ac",
   "metadata": {
    "execution": {
     "iopub.execute_input": "2023-04-19T14:15:47.737070Z",
     "iopub.status.busy": "2023-04-19T14:15:47.736278Z",
     "iopub.status.idle": "2023-04-19T14:15:48.119893Z",
     "shell.execute_reply": "2023-04-19T14:15:48.118549Z"
    },
    "papermill": {
     "duration": 0.394135,
     "end_time": "2023-04-19T14:15:48.122597",
     "exception": false,
     "start_time": "2023-04-19T14:15:47.728462",
     "status": "completed"
    },
    "tags": []
   },
   "outputs": [
    {
     "data": {
      "application/javascript": [
       "parent.postMessage({\"jupyterEvent\": \"custom.exercise_interaction\", \"data\": {\"outcomeType\": 1, \"valueTowardsCompletion\": 0.3333333333333333, \"interactionType\": 1, \"questionType\": 1, \"questionId\": \"2_CountTimestampFields\", \"learnToolsVersion\": \"0.3.4\", \"failureMessage\": \"\", \"exceptionClass\": \"\", \"trace\": \"\"}}, \"*\")"
      ],
      "text/plain": [
       "<IPython.core.display.Javascript object>"
      ]
     },
     "metadata": {},
     "output_type": "display_data"
    },
    {
     "data": {
      "text/markdown": [
       "<span style=\"color:#33cc33\">Correct</span>"
      ],
      "text/plain": [
       "Correct"
      ]
     },
     "metadata": {},
     "output_type": "display_data"
    },
    {
     "data": {
      "text/plain": [
       "[SchemaField('unique_key', 'INTEGER', 'REQUIRED', None, (), None),\n",
       " SchemaField('case_number', 'STRING', 'NULLABLE', None, (), None),\n",
       " SchemaField('date', 'TIMESTAMP', 'NULLABLE', None, (), None),\n",
       " SchemaField('block', 'STRING', 'NULLABLE', None, (), None),\n",
       " SchemaField('iucr', 'STRING', 'NULLABLE', None, (), None),\n",
       " SchemaField('primary_type', 'STRING', 'NULLABLE', None, (), None),\n",
       " SchemaField('description', 'STRING', 'NULLABLE', None, (), None),\n",
       " SchemaField('location_description', 'STRING', 'NULLABLE', None, (), None),\n",
       " SchemaField('arrest', 'BOOLEAN', 'NULLABLE', None, (), None),\n",
       " SchemaField('domestic', 'BOOLEAN', 'NULLABLE', None, (), None),\n",
       " SchemaField('beat', 'INTEGER', 'NULLABLE', None, (), None),\n",
       " SchemaField('district', 'INTEGER', 'NULLABLE', None, (), None),\n",
       " SchemaField('ward', 'INTEGER', 'NULLABLE', None, (), None),\n",
       " SchemaField('community_area', 'INTEGER', 'NULLABLE', None, (), None),\n",
       " SchemaField('fbi_code', 'STRING', 'NULLABLE', None, (), None),\n",
       " SchemaField('x_coordinate', 'FLOAT', 'NULLABLE', None, (), None),\n",
       " SchemaField('y_coordinate', 'FLOAT', 'NULLABLE', None, (), None),\n",
       " SchemaField('year', 'INTEGER', 'NULLABLE', None, (), None),\n",
       " SchemaField('updated_on', 'TIMESTAMP', 'NULLABLE', None, (), None),\n",
       " SchemaField('latitude', 'FLOAT', 'NULLABLE', None, (), None),\n",
       " SchemaField('longitude', 'FLOAT', 'NULLABLE', None, (), None),\n",
       " SchemaField('location', 'STRING', 'NULLABLE', None, (), None)]"
      ]
     },
     "execution_count": 7,
     "metadata": {},
     "output_type": "execute_result"
    }
   ],
   "source": [
    "num_timestamp_fields = 2\n",
    "# Put your answer here\n",
    "# Construct a reference to the \"full\" table\n",
    "table_ref = dataset_ref.table(\"crime\")\n",
    "\n",
    "# API request - fetch the table\n",
    "table = client.get_table(table_ref)\n",
    "\n",
    "# Check your answer\n",
    "q_2.check()\n",
    "table.schema\n"
   ]
  },
  {
   "cell_type": "markdown",
   "id": "24d03b37",
   "metadata": {
    "papermill": {
     "duration": 0.007637,
     "end_time": "2023-04-19T14:15:48.136858",
     "exception": false,
     "start_time": "2023-04-19T14:15:48.129221",
     "status": "completed"
    },
    "tags": []
   },
   "source": [
    "For a hint or the solution, uncomment the appropriate line below."
   ]
  },
  {
   "cell_type": "code",
   "execution_count": 8,
   "id": "728b1cea",
   "metadata": {
    "execution": {
     "iopub.execute_input": "2023-04-19T14:15:48.151819Z",
     "iopub.status.busy": "2023-04-19T14:15:48.151342Z",
     "iopub.status.idle": "2023-04-19T14:15:48.157113Z",
     "shell.execute_reply": "2023-04-19T14:15:48.155153Z"
    },
    "papermill": {
     "duration": 0.016885,
     "end_time": "2023-04-19T14:15:48.160290",
     "exception": false,
     "start_time": "2023-04-19T14:15:48.143405",
     "status": "completed"
    },
    "tags": []
   },
   "outputs": [],
   "source": [
    "#q_2.hint()\n",
    "#q_2.solution()"
   ]
  },
  {
   "cell_type": "markdown",
   "id": "25d032be",
   "metadata": {
    "papermill": {
     "duration": 0.007598,
     "end_time": "2023-04-19T14:15:48.174257",
     "exception": false,
     "start_time": "2023-04-19T14:15:48.166659",
     "status": "completed"
    },
    "tags": []
   },
   "source": [
    "### 3) Create a crime map\n",
    "\n",
    "If you wanted to create a map with a dot at the location of each crime, what are the names of the two fields you likely need to pull out of the `crime` table to plot the crimes on a map?"
   ]
  },
  {
   "cell_type": "code",
   "execution_count": 9,
   "id": "4768c7f2",
   "metadata": {
    "execution": {
     "iopub.execute_input": "2023-04-19T14:15:48.190877Z",
     "iopub.status.busy": "2023-04-19T14:15:48.189893Z",
     "iopub.status.idle": "2023-04-19T14:15:48.195945Z",
     "shell.execute_reply": "2023-04-19T14:15:48.194553Z"
    },
    "papermill": {
     "duration": 0.018371,
     "end_time": "2023-04-19T14:15:48.199743",
     "exception": false,
     "start_time": "2023-04-19T14:15:48.181372",
     "status": "completed"
    },
    "tags": []
   },
   "outputs": [],
   "source": [
    "# Write the code here to explore the data so you can find the answer"
   ]
  },
  {
   "cell_type": "code",
   "execution_count": 10,
   "id": "28fda98b",
   "metadata": {
    "execution": {
     "iopub.execute_input": "2023-04-19T14:15:48.216622Z",
     "iopub.status.busy": "2023-04-19T14:15:48.215538Z",
     "iopub.status.idle": "2023-04-19T14:15:48.228085Z",
     "shell.execute_reply": "2023-04-19T14:15:48.226103Z"
    },
    "papermill": {
     "duration": 0.025953,
     "end_time": "2023-04-19T14:15:48.232202",
     "exception": false,
     "start_time": "2023-04-19T14:15:48.206249",
     "status": "completed"
    },
    "tags": []
   },
   "outputs": [
    {
     "name": "stdout",
     "output_type": "stream",
     "text": [
      "`'latitude'` and `'longitude'` would be better and more standard than `'x_coordinate'` and `'y_coordinate'`, but this might work.\n"
     ]
    },
    {
     "data": {
      "application/javascript": [
       "parent.postMessage({\"jupyterEvent\": \"custom.exercise_interaction\", \"data\": {\"outcomeType\": 1, \"valueTowardsCompletion\": 0.3333333333333333, \"interactionType\": 1, \"questionType\": 2, \"questionId\": \"3_IdentifyFieldsForPlotting\", \"learnToolsVersion\": \"0.3.4\", \"failureMessage\": \"\", \"exceptionClass\": \"\", \"trace\": \"\"}}, \"*\")"
      ],
      "text/plain": [
       "<IPython.core.display.Javascript object>"
      ]
     },
     "metadata": {},
     "output_type": "display_data"
    },
    {
     "data": {
      "text/markdown": [
       "<span style=\"color:#33cc33\">Correct</span>"
      ],
      "text/plain": [
       "Correct"
      ]
     },
     "metadata": {},
     "output_type": "display_data"
    }
   ],
   "source": [
    "fields_for_plotting = ['x_coordinate', 'y_coordinate'] # Put your answers here\n",
    "\n",
    "# Check your answer\n",
    "q_3.check()"
   ]
  },
  {
   "cell_type": "markdown",
   "id": "cb544600",
   "metadata": {
    "papermill": {
     "duration": 0.00654,
     "end_time": "2023-04-19T14:15:48.246684",
     "exception": false,
     "start_time": "2023-04-19T14:15:48.240144",
     "status": "completed"
    },
    "tags": []
   },
   "source": [
    "For a hint or the solution, uncomment the appropriate line below."
   ]
  },
  {
   "cell_type": "code",
   "execution_count": 11,
   "id": "0e0d09b4",
   "metadata": {
    "execution": {
     "iopub.execute_input": "2023-04-19T14:15:48.264175Z",
     "iopub.status.busy": "2023-04-19T14:15:48.263707Z",
     "iopub.status.idle": "2023-04-19T14:15:48.269055Z",
     "shell.execute_reply": "2023-04-19T14:15:48.267517Z"
    },
    "papermill": {
     "duration": 0.019237,
     "end_time": "2023-04-19T14:15:48.273035",
     "exception": false,
     "start_time": "2023-04-19T14:15:48.253798",
     "status": "completed"
    },
    "tags": []
   },
   "outputs": [],
   "source": [
    "#q_3.hint()\n",
    "#q_3.solution()"
   ]
  },
  {
   "cell_type": "markdown",
   "id": "31e1e410",
   "metadata": {
    "papermill": {
     "duration": 0.006696,
     "end_time": "2023-04-19T14:15:48.286907",
     "exception": false,
     "start_time": "2023-04-19T14:15:48.280211",
     "status": "completed"
    },
    "tags": []
   },
   "source": [
    "Thinking about the question above, there are a few columns that appear to have geographic data. Look at a few values (with the `list_rows()` command) to see if you can determine their relationship.  Two columns will still be hard to interpret. But it should be obvious how the `location` column relates to `latitude` and `longitude`."
   ]
  },
  {
   "cell_type": "code",
   "execution_count": 12,
   "id": "de9e15d8",
   "metadata": {
    "execution": {
     "iopub.execute_input": "2023-04-19T14:15:48.303793Z",
     "iopub.status.busy": "2023-04-19T14:15:48.303366Z",
     "iopub.status.idle": "2023-04-19T14:15:48.867407Z",
     "shell.execute_reply": "2023-04-19T14:15:48.866317Z"
    },
    "papermill": {
     "duration": 0.576918,
     "end_time": "2023-04-19T14:15:48.870818",
     "exception": false,
     "start_time": "2023-04-19T14:15:48.293900",
     "status": "completed"
    },
    "tags": []
   },
   "outputs": [
    {
     "name": "stderr",
     "output_type": "stream",
     "text": [
      "/opt/conda/lib/python3.7/site-packages/ipykernel_launcher.py:2: UserWarning: Cannot use bqstorage_client if max_results is set, reverting to fetching data with the tabledata.list endpoint.\n",
      "  \n"
     ]
    },
    {
     "data": {
      "text/html": [
       "<div>\n",
       "<style scoped>\n",
       "    .dataframe tbody tr th:only-of-type {\n",
       "        vertical-align: middle;\n",
       "    }\n",
       "\n",
       "    .dataframe tbody tr th {\n",
       "        vertical-align: top;\n",
       "    }\n",
       "\n",
       "    .dataframe thead th {\n",
       "        text-align: right;\n",
       "    }\n",
       "</style>\n",
       "<table border=\"1\" class=\"dataframe\">\n",
       "  <thead>\n",
       "    <tr style=\"text-align: right;\">\n",
       "      <th></th>\n",
       "      <th>unique_key</th>\n",
       "      <th>case_number</th>\n",
       "      <th>date</th>\n",
       "      <th>block</th>\n",
       "      <th>iucr</th>\n",
       "      <th>primary_type</th>\n",
       "      <th>description</th>\n",
       "      <th>location_description</th>\n",
       "      <th>arrest</th>\n",
       "      <th>domestic</th>\n",
       "      <th>...</th>\n",
       "      <th>ward</th>\n",
       "      <th>community_area</th>\n",
       "      <th>fbi_code</th>\n",
       "      <th>x_coordinate</th>\n",
       "      <th>y_coordinate</th>\n",
       "      <th>year</th>\n",
       "      <th>updated_on</th>\n",
       "      <th>latitude</th>\n",
       "      <th>longitude</th>\n",
       "      <th>location</th>\n",
       "    </tr>\n",
       "  </thead>\n",
       "  <tbody>\n",
       "    <tr>\n",
       "      <th>0</th>\n",
       "      <td>19885</td>\n",
       "      <td>HT315830</td>\n",
       "      <td>2011-05-26 04:10:00+00:00</td>\n",
       "      <td>105XX S STATE ST</td>\n",
       "      <td>0110</td>\n",
       "      <td>HOMICIDE</td>\n",
       "      <td>FIRST DEGREE MURDER</td>\n",
       "      <td>STREET</td>\n",
       "      <td>True</td>\n",
       "      <td>False</td>\n",
       "      <td>...</td>\n",
       "      <td>34</td>\n",
       "      <td>49</td>\n",
       "      <td>01A</td>\n",
       "      <td>1178119.0</td>\n",
       "      <td>1834990.0</td>\n",
       "      <td>2011</td>\n",
       "      <td>2022-09-18 04:45:51+00:00</td>\n",
       "      <td>41.702523</td>\n",
       "      <td>-87.623388</td>\n",
       "      <td>(41.702522694, -87.623387722)</td>\n",
       "    </tr>\n",
       "    <tr>\n",
       "      <th>1</th>\n",
       "      <td>24071</td>\n",
       "      <td>JB359746</td>\n",
       "      <td>2018-07-21 11:31:00+00:00</td>\n",
       "      <td>002XX W 106TH ST</td>\n",
       "      <td>0110</td>\n",
       "      <td>HOMICIDE</td>\n",
       "      <td>FIRST DEGREE MURDER</td>\n",
       "      <td>STREET</td>\n",
       "      <td>False</td>\n",
       "      <td>False</td>\n",
       "      <td>...</td>\n",
       "      <td>34</td>\n",
       "      <td>49</td>\n",
       "      <td>01A</td>\n",
       "      <td>1176557.0</td>\n",
       "      <td>1834650.0</td>\n",
       "      <td>2018</td>\n",
       "      <td>2022-09-18 04:45:51+00:00</td>\n",
       "      <td>41.701625</td>\n",
       "      <td>-87.629118</td>\n",
       "      <td>(41.701624878, -87.629117507)</td>\n",
       "    </tr>\n",
       "    <tr>\n",
       "      <th>2</th>\n",
       "      <td>1945</td>\n",
       "      <td>HH769051</td>\n",
       "      <td>2002-12-24 11:58:00+00:00</td>\n",
       "      <td>104XX S PRAIRIE AVE</td>\n",
       "      <td>0110</td>\n",
       "      <td>HOMICIDE</td>\n",
       "      <td>FIRST DEGREE MURDER</td>\n",
       "      <td>HOUSE</td>\n",
       "      <td>True</td>\n",
       "      <td>True</td>\n",
       "      <td>...</td>\n",
       "      <td>9</td>\n",
       "      <td>49</td>\n",
       "      <td>01A</td>\n",
       "      <td>1179761.0</td>\n",
       "      <td>1835736.0</td>\n",
       "      <td>2002</td>\n",
       "      <td>2022-08-31 04:51:30+00:00</td>\n",
       "      <td>41.704533</td>\n",
       "      <td>-87.617352</td>\n",
       "      <td>(41.704532517, -87.61735248)</td>\n",
       "    </tr>\n",
       "    <tr>\n",
       "      <th>3</th>\n",
       "      <td>21128</td>\n",
       "      <td>HW495229</td>\n",
       "      <td>2013-10-16 03:24:00+00:00</td>\n",
       "      <td>105XX S LAFAYETTE AVE</td>\n",
       "      <td>0110</td>\n",
       "      <td>HOMICIDE</td>\n",
       "      <td>FIRST DEGREE MURDER</td>\n",
       "      <td>YARD</td>\n",
       "      <td>True</td>\n",
       "      <td>False</td>\n",
       "      <td>...</td>\n",
       "      <td>34</td>\n",
       "      <td>49</td>\n",
       "      <td>01A</td>\n",
       "      <td>1177791.0</td>\n",
       "      <td>1835077.0</td>\n",
       "      <td>2013</td>\n",
       "      <td>2022-08-31 04:51:30+00:00</td>\n",
       "      <td>41.702769</td>\n",
       "      <td>-87.624586</td>\n",
       "      <td>(41.702768847, -87.624586143)</td>\n",
       "    </tr>\n",
       "    <tr>\n",
       "      <th>4</th>\n",
       "      <td>5039</td>\n",
       "      <td>HR349878</td>\n",
       "      <td>2009-05-30 11:53:00+00:00</td>\n",
       "      <td>009XX E 104TH ST</td>\n",
       "      <td>0110</td>\n",
       "      <td>HOMICIDE</td>\n",
       "      <td>FIRST DEGREE MURDER</td>\n",
       "      <td>STREET</td>\n",
       "      <td>False</td>\n",
       "      <td>False</td>\n",
       "      <td>...</td>\n",
       "      <td>9</td>\n",
       "      <td>50</td>\n",
       "      <td>01A</td>\n",
       "      <td>1184238.0</td>\n",
       "      <td>1836191.0</td>\n",
       "      <td>2009</td>\n",
       "      <td>2022-09-18 04:45:51+00:00</td>\n",
       "      <td>41.705678</td>\n",
       "      <td>-87.600944</td>\n",
       "      <td>(41.705677782, -87.600944364)</td>\n",
       "    </tr>\n",
       "  </tbody>\n",
       "</table>\n",
       "<p>5 rows × 22 columns</p>\n",
       "</div>"
      ],
      "text/plain": [
       "   unique_key case_number                      date                  block  \\\n",
       "0       19885    HT315830 2011-05-26 04:10:00+00:00       105XX S STATE ST   \n",
       "1       24071    JB359746 2018-07-21 11:31:00+00:00       002XX W 106TH ST   \n",
       "2        1945    HH769051 2002-12-24 11:58:00+00:00    104XX S PRAIRIE AVE   \n",
       "3       21128    HW495229 2013-10-16 03:24:00+00:00  105XX S LAFAYETTE AVE   \n",
       "4        5039    HR349878 2009-05-30 11:53:00+00:00       009XX E 104TH ST   \n",
       "\n",
       "   iucr primary_type          description location_description  arrest  \\\n",
       "0  0110     HOMICIDE  FIRST DEGREE MURDER               STREET    True   \n",
       "1  0110     HOMICIDE  FIRST DEGREE MURDER               STREET   False   \n",
       "2  0110     HOMICIDE  FIRST DEGREE MURDER                HOUSE    True   \n",
       "3  0110     HOMICIDE  FIRST DEGREE MURDER                 YARD    True   \n",
       "4  0110     HOMICIDE  FIRST DEGREE MURDER               STREET   False   \n",
       "\n",
       "   domestic  ...  ward  community_area  fbi_code  x_coordinate y_coordinate  \\\n",
       "0     False  ...    34              49       01A     1178119.0    1834990.0   \n",
       "1     False  ...    34              49       01A     1176557.0    1834650.0   \n",
       "2      True  ...     9              49       01A     1179761.0    1835736.0   \n",
       "3     False  ...    34              49       01A     1177791.0    1835077.0   \n",
       "4     False  ...     9              50       01A     1184238.0    1836191.0   \n",
       "\n",
       "   year                updated_on   latitude  longitude  \\\n",
       "0  2011 2022-09-18 04:45:51+00:00  41.702523 -87.623388   \n",
       "1  2018 2022-09-18 04:45:51+00:00  41.701625 -87.629118   \n",
       "2  2002 2022-08-31 04:51:30+00:00  41.704533 -87.617352   \n",
       "3  2013 2022-08-31 04:51:30+00:00  41.702769 -87.624586   \n",
       "4  2009 2022-09-18 04:45:51+00:00  41.705678 -87.600944   \n",
       "\n",
       "                        location  \n",
       "0  (41.702522694, -87.623387722)  \n",
       "1  (41.701624878, -87.629117507)  \n",
       "2   (41.704532517, -87.61735248)  \n",
       "3  (41.702768847, -87.624586143)  \n",
       "4  (41.705677782, -87.600944364)  \n",
       "\n",
       "[5 rows x 22 columns]"
      ]
     },
     "execution_count": 12,
     "metadata": {},
     "output_type": "execute_result"
    }
   ],
   "source": [
    "# Scratch space for your code\n",
    "client.list_rows(table, max_results=5).to_dataframe()"
   ]
  },
  {
   "cell_type": "markdown",
   "id": "3aa76d27",
   "metadata": {
    "papermill": {
     "duration": 0.007282,
     "end_time": "2023-04-19T14:15:48.887257",
     "exception": false,
     "start_time": "2023-04-19T14:15:48.879975",
     "status": "completed"
    },
    "tags": []
   },
   "source": [
    "# Keep going\n",
    "\n",
    "You've looked at the schema, but you haven't yet done anything exciting with the data itself. Things get more interesting when you get to the data, so keep going to **[write your first SQL query](https://www.kaggle.com/dansbecker/select-from-where).**"
   ]
  },
  {
   "cell_type": "markdown",
   "id": "24df0c3b",
   "metadata": {
    "papermill": {
     "duration": 0.007974,
     "end_time": "2023-04-19T14:15:48.903945",
     "exception": false,
     "start_time": "2023-04-19T14:15:48.895971",
     "status": "completed"
    },
    "tags": []
   },
   "source": [
    "---\n",
    "\n",
    "\n",
    "\n",
    "\n",
    "*Have questions or comments? Visit the [course discussion forum](https://www.kaggle.com/learn/intro-to-sql/discussion) to chat with other learners.*"
   ]
  }
 ],
 "metadata": {
  "kernelspec": {
   "display_name": "Python 3",
   "language": "python",
   "name": "python3"
  },
  "language_info": {
   "codemirror_mode": {
    "name": "ipython",
    "version": 3
   },
   "file_extension": ".py",
   "mimetype": "text/x-python",
   "name": "python",
   "nbconvert_exporter": "python",
   "pygments_lexer": "ipython3",
   "version": "3.7.12"
  },
  "papermill": {
   "default_parameters": {},
   "duration": 16.340502,
   "end_time": "2023-04-19T14:15:49.737504",
   "environment_variables": {},
   "exception": null,
   "input_path": "__notebook__.ipynb",
   "output_path": "__notebook__.ipynb",
   "parameters": {},
   "start_time": "2023-04-19T14:15:33.397002",
   "version": "2.4.0"
  }
 },
 "nbformat": 4,
 "nbformat_minor": 5
}
