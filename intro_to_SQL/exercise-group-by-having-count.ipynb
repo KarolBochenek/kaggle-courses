{
 "cells": [
  {
   "cell_type": "markdown",
   "id": "b6ae9f26",
   "metadata": {
    "papermill": {
     "duration": 0.005584,
     "end_time": "2023-04-20T08:47:38.943726",
     "exception": false,
     "start_time": "2023-04-20T08:47:38.938142",
     "status": "completed"
    },
    "tags": []
   },
   "source": [
    "**This notebook is an exercise in the [SQL](https://www.kaggle.com/learn/intro-to-sql) course.  You can reference the tutorial at [this link](https://www.kaggle.com/dansbecker/group-by-having-count).**\n",
    "\n",
    "---\n"
   ]
  },
  {
   "cell_type": "markdown",
   "id": "684b13ae",
   "metadata": {
    "papermill": {
     "duration": 0.003552,
     "end_time": "2023-04-20T08:47:38.951525",
     "exception": false,
     "start_time": "2023-04-20T08:47:38.947973",
     "status": "completed"
    },
    "tags": []
   },
   "source": [
    "# Introduction\n",
    "\n",
    "Queries with **GROUP BY** can be powerful. There are many small things that can trip you up (like the order of the clauses), but it will start to feel natural once you've done it a few times. Here, you'll write queries using **GROUP BY** to answer questions from the Hacker News dataset.\n",
    "\n",
    "Before you get started, run the following cell to set everything up:"
   ]
  },
  {
   "cell_type": "code",
   "execution_count": 1,
   "id": "43fa4685",
   "metadata": {
    "execution": {
     "iopub.execute_input": "2023-04-20T08:47:38.961975Z",
     "iopub.status.busy": "2023-04-20T08:47:38.961416Z",
     "iopub.status.idle": "2023-04-20T08:47:41.236055Z",
     "shell.execute_reply": "2023-04-20T08:47:41.234474Z"
    },
    "papermill": {
     "duration": 2.283485,
     "end_time": "2023-04-20T08:47:41.238913",
     "exception": false,
     "start_time": "2023-04-20T08:47:38.955428",
     "status": "completed"
    },
    "tags": []
   },
   "outputs": [
    {
     "name": "stdout",
     "output_type": "stream",
     "text": [
      "Using Kaggle's public dataset BigQuery integration.\n"
     ]
    },
    {
     "name": "stderr",
     "output_type": "stream",
     "text": [
      "/opt/conda/lib/python3.7/site-packages/google/cloud/bigquery/client.py:440: UserWarning: Cannot create BigQuery Storage client, the dependency google-cloud-bigquery-storage is not installed.\n",
      "  \"Cannot create BigQuery Storage client, the dependency \"\n"
     ]
    },
    {
     "name": "stdout",
     "output_type": "stream",
     "text": [
      "Setup Complete\n"
     ]
    }
   ],
   "source": [
    "# Set up feedback system\n",
    "from learntools.core import binder\n",
    "binder.bind(globals())\n",
    "from learntools.sql.ex3 import *\n",
    "print(\"Setup Complete\")"
   ]
  },
  {
   "cell_type": "markdown",
   "id": "155e2823",
   "metadata": {
    "papermill": {
     "duration": 0.003887,
     "end_time": "2023-04-20T08:47:41.247110",
     "exception": false,
     "start_time": "2023-04-20T08:47:41.243223",
     "status": "completed"
    },
    "tags": []
   },
   "source": [
    "The code cell below fetches the `comments` table from the `hacker_news` dataset.  We also preview the first five rows of the table."
   ]
  },
  {
   "cell_type": "code",
   "execution_count": 2,
   "id": "4b5a5023",
   "metadata": {
    "execution": {
     "iopub.execute_input": "2023-04-20T08:47:41.257649Z",
     "iopub.status.busy": "2023-04-20T08:47:41.256968Z",
     "iopub.status.idle": "2023-04-20T08:47:42.187202Z",
     "shell.execute_reply": "2023-04-20T08:47:42.185953Z"
    },
    "papermill": {
     "duration": 0.938595,
     "end_time": "2023-04-20T08:47:42.189823",
     "exception": false,
     "start_time": "2023-04-20T08:47:41.251228",
     "status": "completed"
    },
    "tags": []
   },
   "outputs": [
    {
     "name": "stdout",
     "output_type": "stream",
     "text": [
      "Using Kaggle's public dataset BigQuery integration.\n"
     ]
    },
    {
     "name": "stderr",
     "output_type": "stream",
     "text": [
      "/opt/conda/lib/python3.7/site-packages/ipykernel_launcher.py:19: UserWarning: Cannot use bqstorage_client if max_results is set, reverting to fetching data with the tabledata.list endpoint.\n"
     ]
    },
    {
     "data": {
      "text/html": [
       "<div>\n",
       "<style scoped>\n",
       "    .dataframe tbody tr th:only-of-type {\n",
       "        vertical-align: middle;\n",
       "    }\n",
       "\n",
       "    .dataframe tbody tr th {\n",
       "        vertical-align: top;\n",
       "    }\n",
       "\n",
       "    .dataframe thead th {\n",
       "        text-align: right;\n",
       "    }\n",
       "</style>\n",
       "<table border=\"1\" class=\"dataframe\">\n",
       "  <thead>\n",
       "    <tr style=\"text-align: right;\">\n",
       "      <th></th>\n",
       "      <th>id</th>\n",
       "      <th>by</th>\n",
       "      <th>author</th>\n",
       "      <th>time</th>\n",
       "      <th>time_ts</th>\n",
       "      <th>text</th>\n",
       "      <th>parent</th>\n",
       "      <th>deleted</th>\n",
       "      <th>dead</th>\n",
       "      <th>ranking</th>\n",
       "    </tr>\n",
       "  </thead>\n",
       "  <tbody>\n",
       "    <tr>\n",
       "      <th>0</th>\n",
       "      <td>9734136</td>\n",
       "      <td>None</td>\n",
       "      <td>None</td>\n",
       "      <td>1434565400</td>\n",
       "      <td>2015-06-17 18:23:20+00:00</td>\n",
       "      <td>None</td>\n",
       "      <td>9733698</td>\n",
       "      <td>True</td>\n",
       "      <td>None</td>\n",
       "      <td>0</td>\n",
       "    </tr>\n",
       "    <tr>\n",
       "      <th>1</th>\n",
       "      <td>4921158</td>\n",
       "      <td>None</td>\n",
       "      <td>None</td>\n",
       "      <td>1355496966</td>\n",
       "      <td>2012-12-14 14:56:06+00:00</td>\n",
       "      <td>None</td>\n",
       "      <td>4921100</td>\n",
       "      <td>True</td>\n",
       "      <td>None</td>\n",
       "      <td>0</td>\n",
       "    </tr>\n",
       "    <tr>\n",
       "      <th>2</th>\n",
       "      <td>7500568</td>\n",
       "      <td>None</td>\n",
       "      <td>None</td>\n",
       "      <td>1396261158</td>\n",
       "      <td>2014-03-31 10:19:18+00:00</td>\n",
       "      <td>None</td>\n",
       "      <td>7499385</td>\n",
       "      <td>True</td>\n",
       "      <td>None</td>\n",
       "      <td>0</td>\n",
       "    </tr>\n",
       "    <tr>\n",
       "      <th>3</th>\n",
       "      <td>8909635</td>\n",
       "      <td>None</td>\n",
       "      <td>None</td>\n",
       "      <td>1421627275</td>\n",
       "      <td>2015-01-19 00:27:55+00:00</td>\n",
       "      <td>None</td>\n",
       "      <td>8901135</td>\n",
       "      <td>True</td>\n",
       "      <td>None</td>\n",
       "      <td>0</td>\n",
       "    </tr>\n",
       "    <tr>\n",
       "      <th>4</th>\n",
       "      <td>9256463</td>\n",
       "      <td>None</td>\n",
       "      <td>None</td>\n",
       "      <td>1427204705</td>\n",
       "      <td>2015-03-24 13:45:05+00:00</td>\n",
       "      <td>None</td>\n",
       "      <td>9256346</td>\n",
       "      <td>True</td>\n",
       "      <td>None</td>\n",
       "      <td>0</td>\n",
       "    </tr>\n",
       "  </tbody>\n",
       "</table>\n",
       "</div>"
      ],
      "text/plain": [
       "        id    by author        time                   time_ts  text   parent  \\\n",
       "0  9734136  None   None  1434565400 2015-06-17 18:23:20+00:00  None  9733698   \n",
       "1  4921158  None   None  1355496966 2012-12-14 14:56:06+00:00  None  4921100   \n",
       "2  7500568  None   None  1396261158 2014-03-31 10:19:18+00:00  None  7499385   \n",
       "3  8909635  None   None  1421627275 2015-01-19 00:27:55+00:00  None  8901135   \n",
       "4  9256463  None   None  1427204705 2015-03-24 13:45:05+00:00  None  9256346   \n",
       "\n",
       "   deleted  dead  ranking  \n",
       "0     True  None        0  \n",
       "1     True  None        0  \n",
       "2     True  None        0  \n",
       "3     True  None        0  \n",
       "4     True  None        0  "
      ]
     },
     "execution_count": 2,
     "metadata": {},
     "output_type": "execute_result"
    }
   ],
   "source": [
    "from google.cloud import bigquery\n",
    "\n",
    "# Create a \"Client\" object\n",
    "client = bigquery.Client()\n",
    "\n",
    "# Construct a reference to the \"hacker_news\" dataset\n",
    "dataset_ref = client.dataset(\"hacker_news\", project=\"bigquery-public-data\")\n",
    "\n",
    "# API request - fetch the dataset\n",
    "dataset = client.get_dataset(dataset_ref)\n",
    "\n",
    "# Construct a reference to the \"comments\" table\n",
    "table_ref = dataset_ref.table(\"comments\")\n",
    "\n",
    "# API request - fetch the table\n",
    "table = client.get_table(table_ref)\n",
    "\n",
    "# Preview the first five lines of the \"comments\" table\n",
    "client.list_rows(table, max_results=5).to_dataframe()"
   ]
  },
  {
   "cell_type": "markdown",
   "id": "5fad231c",
   "metadata": {
    "papermill": {
     "duration": 0.004182,
     "end_time": "2023-04-20T08:47:42.198898",
     "exception": false,
     "start_time": "2023-04-20T08:47:42.194716",
     "status": "completed"
    },
    "tags": []
   },
   "source": [
    "# Exercises\n",
    "\n",
    "### 1) Prolific commenters\n",
    "\n",
    "Hacker News would like to send awards to everyone who has written more than 10,000 posts. Write a query that returns all authors with more than 10,000 posts as well as their post counts. Call the column with post counts `NumPosts`.\n",
    "\n",
    "In case sample query is helpful, here is a query you saw in the tutorial to answer a similar question:\n",
    "```\n",
    "query = \"\"\"\n",
    "        SELECT parent, COUNT(1) AS NumPosts\n",
    "        FROM `bigquery-public-data.hacker_news.comments`\n",
    "        GROUP BY parent\n",
    "        HAVING COUNT(1) > 10\n",
    "        \"\"\"\n",
    "```"
   ]
  },
  {
   "cell_type": "code",
   "execution_count": 3,
   "id": "c2ef7e29",
   "metadata": {
    "execution": {
     "iopub.execute_input": "2023-04-20T08:47:42.209976Z",
     "iopub.status.busy": "2023-04-20T08:47:42.209530Z",
     "iopub.status.idle": "2023-04-20T08:47:43.288889Z",
     "shell.execute_reply": "2023-04-20T08:47:43.287603Z"
    },
    "papermill": {
     "duration": 1.088211,
     "end_time": "2023-04-20T08:47:43.291602",
     "exception": false,
     "start_time": "2023-04-20T08:47:42.203391",
     "status": "completed"
    },
    "tags": []
   },
   "outputs": [
    {
     "name": "stderr",
     "output_type": "stream",
     "text": [
      "/opt/conda/lib/python3.7/site-packages/google/cloud/bigquery/client.py:440: UserWarning: Cannot create BigQuery Storage client, the dependency google-cloud-bigquery-storage is not installed.\n",
      "  \"Cannot create BigQuery Storage client, the dependency \"\n"
     ]
    },
    {
     "name": "stdout",
     "output_type": "stream",
     "text": [
      "    author  NumPosts\n",
      "0    sp332     10882\n",
      "1  rayiner     11080\n",
      "2  rbanffy     10557\n",
      "3     None    227736\n",
      "4  tptacek     33839\n"
     ]
    },
    {
     "data": {
      "application/javascript": [
       "parent.postMessage({\"jupyterEvent\": \"custom.exercise_interaction\", \"data\": {\"outcomeType\": 1, \"valueTowardsCompletion\": 0.5, \"interactionType\": 1, \"questionType\": 2, \"questionId\": \"1_ProlificCommenters\", \"learnToolsVersion\": \"0.3.4\", \"failureMessage\": \"\", \"exceptionClass\": \"\", \"trace\": \"\"}}, \"*\")"
      ],
      "text/plain": [
       "<IPython.core.display.Javascript object>"
      ]
     },
     "metadata": {},
     "output_type": "display_data"
    },
    {
     "data": {
      "text/markdown": [
       "<span style=\"color:#33cc33\">Correct</span>"
      ],
      "text/plain": [
       "Correct"
      ]
     },
     "metadata": {},
     "output_type": "display_data"
    }
   ],
   "source": [
    "# Query to select prolific commenters and post counts\n",
    "prolific_commenters_query = \"\"\"\n",
    "SELECT author, COUNT(id) as NumPosts\n",
    "FROM `bigquery-public-data.hacker_news.comments`\n",
    "GROUP BY author\n",
    "HAVING COUNT(id)>10000\n",
    "\"\"\" # Your code goes here\n",
    "\n",
    "# Set up the query (cancel the query if it would use too much of \n",
    "# your quota, with the limit set to 1 GB)\n",
    "safe_config = bigquery.QueryJobConfig(maximum_bytes_billed=10**10)\n",
    "query_job = client.query(prolific_commenters_query, job_config=safe_config)\n",
    "\n",
    "# API request - run the query, and return a pandas DataFrame\n",
    "prolific_commenters = query_job.to_dataframe()\n",
    "\n",
    "# View top few rows of results\n",
    "print(prolific_commenters.head())\n",
    "\n",
    "# Check your answer\n",
    "q_1.check()"
   ]
  },
  {
   "cell_type": "markdown",
   "id": "51c4c448",
   "metadata": {
    "papermill": {
     "duration": 0.004609,
     "end_time": "2023-04-20T08:47:43.301260",
     "exception": false,
     "start_time": "2023-04-20T08:47:43.296651",
     "status": "completed"
    },
    "tags": []
   },
   "source": [
    "For the solution, uncomment the line below."
   ]
  },
  {
   "cell_type": "code",
   "execution_count": 4,
   "id": "41be328c",
   "metadata": {
    "execution": {
     "iopub.execute_input": "2023-04-20T08:47:43.313948Z",
     "iopub.status.busy": "2023-04-20T08:47:43.313029Z",
     "iopub.status.idle": "2023-04-20T08:47:43.318651Z",
     "shell.execute_reply": "2023-04-20T08:47:43.317025Z"
    },
    "papermill": {
     "duration": 0.015394,
     "end_time": "2023-04-20T08:47:43.321520",
     "exception": false,
     "start_time": "2023-04-20T08:47:43.306126",
     "status": "completed"
    },
    "tags": []
   },
   "outputs": [],
   "source": [
    "#q_1.solution()"
   ]
  },
  {
   "cell_type": "markdown",
   "id": "97b17306",
   "metadata": {
    "papermill": {
     "duration": 0.004718,
     "end_time": "2023-04-20T08:47:43.331457",
     "exception": false,
     "start_time": "2023-04-20T08:47:43.326739",
     "status": "completed"
    },
    "tags": []
   },
   "source": [
    "### 2) Deleted comments\n",
    "\n",
    "How many comments have been deleted? (If a comment was deleted, the `deleted` column in the comments table will have the value `True`.)"
   ]
  },
  {
   "cell_type": "code",
   "execution_count": 5,
   "id": "49fa324c",
   "metadata": {
    "execution": {
     "iopub.execute_input": "2023-04-20T08:47:43.344146Z",
     "iopub.status.busy": "2023-04-20T08:47:43.343289Z",
     "iopub.status.idle": "2023-04-20T08:47:43.348160Z",
     "shell.execute_reply": "2023-04-20T08:47:43.347150Z"
    },
    "papermill": {
     "duration": 0.013914,
     "end_time": "2023-04-20T08:47:43.350513",
     "exception": false,
     "start_time": "2023-04-20T08:47:43.336599",
     "status": "completed"
    },
    "tags": []
   },
   "outputs": [],
   "source": [
    "# Write your query here and figure out the answer"
   ]
  },
  {
   "cell_type": "code",
   "execution_count": 6,
   "id": "b4a10621",
   "metadata": {
    "execution": {
     "iopub.execute_input": "2023-04-20T08:47:43.362490Z",
     "iopub.status.busy": "2023-04-20T08:47:43.362048Z",
     "iopub.status.idle": "2023-04-20T08:47:44.366084Z",
     "shell.execute_reply": "2023-04-20T08:47:44.364635Z"
    },
    "papermill": {
     "duration": 1.013065,
     "end_time": "2023-04-20T08:47:44.368749",
     "exception": false,
     "start_time": "2023-04-20T08:47:43.355684",
     "status": "completed"
    },
    "tags": []
   },
   "outputs": [
    {
     "name": "stderr",
     "output_type": "stream",
     "text": [
      "/opt/conda/lib/python3.7/site-packages/google/cloud/bigquery/client.py:440: UserWarning: Cannot create BigQuery Storage client, the dependency google-cloud-bigquery-storage is not installed.\n",
      "  \"Cannot create BigQuery Storage client, the dependency \"\n"
     ]
    },
    {
     "name": "stdout",
     "output_type": "stream",
     "text": [
      "   num_deleted_posts\n",
      "0             227736\n"
     ]
    },
    {
     "data": {
      "application/javascript": [
       "parent.postMessage({\"jupyterEvent\": \"custom.exercise_interaction\", \"data\": {\"outcomeType\": 1, \"valueTowardsCompletion\": 0.5, \"interactionType\": 1, \"questionType\": 1, \"questionId\": \"2_NumDeletedPosts\", \"learnToolsVersion\": \"0.3.4\", \"failureMessage\": \"\", \"exceptionClass\": \"\", \"trace\": \"\"}}, \"*\")"
      ],
      "text/plain": [
       "<IPython.core.display.Javascript object>"
      ]
     },
     "metadata": {},
     "output_type": "display_data"
    },
    {
     "data": {
      "text/markdown": [
       "<span style=\"color:#33cc33\">Correct</span>"
      ],
      "text/plain": [
       "Correct"
      ]
     },
     "metadata": {},
     "output_type": "display_data"
    }
   ],
   "source": [
    "num_deleted_posts = \"\"\"\n",
    "SELECT COUNT(id) AS num_deleted_posts\n",
    "FROM `bigquery-public-data.hacker_news.comments`\n",
    "WHERE deleted = True\n",
    "\"\"\" # Put your answer here\n",
    "# Set up the query\n",
    "query_job = client.query(num_deleted_posts)\n",
    "\n",
    "# API request - run the query, and return a pandas DataFrame\n",
    "deleted_posts = query_job.to_dataframe()\n",
    "\n",
    "# View results\n",
    "print(deleted_posts)\n",
    "# Check your answer\n",
    "num_deleted_posts = 227736\n",
    "q_2.check()"
   ]
  },
  {
   "cell_type": "markdown",
   "id": "b3a2c85f",
   "metadata": {
    "papermill": {
     "duration": 0.0055,
     "end_time": "2023-04-20T08:47:44.380078",
     "exception": false,
     "start_time": "2023-04-20T08:47:44.374578",
     "status": "completed"
    },
    "tags": []
   },
   "source": [
    "For the solution, uncomment the line below."
   ]
  },
  {
   "cell_type": "code",
   "execution_count": 7,
   "id": "0ab810de",
   "metadata": {
    "execution": {
     "iopub.execute_input": "2023-04-20T08:47:44.393126Z",
     "iopub.status.busy": "2023-04-20T08:47:44.392329Z",
     "iopub.status.idle": "2023-04-20T08:47:44.397647Z",
     "shell.execute_reply": "2023-04-20T08:47:44.396318Z"
    },
    "papermill": {
     "duration": 0.01478,
     "end_time": "2023-04-20T08:47:44.400270",
     "exception": false,
     "start_time": "2023-04-20T08:47:44.385490",
     "status": "completed"
    },
    "tags": []
   },
   "outputs": [],
   "source": [
    "#q_2.solution()"
   ]
  },
  {
   "cell_type": "markdown",
   "id": "343faca7",
   "metadata": {
    "papermill": {
     "duration": 0.005506,
     "end_time": "2023-04-20T08:47:44.411267",
     "exception": false,
     "start_time": "2023-04-20T08:47:44.405761",
     "status": "completed"
    },
    "tags": []
   },
   "source": [
    "# Keep Going\n",
    "**[Click here](https://www.kaggle.com/dansbecker/order-by)** to move on and learn about the **ORDER BY** clause."
   ]
  },
  {
   "cell_type": "markdown",
   "id": "ff65603d",
   "metadata": {
    "papermill": {
     "duration": 0.005082,
     "end_time": "2023-04-20T08:47:44.421864",
     "exception": false,
     "start_time": "2023-04-20T08:47:44.416782",
     "status": "completed"
    },
    "tags": []
   },
   "source": [
    "---\n",
    "\n",
    "\n",
    "\n",
    "\n",
    "*Have questions or comments? Visit the [course discussion forum](https://www.kaggle.com/learn/intro-to-sql/discussion) to chat with other learners.*"
   ]
  }
 ],
 "metadata": {
  "kernelspec": {
   "display_name": "Python 3",
   "language": "python",
   "name": "python3"
  },
  "language_info": {
   "codemirror_mode": {
    "name": "ipython",
    "version": 3
   },
   "file_extension": ".py",
   "mimetype": "text/x-python",
   "name": "python",
   "nbconvert_exporter": "python",
   "pygments_lexer": "ipython3",
   "version": "3.7.12"
  },
  "papermill": {
   "default_parameters": {},
   "duration": 17.276372,
   "end_time": "2023-04-20T08:47:45.150579",
   "environment_variables": {},
   "exception": null,
   "input_path": "__notebook__.ipynb",
   "output_path": "__notebook__.ipynb",
   "parameters": {},
   "start_time": "2023-04-20T08:47:27.874207",
   "version": "2.4.0"
  }
 },
 "nbformat": 4,
 "nbformat_minor": 5
}
