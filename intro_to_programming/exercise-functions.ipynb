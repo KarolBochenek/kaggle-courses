{
 "cells": [
  {
   "cell_type": "markdown",
   "id": "b5fe68d9",
   "metadata": {
    "papermill": {
     "duration": 0.006933,
     "end_time": "2023-04-28T17:18:10.495061",
     "exception": false,
     "start_time": "2023-04-28T17:18:10.488128",
     "status": "completed"
    },
    "tags": []
   },
   "source": [
    "**This notebook is an exercise in the [Intro to Programming](https://www.kaggle.com/learn/intro-to-programming) course.  You can reference the tutorial at [this link](https://www.kaggle.com/alexisbcook/functions).**\n",
    "\n",
    "---\n"
   ]
  },
  {
   "cell_type": "markdown",
   "id": "7a6bf3de",
   "metadata": {
    "papermill": {
     "duration": 0.005457,
     "end_time": "2023-04-28T17:18:10.506448",
     "exception": false,
     "start_time": "2023-04-28T17:18:10.500991",
     "status": "completed"
    },
    "tags": []
   },
   "source": [
    "In the tutorial, you learned about functions. In this exercise, you'll write some of your own!\n",
    "\n",
    "# Set up the notebook\n",
    "\n",
    "Run the next code cell without changes to set up the notebook."
   ]
  },
  {
   "cell_type": "code",
   "execution_count": 1,
   "id": "3406137d",
   "metadata": {
    "execution": {
     "iopub.execute_input": "2023-04-28T17:18:10.520819Z",
     "iopub.status.busy": "2023-04-28T17:18:10.519810Z",
     "iopub.status.idle": "2023-04-28T17:18:10.569491Z",
     "shell.execute_reply": "2023-04-28T17:18:10.568404Z"
    },
    "papermill": {
     "duration": 0.059828,
     "end_time": "2023-04-28T17:18:10.572117",
     "exception": false,
     "start_time": "2023-04-28T17:18:10.512289",
     "status": "completed"
    },
    "tags": []
   },
   "outputs": [
    {
     "name": "stdout",
     "output_type": "stream",
     "text": [
      "Setup complete.\n"
     ]
    }
   ],
   "source": [
    "# Set up the exercise\n",
    "import math\n",
    "from learntools.core import binder\n",
    "binder.bind(globals())\n",
    "from learntools.intro_to_programming.ex2 import *\n",
    "print('Setup complete.')"
   ]
  },
  {
   "cell_type": "markdown",
   "id": "4cb1f367",
   "metadata": {
    "papermill": {
     "duration": 0.005552,
     "end_time": "2023-04-28T17:18:10.583766",
     "exception": false,
     "start_time": "2023-04-28T17:18:10.578214",
     "status": "completed"
    },
    "tags": []
   },
   "source": [
    "# Question 1\n",
    "\n",
    "In the [House Prices - Advanced Regression Techniques competition](https://www.kaggle.com/c/house-prices-advanced-regression-techniques/overview), you need to use information like the number of bedrooms and bathrooms to predict the price of a house.  Inspired by this competition, you'll write your own function to do this.\n",
    "\n",
    "In the next code cell, create a function `get_expected_cost()` that has two arguments:\n",
    "- `beds` - number of bedrooms \n",
    "- `baths` - number of bathrooms\n",
    "\n",
    "It should return the expected cost of a house with that number of bedrooms and bathrooms.  Assume that:\n",
    "- the expected cost for a house with 0 bedrooms and 0 bathrooms is `80000`.  \n",
    "- each bedroom adds `30000` to the expected cost\n",
    "- each bathroom adds `10000` to the expected cost.\n",
    "\n",
    "For instance, \n",
    "- a house with 1 bedroom and 1 bathroom has an expected cost of `120000`, and \n",
    "- a house with 2 bedrooms and 1 bathroom has an expected cost of `150000`."
   ]
  },
  {
   "cell_type": "code",
   "execution_count": 2,
   "id": "7540b6ae",
   "metadata": {
    "execution": {
     "iopub.execute_input": "2023-04-28T17:18:10.598878Z",
     "iopub.status.busy": "2023-04-28T17:18:10.598002Z",
     "iopub.status.idle": "2023-04-28T17:18:10.609224Z",
     "shell.execute_reply": "2023-04-28T17:18:10.607921Z"
    },
    "papermill": {
     "duration": 0.021628,
     "end_time": "2023-04-28T17:18:10.611881",
     "exception": false,
     "start_time": "2023-04-28T17:18:10.590253",
     "status": "completed"
    },
    "tags": []
   },
   "outputs": [
    {
     "data": {
      "application/javascript": [
       "parent.postMessage({\"jupyterEvent\": \"custom.exercise_interaction\", \"data\": {\"outcomeType\": 1, \"valueTowardsCompletion\": 0.2, \"interactionType\": 1, \"questionType\": 2, \"questionId\": \"1_GetExpectedCost\", \"learnToolsVersion\": \"0.3.4\", \"failureMessage\": \"\", \"exceptionClass\": \"\", \"trace\": \"\"}}, \"*\")"
      ],
      "text/plain": [
       "<IPython.core.display.Javascript object>"
      ]
     },
     "metadata": {},
     "output_type": "display_data"
    },
    {
     "data": {
      "text/markdown": [
       "<span style=\"color:#33cc33\">Correct</span>"
      ],
      "text/plain": [
       "Correct"
      ]
     },
     "metadata": {},
     "output_type": "display_data"
    }
   ],
   "source": [
    "# TODO: Complete the function\n",
    "def get_expected_cost(beds, baths):\n",
    "    value = 80000 + beds*30000 + baths*10000\n",
    "    return value\n",
    "\n",
    "# Check your answer \n",
    "q1.check()"
   ]
  },
  {
   "cell_type": "code",
   "execution_count": 3,
   "id": "74ee19d4",
   "metadata": {
    "execution": {
     "iopub.execute_input": "2023-04-28T17:18:10.627159Z",
     "iopub.status.busy": "2023-04-28T17:18:10.625832Z",
     "iopub.status.idle": "2023-04-28T17:18:10.631404Z",
     "shell.execute_reply": "2023-04-28T17:18:10.630108Z"
    },
    "papermill": {
     "duration": 0.015955,
     "end_time": "2023-04-28T17:18:10.634031",
     "exception": false,
     "start_time": "2023-04-28T17:18:10.618076",
     "status": "completed"
    },
    "tags": []
   },
   "outputs": [],
   "source": [
    "# Uncomment to see a hint\n",
    "#q1.hint()\n",
    "\n",
    "# Uncomment to view the solution\n",
    "#q1.solution()"
   ]
  },
  {
   "cell_type": "markdown",
   "id": "ea28fe5b",
   "metadata": {
    "papermill": {
     "duration": 0.005769,
     "end_time": "2023-04-28T17:18:10.646077",
     "exception": false,
     "start_time": "2023-04-28T17:18:10.640308",
     "status": "completed"
    },
    "tags": []
   },
   "source": [
    "# Question 2\n",
    "\n",
    "You are thinking about buying a home and want to get an idea of how much you will spend, based on the number of bedrooms and bathrooms.  You are trying to decide between four different options:\n",
    "- Option 1: house with two bedrooms and three bathrooms\n",
    "- Option 2: house with three bedrooms and two bathrooms\n",
    "- Option 3: house with three bedrooms and three bathrooms\n",
    "- Option 4: house with three bedrooms and four bathrooms\n",
    "\n",
    "Use the `get_expected_cost()` function you defined in question 1 to set `option_1`, `option_2`, `option_3`, and `option_4` to the expected cost of each option."
   ]
  },
  {
   "cell_type": "code",
   "execution_count": 4,
   "id": "34eb2ee6",
   "metadata": {
    "execution": {
     "iopub.execute_input": "2023-04-28T17:18:10.660180Z",
     "iopub.status.busy": "2023-04-28T17:18:10.659707Z",
     "iopub.status.idle": "2023-04-28T17:18:10.672088Z",
     "shell.execute_reply": "2023-04-28T17:18:10.670719Z"
    },
    "papermill": {
     "duration": 0.022677,
     "end_time": "2023-04-28T17:18:10.674787",
     "exception": false,
     "start_time": "2023-04-28T17:18:10.652110",
     "status": "completed"
    },
    "tags": []
   },
   "outputs": [
    {
     "name": "stdout",
     "output_type": "stream",
     "text": [
      "170000\n",
      "190000\n",
      "200000\n",
      "210000\n"
     ]
    },
    {
     "data": {
      "application/javascript": [
       "parent.postMessage({\"jupyterEvent\": \"custom.exercise_interaction\", \"data\": {\"outcomeType\": 1, \"valueTowardsCompletion\": 0.2, \"interactionType\": 1, \"questionType\": 1, \"questionId\": \"2_RunGetExpectedCost\", \"learnToolsVersion\": \"0.3.4\", \"failureMessage\": \"\", \"exceptionClass\": \"\", \"trace\": \"\"}}, \"*\")"
      ],
      "text/plain": [
       "<IPython.core.display.Javascript object>"
      ]
     },
     "metadata": {},
     "output_type": "display_data"
    },
    {
     "data": {
      "text/markdown": [
       "<span style=\"color:#33cc33\">Correct</span>"
      ],
      "text/plain": [
       "Correct"
      ]
     },
     "metadata": {},
     "output_type": "display_data"
    }
   ],
   "source": [
    "# TODO: Use the get_expected_cost function to fill in each value\n",
    "option_one = get_expected_cost(2,3)\n",
    "option_two = get_expected_cost(3,2)\n",
    "option_three = get_expected_cost(3,3)\n",
    "option_four = get_expected_cost(3,4)\n",
    "\n",
    "print(option_one)\n",
    "print(option_two)\n",
    "print(option_three)\n",
    "print(option_four)\n",
    "\n",
    "# Check your answer\n",
    "q2.check()"
   ]
  },
  {
   "cell_type": "code",
   "execution_count": 5,
   "id": "7876a9ff",
   "metadata": {
    "execution": {
     "iopub.execute_input": "2023-04-28T17:18:10.691020Z",
     "iopub.status.busy": "2023-04-28T17:18:10.689804Z",
     "iopub.status.idle": "2023-04-28T17:18:10.695409Z",
     "shell.execute_reply": "2023-04-28T17:18:10.694277Z"
    },
    "papermill": {
     "duration": 0.016348,
     "end_time": "2023-04-28T17:18:10.697982",
     "exception": false,
     "start_time": "2023-04-28T17:18:10.681634",
     "status": "completed"
    },
    "tags": []
   },
   "outputs": [],
   "source": [
    "# Uncomment to see a hint\n",
    "#q2.hint()\n",
    "\n",
    "# Uncomment to view the solution\n",
    "#q2.solution()"
   ]
  },
  {
   "cell_type": "markdown",
   "id": "1354d0a4",
   "metadata": {
    "papermill": {
     "duration": 0.006183,
     "end_time": "2023-04-28T17:18:10.710912",
     "exception": false,
     "start_time": "2023-04-28T17:18:10.704729",
     "status": "completed"
    },
    "tags": []
   },
   "source": [
    "# Question 3\n",
    "\n",
    "You're a home decorator, and you'd like to use Python to streamline some of your work.  Specifically, you're creating a tool that you intend to use to calculate the cost of painting a room.\n",
    "\n",
    "As a first step, define a function `get_cost()` that takes as input:\n",
    "- `sqft_walls` = total square feet of walls to be painted\n",
    "- `sqft_ceiling` = square feet of ceiling to be painted\n",
    "- `sqft_per_gallon` = number of square feet that you can cover with one gallon of paint\n",
    "- `cost_per_gallon` = cost (in dollars) of one gallon of paint\n",
    "\n",
    "It should return the cost (in dollars) of putting one coat of paint on all walls and the ceiling.  Assume you can buy the exact amount of paint that you need, so you can buy partial gallons (e.g., if you need 7.523 gallons, you can buy that exact amount, instead of needing to buy 8 gallons and waste some paint).  Do not round your answer."
   ]
  },
  {
   "cell_type": "code",
   "execution_count": 6,
   "id": "d90e0f84",
   "metadata": {
    "execution": {
     "iopub.execute_input": "2023-04-28T17:18:10.727508Z",
     "iopub.status.busy": "2023-04-28T17:18:10.726839Z",
     "iopub.status.idle": "2023-04-28T17:18:10.736545Z",
     "shell.execute_reply": "2023-04-28T17:18:10.735193Z"
    },
    "papermill": {
     "duration": 0.021101,
     "end_time": "2023-04-28T17:18:10.738800",
     "exception": false,
     "start_time": "2023-04-28T17:18:10.717699",
     "status": "completed"
    },
    "tags": []
   },
   "outputs": [
    {
     "data": {
      "application/javascript": [
       "parent.postMessage({\"jupyterEvent\": \"custom.exercise_interaction\", \"data\": {\"outcomeType\": 1, \"valueTowardsCompletion\": 0.2, \"interactionType\": 1, \"questionType\": 2, \"questionId\": \"3_GetCostPaint\", \"learnToolsVersion\": \"0.3.4\", \"failureMessage\": \"\", \"exceptionClass\": \"\", \"trace\": \"\"}}, \"*\")"
      ],
      "text/plain": [
       "<IPython.core.display.Javascript object>"
      ]
     },
     "metadata": {},
     "output_type": "display_data"
    },
    {
     "data": {
      "text/markdown": [
       "<span style=\"color:#33cc33\">Correct</span>"
      ],
      "text/plain": [
       "Correct"
      ]
     },
     "metadata": {},
     "output_type": "display_data"
    }
   ],
   "source": [
    "# TODO: Finish defining the function\n",
    "def get_cost(sqft_walls, sqft_ceiling, sqft_per_gallon, cost_per_gallon):\n",
    "    cost = (sqft_walls + sqft_ceiling)/sqft_per_gallon * cost_per_gallon\n",
    "    return cost\n",
    "\n",
    "# Check your answer\n",
    "q3.check()"
   ]
  },
  {
   "cell_type": "code",
   "execution_count": 7,
   "id": "3aa7818b",
   "metadata": {
    "execution": {
     "iopub.execute_input": "2023-04-28T17:18:10.754311Z",
     "iopub.status.busy": "2023-04-28T17:18:10.753623Z",
     "iopub.status.idle": "2023-04-28T17:18:10.758707Z",
     "shell.execute_reply": "2023-04-28T17:18:10.757486Z"
    },
    "papermill": {
     "duration": 0.015335,
     "end_time": "2023-04-28T17:18:10.760929",
     "exception": false,
     "start_time": "2023-04-28T17:18:10.745594",
     "status": "completed"
    },
    "tags": []
   },
   "outputs": [],
   "source": [
    "# Uncomment to see a hint\n",
    "#q3.hint()\n",
    "\n",
    "# Uncomment to view the solution\n",
    "#q3.solution()"
   ]
  },
  {
   "cell_type": "markdown",
   "id": "94925dce",
   "metadata": {
    "papermill": {
     "duration": 0.006569,
     "end_time": "2023-04-28T17:18:10.774265",
     "exception": false,
     "start_time": "2023-04-28T17:18:10.767696",
     "status": "completed"
    },
    "tags": []
   },
   "source": [
    "# Question 4\n",
    "\n",
    "Use the `get_cost()` function you defined in Question 3 to calculate the cost of applying one coat of paint to a room with:\n",
    "- 432 square feet of walls, and\n",
    "- 144 square feet of ceiling.\n",
    "\n",
    "Assume that one gallon of paint covers 400 square feet and costs $15.  As in Question 3, assume you can buy partial gallons of paint.  Do not round your answer."
   ]
  },
  {
   "cell_type": "code",
   "execution_count": 8,
   "id": "4241b5fb",
   "metadata": {
    "execution": {
     "iopub.execute_input": "2023-04-28T17:18:10.789862Z",
     "iopub.status.busy": "2023-04-28T17:18:10.789380Z",
     "iopub.status.idle": "2023-04-28T17:18:10.800311Z",
     "shell.execute_reply": "2023-04-28T17:18:10.799030Z"
    },
    "papermill": {
     "duration": 0.021624,
     "end_time": "2023-04-28T17:18:10.802540",
     "exception": false,
     "start_time": "2023-04-28T17:18:10.780916",
     "status": "completed"
    },
    "tags": []
   },
   "outputs": [
    {
     "name": "stdout",
     "output_type": "stream",
     "text": [
      "21.599999999999998\n"
     ]
    },
    {
     "data": {
      "application/javascript": [
       "parent.postMessage({\"jupyterEvent\": \"custom.exercise_interaction\", \"data\": {\"outcomeType\": 1, \"valueTowardsCompletion\": 0.2, \"interactionType\": 1, \"questionType\": 1, \"questionId\": \"4_GetCostPaintExample\", \"learnToolsVersion\": \"0.3.4\", \"failureMessage\": \"\", \"exceptionClass\": \"\", \"trace\": \"\"}}, \"*\")"
      ],
      "text/plain": [
       "<IPython.core.display.Javascript object>"
      ]
     },
     "metadata": {},
     "output_type": "display_data"
    },
    {
     "data": {
      "text/markdown": [
       "<span style=\"color:#33cc33\">Correct</span>"
      ],
      "text/plain": [
       "Correct"
      ]
     },
     "metadata": {},
     "output_type": "display_data"
    }
   ],
   "source": [
    "# TODO: Set the project_cost variable to the cost of the project\n",
    "project_cost = get_cost(432,144,400,15)\n",
    "print(project_cost)\n",
    "# Check your answer\n",
    "q4.check()"
   ]
  },
  {
   "cell_type": "code",
   "execution_count": 9,
   "id": "7d93e2cb",
   "metadata": {
    "execution": {
     "iopub.execute_input": "2023-04-28T17:18:10.818494Z",
     "iopub.status.busy": "2023-04-28T17:18:10.818059Z",
     "iopub.status.idle": "2023-04-28T17:18:10.822394Z",
     "shell.execute_reply": "2023-04-28T17:18:10.821217Z"
    },
    "papermill": {
     "duration": 0.015175,
     "end_time": "2023-04-28T17:18:10.824624",
     "exception": false,
     "start_time": "2023-04-28T17:18:10.809449",
     "status": "completed"
    },
    "tags": []
   },
   "outputs": [],
   "source": [
    "# Uncomment to see a hint\n",
    "#q4.hint()\n",
    "\n",
    "# Uncomment to view the solution\n",
    "#q4.solution()"
   ]
  },
  {
   "cell_type": "markdown",
   "id": "61221e6c",
   "metadata": {
    "papermill": {
     "duration": 0.006632,
     "end_time": "2023-04-28T17:18:10.838317",
     "exception": false,
     "start_time": "2023-04-28T17:18:10.831685",
     "status": "completed"
    },
    "tags": []
   },
   "source": [
    "# 🌶️ Question 5\n",
    "\n",
    "Now say you can no longer buy fractions of a gallon.  (For instance, if you need 4.3 gallons to do a project, then you have to buy 5 gallons of paint.)\n",
    "\n",
    "With this new scenario, you will create a new function `get_actual_cost` that uses the same inputs and calculates the cost of your project.\n",
    "\n",
    "One function that you'll need to use to do this is `math.ceil()`.  We demonstrate usage of this function in the code cell below.  It takes as a number as input and rounds the number up to the nearest integer.  \n",
    "\n",
    "Run the next code cell to test this function for yourself.  Feel free to change the value of `test_value` and make sure `math.ceil()` returns the number you expect."
   ]
  },
  {
   "cell_type": "code",
   "execution_count": 10,
   "id": "c93aec6c",
   "metadata": {
    "execution": {
     "iopub.execute_input": "2023-04-28T17:18:10.855009Z",
     "iopub.status.busy": "2023-04-28T17:18:10.853610Z",
     "iopub.status.idle": "2023-04-28T17:18:10.860654Z",
     "shell.execute_reply": "2023-04-28T17:18:10.859252Z"
    },
    "papermill": {
     "duration": 0.017794,
     "end_time": "2023-04-28T17:18:10.862966",
     "exception": false,
     "start_time": "2023-04-28T17:18:10.845172",
     "status": "completed"
    },
    "tags": []
   },
   "outputs": [
    {
     "name": "stdout",
     "output_type": "stream",
     "text": [
      "3\n"
     ]
    }
   ],
   "source": [
    "test_value = 2.01\n",
    "\n",
    "rounded_value = math.ceil(test_value)\n",
    "print(rounded_value)"
   ]
  },
  {
   "cell_type": "markdown",
   "id": "5c9b6007",
   "metadata": {
    "papermill": {
     "duration": 0.006663,
     "end_time": "2023-04-28T17:18:10.876667",
     "exception": false,
     "start_time": "2023-04-28T17:18:10.870004",
     "status": "completed"
    },
    "tags": []
   },
   "source": [
    "Use the next code cell to define the function `get_actual_cost()`.  You'll need to use the `math.ceil()` function to do this.\n",
    "\n",
    "When answering this question, note that it's completely valid to define a function that makes use of another function.  For instance, we can define a function `round_up_and_divide_by_three` that makes use of the `math.ceil` function:\n",
    "```\n",
    "def round_up_and_divide_by_three(num):\n",
    "    new_value = math.ceil(num)\n",
    "    final_value = new_value / 3\n",
    "    return final_value\n",
    "```"
   ]
  },
  {
   "cell_type": "code",
   "execution_count": 11,
   "id": "6e8566d4",
   "metadata": {
    "execution": {
     "iopub.execute_input": "2023-04-28T17:18:10.892937Z",
     "iopub.status.busy": "2023-04-28T17:18:10.892127Z",
     "iopub.status.idle": "2023-04-28T17:18:10.902592Z",
     "shell.execute_reply": "2023-04-28T17:18:10.901344Z"
    },
    "papermill": {
     "duration": 0.021525,
     "end_time": "2023-04-28T17:18:10.905105",
     "exception": false,
     "start_time": "2023-04-28T17:18:10.883580",
     "status": "completed"
    },
    "tags": []
   },
   "outputs": [
    {
     "data": {
      "application/javascript": [
       "parent.postMessage({\"jupyterEvent\": \"custom.exercise_interaction\", \"data\": {\"outcomeType\": 2, \"failureMessage\": \"Expected return value of `30` given `sqft_walls=432`, `sqft_ceiling=144`, `sqft_per_gallon=400`, `cost_per_gallon=15`, but got `21.599999999999998` instead.\", \"interactionType\": 1, \"questionType\": 2, \"questionId\": \"5_NoMoreFractions\", \"learnToolsVersion\": \"0.3.4\", \"valueTowardsCompletion\": 0.0, \"exceptionClass\": \"\", \"trace\": \"\"}}, \"*\")"
      ],
      "text/plain": [
       "<IPython.core.display.Javascript object>"
      ]
     },
     "metadata": {},
     "output_type": "display_data"
    },
    {
     "data": {
      "text/markdown": [
       "<span style=\"color:#cc3333\">Incorrect:</span> Expected return value of `30` given `sqft_walls=432`, `sqft_ceiling=144`, `sqft_per_gallon=400`, `cost_per_gallon=15`, but got `21.599999999999998` instead."
      ],
      "text/plain": [
       "Incorrect: Expected return value of `30` given `sqft_walls=432`, `sqft_ceiling=144`, `sqft_per_gallon=400`, `cost_per_gallon=15`, but got `21.599999999999998` instead."
      ]
     },
     "metadata": {},
     "output_type": "display_data"
    }
   ],
   "source": [
    "def get_actual_cost(sqft_walls, sqft_ceiling, sqft_per_gallon, cost_per_gallon):\n",
    "    cost = (sqft_walls + sqft_ceiling)/sqft_per_gallon * cost_per_gallon\n",
    "    return cost\n",
    "\n",
    "# Check your answer\n",
    "q5.check()"
   ]
  },
  {
   "cell_type": "code",
   "execution_count": 12,
   "id": "330c98f0",
   "metadata": {
    "execution": {
     "iopub.execute_input": "2023-04-28T17:18:10.922418Z",
     "iopub.status.busy": "2023-04-28T17:18:10.921997Z",
     "iopub.status.idle": "2023-04-28T17:18:10.926634Z",
     "shell.execute_reply": "2023-04-28T17:18:10.925368Z"
    },
    "papermill": {
     "duration": 0.015897,
     "end_time": "2023-04-28T17:18:10.928834",
     "exception": false,
     "start_time": "2023-04-28T17:18:10.912937",
     "status": "completed"
    },
    "tags": []
   },
   "outputs": [],
   "source": [
    "# Uncomment to see a hint\n",
    "#q5.hint()\n",
    "\n",
    "# Uncomment to view the solution\n",
    "#q5.solution()"
   ]
  },
  {
   "cell_type": "markdown",
   "id": "842c35ad",
   "metadata": {
    "papermill": {
     "duration": 0.007458,
     "end_time": "2023-04-28T17:18:10.943738",
     "exception": false,
     "start_time": "2023-04-28T17:18:10.936280",
     "status": "completed"
    },
    "tags": []
   },
   "source": [
    "Once your function is verified as correct, run the next code cell to calculate the updated cost of your project."
   ]
  },
  {
   "cell_type": "code",
   "execution_count": 13,
   "id": "d0a4f358",
   "metadata": {
    "execution": {
     "iopub.execute_input": "2023-04-28T17:18:10.961952Z",
     "iopub.status.busy": "2023-04-28T17:18:10.961388Z",
     "iopub.status.idle": "2023-04-28T17:18:10.969130Z",
     "shell.execute_reply": "2023-04-28T17:18:10.967885Z"
    },
    "papermill": {
     "duration": 0.019901,
     "end_time": "2023-04-28T17:18:10.971796",
     "exception": false,
     "start_time": "2023-04-28T17:18:10.951895",
     "status": "completed"
    },
    "tags": []
   },
   "outputs": [
    {
     "data": {
      "text/plain": [
       "21.599999999999998"
      ]
     },
     "execution_count": 13,
     "metadata": {},
     "output_type": "execute_result"
    }
   ],
   "source": [
    "get_actual_cost(432, 144, 400, 15) "
   ]
  },
  {
   "cell_type": "markdown",
   "id": "41be21f5",
   "metadata": {
    "papermill": {
     "duration": 0.008212,
     "end_time": "2023-04-28T17:18:10.987727",
     "exception": false,
     "start_time": "2023-04-28T17:18:10.979515",
     "status": "completed"
    },
    "tags": []
   },
   "source": [
    "Say you're working with a slightly larger room.  Run the next code cell to calculate the cost of the project."
   ]
  },
  {
   "cell_type": "code",
   "execution_count": 14,
   "id": "3602b4fe",
   "metadata": {
    "execution": {
     "iopub.execute_input": "2023-04-28T17:18:11.005274Z",
     "iopub.status.busy": "2023-04-28T17:18:11.004853Z",
     "iopub.status.idle": "2023-04-28T17:18:11.012640Z",
     "shell.execute_reply": "2023-04-28T17:18:11.011197Z"
    },
    "papermill": {
     "duration": 0.019629,
     "end_time": "2023-04-28T17:18:11.015212",
     "exception": false,
     "start_time": "2023-04-28T17:18:10.995583",
     "status": "completed"
    },
    "tags": []
   },
   "outputs": [
    {
     "data": {
      "text/plain": [
       "33.075"
      ]
     },
     "execution_count": 14,
     "metadata": {},
     "output_type": "execute_result"
    }
   ],
   "source": [
    "get_actual_cost(594, 288, 400, 15) "
   ]
  },
  {
   "cell_type": "markdown",
   "id": "7869d53f",
   "metadata": {
    "papermill": {
     "duration": 0.007726,
     "end_time": "2023-04-28T17:18:11.030848",
     "exception": false,
     "start_time": "2023-04-28T17:18:11.023122",
     "status": "completed"
    },
    "tags": []
   },
   "source": [
    "# Keep going\n",
    "\n",
    "Continue to learn about **[data types](https://www.kaggle.com/alexisbcook/data-types)**."
   ]
  },
  {
   "cell_type": "markdown",
   "id": "7b2c3836",
   "metadata": {
    "papermill": {
     "duration": 0.007517,
     "end_time": "2023-04-28T17:18:11.046241",
     "exception": false,
     "start_time": "2023-04-28T17:18:11.038724",
     "status": "completed"
    },
    "tags": []
   },
   "source": [
    "---\n",
    "\n",
    "\n",
    "\n",
    "\n",
    "*Have questions or comments? Visit the [course discussion forum](https://www.kaggle.com/learn/intro-to-programming/discussion) to chat with other learners.*"
   ]
  }
 ],
 "metadata": {
  "kernelspec": {
   "display_name": "Python 3",
   "language": "python",
   "name": "python3"
  },
  "language_info": {
   "codemirror_mode": {
    "name": "ipython",
    "version": 3
   },
   "file_extension": ".py",
   "mimetype": "text/x-python",
   "name": "python",
   "nbconvert_exporter": "python",
   "pygments_lexer": "ipython3",
   "version": "3.7.12"
  },
  "papermill": {
   "default_parameters": {},
   "duration": 11.974586,
   "end_time": "2023-04-28T17:18:11.776790",
   "environment_variables": {},
   "exception": null,
   "input_path": "__notebook__.ipynb",
   "output_path": "__notebook__.ipynb",
   "parameters": {},
   "start_time": "2023-04-28T17:17:59.802204",
   "version": "2.4.0"
  }
 },
 "nbformat": 4,
 "nbformat_minor": 5
}
