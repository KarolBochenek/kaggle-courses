{
 "cells": [
  {
   "cell_type": "markdown",
   "id": "8f0a4f1c",
   "metadata": {
    "papermill": {
     "duration": 0.007592,
     "end_time": "2023-04-28T17:22:06.842656",
     "exception": false,
     "start_time": "2023-04-28T17:22:06.835064",
     "status": "completed"
    },
    "tags": []
   },
   "source": [
    "**This notebook is an exercise in the [Intro to Programming](https://www.kaggle.com/learn/intro-to-programming) course.  You can reference the tutorial at [this link](https://www.kaggle.com/alexisbcook/intro-to-lists).**\n",
    "\n",
    "---\n"
   ]
  },
  {
   "cell_type": "markdown",
   "id": "262c1e86",
   "metadata": {
    "papermill": {
     "duration": 0.005998,
     "end_time": "2023-04-28T17:22:06.855059",
     "exception": false,
     "start_time": "2023-04-28T17:22:06.849061",
     "status": "completed"
    },
    "tags": []
   },
   "source": [
    "In the tutorial, you learned how to define and modify Python lists.  In this exercise, you will use your new knowledge to solve several problems.\n",
    "\n",
    "# Set up the notebook\n",
    "\n",
    "Run the next code cell without changes to set up the notebook."
   ]
  },
  {
   "cell_type": "code",
   "execution_count": 1,
   "id": "afafbcd1",
   "metadata": {
    "execution": {
     "iopub.execute_input": "2023-04-28T17:22:06.869749Z",
     "iopub.status.busy": "2023-04-28T17:22:06.869234Z",
     "iopub.status.idle": "2023-04-28T17:22:06.918520Z",
     "shell.execute_reply": "2023-04-28T17:22:06.917334Z"
    },
    "papermill": {
     "duration": 0.059978,
     "end_time": "2023-04-28T17:22:06.921202",
     "exception": false,
     "start_time": "2023-04-28T17:22:06.861224",
     "status": "completed"
    },
    "tags": []
   },
   "outputs": [
    {
     "name": "stdout",
     "output_type": "stream",
     "text": [
      "Setup complete.\n"
     ]
    }
   ],
   "source": [
    "from learntools.core import binder\n",
    "binder.bind(globals())\n",
    "from learntools.intro_to_programming.ex5 import *\n",
    "print('Setup complete.')"
   ]
  },
  {
   "cell_type": "markdown",
   "id": "3cc59ddc",
   "metadata": {
    "papermill": {
     "duration": 0.006394,
     "end_time": "2023-04-28T17:22:06.934469",
     "exception": false,
     "start_time": "2023-04-28T17:22:06.928075",
     "status": "completed"
    },
    "tags": []
   },
   "source": [
    "# Question 1\n",
    "\n",
    "You own a restaurant with five food dishes, organized in the Python list `menu` below.  One day, you decide to:\n",
    "- remove bean soup (`'bean soup'`) from the menu, and\n",
    "- add roasted beet salad (`'roasted beet salad'`) to the menu.\n",
    "\n",
    "Implement this change to the list below.  While completing this task, \n",
    "- do not change the line that creates the `menu` list.  \n",
    "- your answer should use `.remove()` and `.append()`.  "
   ]
  },
  {
   "cell_type": "code",
   "execution_count": 2,
   "id": "a277b553",
   "metadata": {
    "execution": {
     "iopub.execute_input": "2023-04-28T17:22:06.949107Z",
     "iopub.status.busy": "2023-04-28T17:22:06.948694Z",
     "iopub.status.idle": "2023-04-28T17:22:06.960444Z",
     "shell.execute_reply": "2023-04-28T17:22:06.959268Z"
    },
    "papermill": {
     "duration": 0.022132,
     "end_time": "2023-04-28T17:22:06.962953",
     "exception": false,
     "start_time": "2023-04-28T17:22:06.940821",
     "status": "completed"
    },
    "tags": []
   },
   "outputs": [
    {
     "data": {
      "application/javascript": [
       "parent.postMessage({\"jupyterEvent\": \"custom.exercise_interaction\", \"data\": {\"outcomeType\": 1, \"valueTowardsCompletion\": 0.2, \"interactionType\": 1, \"questionType\": 2, \"questionId\": \"1_FoodMenu\", \"learnToolsVersion\": \"0.3.4\", \"failureMessage\": \"\", \"exceptionClass\": \"\", \"trace\": \"\"}}, \"*\")"
      ],
      "text/plain": [
       "<IPython.core.display.Javascript object>"
      ]
     },
     "metadata": {},
     "output_type": "display_data"
    },
    {
     "data": {
      "text/markdown": [
       "<span style=\"color:#33cc33\">Correct</span>"
      ],
      "text/plain": [
       "Correct"
      ]
     },
     "metadata": {},
     "output_type": "display_data"
    }
   ],
   "source": [
    "# Do not change: Initial menu for your restaurant\n",
    "menu = ['stewed meat with onions', 'bean soup', 'risotto with trout and shrimp',\n",
    "       'fish soup with cream and onion', 'gyro']\n",
    "\n",
    "# TODO: remove 'bean soup', and add 'roasted beet salad' to the end of the menu\n",
    "menu.remove(\"bean soup\")\n",
    "menu.append(\"roasted beet salad\")\n",
    "\n",
    "\n",
    "# Do not change: Check your answer\n",
    "q1.check()"
   ]
  },
  {
   "cell_type": "code",
   "execution_count": 3,
   "id": "fccf7060",
   "metadata": {
    "execution": {
     "iopub.execute_input": "2023-04-28T17:22:06.978263Z",
     "iopub.status.busy": "2023-04-28T17:22:06.977800Z",
     "iopub.status.idle": "2023-04-28T17:22:06.982706Z",
     "shell.execute_reply": "2023-04-28T17:22:06.981590Z"
    },
    "papermill": {
     "duration": 0.015509,
     "end_time": "2023-04-28T17:22:06.985097",
     "exception": false,
     "start_time": "2023-04-28T17:22:06.969588",
     "status": "completed"
    },
    "tags": []
   },
   "outputs": [],
   "source": [
    "# Uncomment to see a hint\n",
    "#q1.hint()\n",
    "\n",
    "# Uncomment to see the solution\n",
    "#q1.solution()"
   ]
  },
  {
   "cell_type": "markdown",
   "id": "f25a6ba8",
   "metadata": {
    "papermill": {
     "duration": 0.006528,
     "end_time": "2023-04-28T17:22:06.998445",
     "exception": false,
     "start_time": "2023-04-28T17:22:06.991917",
     "status": "completed"
    },
    "tags": []
   },
   "source": [
    "# Question 2\n",
    "\n",
    "The list `num_customers` contains the number of customers who came into your restaurant every day over the last month (which lasted thirty days).  Fill in values for each of the following:\n",
    "- `avg_first_seven` - average number of customers who visited in the first seven days\n",
    "- `avg_last_seven` - average number of customers who visited in the last seven days\n",
    "- `max_month` - number of customers on the day that got the most customers in the last month\n",
    "- `min_month` - number of customers on the day that got the least customers in the last month\n",
    "\n",
    "Answer this question by writing code.  For instance, if you have to find the minimum value in a list, use `min()` instead of scanning for the smallest value and directly filling in a number."
   ]
  },
  {
   "cell_type": "code",
   "execution_count": 4,
   "id": "011ffbda",
   "metadata": {
    "execution": {
     "iopub.execute_input": "2023-04-28T17:22:07.013727Z",
     "iopub.status.busy": "2023-04-28T17:22:07.013259Z",
     "iopub.status.idle": "2023-04-28T17:22:07.024783Z",
     "shell.execute_reply": "2023-04-28T17:22:07.023804Z"
    },
    "papermill": {
     "duration": 0.021937,
     "end_time": "2023-04-28T17:22:07.027005",
     "exception": false,
     "start_time": "2023-04-28T17:22:07.005068",
     "status": "completed"
    },
    "tags": []
   },
   "outputs": [
    {
     "data": {
      "application/javascript": [
       "parent.postMessage({\"jupyterEvent\": \"custom.exercise_interaction\", \"data\": {\"outcomeType\": 1, \"valueTowardsCompletion\": 0.2, \"interactionType\": 1, \"questionType\": 1, \"questionId\": \"2_NumCustomers\", \"learnToolsVersion\": \"0.3.4\", \"failureMessage\": \"\", \"exceptionClass\": \"\", \"trace\": \"\"}}, \"*\")"
      ],
      "text/plain": [
       "<IPython.core.display.Javascript object>"
      ]
     },
     "metadata": {},
     "output_type": "display_data"
    },
    {
     "data": {
      "text/markdown": [
       "<span style=\"color:#33cc33\">Correct</span>"
      ],
      "text/plain": [
       "Correct"
      ]
     },
     "metadata": {},
     "output_type": "display_data"
    }
   ],
   "source": [
    "# Do not change: Number of customers each day for the last month\n",
    "num_customers = [137, 147, 135, 128, 170, 174, 165, 146, 126, 159,\n",
    "                 141, 148, 132, 147, 168, 153, 170, 161, 148, 152,\n",
    "                 141, 151, 131, 149, 164, 163, 143, 143, 166, 171]\n",
    "\n",
    "# TODO: Fill in values for the variables below\n",
    "avg_first_seven = sum(num_customers[:7]) / 7\n",
    "avg_last_seven =  sum(num_customers[-7:]) / 7\n",
    "min_month = min(num_customers)\n",
    "max_month = max(num_customers)\n",
    "\n",
    "# Do not change: Check your answer\n",
    "q2.check()"
   ]
  },
  {
   "cell_type": "code",
   "execution_count": 5,
   "id": "cf78b45b",
   "metadata": {
    "execution": {
     "iopub.execute_input": "2023-04-28T17:22:07.043223Z",
     "iopub.status.busy": "2023-04-28T17:22:07.042546Z",
     "iopub.status.idle": "2023-04-28T17:22:07.051461Z",
     "shell.execute_reply": "2023-04-28T17:22:07.050227Z"
    },
    "papermill": {
     "duration": 0.019445,
     "end_time": "2023-04-28T17:22:07.053742",
     "exception": false,
     "start_time": "2023-04-28T17:22:07.034297",
     "status": "completed"
    },
    "tags": []
   },
   "outputs": [
    {
     "data": {
      "application/javascript": [
       "parent.postMessage({\"jupyterEvent\": \"custom.exercise_interaction\", \"data\": {\"interactionType\": 3, \"questionType\": 1, \"questionId\": \"2_NumCustomers\", \"learnToolsVersion\": \"0.3.4\", \"valueTowardsCompletion\": 0.0, \"failureMessage\": \"\", \"exceptionClass\": \"\", \"trace\": \"\", \"outcomeType\": 4}}, \"*\")"
      ],
      "text/plain": [
       "<IPython.core.display.Javascript object>"
      ]
     },
     "metadata": {},
     "output_type": "display_data"
    },
    {
     "data": {
      "text/markdown": [
       "<span style=\"color:#33cc99\">Solution:</span> \n",
       "```python\n",
       "# Fill in values for the variables below\n",
       "avg_first_seven = sum(num_customers[:7])/7 \n",
       "avg_last_seven = sum(num_customers[-7:])/7\n",
       "max_month = max(num_customers)\n",
       "min_month = min(num_customers)\n",
       "\n",
       "```"
      ],
      "text/plain": [
       "Solution: \n",
       "```python\n",
       "# Fill in values for the variables below\n",
       "avg_first_seven = sum(num_customers[:7])/7 \n",
       "avg_last_seven = sum(num_customers[-7:])/7\n",
       "max_month = max(num_customers)\n",
       "min_month = min(num_customers)\n",
       "\n",
       "```"
      ]
     },
     "metadata": {},
     "output_type": "display_data"
    }
   ],
   "source": [
    "# Uncomment to see a hint\n",
    "#q2.hint()\n",
    "\n",
    "# Uncomment to see the solution\n",
    "q2.solution()"
   ]
  },
  {
   "cell_type": "markdown",
   "id": "d0bd7c7b",
   "metadata": {
    "papermill": {
     "duration": 0.006795,
     "end_time": "2023-04-28T17:22:07.067671",
     "exception": false,
     "start_time": "2023-04-28T17:22:07.060876",
     "status": "completed"
    },
    "tags": []
   },
   "source": [
    "# Question 3\n",
    "\n",
    "In the tutorial, we gave an example of a Python string with information that was better as a list."
   ]
  },
  {
   "cell_type": "code",
   "execution_count": 6,
   "id": "5cc9fe8e",
   "metadata": {
    "execution": {
     "iopub.execute_input": "2023-04-28T17:22:07.086326Z",
     "iopub.status.busy": "2023-04-28T17:22:07.085521Z",
     "iopub.status.idle": "2023-04-28T17:22:07.091802Z",
     "shell.execute_reply": "2023-04-28T17:22:07.090117Z"
    },
    "papermill": {
     "duration": 0.019112,
     "end_time": "2023-04-28T17:22:07.094937",
     "exception": false,
     "start_time": "2023-04-28T17:22:07.075825",
     "status": "completed"
    },
    "tags": []
   },
   "outputs": [],
   "source": [
    "flowers = \"pink primrose,hard-leaved pocket orchid,canterbury bells,sweet pea,english marigold,tiger lily,moon orchid,bird of paradise,monkshood,globe thistle\""
   ]
  },
  {
   "cell_type": "markdown",
   "id": "b72d21a9",
   "metadata": {
    "papermill": {
     "duration": 0.00746,
     "end_time": "2023-04-28T17:22:07.110432",
     "exception": false,
     "start_time": "2023-04-28T17:22:07.102972",
     "status": "completed"
    },
    "tags": []
   },
   "source": [
    "You can actually use Python to quickly turn this string into a list with `.split()`.  In the parentheses, we need to provide the character should be used to mark the end of one list item and the beginning of another, and enclose it in quotation marks.  In this case, that character is a comma."
   ]
  },
  {
   "cell_type": "code",
   "execution_count": 7,
   "id": "fff7e283",
   "metadata": {
    "execution": {
     "iopub.execute_input": "2023-04-28T17:22:07.131114Z",
     "iopub.status.busy": "2023-04-28T17:22:07.130238Z",
     "iopub.status.idle": "2023-04-28T17:22:07.136237Z",
     "shell.execute_reply": "2023-04-28T17:22:07.134627Z"
    },
    "papermill": {
     "duration": 0.020646,
     "end_time": "2023-04-28T17:22:07.140047",
     "exception": false,
     "start_time": "2023-04-28T17:22:07.119401",
     "status": "completed"
    },
    "tags": []
   },
   "outputs": [
    {
     "name": "stdout",
     "output_type": "stream",
     "text": [
      "['pink primrose', 'hard-leaved pocket orchid', 'canterbury bells', 'sweet pea', 'english marigold', 'tiger lily', 'moon orchid', 'bird of paradise', 'monkshood', 'globe thistle']\n"
     ]
    }
   ],
   "source": [
    " print(flowers.split(\",\"))"
   ]
  },
  {
   "cell_type": "markdown",
   "id": "dba3f038",
   "metadata": {
    "papermill": {
     "duration": 0.00731,
     "end_time": "2023-04-28T17:22:07.157988",
     "exception": false,
     "start_time": "2023-04-28T17:22:07.150678",
     "status": "completed"
    },
    "tags": []
   },
   "source": [
    "Now it is your turn to try this out!  Create two Python lists:\n",
    "- `letters` should be a Python list where each entry is an uppercase letter of the English alphabet.  For instance, the first two entries should be `\"A\"` and `\"B\"`, and the final two entries should be `\"Y\"` and `\"Z\"`.  Use the string `alphabet` to create this list.\n",
    "- `address` should be a Python list where each row in `address` is a different item in the list.  Currently, each row in `address` is separated by a comma. "
   ]
  },
  {
   "cell_type": "code",
   "execution_count": 8,
   "id": "5b4870e1",
   "metadata": {
    "execution": {
     "iopub.execute_input": "2023-04-28T17:22:07.178981Z",
     "iopub.status.busy": "2023-04-28T17:22:07.178552Z",
     "iopub.status.idle": "2023-04-28T17:22:07.188391Z",
     "shell.execute_reply": "2023-04-28T17:22:07.187218Z"
    },
    "papermill": {
     "duration": 0.023115,
     "end_time": "2023-04-28T17:22:07.190724",
     "exception": false,
     "start_time": "2023-04-28T17:22:07.167609",
     "status": "completed"
    },
    "tags": []
   },
   "outputs": [
    {
     "data": {
      "application/javascript": [
       "parent.postMessage({\"jupyterEvent\": \"custom.exercise_interaction\", \"data\": {\"outcomeType\": 1, \"valueTowardsCompletion\": 0.2, \"interactionType\": 1, \"questionType\": 1, \"questionId\": \"3_SplitString\", \"learnToolsVersion\": \"0.3.4\", \"failureMessage\": \"\", \"exceptionClass\": \"\", \"trace\": \"\"}}, \"*\")"
      ],
      "text/plain": [
       "<IPython.core.display.Javascript object>"
      ]
     },
     "metadata": {},
     "output_type": "display_data"
    },
    {
     "data": {
      "text/markdown": [
       "<span style=\"color:#33cc33\">Correct</span>"
      ],
      "text/plain": [
       "Correct"
      ]
     },
     "metadata": {},
     "output_type": "display_data"
    }
   ],
   "source": [
    "# DO not change: Define two Python strings\n",
    "alphabet = \"A.B.C.D.E.F.G.H.I.J.K.L.M.N.O.P.Q.R.S.T.U.V.W.X.Y.Z\"\n",
    "address = \"Mr. H. Potter,The cupboard under the Stairs,4 Privet Drive,Little Whinging,Surrey\"\n",
    "\n",
    "# TODO: Convert strings into Python lists\n",
    "letters = alphabet.split(\".\")\n",
    "formatted_address = address.split(\",\")\n",
    "\n",
    "# Do not change: Check your answer\n",
    "q3.check()"
   ]
  },
  {
   "cell_type": "code",
   "execution_count": 9,
   "id": "4078e8ea",
   "metadata": {
    "execution": {
     "iopub.execute_input": "2023-04-28T17:22:07.207424Z",
     "iopub.status.busy": "2023-04-28T17:22:07.206749Z",
     "iopub.status.idle": "2023-04-28T17:22:07.211623Z",
     "shell.execute_reply": "2023-04-28T17:22:07.210355Z"
    },
    "papermill": {
     "duration": 0.016034,
     "end_time": "2023-04-28T17:22:07.214075",
     "exception": false,
     "start_time": "2023-04-28T17:22:07.198041",
     "status": "completed"
    },
    "tags": []
   },
   "outputs": [],
   "source": [
    "# Uncomment to see a hint\n",
    "#q3.hint()\n",
    "\n",
    "# Uncomment to see the solution\n",
    "#q3.solution()"
   ]
  },
  {
   "cell_type": "markdown",
   "id": "d02e5927",
   "metadata": {
    "papermill": {
     "duration": 0.007362,
     "end_time": "2023-04-28T17:22:07.229028",
     "exception": false,
     "start_time": "2023-04-28T17:22:07.221666",
     "status": "completed"
    },
    "tags": []
   },
   "source": [
    "# Question 4\n",
    "\n",
    "In the Python course, you'll learn all about **list comprehensions**, which allow you to create a list based on the values in another list.  In this question, you'll get a brief preview of how they work.\n",
    "\n",
    "Say we're working with the list below."
   ]
  },
  {
   "cell_type": "code",
   "execution_count": 10,
   "id": "6459a7cc",
   "metadata": {
    "execution": {
     "iopub.execute_input": "2023-04-28T17:22:07.245792Z",
     "iopub.status.busy": "2023-04-28T17:22:07.245373Z",
     "iopub.status.idle": "2023-04-28T17:22:07.251018Z",
     "shell.execute_reply": "2023-04-28T17:22:07.249752Z"
    },
    "papermill": {
     "duration": 0.016988,
     "end_time": "2023-04-28T17:22:07.253585",
     "exception": false,
     "start_time": "2023-04-28T17:22:07.236597",
     "status": "completed"
    },
    "tags": []
   },
   "outputs": [],
   "source": [
    "test_ratings = [1, 2, 3, 4, 5]"
   ]
  },
  {
   "cell_type": "markdown",
   "id": "5d689c98",
   "metadata": {
    "papermill": {
     "duration": 0.007174,
     "end_time": "2023-04-28T17:22:07.268497",
     "exception": false,
     "start_time": "2023-04-28T17:22:07.261323",
     "status": "completed"
    },
    "tags": []
   },
   "source": [
    "Then we can use this list (`test_ratings`) to create a new list (`test_liked`) where each item has been turned into a boolean, depending on whether or not the item is greater than or equal to four."
   ]
  },
  {
   "cell_type": "code",
   "execution_count": 11,
   "id": "0713dd7b",
   "metadata": {
    "execution": {
     "iopub.execute_input": "2023-04-28T17:22:07.285111Z",
     "iopub.status.busy": "2023-04-28T17:22:07.284719Z",
     "iopub.status.idle": "2023-04-28T17:22:07.290877Z",
     "shell.execute_reply": "2023-04-28T17:22:07.289562Z"
    },
    "papermill": {
     "duration": 0.017578,
     "end_time": "2023-04-28T17:22:07.293538",
     "exception": false,
     "start_time": "2023-04-28T17:22:07.275960",
     "status": "completed"
    },
    "tags": []
   },
   "outputs": [
    {
     "name": "stdout",
     "output_type": "stream",
     "text": [
      "[False, False, False, True, True]\n"
     ]
    }
   ],
   "source": [
    "test_liked = [i>=4 for i in test_ratings]\n",
    "print(test_liked)"
   ]
  },
  {
   "cell_type": "markdown",
   "id": "28fc35f7",
   "metadata": {
    "papermill": {
     "duration": 0.007238,
     "end_time": "2023-04-28T17:22:07.308415",
     "exception": false,
     "start_time": "2023-04-28T17:22:07.301177",
     "status": "completed"
    },
    "tags": []
   },
   "source": [
    "In this question, you'll use this list comprehension to define a function `percentage_liked()` that takes one argument as input:\n",
    "- `ratings`: list of ratings that people gave to a movie, where each rating is a number between 1-5, inclusive\n",
    "\n",
    "We say someone liked the movie, if they gave a rating of either 4 or 5.  Your function should return the percentage of people who liked the movie.\n",
    "\n",
    "For instance, if we supply a value of `[1, 2, 3, 4, 5, 4, 5, 1]`, then 50% (4/8) of the people liked the movie, and the function should return `0.5`.\n",
    "\n",
    "Part of the function has already been completed for you.  You need only use `list_liked` to calculate `percentage_liked`."
   ]
  },
  {
   "cell_type": "code",
   "execution_count": 12,
   "id": "5fc91e24",
   "metadata": {
    "execution": {
     "iopub.execute_input": "2023-04-28T17:22:07.325289Z",
     "iopub.status.busy": "2023-04-28T17:22:07.324849Z",
     "iopub.status.idle": "2023-04-28T17:22:07.335371Z",
     "shell.execute_reply": "2023-04-28T17:22:07.334281Z"
    },
    "papermill": {
     "duration": 0.021598,
     "end_time": "2023-04-28T17:22:07.337564",
     "exception": false,
     "start_time": "2023-04-28T17:22:07.315966",
     "status": "completed"
    },
    "tags": []
   },
   "outputs": [
    {
     "data": {
      "application/javascript": [
       "parent.postMessage({\"jupyterEvent\": \"custom.exercise_interaction\", \"data\": {\"outcomeType\": 1, \"valueTowardsCompletion\": 0.2, \"interactionType\": 1, \"questionType\": 2, \"questionId\": \"4_PercentageLiked\", \"learnToolsVersion\": \"0.3.4\", \"failureMessage\": \"\", \"exceptionClass\": \"\", \"trace\": \"\"}}, \"*\")"
      ],
      "text/plain": [
       "<IPython.core.display.Javascript object>"
      ]
     },
     "metadata": {},
     "output_type": "display_data"
    },
    {
     "data": {
      "text/markdown": [
       "<span style=\"color:#33cc33\">Correct</span>"
      ],
      "text/plain": [
       "Correct"
      ]
     },
     "metadata": {},
     "output_type": "display_data"
    }
   ],
   "source": [
    "\n",
    "def percentage_liked(ratings):\n",
    "    list_liked = [i>=4 for i in ratings]\n",
    "    # TODO: Complete the function\n",
    "    percentage_liked = list_liked.count(True)/len(list_liked)\n",
    "    return percentage_liked\n",
    "\n",
    "# Do not change: should return 0.5\n",
    "percentage_liked([1, 2, 3, 4, 5, 4, 5, 1])\n",
    "\n",
    "# Do not change: Check your answer\n",
    "q4.check()"
   ]
  },
  {
   "cell_type": "code",
   "execution_count": 13,
   "id": "6314b33f",
   "metadata": {
    "execution": {
     "iopub.execute_input": "2023-04-28T17:22:07.355047Z",
     "iopub.status.busy": "2023-04-28T17:22:07.354623Z",
     "iopub.status.idle": "2023-04-28T17:22:07.362287Z",
     "shell.execute_reply": "2023-04-28T17:22:07.361364Z"
    },
    "papermill": {
     "duration": 0.019107,
     "end_time": "2023-04-28T17:22:07.364589",
     "exception": false,
     "start_time": "2023-04-28T17:22:07.345482",
     "status": "completed"
    },
    "tags": []
   },
   "outputs": [
    {
     "data": {
      "application/javascript": [
       "parent.postMessage({\"jupyterEvent\": \"custom.exercise_interaction\", \"data\": {\"interactionType\": 3, \"questionType\": 2, \"questionId\": \"4_PercentageLiked\", \"learnToolsVersion\": \"0.3.4\", \"valueTowardsCompletion\": 0.0, \"failureMessage\": \"\", \"exceptionClass\": \"\", \"trace\": \"\", \"outcomeType\": 4}}, \"*\")"
      ],
      "text/plain": [
       "<IPython.core.display.Javascript object>"
      ]
     },
     "metadata": {},
     "output_type": "display_data"
    },
    {
     "data": {
      "text/markdown": [
       "<span style=\"color:#33cc99\">Solution:</span> \n",
       "```python\n",
       "\n",
       "# Complete the function\n",
       "def percentage_liked(ratings):\n",
       "    list_liked = [i >= 4 for i in ratings]\n",
       "    percentage_liked = sum(list_liked)/len(list_liked)\n",
       "    return percentage_liked\n",
       "\n",
       "```"
      ],
      "text/plain": [
       "Solution: \n",
       "```python\n",
       "\n",
       "# Complete the function\n",
       "def percentage_liked(ratings):\n",
       "    list_liked = [i >= 4 for i in ratings]\n",
       "    percentage_liked = sum(list_liked)/len(list_liked)\n",
       "    return percentage_liked\n",
       "\n",
       "```"
      ]
     },
     "metadata": {},
     "output_type": "display_data"
    }
   ],
   "source": [
    "# Uncomment to see a hint\n",
    "#q4.hint()\n",
    "\n",
    "# Uncomment to see the solution\n",
    "q4.solution()"
   ]
  },
  {
   "cell_type": "markdown",
   "id": "6adaf60d",
   "metadata": {
    "papermill": {
     "duration": 0.008992,
     "end_time": "2023-04-28T17:22:07.381730",
     "exception": false,
     "start_time": "2023-04-28T17:22:07.372738",
     "status": "completed"
    },
    "tags": []
   },
   "source": [
    "# 🌶️ Question 5\n",
    " \n",
    "Say you're doing analytics for a website.  You need to write a function that returns the percentage growth in the total number of users relative to a specified number of years ago.\n",
    "\n",
    "Your function `percentage_growth()` should take two arguments as input:\n",
    "- `num_users` = Python list with the total number of users each year.  So `num_users[0]` is the total number of users in the first year, `num_users[1]` is the total number of users in the second year, and so on.  The final entry in the list gives the total number of users in the most recently completed year.\n",
    "- `yrs_ago` = number of years to go back in time when calculating the growth percentage\n",
    "\n",
    "For instance, say `num_users = [920344, 1043553, 1204334, 1458996, 1503323, 1593432, 1623463, 1843064, 1930992, 2001078]`.\n",
    "- if `yrs_ago = 1`, we want the function to return a value of about `0.036`. This corresponds to a percentage growth of approximately 3.6%, calculated as (2001078 - 1930992)/1930992.\n",
    "- if `years_ago = 7`, we would want to return approximately `0.66`.  This corresponds to a percentage growth of approximately 66%, calculated as (2001078 - 1204334)/1204334.\n",
    "\n",
    "Your coworker sent you a draft of a function, but it doesn't seem to be doing the correct calculation.  Can you figure out what has gone wrong and make the needed changes?"
   ]
  },
  {
   "cell_type": "code",
   "execution_count": 14,
   "id": "6dfbb40a",
   "metadata": {
    "execution": {
     "iopub.execute_input": "2023-04-28T17:22:07.400804Z",
     "iopub.status.busy": "2023-04-28T17:22:07.400349Z",
     "iopub.status.idle": "2023-04-28T17:22:07.413824Z",
     "shell.execute_reply": "2023-04-28T17:22:07.412625Z"
    },
    "papermill": {
     "duration": 0.025709,
     "end_time": "2023-04-28T17:22:07.416216",
     "exception": false,
     "start_time": "2023-04-28T17:22:07.390507",
     "status": "completed"
    },
    "tags": []
   },
   "outputs": [
    {
     "name": "stdout",
     "output_type": "stream",
     "text": [
      "0.03629533421163837\n",
      "0.6615639847417742\n"
     ]
    },
    {
     "data": {
      "application/javascript": [
       "parent.postMessage({\"jupyterEvent\": \"custom.exercise_interaction\", \"data\": {\"outcomeType\": 1, \"valueTowardsCompletion\": 0.2, \"interactionType\": 1, \"questionType\": 2, \"questionId\": \"5_WebsiteAnalytics\", \"learnToolsVersion\": \"0.3.4\", \"failureMessage\": \"\", \"exceptionClass\": \"\", \"trace\": \"\"}}, \"*\")"
      ],
      "text/plain": [
       "<IPython.core.display.Javascript object>"
      ]
     },
     "metadata": {},
     "output_type": "display_data"
    },
    {
     "data": {
      "text/markdown": [
       "<span style=\"color:#33cc33\">Correct</span>"
      ],
      "text/plain": [
       "Correct"
      ]
     },
     "metadata": {},
     "output_type": "display_data"
    }
   ],
   "source": [
    "# TODO: Edit the function\n",
    "def percentage_growth(num_users, yrs_ago):\n",
    "    growth = (num_users[len(num_users)-1] - num_users[len(num_users)-yrs_ago-1])/num_users[len(num_users)-yrs_ago-1]\n",
    "    return growth\n",
    "\n",
    "# Do not change: Variable for calculating some test examples\n",
    "num_users_test = [920344, 1043553, 1204334, 1458996, 1503323, 1593432, 1623463, 1843064, 1930992, 2001078]\n",
    "\n",
    "# Do not change: Should return .036\n",
    "print(percentage_growth(num_users_test, 1))\n",
    "\n",
    "# Do not change: Should return 0.66\n",
    "print(percentage_growth(num_users_test, 7))\n",
    "\n",
    "# Do not change: Check your answer\n",
    "q5.check()"
   ]
  },
  {
   "cell_type": "code",
   "execution_count": 15,
   "id": "f351af95",
   "metadata": {
    "execution": {
     "iopub.execute_input": "2023-04-28T17:22:07.435656Z",
     "iopub.status.busy": "2023-04-28T17:22:07.435226Z",
     "iopub.status.idle": "2023-04-28T17:22:07.439650Z",
     "shell.execute_reply": "2023-04-28T17:22:07.438445Z"
    },
    "papermill": {
     "duration": 0.017603,
     "end_time": "2023-04-28T17:22:07.442427",
     "exception": false,
     "start_time": "2023-04-28T17:22:07.424824",
     "status": "completed"
    },
    "tags": []
   },
   "outputs": [],
   "source": [
    "# Uncomment to see a hint\n",
    "#q5.hint()\n",
    "\n",
    "# Uncomment to see the solution\n",
    "#q5.solution()"
   ]
  },
  {
   "cell_type": "markdown",
   "id": "4fa4eddf",
   "metadata": {
    "papermill": {
     "duration": 0.008191,
     "end_time": "2023-04-28T17:22:07.459162",
     "exception": false,
     "start_time": "2023-04-28T17:22:07.450971",
     "status": "completed"
    },
    "tags": []
   },
   "source": [
    "# Congratulations!\n",
    "\n",
    "Congratulations for finishing the Intro to Programming course!  You should be proud of your very first steps with learning programming.  As next steps, we recommend taking:\n",
    "- the **[Python course](http://www.kaggle.com/learn/python)**, and \n",
    "- the **[Intro to Machine Learning course](https://www.kaggle.com/learn/intro-to-machine-learning)**."
   ]
  },
  {
   "cell_type": "markdown",
   "id": "fe004764",
   "metadata": {
    "papermill": {
     "duration": 0.008073,
     "end_time": "2023-04-28T17:22:07.475630",
     "exception": false,
     "start_time": "2023-04-28T17:22:07.467557",
     "status": "completed"
    },
    "tags": []
   },
   "source": [
    "---\n",
    "\n",
    "\n",
    "\n",
    "\n",
    "*Have questions or comments? Visit the [course discussion forum](https://www.kaggle.com/learn/intro-to-programming/discussion) to chat with other learners.*"
   ]
  }
 ],
 "metadata": {
  "kernelspec": {
   "display_name": "Python 3",
   "language": "python",
   "name": "python3"
  },
  "language_info": {
   "codemirror_mode": {
    "name": "ipython",
    "version": 3
   },
   "file_extension": ".py",
   "mimetype": "text/x-python",
   "name": "python",
   "nbconvert_exporter": "python",
   "pygments_lexer": "ipython3",
   "version": "3.7.12"
  },
  "papermill": {
   "default_parameters": {},
   "duration": 13.647888,
   "end_time": "2023-04-28T17:22:10.787677",
   "environment_variables": {},
   "exception": null,
   "input_path": "__notebook__.ipynb",
   "output_path": "__notebook__.ipynb",
   "parameters": {},
   "start_time": "2023-04-28T17:21:57.139789",
   "version": "2.4.0"
  }
 },
 "nbformat": 4,
 "nbformat_minor": 5
}
