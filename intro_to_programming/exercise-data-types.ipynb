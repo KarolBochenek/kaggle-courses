{
 "cells": [
  {
   "cell_type": "markdown",
   "id": "17e02e7e",
   "metadata": {
    "papermill": {
     "duration": 0.007525,
     "end_time": "2023-04-28T17:18:36.255458",
     "exception": false,
     "start_time": "2023-04-28T17:18:36.247933",
     "status": "completed"
    },
    "tags": []
   },
   "source": [
    "**This notebook is an exercise in the [Intro to Programming](https://www.kaggle.com/learn/intro-to-programming) course.  You can reference the tutorial at [this link](https://www.kaggle.com/alexisbcook/data-types).**\n",
    "\n",
    "---\n"
   ]
  },
  {
   "cell_type": "markdown",
   "id": "d2b70cb3",
   "metadata": {
    "papermill": {
     "duration": 0.006059,
     "end_time": "2023-04-28T17:18:36.268039",
     "exception": false,
     "start_time": "2023-04-28T17:18:36.261980",
     "status": "completed"
    },
    "tags": []
   },
   "source": [
    "In the tutorial, you learned about four different data types: floats, integers, strings, and booleans.  In this exercise, you'll experiment with them.\n",
    "\n",
    "# Set up the notebook\n",
    "\n",
    "Run the next code cell without changes to set up the notebook."
   ]
  },
  {
   "cell_type": "code",
   "execution_count": 1,
   "id": "70819e70",
   "metadata": {
    "execution": {
     "iopub.execute_input": "2023-04-28T17:18:36.283532Z",
     "iopub.status.busy": "2023-04-28T17:18:36.282739Z",
     "iopub.status.idle": "2023-04-28T17:18:36.340618Z",
     "shell.execute_reply": "2023-04-28T17:18:36.337644Z"
    },
    "papermill": {
     "duration": 0.068946,
     "end_time": "2023-04-28T17:18:36.343537",
     "exception": false,
     "start_time": "2023-04-28T17:18:36.274591",
     "status": "completed"
    },
    "tags": []
   },
   "outputs": [
    {
     "name": "stdout",
     "output_type": "stream",
     "text": [
      "Setup complete.\n"
     ]
    }
   ],
   "source": [
    "# Set up the exercise\n",
    "from learntools.core import binder\n",
    "binder.bind(globals())\n",
    "from learntools.intro_to_programming.ex3 import *\n",
    "print('Setup complete.')"
   ]
  },
  {
   "cell_type": "markdown",
   "id": "76fa924a",
   "metadata": {
    "papermill": {
     "duration": 0.006228,
     "end_time": "2023-04-28T17:18:36.356421",
     "exception": false,
     "start_time": "2023-04-28T17:18:36.350193",
     "status": "completed"
    },
    "tags": []
   },
   "source": [
    "# Question 1\n",
    "\n",
    "You have seen how to convert a float to an integer with the `int` function.  Try this out yourself by running the code cell below."
   ]
  },
  {
   "cell_type": "code",
   "execution_count": 2,
   "id": "29d873cb",
   "metadata": {
    "execution": {
     "iopub.execute_input": "2023-04-28T17:18:36.371584Z",
     "iopub.status.busy": "2023-04-28T17:18:36.370824Z",
     "iopub.status.idle": "2023-04-28T17:18:36.377962Z",
     "shell.execute_reply": "2023-04-28T17:18:36.376655Z"
    },
    "papermill": {
     "duration": 0.017888,
     "end_time": "2023-04-28T17:18:36.380817",
     "exception": false,
     "start_time": "2023-04-28T17:18:36.362929",
     "status": "completed"
    },
    "tags": []
   },
   "outputs": [
    {
     "name": "stdout",
     "output_type": "stream",
     "text": [
      "1.0\n",
      "<class 'float'>\n",
      "1\n",
      "<class 'int'>\n"
     ]
    }
   ],
   "source": [
    "# Define a float\n",
    "y = 1.\n",
    "print(y)\n",
    "print(type(y))\n",
    "\n",
    "# Convert float to integer with the int function\n",
    "z = int(y)\n",
    "print(z)\n",
    "print(type(z))"
   ]
  },
  {
   "cell_type": "markdown",
   "id": "9d72bef8",
   "metadata": {
    "papermill": {
     "duration": 0.006209,
     "end_time": "2023-04-28T17:18:36.393527",
     "exception": false,
     "start_time": "2023-04-28T17:18:36.387318",
     "status": "completed"
    },
    "tags": []
   },
   "source": [
    "In this case, the float you are using has no numbers after the decimal.  \n",
    "- But what happens when you try to convert a float with a fractional part to an integer?  \n",
    "- How does the outcome of the `int` function change for positive and negative numbers?\n",
    "\n",
    "Use the next code cell to investigate and answer these questions.  Feel free to add or remove any lines of code -- it is your workspace!"
   ]
  },
  {
   "cell_type": "code",
   "execution_count": 3,
   "id": "94e5093c",
   "metadata": {
    "execution": {
     "iopub.execute_input": "2023-04-28T17:18:36.408488Z",
     "iopub.status.busy": "2023-04-28T17:18:36.408019Z",
     "iopub.status.idle": "2023-04-28T17:18:36.414959Z",
     "shell.execute_reply": "2023-04-28T17:18:36.413414Z"
    },
    "papermill": {
     "duration": 0.018071,
     "end_time": "2023-04-28T17:18:36.418117",
     "exception": false,
     "start_time": "2023-04-28T17:18:36.400046",
     "status": "completed"
    },
    "tags": []
   },
   "outputs": [
    {
     "name": "stdout",
     "output_type": "stream",
     "text": [
      "1\n",
      "1\n",
      "-3\n",
      "-2\n"
     ]
    }
   ],
   "source": [
    "# Uncomment and run this code to get started!\n",
    "print(int(1.2321))\n",
    "print(int(1.747))\n",
    "print(int(-3.94535))\n",
    "print(int(-2.19774))"
   ]
  },
  {
   "cell_type": "markdown",
   "id": "39cdcb58",
   "metadata": {
    "papermill": {
     "duration": 0.006291,
     "end_time": "2023-04-28T17:18:36.431118",
     "exception": false,
     "start_time": "2023-04-28T17:18:36.424827",
     "status": "completed"
    },
    "tags": []
   },
   "source": [
    "Once you have an answer, run the code cell below to see the solution.  Viewing the solution will give you credit for answering the problem."
   ]
  },
  {
   "cell_type": "code",
   "execution_count": 4,
   "id": "553da840",
   "metadata": {
    "execution": {
     "iopub.execute_input": "2023-04-28T17:18:36.446627Z",
     "iopub.status.busy": "2023-04-28T17:18:36.445564Z",
     "iopub.status.idle": "2023-04-28T17:18:36.455739Z",
     "shell.execute_reply": "2023-04-28T17:18:36.454434Z"
    },
    "papermill": {
     "duration": 0.020627,
     "end_time": "2023-04-28T17:18:36.458345",
     "exception": false,
     "start_time": "2023-04-28T17:18:36.437718",
     "status": "completed"
    },
    "tags": []
   },
   "outputs": [
    {
     "data": {
      "application/javascript": [
       "parent.postMessage({\"jupyterEvent\": \"custom.exercise_interaction\", \"data\": {\"outcomeType\": 1, \"valueTowardsCompletion\": 0.2, \"interactionType\": 1, \"questionType\": 4, \"questionId\": \"1_FloatToInt\", \"learnToolsVersion\": \"0.3.4\", \"failureMessage\": \"\", \"exceptionClass\": \"\", \"trace\": \"\"}}, \"*\")"
      ],
      "text/plain": [
       "<IPython.core.display.Javascript object>"
      ]
     },
     "metadata": {},
     "output_type": "display_data"
    },
    {
     "data": {
      "text/markdown": [
       "<span style=\"color:#33cc33\">Correct:</span> \n",
       "\n",
       "Negative floats are always rounded UP to the closest integer (for instance, both -1.1 and -1.9 are rounded up to -1). Positive floats are always rounded DOWN to the closest integer (for instance, 2.1 and 2.9 are rounded down to 2)."
      ],
      "text/plain": [
       "Correct: \n",
       "\n",
       "Negative floats are always rounded UP to the closest integer (for instance, both -1.1 and -1.9 are rounded up to -1). Positive floats are always rounded DOWN to the closest integer (for instance, 2.1 and 2.9 are rounded down to 2)."
      ]
     },
     "metadata": {},
     "output_type": "display_data"
    }
   ],
   "source": [
    "# Check your answer (Run this code cell to receive credit!)\n",
    "q1.check()"
   ]
  },
  {
   "cell_type": "markdown",
   "id": "7325c97d",
   "metadata": {
    "papermill": {
     "duration": 0.006605,
     "end_time": "2023-04-28T17:18:36.472006",
     "exception": false,
     "start_time": "2023-04-28T17:18:36.465401",
     "status": "completed"
    },
    "tags": []
   },
   "source": [
    "# Question 2\n",
    "\n",
    "In the tutorial, you learned about booleans (which can take a value of `True` or `False`), in addition to integers, floats, and strings.  For this question, your goal is to determine what happens when you multiply a boolean by any of these data types.  Specifically, \n",
    "- What happens when you multiply an integer or float by `True`?  What happens when you multiply them by `False`?  How does the answer change if the numbers are positive or negative?\n",
    "- What happens when you multiply a string by `True`?  By `False`?\n",
    "\n",
    "Use the next code cell for your investigation. "
   ]
  },
  {
   "cell_type": "code",
   "execution_count": 5,
   "id": "be290ca7",
   "metadata": {
    "execution": {
     "iopub.execute_input": "2023-04-28T17:18:36.488158Z",
     "iopub.status.busy": "2023-04-28T17:18:36.487732Z",
     "iopub.status.idle": "2023-04-28T17:18:36.494429Z",
     "shell.execute_reply": "2023-04-28T17:18:36.492940Z"
    },
    "papermill": {
     "duration": 0.017923,
     "end_time": "2023-04-28T17:18:36.497132",
     "exception": false,
     "start_time": "2023-04-28T17:18:36.479209",
     "status": "completed"
    },
    "tags": []
   },
   "outputs": [
    {
     "name": "stdout",
     "output_type": "stream",
     "text": [
      "0\n",
      "-3.1\n",
      "<class 'str'>\n",
      "0\n",
      "abc\n"
     ]
    }
   ],
   "source": [
    "# Uncomment and run this code to get started!\n",
    "print(3 * False)\n",
    "print(-3.1 * True)\n",
    "print(type(\"abc\" * False))\n",
    "print(len(\"abc\" * False))\n",
    "print(\"abc\" * True)"
   ]
  },
  {
   "cell_type": "markdown",
   "id": "b3393e20",
   "metadata": {
    "papermill": {
     "duration": 0.006484,
     "end_time": "2023-04-28T17:18:36.511537",
     "exception": false,
     "start_time": "2023-04-28T17:18:36.505053",
     "status": "completed"
    },
    "tags": []
   },
   "source": [
    "Once you have an answer, run the code cell below to see the solution.  Viewing the solution will give you credit for answering the problem."
   ]
  },
  {
   "cell_type": "code",
   "execution_count": 6,
   "id": "1083a2cb",
   "metadata": {
    "execution": {
     "iopub.execute_input": "2023-04-28T17:18:36.527701Z",
     "iopub.status.busy": "2023-04-28T17:18:36.527231Z",
     "iopub.status.idle": "2023-04-28T17:18:36.535656Z",
     "shell.execute_reply": "2023-04-28T17:18:36.534710Z"
    },
    "papermill": {
     "duration": 0.019073,
     "end_time": "2023-04-28T17:18:36.537870",
     "exception": false,
     "start_time": "2023-04-28T17:18:36.518797",
     "status": "completed"
    },
    "tags": []
   },
   "outputs": [
    {
     "data": {
      "application/javascript": [
       "parent.postMessage({\"jupyterEvent\": \"custom.exercise_interaction\", \"data\": {\"outcomeType\": 1, \"valueTowardsCompletion\": 0.2, \"interactionType\": 1, \"questionType\": 4, \"questionId\": \"2_MultiplyBooleans\", \"learnToolsVersion\": \"0.3.4\", \"failureMessage\": \"\", \"exceptionClass\": \"\", \"trace\": \"\"}}, \"*\")"
      ],
      "text/plain": [
       "<IPython.core.display.Javascript object>"
      ]
     },
     "metadata": {},
     "output_type": "display_data"
    },
    {
     "data": {
      "text/markdown": [
       "<span style=\"color:#33cc33\">Correct:</span> \n",
       "\n",
       "When you multiple an integer or float by a boolean with value `True`, it just returns that same integer or float (and is equivalent to multiplying by 1).  If you multiply an integer or float by a boolean with value `False`, it always returns 0.  This is true for both positive and negative numbers.  If you multiply a string by a boolean with value `True`, it just returns that same string.  And if you multiply a string by a boolean with value `False`, it returns an empty string (or a string with length zero)."
      ],
      "text/plain": [
       "Correct: \n",
       "\n",
       "When you multiple an integer or float by a boolean with value `True`, it just returns that same integer or float (and is equivalent to multiplying by 1).  If you multiply an integer or float by a boolean with value `False`, it always returns 0.  This is true for both positive and negative numbers.  If you multiply a string by a boolean with value `True`, it just returns that same string.  And if you multiply a string by a boolean with value `False`, it returns an empty string (or a string with length zero)."
      ]
     },
     "metadata": {},
     "output_type": "display_data"
    }
   ],
   "source": [
    "# Check your answer (Run this code cell to receive credit!)\n",
    "q2.check()"
   ]
  },
  {
   "cell_type": "markdown",
   "id": "877a64c3",
   "metadata": {
    "papermill": {
     "duration": 0.006826,
     "end_time": "2023-04-28T17:18:36.552018",
     "exception": false,
     "start_time": "2023-04-28T17:18:36.545192",
     "status": "completed"
    },
    "tags": []
   },
   "source": [
    "# Question 3\n",
    "\n",
    "In this question, you will build off your work from the previous exercise to write a function that estimates the value of a house.\n",
    "\n",
    "Use the next code cell to create a function `get_expected_cost` that takes as input three variables:\n",
    "- `beds` - number of bedrooms (data type float)\n",
    "- `baths` - number of bathrooms (data type float)\n",
    "- `has_basement` - whether or not the house has a basement (data type boolean)\n",
    "\n",
    "It should return the expected cost of a house with those characteristics. Assume that:\n",
    "- the expected cost for a house with 0 bedrooms and 0 bathrooms, and no basement is 80000, \n",
    "- each bedroom adds 30000 to the expected cost,\n",
    "- each bathroom adds 10000 to the expected cost, and\n",
    "- a basement adds 40000 to the expected cost.\n",
    "\n",
    "For instance,\n",
    "- a house with 1 bedroom, 1 bathroom, and no basement has an expected cost of 80000 + 30000 + 10000 = 120000.  This value will be calculated with `get_expected_cost(1, 1, False)`.\n",
    "- a house with 2 bedrooms, 1 bathroom, and a basement has an expected cost of 80000 + 2*30000 + 10000 + 40000 = 190000.  This value will be calculated with `get_expected_cost(2, 1, True)`.\n",
    "\n",
    "Remember you can always get a hint by uncommenting `q3.hint()` in the code cell following the next!"
   ]
  },
  {
   "cell_type": "code",
   "execution_count": 7,
   "id": "8a327353",
   "metadata": {
    "execution": {
     "iopub.execute_input": "2023-04-28T17:18:36.568239Z",
     "iopub.status.busy": "2023-04-28T17:18:36.567812Z",
     "iopub.status.idle": "2023-04-28T17:18:36.578070Z",
     "shell.execute_reply": "2023-04-28T17:18:36.576850Z"
    },
    "papermill": {
     "duration": 0.021076,
     "end_time": "2023-04-28T17:18:36.580341",
     "exception": false,
     "start_time": "2023-04-28T17:18:36.559265",
     "status": "completed"
    },
    "tags": []
   },
   "outputs": [
    {
     "data": {
      "application/javascript": [
       "parent.postMessage({\"jupyterEvent\": \"custom.exercise_interaction\", \"data\": {\"outcomeType\": 1, \"valueTowardsCompletion\": 0.2, \"interactionType\": 1, \"questionType\": 2, \"questionId\": \"3_EstimateHouseValueBool\", \"learnToolsVersion\": \"0.3.4\", \"failureMessage\": \"\", \"exceptionClass\": \"\", \"trace\": \"\"}}, \"*\")"
      ],
      "text/plain": [
       "<IPython.core.display.Javascript object>"
      ]
     },
     "metadata": {},
     "output_type": "display_data"
    },
    {
     "data": {
      "text/markdown": [
       "<span style=\"color:#33cc33\">Correct</span>"
      ],
      "text/plain": [
       "Correct"
      ]
     },
     "metadata": {},
     "output_type": "display_data"
    }
   ],
   "source": [
    "# TODO: Complete the function\n",
    "def get_expected_cost(beds, baths, has_basement):\n",
    "    value = 80000 + beds*30000 + baths*10000 + has_basement*40000\n",
    "    return value\n",
    "\n",
    "# Check your answer \n",
    "q3.check()"
   ]
  },
  {
   "cell_type": "code",
   "execution_count": 8,
   "id": "7ca95d83",
   "metadata": {
    "execution": {
     "iopub.execute_input": "2023-04-28T17:18:36.597398Z",
     "iopub.status.busy": "2023-04-28T17:18:36.596987Z",
     "iopub.status.idle": "2023-04-28T17:18:36.601692Z",
     "shell.execute_reply": "2023-04-28T17:18:36.600317Z"
    },
    "papermill": {
     "duration": 0.016082,
     "end_time": "2023-04-28T17:18:36.603951",
     "exception": false,
     "start_time": "2023-04-28T17:18:36.587869",
     "status": "completed"
    },
    "tags": []
   },
   "outputs": [],
   "source": [
    "# Uncomment to see a hint\n",
    "#q3.hint()\n",
    "\n",
    "# Uncomment to view the solution\n",
    "#q3.solution()"
   ]
  },
  {
   "cell_type": "markdown",
   "id": "edfdf803",
   "metadata": {
    "papermill": {
     "duration": 0.007973,
     "end_time": "2023-04-28T17:18:36.619638",
     "exception": false,
     "start_time": "2023-04-28T17:18:36.611665",
     "status": "completed"
    },
    "tags": []
   },
   "source": [
    "# Question 4\n",
    "\n",
    "We'll continue our study of boolean arithmetic.  For this question, your task is to provide a description of what happpens when you add booleans. \n",
    "\n",
    "Use the next code cell for your investigation.  Feel free to add or remove any lines of code - use it as your workspace!"
   ]
  },
  {
   "cell_type": "code",
   "execution_count": 9,
   "id": "ccad5b5b",
   "metadata": {
    "execution": {
     "iopub.execute_input": "2023-04-28T17:18:36.637233Z",
     "iopub.status.busy": "2023-04-28T17:18:36.636806Z",
     "iopub.status.idle": "2023-04-28T17:18:36.643182Z",
     "shell.execute_reply": "2023-04-28T17:18:36.641896Z"
    },
    "papermill": {
     "duration": 0.018589,
     "end_time": "2023-04-28T17:18:36.645886",
     "exception": false,
     "start_time": "2023-04-28T17:18:36.627297",
     "status": "completed"
    },
    "tags": []
   },
   "outputs": [
    {
     "name": "stdout",
     "output_type": "stream",
     "text": [
      "0\n",
      "1\n",
      "1\n",
      "2\n",
      "3\n"
     ]
    }
   ],
   "source": [
    "print(False + False)\n",
    "print(True + False)\n",
    "print(False + True)\n",
    "print(True + True)\n",
    "print(False + True + True + True)"
   ]
  },
  {
   "cell_type": "markdown",
   "id": "eb948212",
   "metadata": {
    "papermill": {
     "duration": 0.007189,
     "end_time": "2023-04-28T17:18:36.660590",
     "exception": false,
     "start_time": "2023-04-28T17:18:36.653401",
     "status": "completed"
    },
    "tags": []
   },
   "source": [
    "Once you have an answer, run the code cell below to see the solution.  Viewing the solution will give you credit for answering the problem."
   ]
  },
  {
   "cell_type": "code",
   "execution_count": 10,
   "id": "a03149ae",
   "metadata": {
    "execution": {
     "iopub.execute_input": "2023-04-28T17:18:36.677883Z",
     "iopub.status.busy": "2023-04-28T17:18:36.677417Z",
     "iopub.status.idle": "2023-04-28T17:18:36.686960Z",
     "shell.execute_reply": "2023-04-28T17:18:36.685434Z"
    },
    "papermill": {
     "duration": 0.021299,
     "end_time": "2023-04-28T17:18:36.689484",
     "exception": false,
     "start_time": "2023-04-28T17:18:36.668185",
     "status": "completed"
    },
    "tags": []
   },
   "outputs": [
    {
     "data": {
      "application/javascript": [
       "parent.postMessage({\"jupyterEvent\": \"custom.exercise_interaction\", \"data\": {\"outcomeType\": 1, \"valueTowardsCompletion\": 0.2, \"interactionType\": 1, \"questionType\": 4, \"questionId\": \"4_AddingBooleans\", \"learnToolsVersion\": \"0.3.4\", \"failureMessage\": \"\", \"exceptionClass\": \"\", \"trace\": \"\"}}, \"*\")"
      ],
      "text/plain": [
       "<IPython.core.display.Javascript object>"
      ]
     },
     "metadata": {},
     "output_type": "display_data"
    },
    {
     "data": {
      "text/markdown": [
       "<span style=\"color:#33cc33\">Correct:</span> \n",
       "\n",
       "When you add booleans, adding `False` is equivalent to adding 0, and adding `True` is equivalent to adding 1."
      ],
      "text/plain": [
       "Correct: \n",
       "\n",
       "When you add booleans, adding `False` is equivalent to adding 0, and adding `True` is equivalent to adding 1."
      ]
     },
     "metadata": {},
     "output_type": "display_data"
    }
   ],
   "source": [
    "# Check your answer (Run this code cell to receive credit!)\n",
    "q4.check()"
   ]
  },
  {
   "cell_type": "markdown",
   "id": "84fe198f",
   "metadata": {
    "papermill": {
     "duration": 0.007573,
     "end_time": "2023-04-28T17:18:36.704946",
     "exception": false,
     "start_time": "2023-04-28T17:18:36.697373",
     "status": "completed"
    },
    "tags": []
   },
   "source": [
    "# 🌶️ Question 5\n",
    "\n",
    "You own an online shop where you sell rings with custom engravings.  You offer both gold plated and solid gold rings.\n",
    "- Gold plated rings have a base cost of \\\\$50, and you charge \\\\$7 per engraved unit.  \n",
    "- Solid gold rings have a base cost of \\\\$100, and you charge \\\\$10 per engraved unit.\n",
    "- Spaces and punctuation are counted as engraved units.\n",
    "\n",
    "Write a function `cost_of_project()` that takes two arguments:\n",
    "- `engraving` - a Python string with the text of the engraving\n",
    "- `solid_gold` - a Boolean that indicates whether the ring is solid gold\n",
    "\n",
    "It should return the cost of the project.  This question should be fairly challenging, and you may need a hint."
   ]
  },
  {
   "cell_type": "code",
   "execution_count": 11,
   "id": "a16c99b2",
   "metadata": {
    "execution": {
     "iopub.execute_input": "2023-04-28T17:18:36.722773Z",
     "iopub.status.busy": "2023-04-28T17:18:36.722301Z",
     "iopub.status.idle": "2023-04-28T17:18:36.733362Z",
     "shell.execute_reply": "2023-04-28T17:18:36.732028Z"
    },
    "papermill": {
     "duration": 0.023137,
     "end_time": "2023-04-28T17:18:36.735857",
     "exception": false,
     "start_time": "2023-04-28T17:18:36.712720",
     "status": "completed"
    },
    "tags": []
   },
   "outputs": [
    {
     "data": {
      "application/javascript": [
       "parent.postMessage({\"jupyterEvent\": \"custom.exercise_interaction\", \"data\": {\"outcomeType\": 1, \"valueTowardsCompletion\": 0.2, \"interactionType\": 1, \"questionType\": 2, \"questionId\": \"5_CustomEngravings\", \"learnToolsVersion\": \"0.3.4\", \"failureMessage\": \"\", \"exceptionClass\": \"\", \"trace\": \"\"}}, \"*\")"
      ],
      "text/plain": [
       "<IPython.core.display.Javascript object>"
      ]
     },
     "metadata": {},
     "output_type": "display_data"
    },
    {
     "data": {
      "text/markdown": [
       "<span style=\"color:#33cc33\">Correct</span>"
      ],
      "text/plain": [
       "Correct"
      ]
     },
     "metadata": {},
     "output_type": "display_data"
    }
   ],
   "source": [
    "def cost_of_project(engraving, solid_gold):\n",
    "    cost = 50 + 50*solid_gold + (7 + 3*solid_gold) * len(engraving)\n",
    "    return cost\n",
    "\n",
    "# Check your answer\n",
    "q5.check()"
   ]
  },
  {
   "cell_type": "code",
   "execution_count": 12,
   "id": "e9f0dd1f",
   "metadata": {
    "execution": {
     "iopub.execute_input": "2023-04-28T17:18:36.754451Z",
     "iopub.status.busy": "2023-04-28T17:18:36.754025Z",
     "iopub.status.idle": "2023-04-28T17:18:36.764378Z",
     "shell.execute_reply": "2023-04-28T17:18:36.762190Z"
    },
    "papermill": {
     "duration": 0.022722,
     "end_time": "2023-04-28T17:18:36.767049",
     "exception": false,
     "start_time": "2023-04-28T17:18:36.744327",
     "status": "completed"
    },
    "tags": []
   },
   "outputs": [
    {
     "data": {
      "application/javascript": [
       "parent.postMessage({\"jupyterEvent\": \"custom.exercise_interaction\", \"data\": {\"interactionType\": 2, \"questionType\": 2, \"questionId\": \"5_CustomEngravings\", \"learnToolsVersion\": \"0.3.4\", \"valueTowardsCompletion\": 0.0, \"failureMessage\": \"\", \"exceptionClass\": \"\", \"trace\": \"\", \"outcomeType\": 4}}, \"*\")"
      ],
      "text/plain": [
       "<IPython.core.display.Javascript object>"
      ]
     },
     "metadata": {},
     "output_type": "display_data"
    },
    {
     "data": {
      "text/markdown": [
       "<span style=\"color:#3366cc\">Hint:</span> There are two options - either the project uses solid gold or does not.  With this in mind, you can structure your solution like this: `cost = solid_gold * ____ + (not solid_gold) * ____`.  You need to figure out how to fill in the blanks. Also, remember that:\n",
       "- If `solid_gold = True`, then `(not solid_gold) = False`, and if `solid_gold = False`, then `(not solid_gold) = True`.\n",
       "- Multiplying an integer by `True` is equivalent to multiplying it by 1, and multiplying an integer by `False` is equivalent to multiplying it by 0."
      ],
      "text/plain": [
       "Hint: There are two options - either the project uses solid gold or does not.  With this in mind, you can structure your solution like this: `cost = solid_gold * ____ + (not solid_gold) * ____`.  You need to figure out how to fill in the blanks. Also, remember that:\n",
       "- If `solid_gold = True`, then `(not solid_gold) = False`, and if `solid_gold = False`, then `(not solid_gold) = True`.\n",
       "- Multiplying an integer by `True` is equivalent to multiplying it by 1, and multiplying an integer by `False` is equivalent to multiplying it by 0."
      ]
     },
     "metadata": {},
     "output_type": "display_data"
    }
   ],
   "source": [
    "# Uncomment to see a hint\n",
    "q5.hint()\n",
    "\n",
    "# Uncomment to view the solution\n",
    "#q5.solution()"
   ]
  },
  {
   "cell_type": "markdown",
   "id": "d9ac6173",
   "metadata": {
    "papermill": {
     "duration": 0.008692,
     "end_time": "2023-04-28T17:18:36.784308",
     "exception": false,
     "start_time": "2023-04-28T17:18:36.775616",
     "status": "completed"
    },
    "tags": []
   },
   "source": [
    "Run the next code cell to calculate the cost of engraving `Charlie+Denver` on a solid gold ring."
   ]
  },
  {
   "cell_type": "code",
   "execution_count": 13,
   "id": "903c559d",
   "metadata": {
    "execution": {
     "iopub.execute_input": "2023-04-28T17:18:36.803584Z",
     "iopub.status.busy": "2023-04-28T17:18:36.803108Z",
     "iopub.status.idle": "2023-04-28T17:18:36.809619Z",
     "shell.execute_reply": "2023-04-28T17:18:36.808406Z"
    },
    "papermill": {
     "duration": 0.019266,
     "end_time": "2023-04-28T17:18:36.812411",
     "exception": false,
     "start_time": "2023-04-28T17:18:36.793145",
     "status": "completed"
    },
    "tags": []
   },
   "outputs": [
    {
     "name": "stdout",
     "output_type": "stream",
     "text": [
      "240\n"
     ]
    }
   ],
   "source": [
    "project_one = cost_of_project(\"Charlie+Denver\", True)\n",
    "print(project_one)"
   ]
  },
  {
   "cell_type": "markdown",
   "id": "faf3637f",
   "metadata": {
    "papermill": {
     "duration": 0.008973,
     "end_time": "2023-04-28T17:18:36.829983",
     "exception": false,
     "start_time": "2023-04-28T17:18:36.821010",
     "status": "completed"
    },
    "tags": []
   },
   "source": [
    "Use the next code cell to calculate the cost of engraving `08/10/2000` on a gold plated ring."
   ]
  },
  {
   "cell_type": "code",
   "execution_count": 14,
   "id": "3be9552f",
   "metadata": {
    "execution": {
     "iopub.execute_input": "2023-04-28T17:18:36.850040Z",
     "iopub.status.busy": "2023-04-28T17:18:36.849249Z",
     "iopub.status.idle": "2023-04-28T17:18:36.855754Z",
     "shell.execute_reply": "2023-04-28T17:18:36.854359Z"
    },
    "papermill": {
     "duration": 0.019547,
     "end_time": "2023-04-28T17:18:36.858326",
     "exception": false,
     "start_time": "2023-04-28T17:18:36.838779",
     "status": "completed"
    },
    "tags": []
   },
   "outputs": [
    {
     "name": "stdout",
     "output_type": "stream",
     "text": [
      "120\n"
     ]
    }
   ],
   "source": [
    "project_two = cost_of_project(\"08/10/2000\", False)\n",
    "print(project_two)"
   ]
  },
  {
   "cell_type": "markdown",
   "id": "6d6192b0",
   "metadata": {
    "papermill": {
     "duration": 0.00814,
     "end_time": "2023-04-28T17:18:36.874988",
     "exception": false,
     "start_time": "2023-04-28T17:18:36.866848",
     "status": "completed"
    },
    "tags": []
   },
   "source": [
    "# Keep going\n",
    "\n",
    "Continue to the next lesson to **[learn about conditions and conditional statements](https://www.kaggle.com/alexisbcook/conditions-and-conditional-statements)**."
   ]
  },
  {
   "cell_type": "markdown",
   "id": "7e667043",
   "metadata": {
    "papermill": {
     "duration": 0.008064,
     "end_time": "2023-04-28T17:18:36.891457",
     "exception": false,
     "start_time": "2023-04-28T17:18:36.883393",
     "status": "completed"
    },
    "tags": []
   },
   "source": [
    "---\n",
    "\n",
    "\n",
    "\n",
    "\n",
    "*Have questions or comments? Visit the [course discussion forum](https://www.kaggle.com/learn/intro-to-programming/discussion) to chat with other learners.*"
   ]
  }
 ],
 "metadata": {
  "kernelspec": {
   "display_name": "Python 3",
   "language": "python",
   "name": "python3"
  },
  "language_info": {
   "codemirror_mode": {
    "name": "ipython",
    "version": 3
   },
   "file_extension": ".py",
   "mimetype": "text/x-python",
   "name": "python",
   "nbconvert_exporter": "python",
   "pygments_lexer": "ipython3",
   "version": "3.7.12"
  },
  "papermill": {
   "default_parameters": {},
   "duration": 12.845025,
   "end_time": "2023-04-28T17:18:37.823806",
   "environment_variables": {},
   "exception": null,
   "input_path": "__notebook__.ipynb",
   "output_path": "__notebook__.ipynb",
   "parameters": {},
   "start_time": "2023-04-28T17:18:24.978781",
   "version": "2.4.0"
  }
 },
 "nbformat": 4,
 "nbformat_minor": 5
}
