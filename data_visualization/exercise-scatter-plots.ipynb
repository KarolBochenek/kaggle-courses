{
 "cells": [
  {
   "cell_type": "markdown",
   "id": "8231e3d7",
   "metadata": {
    "papermill": {
     "duration": 0.008536,
     "end_time": "2023-05-02T10:20:22.214585",
     "exception": false,
     "start_time": "2023-05-02T10:20:22.206049",
     "status": "completed"
    },
    "tags": []
   },
   "source": [
    "**This notebook is an exercise in the [Data Visualization](https://www.kaggle.com/learn/data-visualization) course.  You can reference the tutorial at [this link](https://www.kaggle.com/alexisbcook/scatter-plots).**\n",
    "\n",
    "---\n"
   ]
  },
  {
   "cell_type": "markdown",
   "id": "8d065800",
   "metadata": {
    "papermill": {
     "duration": 0.00794,
     "end_time": "2023-05-02T10:20:22.231613",
     "exception": false,
     "start_time": "2023-05-02T10:20:22.223673",
     "status": "completed"
    },
    "tags": []
   },
   "source": [
    "In this exercise, you will use your new knowledge to propose a solution to a real-world scenario.  To succeed, you will need to import data into Python, answer questions using the data, and generate **scatter plots** to understand patterns in the data.\n",
    "\n",
    "## Scenario\n",
    "\n",
    "You work for a major candy producer, and your goal is to write a report that your company can use to guide the design of its next product.  Soon after starting your research, you stumble across this [very interesting dataset](https://fivethirtyeight.com/features/the-ultimate-halloween-candy-power-ranking/) containing results from a fun survey to crowdsource favorite candies.\n",
    "\n",
    "## Setup\n",
    "\n",
    "Run the next cell to import and configure the Python libraries that you need to complete the exercise."
   ]
  },
  {
   "cell_type": "code",
   "execution_count": 1,
   "id": "c4614a06",
   "metadata": {
    "execution": {
     "iopub.execute_input": "2023-05-02T10:20:22.251040Z",
     "iopub.status.busy": "2023-05-02T10:20:22.250096Z",
     "iopub.status.idle": "2023-05-02T10:20:23.878080Z",
     "shell.execute_reply": "2023-05-02T10:20:23.876879Z"
    },
    "papermill": {
     "duration": 1.641026,
     "end_time": "2023-05-02T10:20:23.880813",
     "exception": false,
     "start_time": "2023-05-02T10:20:22.239787",
     "status": "completed"
    },
    "tags": []
   },
   "outputs": [
    {
     "name": "stderr",
     "output_type": "stream",
     "text": [
      "/opt/conda/lib/python3.10/site-packages/scipy/__init__.py:146: UserWarning: A NumPy version >=1.16.5 and <1.23.0 is required for this version of SciPy (detected version 1.23.5\n",
      "  warnings.warn(f\"A NumPy version >={np_minversion} and <{np_maxversion}\"\n"
     ]
    },
    {
     "name": "stdout",
     "output_type": "stream",
     "text": [
      "Setup Complete\n"
     ]
    }
   ],
   "source": [
    "import pandas as pd\n",
    "pd.plotting.register_matplotlib_converters()\n",
    "import matplotlib.pyplot as plt\n",
    "%matplotlib inline\n",
    "import seaborn as sns\n",
    "print(\"Setup Complete\")"
   ]
  },
  {
   "cell_type": "markdown",
   "id": "24b8049b",
   "metadata": {
    "papermill": {
     "duration": 0.007718,
     "end_time": "2023-05-02T10:20:23.896970",
     "exception": false,
     "start_time": "2023-05-02T10:20:23.889252",
     "status": "completed"
    },
    "tags": []
   },
   "source": [
    "The questions below will give you feedback on your work. Run the following cell to set up our feedback system."
   ]
  },
  {
   "cell_type": "code",
   "execution_count": 2,
   "id": "f3ddd283",
   "metadata": {
    "execution": {
     "iopub.execute_input": "2023-05-02T10:20:23.915600Z",
     "iopub.status.busy": "2023-05-02T10:20:23.914825Z",
     "iopub.status.idle": "2023-05-02T10:20:24.000217Z",
     "shell.execute_reply": "2023-05-02T10:20:23.999201Z"
    },
    "papermill": {
     "duration": 0.097792,
     "end_time": "2023-05-02T10:20:24.002862",
     "exception": false,
     "start_time": "2023-05-02T10:20:23.905070",
     "status": "completed"
    },
    "tags": []
   },
   "outputs": [
    {
     "name": "stdout",
     "output_type": "stream",
     "text": [
      "Setup Complete\n"
     ]
    }
   ],
   "source": [
    "# Set up code checking\n",
    "import os\n",
    "if not os.path.exists(\"../input/candy.csv\"):\n",
    "    os.symlink(\"../input/data-for-datavis/candy.csv\", \"../input/candy.csv\") \n",
    "from learntools.core import binder\n",
    "binder.bind(globals())\n",
    "from learntools.data_viz_to_coder.ex4 import *\n",
    "print(\"Setup Complete\")"
   ]
  },
  {
   "cell_type": "markdown",
   "id": "7e370b1f",
   "metadata": {
    "papermill": {
     "duration": 0.008182,
     "end_time": "2023-05-02T10:20:24.019715",
     "exception": false,
     "start_time": "2023-05-02T10:20:24.011533",
     "status": "completed"
    },
    "tags": []
   },
   "source": [
    "## Step 1: Load the Data\n",
    "\n",
    "Read the candy data file into `candy_data`.  Use the `\"id\"` column to label the rows."
   ]
  },
  {
   "cell_type": "code",
   "execution_count": 3,
   "id": "d1c26b71",
   "metadata": {
    "execution": {
     "iopub.execute_input": "2023-05-02T10:20:24.039340Z",
     "iopub.status.busy": "2023-05-02T10:20:24.037846Z",
     "iopub.status.idle": "2023-05-02T10:20:24.058830Z",
     "shell.execute_reply": "2023-05-02T10:20:24.057582Z"
    },
    "papermill": {
     "duration": 0.032887,
     "end_time": "2023-05-02T10:20:24.060997",
     "exception": false,
     "start_time": "2023-05-02T10:20:24.028110",
     "status": "completed"
    },
    "tags": []
   },
   "outputs": [
    {
     "data": {
      "application/javascript": [
       "parent.postMessage({\"jupyterEvent\": \"custom.exercise_interaction\", \"data\": {\"outcomeType\": 1, \"valueTowardsCompletion\": 0.3333333333333333, \"interactionType\": 1, \"questionType\": 1, \"questionId\": \"1_LoadData\", \"learnToolsVersion\": \"0.3.4\", \"failureMessage\": \"\", \"exceptionClass\": \"\", \"trace\": \"\"}}, \"*\")"
      ],
      "text/plain": [
       "<IPython.core.display.Javascript object>"
      ]
     },
     "metadata": {},
     "output_type": "display_data"
    },
    {
     "data": {
      "text/markdown": [
       "<span style=\"color:#33cc33\">Correct</span>"
      ],
      "text/plain": [
       "Correct"
      ]
     },
     "metadata": {},
     "output_type": "display_data"
    }
   ],
   "source": [
    "# Path of the file to read\n",
    "candy_filepath = \"../input/candy.csv\"\n",
    "\n",
    "# Fill in the line below to read the file into a variable candy_data\n",
    "candy_data = pd.read_csv(candy_filepath, index_col=\"id\")\n",
    "\n",
    "# Run the line below with no changes to check that you've loaded the data correctly\n",
    "step_1.check()"
   ]
  },
  {
   "cell_type": "code",
   "execution_count": 4,
   "id": "7a83dcd6",
   "metadata": {
    "execution": {
     "iopub.execute_input": "2023-05-02T10:20:24.080029Z",
     "iopub.status.busy": "2023-05-02T10:20:24.079594Z",
     "iopub.status.idle": "2023-05-02T10:20:24.085243Z",
     "shell.execute_reply": "2023-05-02T10:20:24.084094Z"
    },
    "papermill": {
     "duration": 0.018036,
     "end_time": "2023-05-02T10:20:24.087741",
     "exception": false,
     "start_time": "2023-05-02T10:20:24.069705",
     "status": "completed"
    },
    "tags": []
   },
   "outputs": [],
   "source": [
    "# Lines below will give you a hint or solution code\n",
    "#step_1.hint()\n",
    "#step_1.solution()"
   ]
  },
  {
   "cell_type": "markdown",
   "id": "1398284e",
   "metadata": {
    "papermill": {
     "duration": 0.008256,
     "end_time": "2023-05-02T10:20:24.104656",
     "exception": false,
     "start_time": "2023-05-02T10:20:24.096400",
     "status": "completed"
    },
    "tags": []
   },
   "source": [
    "## Step 2: Review the data\n",
    "\n",
    "Use a Python command to print the first five rows of the data."
   ]
  },
  {
   "cell_type": "code",
   "execution_count": 5,
   "id": "f66d5349",
   "metadata": {
    "execution": {
     "iopub.execute_input": "2023-05-02T10:20:24.123562Z",
     "iopub.status.busy": "2023-05-02T10:20:24.123154Z",
     "iopub.status.idle": "2023-05-02T10:20:24.155541Z",
     "shell.execute_reply": "2023-05-02T10:20:24.154076Z"
    },
    "papermill": {
     "duration": 0.045039,
     "end_time": "2023-05-02T10:20:24.158232",
     "exception": false,
     "start_time": "2023-05-02T10:20:24.113193",
     "status": "completed"
    },
    "tags": []
   },
   "outputs": [
    {
     "data": {
      "text/html": [
       "<div>\n",
       "<style scoped>\n",
       "    .dataframe tbody tr th:only-of-type {\n",
       "        vertical-align: middle;\n",
       "    }\n",
       "\n",
       "    .dataframe tbody tr th {\n",
       "        vertical-align: top;\n",
       "    }\n",
       "\n",
       "    .dataframe thead th {\n",
       "        text-align: right;\n",
       "    }\n",
       "</style>\n",
       "<table border=\"1\" class=\"dataframe\">\n",
       "  <thead>\n",
       "    <tr style=\"text-align: right;\">\n",
       "      <th></th>\n",
       "      <th>competitorname</th>\n",
       "      <th>chocolate</th>\n",
       "      <th>fruity</th>\n",
       "      <th>caramel</th>\n",
       "      <th>peanutyalmondy</th>\n",
       "      <th>nougat</th>\n",
       "      <th>crispedricewafer</th>\n",
       "      <th>hard</th>\n",
       "      <th>bar</th>\n",
       "      <th>pluribus</th>\n",
       "      <th>sugarpercent</th>\n",
       "      <th>pricepercent</th>\n",
       "      <th>winpercent</th>\n",
       "    </tr>\n",
       "    <tr>\n",
       "      <th>id</th>\n",
       "      <th></th>\n",
       "      <th></th>\n",
       "      <th></th>\n",
       "      <th></th>\n",
       "      <th></th>\n",
       "      <th></th>\n",
       "      <th></th>\n",
       "      <th></th>\n",
       "      <th></th>\n",
       "      <th></th>\n",
       "      <th></th>\n",
       "      <th></th>\n",
       "      <th></th>\n",
       "    </tr>\n",
       "  </thead>\n",
       "  <tbody>\n",
       "    <tr>\n",
       "      <th>0</th>\n",
       "      <td>100 Grand</td>\n",
       "      <td>Yes</td>\n",
       "      <td>No</td>\n",
       "      <td>Yes</td>\n",
       "      <td>No</td>\n",
       "      <td>No</td>\n",
       "      <td>Yes</td>\n",
       "      <td>No</td>\n",
       "      <td>Yes</td>\n",
       "      <td>No</td>\n",
       "      <td>0.732</td>\n",
       "      <td>0.860</td>\n",
       "      <td>66.971725</td>\n",
       "    </tr>\n",
       "    <tr>\n",
       "      <th>1</th>\n",
       "      <td>3 Musketeers</td>\n",
       "      <td>Yes</td>\n",
       "      <td>No</td>\n",
       "      <td>No</td>\n",
       "      <td>No</td>\n",
       "      <td>Yes</td>\n",
       "      <td>No</td>\n",
       "      <td>No</td>\n",
       "      <td>Yes</td>\n",
       "      <td>No</td>\n",
       "      <td>0.604</td>\n",
       "      <td>0.511</td>\n",
       "      <td>67.602936</td>\n",
       "    </tr>\n",
       "    <tr>\n",
       "      <th>2</th>\n",
       "      <td>Air Heads</td>\n",
       "      <td>No</td>\n",
       "      <td>Yes</td>\n",
       "      <td>No</td>\n",
       "      <td>No</td>\n",
       "      <td>No</td>\n",
       "      <td>No</td>\n",
       "      <td>No</td>\n",
       "      <td>No</td>\n",
       "      <td>No</td>\n",
       "      <td>0.906</td>\n",
       "      <td>0.511</td>\n",
       "      <td>52.341465</td>\n",
       "    </tr>\n",
       "    <tr>\n",
       "      <th>3</th>\n",
       "      <td>Almond Joy</td>\n",
       "      <td>Yes</td>\n",
       "      <td>No</td>\n",
       "      <td>No</td>\n",
       "      <td>Yes</td>\n",
       "      <td>No</td>\n",
       "      <td>No</td>\n",
       "      <td>No</td>\n",
       "      <td>Yes</td>\n",
       "      <td>No</td>\n",
       "      <td>0.465</td>\n",
       "      <td>0.767</td>\n",
       "      <td>50.347546</td>\n",
       "    </tr>\n",
       "    <tr>\n",
       "      <th>4</th>\n",
       "      <td>Baby Ruth</td>\n",
       "      <td>Yes</td>\n",
       "      <td>No</td>\n",
       "      <td>Yes</td>\n",
       "      <td>Yes</td>\n",
       "      <td>Yes</td>\n",
       "      <td>No</td>\n",
       "      <td>No</td>\n",
       "      <td>Yes</td>\n",
       "      <td>No</td>\n",
       "      <td>0.604</td>\n",
       "      <td>0.767</td>\n",
       "      <td>56.914547</td>\n",
       "    </tr>\n",
       "  </tbody>\n",
       "</table>\n",
       "</div>"
      ],
      "text/plain": [
       "   competitorname chocolate fruity caramel peanutyalmondy nougat  \\\n",
       "id                                                                 \n",
       "0       100 Grand       Yes     No     Yes             No     No   \n",
       "1    3 Musketeers       Yes     No      No             No    Yes   \n",
       "2       Air Heads        No    Yes      No             No     No   \n",
       "3      Almond Joy       Yes     No      No            Yes     No   \n",
       "4       Baby Ruth       Yes     No     Yes            Yes    Yes   \n",
       "\n",
       "   crispedricewafer hard  bar pluribus  sugarpercent  pricepercent  winpercent  \n",
       "id                                                                              \n",
       "0               Yes   No  Yes       No         0.732         0.860   66.971725  \n",
       "1                No   No  Yes       No         0.604         0.511   67.602936  \n",
       "2                No   No   No       No         0.906         0.511   52.341465  \n",
       "3                No   No  Yes       No         0.465         0.767   50.347546  \n",
       "4                No   No  Yes       No         0.604         0.767   56.914547  "
      ]
     },
     "execution_count": 5,
     "metadata": {},
     "output_type": "execute_result"
    }
   ],
   "source": [
    "# Print the first five rows of the data\n",
    "candy_data.head() # Your code here"
   ]
  },
  {
   "cell_type": "markdown",
   "id": "d54ca135",
   "metadata": {
    "papermill": {
     "duration": 0.00834,
     "end_time": "2023-05-02T10:20:24.175908",
     "exception": false,
     "start_time": "2023-05-02T10:20:24.167568",
     "status": "completed"
    },
    "tags": []
   },
   "source": [
    "The dataset contains 83 rows, where each corresponds to a different candy bar.  There are 13 columns:\n",
    "- `'competitorname'` contains the name of the candy bar. \n",
    "- the next **9** columns (from `'chocolate'` to `'pluribus'`) describe the candy.  For instance, rows with chocolate candies have `\"Yes\"` in the `'chocolate'` column (and candies without chocolate have `\"No\"` in the same column).\n",
    "- `'sugarpercent'` provides some indication of the amount of sugar, where higher values signify higher sugar content.\n",
    "- `'pricepercent'` shows the price per unit, relative to the other candies in the dataset.\n",
    "- `'winpercent'` is calculated from the survey results; higher values indicate that the candy was more popular with survey respondents.\n",
    "\n",
    "Use the first five rows of the data to answer the questions below."
   ]
  },
  {
   "cell_type": "code",
   "execution_count": 6,
   "id": "c3189a07",
   "metadata": {
    "execution": {
     "iopub.execute_input": "2023-05-02T10:20:24.195289Z",
     "iopub.status.busy": "2023-05-02T10:20:24.194845Z",
     "iopub.status.idle": "2023-05-02T10:20:24.205513Z",
     "shell.execute_reply": "2023-05-02T10:20:24.204392Z"
    },
    "papermill": {
     "duration": 0.023158,
     "end_time": "2023-05-02T10:20:24.207831",
     "exception": false,
     "start_time": "2023-05-02T10:20:24.184673",
     "status": "completed"
    },
    "tags": []
   },
   "outputs": [
    {
     "data": {
      "application/javascript": [
       "parent.postMessage({\"jupyterEvent\": \"custom.exercise_interaction\", \"data\": {\"outcomeType\": 1, \"valueTowardsCompletion\": 0.3333333333333333, \"interactionType\": 1, \"questionType\": 1, \"questionId\": \"2_ReviewData\", \"learnToolsVersion\": \"0.3.4\", \"failureMessage\": \"\", \"exceptionClass\": \"\", \"trace\": \"\"}}, \"*\")"
      ],
      "text/plain": [
       "<IPython.core.display.Javascript object>"
      ]
     },
     "metadata": {},
     "output_type": "display_data"
    },
    {
     "data": {
      "text/markdown": [
       "<span style=\"color:#33cc33\">Correct</span>"
      ],
      "text/plain": [
       "Correct"
      ]
     },
     "metadata": {},
     "output_type": "display_data"
    }
   ],
   "source": [
    "# Fill in the line below: Which candy was more popular with survey respondents:\n",
    "# '3 Musketeers' or 'Almond Joy'?  (Please enclose your answer in single quotes.)\n",
    "more_popular = '3 Musketeers'\n",
    "\n",
    "# Fill in the line below: Which candy has higher sugar content: 'Air Heads'\n",
    "# or 'Baby Ruth'? (Please enclose your answer in single quotes.)\n",
    "more_sugar = 'Air Heads'\n",
    "\n",
    "# Check your answers\n",
    "step_2.check()"
   ]
  },
  {
   "cell_type": "code",
   "execution_count": 7,
   "id": "d53711cb",
   "metadata": {
    "execution": {
     "iopub.execute_input": "2023-05-02T10:20:24.228220Z",
     "iopub.status.busy": "2023-05-02T10:20:24.227816Z",
     "iopub.status.idle": "2023-05-02T10:20:24.232245Z",
     "shell.execute_reply": "2023-05-02T10:20:24.231139Z"
    },
    "papermill": {
     "duration": 0.017685,
     "end_time": "2023-05-02T10:20:24.234649",
     "exception": false,
     "start_time": "2023-05-02T10:20:24.216964",
     "status": "completed"
    },
    "tags": []
   },
   "outputs": [],
   "source": [
    "# Lines below will give you a hint or solution code\n",
    "#step_2.hint()\n",
    "#step_2.solution()"
   ]
  },
  {
   "cell_type": "markdown",
   "id": "58929f06",
   "metadata": {
    "papermill": {
     "duration": 0.008637,
     "end_time": "2023-05-02T10:20:24.252584",
     "exception": false,
     "start_time": "2023-05-02T10:20:24.243947",
     "status": "completed"
    },
    "tags": []
   },
   "source": [
    "## Step 3: The role of sugar\n",
    "\n",
    "Do people tend to prefer candies with higher sugar content?  \n",
    "\n",
    "#### Part A\n",
    "\n",
    "Create a scatter plot that shows the relationship between `'sugarpercent'` (on the horizontal x-axis) and `'winpercent'` (on the vertical y-axis).  _Don't add a regression line just yet -- you'll do that in the next step!_"
   ]
  },
  {
   "cell_type": "code",
   "execution_count": 8,
   "id": "0288fa1c",
   "metadata": {
    "execution": {
     "iopub.execute_input": "2023-05-02T10:20:24.273154Z",
     "iopub.status.busy": "2023-05-02T10:20:24.272707Z",
     "iopub.status.idle": "2023-05-02T10:20:24.576891Z",
     "shell.execute_reply": "2023-05-02T10:20:24.575421Z"
    },
    "papermill": {
     "duration": 0.317704,
     "end_time": "2023-05-02T10:20:24.579368",
     "exception": false,
     "start_time": "2023-05-02T10:20:24.261664",
     "status": "completed"
    },
    "tags": []
   },
   "outputs": [
    {
     "data": {
      "application/javascript": [
       "parent.postMessage({\"jupyterEvent\": \"custom.exercise_interaction\", \"data\": {\"outcomeType\": 1, \"valueTowardsCompletion\": 0.3333333333333333, \"interactionType\": 1, \"questionType\": 2, \"questionId\": \"3.1_PlotBlueScatter\", \"learnToolsVersion\": \"0.3.4\", \"failureMessage\": \"\", \"exceptionClass\": \"\", \"trace\": \"\"}}, \"*\")"
      ],
      "text/plain": [
       "<IPython.core.display.Javascript object>"
      ]
     },
     "metadata": {},
     "output_type": "display_data"
    },
    {
     "data": {
      "text/markdown": [
       "<span style=\"color:#33cc33\">Correct</span>"
      ],
      "text/plain": [
       "Correct"
      ]
     },
     "metadata": {},
     "output_type": "display_data"
    },
    {
     "data": {
      "image/png": "[encoded data removed]",
      "text/plain": [
       "<Figure size 640x480 with 1 Axes>"
      ]
     },
     "metadata": {},
     "output_type": "display_data"
    }
   ],
   "source": [
    "# Scatter plot showing the relationship between 'sugarpercent' and 'winpercent'\n",
    "sns.scatterplot(x=candy_data['sugarpercent'], y=candy_data['winpercent']) # Your code here\n",
    "\n",
    "# Check your answer\n",
    "step_3.a.check()"
   ]
  },
  {
   "cell_type": "code",
   "execution_count": 9,
   "id": "c169646b",
   "metadata": {
    "execution": {
     "iopub.execute_input": "2023-05-02T10:20:24.600295Z",
     "iopub.status.busy": "2023-05-02T10:20:24.599867Z",
     "iopub.status.idle": "2023-05-02T10:20:24.605682Z",
     "shell.execute_reply": "2023-05-02T10:20:24.604290Z"
    },
    "papermill": {
     "duration": 0.019125,
     "end_time": "2023-05-02T10:20:24.608066",
     "exception": false,
     "start_time": "2023-05-02T10:20:24.588941",
     "status": "completed"
    },
    "tags": []
   },
   "outputs": [],
   "source": [
    "# Lines below will give you a hint or solution code\n",
    "#step_3.a.hint()\n",
    "#step_3.a.solution_plot()"
   ]
  },
  {
   "cell_type": "markdown",
   "id": "8cf70166",
   "metadata": {
    "papermill": {
     "duration": 0.009462,
     "end_time": "2023-05-02T10:20:24.627531",
     "exception": false,
     "start_time": "2023-05-02T10:20:24.618069",
     "status": "completed"
    },
    "tags": []
   },
   "source": [
    "#### Part B\n",
    "\n",
    "Does the scatter plot show a **strong** correlation between the two variables?  If so, are candies with more sugar relatively more or less popular with the survey respondents?"
   ]
  },
  {
   "cell_type": "code",
   "execution_count": 10,
   "id": "e63f63a2",
   "metadata": {
    "execution": {
     "iopub.execute_input": "2023-05-02T10:20:24.649107Z",
     "iopub.status.busy": "2023-05-02T10:20:24.648657Z",
     "iopub.status.idle": "2023-05-02T10:20:24.654299Z",
     "shell.execute_reply": "2023-05-02T10:20:24.652968Z"
    },
    "papermill": {
     "duration": 0.018906,
     "end_time": "2023-05-02T10:20:24.656410",
     "exception": false,
     "start_time": "2023-05-02T10:20:24.637504",
     "status": "completed"
    },
    "tags": []
   },
   "outputs": [],
   "source": [
    "#step_3.b.hint()"
   ]
  },
  {
   "cell_type": "code",
   "execution_count": 11,
   "id": "c9be1a56",
   "metadata": {
    "execution": {
     "iopub.execute_input": "2023-05-02T10:20:24.677863Z",
     "iopub.status.busy": "2023-05-02T10:20:24.677383Z",
     "iopub.status.idle": "2023-05-02T10:20:24.686114Z",
     "shell.execute_reply": "2023-05-02T10:20:24.685195Z"
    },
    "papermill": {
     "duration": 0.021955,
     "end_time": "2023-05-02T10:20:24.688220",
     "exception": false,
     "start_time": "2023-05-02T10:20:24.666265",
     "status": "completed"
    },
    "tags": []
   },
   "outputs": [
    {
     "data": {
      "application/javascript": [
       "parent.postMessage({\"jupyterEvent\": \"custom.exercise_interaction\", \"data\": {\"interactionType\": 3, \"questionType\": 4, \"questionId\": \"3.2_ThinkBlueScatter\", \"learnToolsVersion\": \"0.3.4\", \"valueTowardsCompletion\": 0.0, \"failureMessage\": \"\", \"exceptionClass\": \"\", \"trace\": \"\", \"outcomeType\": 4}}, \"*\")"
      ],
      "text/plain": [
       "<IPython.core.display.Javascript object>"
      ]
     },
     "metadata": {},
     "output_type": "display_data"
    },
    {
     "data": {
      "text/markdown": [
       "<span style=\"color:#33cc99\">Solution:</span> The scatter plot does not show a strong correlation between the two variables. Since there is no clear relationship between the two variables, this tells us that sugar content does not play a strong role in candy popularity."
      ],
      "text/plain": [
       "Solution: The scatter plot does not show a strong correlation between the two variables. Since there is no clear relationship between the two variables, this tells us that sugar content does not play a strong role in candy popularity."
      ]
     },
     "metadata": {},
     "output_type": "display_data"
    }
   ],
   "source": [
    "# Check your answer (Run this code cell to receive credit!)\n",
    "step_3.b.solution()"
   ]
  },
  {
   "cell_type": "markdown",
   "id": "b8e0ecc6",
   "metadata": {
    "papermill": {
     "duration": 0.009625,
     "end_time": "2023-05-02T10:20:24.708047",
     "exception": false,
     "start_time": "2023-05-02T10:20:24.698422",
     "status": "completed"
    },
    "tags": []
   },
   "source": [
    "## Step 4: Take a closer look\n",
    "\n",
    "#### Part A\n",
    "\n",
    "Create the same scatter plot you created in **Step 3**, but now with a regression line!"
   ]
  },
  {
   "cell_type": "code",
   "execution_count": 12,
   "id": "3756a134",
   "metadata": {
    "execution": {
     "iopub.execute_input": "2023-05-02T10:20:24.729940Z",
     "iopub.status.busy": "2023-05-02T10:20:24.729524Z",
     "iopub.status.idle": "2023-05-02T10:20:25.109412Z",
     "shell.execute_reply": "2023-05-02T10:20:25.107995Z"
    },
    "papermill": {
     "duration": 0.394254,
     "end_time": "2023-05-02T10:20:25.112297",
     "exception": false,
     "start_time": "2023-05-02T10:20:24.718043",
     "status": "completed"
    },
    "tags": []
   },
   "outputs": [
    {
     "data": {
      "application/javascript": [
       "parent.postMessage({\"jupyterEvent\": \"custom.exercise_interaction\", \"data\": {\"outcomeType\": 1, \"valueTowardsCompletion\": 0.3333333333333333, \"interactionType\": 1, \"questionType\": 2, \"questionId\": \"4.1_PlotBlueReg\", \"learnToolsVersion\": \"0.3.4\", \"failureMessage\": \"\", \"exceptionClass\": \"\", \"trace\": \"\"}}, \"*\")"
      ],
      "text/plain": [
       "<IPython.core.display.Javascript object>"
      ]
     },
     "metadata": {},
     "output_type": "display_data"
    },
    {
     "data": {
      "text/markdown": [
       "<span style=\"color:#33cc33\">Correct</span>"
      ],
      "text/plain": [
       "Correct"
      ]
     },
     "metadata": {},
     "output_type": "display_data"
    },
    {
     "data": {
      "image/png": "[encoded data removed]",
      "text/plain": [
       "<Figure size 640x480 with 1 Axes>"
      ]
     },
     "metadata": {},
     "output_type": "display_data"
    }
   ],
   "source": [
    "# Scatter plot w/ regression line showing the relationship between 'sugarpercent' and 'winpercent'\n",
    "sns.regplot(x=candy_data['sugarpercent'], y=candy_data['winpercent']) # Your code here\n",
    "\n",
    "# Check your answer\n",
    "step_4.a.check()"
   ]
  },
  {
   "cell_type": "code",
   "execution_count": 13,
   "id": "7a038b7f",
   "metadata": {
    "execution": {
     "iopub.execute_input": "2023-05-02T10:20:25.135393Z",
     "iopub.status.busy": "2023-05-02T10:20:25.135023Z",
     "iopub.status.idle": "2023-05-02T10:20:25.140100Z",
     "shell.execute_reply": "2023-05-02T10:20:25.138715Z"
    },
    "papermill": {
     "duration": 0.01926,
     "end_time": "2023-05-02T10:20:25.142481",
     "exception": false,
     "start_time": "2023-05-02T10:20:25.123221",
     "status": "completed"
    },
    "tags": []
   },
   "outputs": [],
   "source": [
    "# Lines below will give you a hint or solution code\n",
    "#step_4.a.hint()\n",
    "#step_4.a.solution_plot()"
   ]
  },
  {
   "cell_type": "markdown",
   "id": "2afe99c8",
   "metadata": {
    "papermill": {
     "duration": 0.010039,
     "end_time": "2023-05-02T10:20:25.163159",
     "exception": false,
     "start_time": "2023-05-02T10:20:25.153120",
     "status": "completed"
    },
    "tags": []
   },
   "source": [
    "#### Part B\n",
    "\n",
    "According to the plot above, is there a **slight** correlation between `'winpercent'` and `'sugarpercent'`?  What does this tell you about the candy that people tend to prefer?"
   ]
  },
  {
   "cell_type": "code",
   "execution_count": 14,
   "id": "3925519a",
   "metadata": {
    "execution": {
     "iopub.execute_input": "2023-05-02T10:20:25.186587Z",
     "iopub.status.busy": "2023-05-02T10:20:25.186143Z",
     "iopub.status.idle": "2023-05-02T10:20:25.191062Z",
     "shell.execute_reply": "2023-05-02T10:20:25.189963Z"
    },
    "papermill": {
     "duration": 0.019263,
     "end_time": "2023-05-02T10:20:25.193233",
     "exception": false,
     "start_time": "2023-05-02T10:20:25.173970",
     "status": "completed"
    },
    "tags": []
   },
   "outputs": [],
   "source": [
    "#step_4.b.hint()"
   ]
  },
  {
   "cell_type": "code",
   "execution_count": 15,
   "id": "375920df",
   "metadata": {
    "execution": {
     "iopub.execute_input": "2023-05-02T10:20:25.218158Z",
     "iopub.status.busy": "2023-05-02T10:20:25.217691Z",
     "iopub.status.idle": "2023-05-02T10:20:25.225517Z",
     "shell.execute_reply": "2023-05-02T10:20:25.224195Z"
    },
    "papermill": {
     "duration": 0.023931,
     "end_time": "2023-05-02T10:20:25.227736",
     "exception": false,
     "start_time": "2023-05-02T10:20:25.203805",
     "status": "completed"
    },
    "tags": []
   },
   "outputs": [
    {
     "data": {
      "application/javascript": [
       "parent.postMessage({\"jupyterEvent\": \"custom.exercise_interaction\", \"data\": {\"interactionType\": 3, \"questionType\": 4, \"questionId\": \"4.2_ThinkBlueReg\", \"learnToolsVersion\": \"0.3.4\", \"valueTowardsCompletion\": 0.0, \"failureMessage\": \"\", \"exceptionClass\": \"\", \"trace\": \"\", \"outcomeType\": 4}}, \"*\")"
      ],
      "text/plain": [
       "<IPython.core.display.Javascript object>"
      ]
     },
     "metadata": {},
     "output_type": "display_data"
    },
    {
     "data": {
      "text/markdown": [
       "<span style=\"color:#33cc99\">Solution:</span> Since the regression line has a slightly positive slope, this tells us that there is a slightly positive correlation between `'winpercent'` and `'sugarpercent'`. Thus, people have a slight preference for candies containing relatively more sugar."
      ],
      "text/plain": [
       "Solution: Since the regression line has a slightly positive slope, this tells us that there is a slightly positive correlation between `'winpercent'` and `'sugarpercent'`. Thus, people have a slight preference for candies containing relatively more sugar."
      ]
     },
     "metadata": {},
     "output_type": "display_data"
    }
   ],
   "source": [
    "# Check your answer (Run this code cell to receive credit!)\n",
    "step_4.b.solution()"
   ]
  },
  {
   "cell_type": "markdown",
   "id": "3e4f78d2",
   "metadata": {
    "papermill": {
     "duration": 0.010266,
     "end_time": "2023-05-02T10:20:25.249015",
     "exception": false,
     "start_time": "2023-05-02T10:20:25.238749",
     "status": "completed"
    },
    "tags": []
   },
   "source": [
    "## Step 5: Chocolate!\n",
    "\n",
    "In the code cell below, create a scatter plot to show the relationship between `'pricepercent'` (on the horizontal x-axis) and `'winpercent'` (on the vertical y-axis). Use the `'chocolate'` column to color-code the points.  _Don't add any regression lines just yet -- you'll do that in the next step!_"
   ]
  },
  {
   "cell_type": "code",
   "execution_count": 16,
   "id": "e504e111",
   "metadata": {
    "execution": {
     "iopub.execute_input": "2023-05-02T10:20:25.272855Z",
     "iopub.status.busy": "2023-05-02T10:20:25.272386Z",
     "iopub.status.idle": "2023-05-02T10:20:25.619363Z",
     "shell.execute_reply": "2023-05-02T10:20:25.617768Z"
    },
    "papermill": {
     "duration": 0.362085,
     "end_time": "2023-05-02T10:20:25.622163",
     "exception": false,
     "start_time": "2023-05-02T10:20:25.260078",
     "status": "completed"
    },
    "tags": []
   },
   "outputs": [
    {
     "data": {
      "application/javascript": [
       "parent.postMessage({\"jupyterEvent\": \"custom.exercise_interaction\", \"data\": {\"outcomeType\": 1, \"valueTowardsCompletion\": 0.3333333333333333, \"interactionType\": 1, \"questionType\": 2, \"questionId\": \"5_ColorScatter\", \"learnToolsVersion\": \"0.3.4\", \"failureMessage\": \"\", \"exceptionClass\": \"\", \"trace\": \"\"}}, \"*\")"
      ],
      "text/plain": [
       "<IPython.core.display.Javascript object>"
      ]
     },
     "metadata": {},
     "output_type": "display_data"
    },
    {
     "data": {
      "text/markdown": [
       "<span style=\"color:#33cc33\">Correct</span>"
      ],
      "text/plain": [
       "Correct"
      ]
     },
     "metadata": {},
     "output_type": "display_data"
    },
    {
     "data": {
      "image/png": "[encoded data removed]",
      "text/plain": [
       "<Figure size 640x480 with 1 Axes>"
      ]
     },
     "metadata": {},
     "output_type": "display_data"
    }
   ],
   "source": [
    "# Scatter plot showing the relationship between 'pricepercent', 'winpercent', and 'chocolate'\n",
    "sns.scatterplot(x=candy_data['pricepercent'],y=candy_data['winpercent'],hue=candy_data['chocolate']) # Your code here\n",
    "\n",
    "# Check your answer\n",
    "step_5.check()"
   ]
  },
  {
   "cell_type": "code",
   "execution_count": 17,
   "id": "b24f6939",
   "metadata": {
    "execution": {
     "iopub.execute_input": "2023-05-02T10:20:25.647798Z",
     "iopub.status.busy": "2023-05-02T10:20:25.647395Z",
     "iopub.status.idle": "2023-05-02T10:20:25.652364Z",
     "shell.execute_reply": "2023-05-02T10:20:25.651065Z"
    },
    "papermill": {
     "duration": 0.021082,
     "end_time": "2023-05-02T10:20:25.655250",
     "exception": false,
     "start_time": "2023-05-02T10:20:25.634168",
     "status": "completed"
    },
    "tags": []
   },
   "outputs": [],
   "source": [
    "# Lines below will give you a hint or solution code\n",
    "#step_5.hint()\n",
    "#step_5.solution_plot()"
   ]
  },
  {
   "cell_type": "markdown",
   "id": "0c1abac1",
   "metadata": {
    "papermill": {
     "duration": 0.011188,
     "end_time": "2023-05-02T10:20:25.678348",
     "exception": false,
     "start_time": "2023-05-02T10:20:25.667160",
     "status": "completed"
    },
    "tags": []
   },
   "source": [
    "Can you see any interesting patterns in the scatter plot?  We'll investigate this plot further  by adding regression lines in the next step!\n",
    "\n",
    "## Step 6: Investigate chocolate\n",
    "\n",
    "#### Part A\n",
    "\n",
    "Create the same scatter plot you created in **Step 5**, but now with two regression lines, corresponding to (1) chocolate candies and (2) candies without chocolate."
   ]
  },
  {
   "cell_type": "code",
   "execution_count": 18,
   "id": "8256e2f5",
   "metadata": {
    "execution": {
     "iopub.execute_input": "2023-05-02T10:20:25.704935Z",
     "iopub.status.busy": "2023-05-02T10:20:25.703949Z",
     "iopub.status.idle": "2023-05-02T10:20:26.470190Z",
     "shell.execute_reply": "2023-05-02T10:20:26.468893Z"
    },
    "papermill": {
     "duration": 0.781998,
     "end_time": "2023-05-02T10:20:26.472601",
     "exception": false,
     "start_time": "2023-05-02T10:20:25.690603",
     "status": "completed"
    },
    "tags": []
   },
   "outputs": [
    {
     "data": {
      "application/javascript": [
       "parent.postMessage({\"jupyterEvent\": \"custom.exercise_interaction\", \"data\": {\"outcomeType\": 1, \"valueTowardsCompletion\": 0.3333333333333333, \"interactionType\": 1, \"questionType\": 2, \"questionId\": \"6.1_PlotColorReg\", \"learnToolsVersion\": \"0.3.4\", \"failureMessage\": \"\", \"exceptionClass\": \"\", \"trace\": \"\"}}, \"*\")"
      ],
      "text/plain": [
       "<IPython.core.display.Javascript object>"
      ]
     },
     "metadata": {},
     "output_type": "display_data"
    },
    {
     "data": {
      "text/markdown": [
       "<span style=\"color:#33cc33\">Correct</span>"
      ],
      "text/plain": [
       "Correct"
      ]
     },
     "metadata": {},
     "output_type": "display_data"
    },
    {
     "data": {
      "image/png": "[encoded data removed]",
      "text/plain": [
       "<Figure size 578.611x500 with 1 Axes>"
      ]
     },
     "metadata": {},
     "output_type": "display_data"
    }
   ],
   "source": [
    "# Color-coded scatter plot w/ regression lines\n",
    "sns.lmplot(x=\"pricepercent\", y=\"winpercent\", hue=\"chocolate\", data=candy_data) # Your code here\n",
    "\n",
    "# Check your answer\n",
    "step_6.a.check()"
   ]
  },
  {
   "cell_type": "code",
   "execution_count": 19,
   "id": "584e6e39",
   "metadata": {
    "execution": {
     "iopub.execute_input": "2023-05-02T10:20:26.500724Z",
     "iopub.status.busy": "2023-05-02T10:20:26.500293Z",
     "iopub.status.idle": "2023-05-02T10:20:26.505697Z",
     "shell.execute_reply": "2023-05-02T10:20:26.504352Z"
    },
    "papermill": {
     "duration": 0.022574,
     "end_time": "2023-05-02T10:20:26.508080",
     "exception": false,
     "start_time": "2023-05-02T10:20:26.485506",
     "status": "completed"
    },
    "tags": []
   },
   "outputs": [],
   "source": [
    "# Lines below will give you a hint or solution code\n",
    "#step_6.a.hint()\n",
    "#step_6.a.solution_plot()"
   ]
  },
  {
   "cell_type": "markdown",
   "id": "d920a55b",
   "metadata": {
    "papermill": {
     "duration": 0.012461,
     "end_time": "2023-05-02T10:20:26.533534",
     "exception": false,
     "start_time": "2023-05-02T10:20:26.521073",
     "status": "completed"
    },
    "tags": []
   },
   "source": [
    "#### Part B\n",
    "\n",
    "Using the regression lines, what conclusions can you draw about the effects of chocolate and price on candy popularity?"
   ]
  },
  {
   "cell_type": "code",
   "execution_count": 20,
   "id": "cd430269",
   "metadata": {
    "execution": {
     "iopub.execute_input": "2023-05-02T10:20:26.560166Z",
     "iopub.status.busy": "2023-05-02T10:20:26.559804Z",
     "iopub.status.idle": "2023-05-02T10:20:26.564041Z",
     "shell.execute_reply": "2023-05-02T10:20:26.563124Z"
    },
    "papermill": {
     "duration": 0.020257,
     "end_time": "2023-05-02T10:20:26.566136",
     "exception": false,
     "start_time": "2023-05-02T10:20:26.545879",
     "status": "completed"
    },
    "tags": []
   },
   "outputs": [],
   "source": [
    "#step_6.b.hint()"
   ]
  },
  {
   "cell_type": "code",
   "execution_count": 21,
   "id": "3425adad",
   "metadata": {
    "execution": {
     "iopub.execute_input": "2023-05-02T10:20:26.595111Z",
     "iopub.status.busy": "2023-05-02T10:20:26.594673Z",
     "iopub.status.idle": "2023-05-02T10:20:26.604620Z",
     "shell.execute_reply": "2023-05-02T10:20:26.603156Z"
    },
    "papermill": {
     "duration": 0.02748,
     "end_time": "2023-05-02T10:20:26.606908",
     "exception": false,
     "start_time": "2023-05-02T10:20:26.579428",
     "status": "completed"
    },
    "tags": []
   },
   "outputs": [
    {
     "data": {
      "application/javascript": [
       "parent.postMessage({\"jupyterEvent\": \"custom.exercise_interaction\", \"data\": {\"interactionType\": 3, \"questionType\": 4, \"questionId\": \"6.2_ThinkColorReg\", \"learnToolsVersion\": \"0.3.4\", \"valueTowardsCompletion\": 0.0, \"failureMessage\": \"\", \"exceptionClass\": \"\", \"trace\": \"\", \"outcomeType\": 4}}, \"*\")"
      ],
      "text/plain": [
       "<IPython.core.display.Javascript object>"
      ]
     },
     "metadata": {},
     "output_type": "display_data"
    },
    {
     "data": {
      "text/markdown": [
       "<span style=\"color:#33cc99\">Solution:</span> We'll begin with the regression line for chocolate candies. Since this line has a slightly positive slope, we can say that more expensive chocolate candies tend to be more popular (than relatively cheaper chocolate candies).  Likewise, since the regression line for candies without chocolate has a negative slope, we can say that if candies don't contain chocolate, they tend to be more popular when they are cheaper.  One important note, however, is that the dataset is quite small -- so we shouldn't invest too much trust in these patterns!  To inspire more confidence in the results, we should add more candies to the dataset."
      ],
      "text/plain": [
       "Solution: We'll begin with the regression line for chocolate candies. Since this line has a slightly positive slope, we can say that more expensive chocolate candies tend to be more popular (than relatively cheaper chocolate candies).  Likewise, since the regression line for candies without chocolate has a negative slope, we can say that if candies don't contain chocolate, they tend to be more popular when they are cheaper.  One important note, however, is that the dataset is quite small -- so we shouldn't invest too much trust in these patterns!  To inspire more confidence in the results, we should add more candies to the dataset."
      ]
     },
     "metadata": {},
     "output_type": "display_data"
    }
   ],
   "source": [
    "# Check your answer (Run this code cell to receive credit!)\n",
    "step_6.b.solution()"
   ]
  },
  {
   "cell_type": "markdown",
   "id": "027ebfb1",
   "metadata": {
    "papermill": {
     "duration": 0.012843,
     "end_time": "2023-05-02T10:20:26.632695",
     "exception": false,
     "start_time": "2023-05-02T10:20:26.619852",
     "status": "completed"
    },
    "tags": []
   },
   "source": [
    "## Step 7: Everybody loves chocolate.\n",
    "\n",
    "#### Part A\n",
    "\n",
    "Create a categorical scatter plot to highlight the relationship between `'chocolate'` and `'winpercent'`.  Put `'chocolate'` on the (horizontal) x-axis, and `'winpercent'` on the (vertical) y-axis."
   ]
  },
  {
   "cell_type": "code",
   "execution_count": 22,
   "id": "80cce33e",
   "metadata": {
    "execution": {
     "iopub.execute_input": "2023-05-02T10:20:26.660568Z",
     "iopub.status.busy": "2023-05-02T10:20:26.660151Z",
     "iopub.status.idle": "2023-05-02T10:20:27.121060Z",
     "shell.execute_reply": "2023-05-02T10:20:27.119513Z"
    },
    "papermill": {
     "duration": 0.479594,
     "end_time": "2023-05-02T10:20:27.125349",
     "exception": false,
     "start_time": "2023-05-02T10:20:26.645755",
     "status": "completed"
    },
    "tags": []
   },
   "outputs": [
    {
     "data": {
      "application/javascript": [
       "parent.postMessage({\"jupyterEvent\": \"custom.exercise_interaction\", \"data\": {\"outcomeType\": 1, \"valueTowardsCompletion\": 0.3333333333333333, \"interactionType\": 1, \"questionType\": 2, \"questionId\": \"7.1_PlotSwarm\", \"learnToolsVersion\": \"0.3.4\", \"failureMessage\": \"\", \"exceptionClass\": \"\", \"trace\": \"\"}}, \"*\")"
      ],
      "text/plain": [
       "<IPython.core.display.Javascript object>"
      ]
     },
     "metadata": {},
     "output_type": "display_data"
    },
    {
     "data": {
      "text/markdown": [
       "<span style=\"color:#33cc33\">Correct</span>"
      ],
      "text/plain": [
       "Correct"
      ]
     },
     "metadata": {},
     "output_type": "display_data"
    },
    {
     "data": {
      "image/png": "[encoded data removed]",
      "text/plain": [
       "<Figure size 640x480 with 1 Axes>"
      ]
     },
     "metadata": {},
     "output_type": "display_data"
    }
   ],
   "source": [
    "# Scatter plot showing the relationship between 'chocolate' and 'winpercent'\n",
    "sns.swarmplot(data=candy_data, x='chocolate',y='winpercent') # Your code here\n",
    "\n",
    "# Check your answer\n",
    "step_7.a.check()"
   ]
  },
  {
   "cell_type": "code",
   "execution_count": 23,
   "id": "21183dc7",
   "metadata": {
    "execution": {
     "iopub.execute_input": "2023-05-02T10:20:27.178347Z",
     "iopub.status.busy": "2023-05-02T10:20:27.176928Z",
     "iopub.status.idle": "2023-05-02T10:20:27.181813Z",
     "shell.execute_reply": "2023-05-02T10:20:27.180860Z"
    },
    "papermill": {
     "duration": 0.023038,
     "end_time": "2023-05-02T10:20:27.183918",
     "exception": false,
     "start_time": "2023-05-02T10:20:27.160880",
     "status": "completed"
    },
    "tags": []
   },
   "outputs": [],
   "source": [
    "# Lines below will give you a hint or solution code\n",
    "#step_7.a.hint()\n",
    "#step_7.a.solution_plot()"
   ]
  },
  {
   "cell_type": "markdown",
   "id": "f55ba47f",
   "metadata": {
    "papermill": {
     "duration": 0.014513,
     "end_time": "2023-05-02T10:20:27.212225",
     "exception": false,
     "start_time": "2023-05-02T10:20:27.197712",
     "status": "completed"
    },
    "tags": []
   },
   "source": [
    "#### Part B\n",
    "\n",
    "You decide to dedicate a section of your report to the fact that chocolate candies tend to be more popular than candies without chocolate.  Which plot is more appropriate to tell this story: the plot from **Step 6**, or the plot from **Step 7**?"
   ]
  },
  {
   "cell_type": "code",
   "execution_count": 24,
   "id": "3b764b5a",
   "metadata": {
    "execution": {
     "iopub.execute_input": "2023-05-02T10:20:27.242911Z",
     "iopub.status.busy": "2023-05-02T10:20:27.241602Z",
     "iopub.status.idle": "2023-05-02T10:20:27.246869Z",
     "shell.execute_reply": "2023-05-02T10:20:27.245931Z"
    },
    "papermill": {
     "duration": 0.023128,
     "end_time": "2023-05-02T10:20:27.249390",
     "exception": false,
     "start_time": "2023-05-02T10:20:27.226262",
     "status": "completed"
    },
    "tags": []
   },
   "outputs": [],
   "source": [
    "#step_7.b.hint()"
   ]
  },
  {
   "cell_type": "code",
   "execution_count": 25,
   "id": "ee94f8eb",
   "metadata": {
    "execution": {
     "iopub.execute_input": "2023-05-02T10:20:27.279062Z",
     "iopub.status.busy": "2023-05-02T10:20:27.278659Z",
     "iopub.status.idle": "2023-05-02T10:20:27.286310Z",
     "shell.execute_reply": "2023-05-02T10:20:27.285472Z"
    },
    "papermill": {
     "duration": 0.025275,
     "end_time": "2023-05-02T10:20:27.288427",
     "exception": false,
     "start_time": "2023-05-02T10:20:27.263152",
     "status": "completed"
    },
    "tags": []
   },
   "outputs": [
    {
     "data": {
      "application/javascript": [
       "parent.postMessage({\"jupyterEvent\": \"custom.exercise_interaction\", \"data\": {\"interactionType\": 3, \"questionType\": 4, \"questionId\": \"7.2_ThinkSwarm\", \"learnToolsVersion\": \"0.3.4\", \"valueTowardsCompletion\": 0.0, \"failureMessage\": \"\", \"exceptionClass\": \"\", \"trace\": \"\", \"outcomeType\": 4}}, \"*\")"
      ],
      "text/plain": [
       "<IPython.core.display.Javascript object>"
      ]
     },
     "metadata": {},
     "output_type": "display_data"
    },
    {
     "data": {
      "text/markdown": [
       "<span style=\"color:#33cc99\">Solution:</span> In this case, the categorical scatter plot from **Step 7** is the more appropriate plot. While both plots tell the desired story, the plot from **Step 6** conveys far more information that could distract from the main point."
      ],
      "text/plain": [
       "Solution: In this case, the categorical scatter plot from **Step 7** is the more appropriate plot. While both plots tell the desired story, the plot from **Step 6** conveys far more information that could distract from the main point."
      ]
     },
     "metadata": {},
     "output_type": "display_data"
    }
   ],
   "source": [
    "# Check your answer (Run this code cell to receive credit!)\n",
    "step_7.b.solution()"
   ]
  },
  {
   "cell_type": "markdown",
   "id": "e65f33d8",
   "metadata": {
    "papermill": {
     "duration": 0.013707,
     "end_time": "2023-05-02T10:20:27.317254",
     "exception": false,
     "start_time": "2023-05-02T10:20:27.303547",
     "status": "completed"
    },
    "tags": []
   },
   "source": [
    "## Keep going\n",
    "\n",
    "Explore **[histograms and density plots](https://www.kaggle.com/alexisbcook/distributions)**."
   ]
  },
  {
   "cell_type": "markdown",
   "id": "03332881",
   "metadata": {
    "papermill": {
     "duration": 0.014,
     "end_time": "2023-05-02T10:20:27.345229",
     "exception": false,
     "start_time": "2023-05-02T10:20:27.331229",
     "status": "completed"
    },
    "tags": []
   },
   "source": [
    "---\n",
    "\n",
    "\n",
    "\n",
    "\n",
    "*Have questions or comments? Visit the [course discussion forum](https://www.kaggle.com/learn/data-visualization/discussion) to chat with other learners.*"
   ]
  }
 ],
 "metadata": {
  "kernelspec": {
   "display_name": "Python 3",
   "language": "python",
   "name": "python3"
  },
  "language_info": {
   "codemirror_mode": {
    "name": "ipython",
    "version": 3
   },
   "file_extension": ".py",
   "mimetype": "text/x-python",
   "name": "python",
   "nbconvert_exporter": "python",
   "pygments_lexer": "ipython3",
   "version": "3.10.10"
  },
  "papermill": {
   "default_parameters": {},
   "duration": 18.08187,
   "end_time": "2023-05-02T10:20:28.583720",
   "environment_variables": {},
   "exception": null,
   "input_path": "__notebook__.ipynb",
   "output_path": "__notebook__.ipynb",
   "parameters": {},
   "start_time": "2023-05-02T10:20:10.501850",
   "version": "2.4.0"
  }
 },
 "nbformat": 4,
 "nbformat_minor": 5
}
